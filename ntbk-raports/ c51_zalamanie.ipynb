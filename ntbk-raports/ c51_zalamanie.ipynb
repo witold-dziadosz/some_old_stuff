{
 "cells": [
  {
   "cell_type": "code",
   "execution_count": 1,
   "id": "910afeec",
   "metadata": {
    "collapsed": false
   },
   "outputs": [],
   "source": [
    "%matplotlib inline\n",
    "import numpy as np\n",
    "import matplotlib.pyplot as plt"
   ]
  },
  {
   "cell_type": "code",
   "execution_count": 28,
   "id": "76f04089",
   "metadata": {
    "collapsed": false
   },
   "outputs": [],
   "source": [
    "# data cell\n",
    "plexi_width = [3.77, 3.72, 3.72]\n",
    "plexi_ad = [7.26, 7.21, 7.12, 7.08, 7.14, 7.12,7.11, 7.10, 7.17, 7.13]\n",
    "plexi_ag = [4.50, 4.60, 4.55, 4.53, 4.58, 4.57, 4.50, 4.53, 4.56, 4.51]\n",
    "glass_ad = [7.23, 7.17, 7.16, 7.13, 7.15, 7.16, 7.21, 7.11, 7.19, 7.20]\n",
    "glass_ag = [4.68, 4.66, 4.71, 4.69, 4.66, 4.70, 4.72, 4.69, 4.68, 4.66]\n",
    "\n",
    "glass_width = [3.7, 3.72, 3.71]\n"
   ]
  },
  {
   "cell_type": "code",
   "execution_count": 29,
   "id": "983b2b71",
   "metadata": {
    "collapsed": false
   },
   "outputs": [],
   "source": [
    "# helper functions\n",
    "\n",
    "def mean(arr):\n",
    "    return sum(arr) / len(arr)\n",
    "\n",
    "def var(arr):\n",
    "    mu = mean(arr)\n",
    "    return sum([(x-mu)**2 for x in arr]) / (len(arr)-1)\n",
    "\n",
    "def std(arr):\n",
    "    from math import sqrt\n",
    "    variance = var(arr)\n",
    "    return sqrt(variance)\n",
    "\n",
    "def outliers(arr):\n",
    "    mu = mean(arr)\n",
    "    sigma = std(arr)\n",
    "    outs = []\n",
    "    low = mu - 3*sigma\n",
    "    high = mu + 3*sigma\n",
    "    for x in arr:\n",
    "        if not (low < x and high > x):\n",
    "            outs.append(x)\n",
    "    return outs\n",
    "\n",
    "def err(arr):\n",
    "    from math import sqrt\n",
    "    sigma = std(arr)\n",
    "    return sigma / sqrt(len(arr))\n",
    "\n",
    "def summary(arr):\n",
    "    mu = mean(arr)\n",
    "    sigma = std(arr)\n",
    "    error = err(arr)\n",
    "    outs = outliers(arr)\n",
    "\n",
    "    return {\n",
    "        \"mean\" : mu,\n",
    "        \"std\" : sigma,\n",
    "        \"min\" : min(arr),\n",
    "        \"max\" : max(arr),\n",
    "        \"err\" : error,\n",
    "        \"3sigma\" : [mu-3*sigma, mu+3*sigma],\n",
    "        \"outliers\" : outs,\n",
    "    }\n",
    "    "
   ]
  },
  {
   "cell_type": "code",
   "execution_count": 30,
   "id": "6371a198",
   "metadata": {
    "collapsed": false
   },
   "outputs": [
    {
     "data": {
      "text/plain": [
       "{'mean': 3.736666666666667,\n",
       " 'std': 0.028867513459481187,\n",
       " 'min': 3.72,\n",
       " 'max': 3.77,\n",
       " 'err': 0.016666666666666607,\n",
       " '3sigma': [3.6500641262882234, 3.82326920704511],\n",
       " 'outliers': []}"
      ]
     },
     "execution_count": 30,
     "metadata": {},
     "output_type": "execute_result"
    }
   ],
   "source": [
    "summary(plexi_width)"
   ]
  },
  {
   "cell_type": "code",
   "execution_count": 31,
   "id": "a8f8caa1",
   "metadata": {
    "collapsed": false
   },
   "outputs": [
    {
     "data": {
      "text/plain": [
       "{'mean': 3.7099999999999995,\n",
       " 'std': 0.010000000000000009,\n",
       " 'min': 3.7,\n",
       " 'max': 3.72,\n",
       " 'err': 0.005773502691896263,\n",
       " '3sigma': [3.6799999999999997, 3.7399999999999993],\n",
       " 'outliers': []}"
      ]
     },
     "execution_count": 31,
     "metadata": {},
     "output_type": "execute_result"
    }
   ],
   "source": [
    "summary(glass_width)"
   ]
  },
  {
   "cell_type": "code",
   "execution_count": 32,
   "id": "b1c41128",
   "metadata": {
    "collapsed": false
   },
   "outputs": [
    {
     "data": {
      "text/plain": [
       "array([2.76, 2.61, 2.57, 2.55, 2.56, 2.55, 2.61, 2.57, 2.61, 2.62])"
      ]
     },
     "execution_count": 32,
     "metadata": {},
     "output_type": "execute_result"
    }
   ],
   "source": [
    "plexi_ad, plexi_ag = np.array(plexi_ad), np.array(plexi_ag)\n",
    "plexi_h = plexi_ad - plexi_ag\n",
    "plexi_h"
   ]
  },
  {
   "cell_type": "code",
   "execution_count": 33,
   "id": "4c65cf53",
   "metadata": {
    "collapsed": false
   },
   "outputs": [
    {
     "data": {
      "text/plain": [
       "{'mean': 2.601,\n",
       " 'std': 0.062084172253839776,\n",
       " 'min': 2.55,\n",
       " 'max': 2.76,\n",
       " 'err': 0.019632739096836306,\n",
       " '3sigma': [2.4147474832384805, 2.7872525167615194],\n",
       " 'outliers': []}"
      ]
     },
     "execution_count": 33,
     "metadata": {},
     "output_type": "execute_result"
    }
   ],
   "source": [
    "summary(plexi_h)"
   ]
  },
  {
   "cell_type": "code",
   "execution_count": 34,
   "id": "f6f3226e",
   "metadata": {
    "collapsed": false
   },
   "outputs": [],
   "source": [
    "glass_ad, glass_ag = np.array(glass_ad), np.array(glass_ag)"
   ]
  },
  {
   "cell_type": "code",
   "execution_count": 35,
   "id": "caad014e",
   "metadata": {
    "collapsed": false
   },
   "outputs": [
    {
     "data": {
      "text/plain": [
       "array([2.55, 2.51, 2.45, 2.44, 2.49, 2.46, 2.49, 2.42, 2.51, 2.54])"
      ]
     },
     "execution_count": 35,
     "metadata": {},
     "output_type": "execute_result"
    }
   ],
   "source": [
    "glass_h = glass_ad - glass_ag\n",
    "glass_h"
   ]
  },
  {
   "cell_type": "code",
   "execution_count": 36,
   "id": "cd268a64",
   "metadata": {
    "collapsed": false
   },
   "outputs": [
    {
     "data": {
      "text/plain": [
       "{'mean': 2.486,\n",
       " 'std': 0.04299870799092582,\n",
       " 'min': 2.42,\n",
       " 'max': 2.5500000000000007,\n",
       " 'err': 0.013597385369580828,\n",
       " '3sigma': [2.357003876027223, 2.6149961239727775],\n",
       " 'outliers': []}"
      ]
     },
     "execution_count": 36,
     "metadata": {},
     "output_type": "execute_result"
    }
   ],
   "source": [
    "summary(glass_h)"
   ]
  },
  {
   "cell_type": "code",
   "execution_count": 37,
   "id": "9732715e",
   "metadata": {
    "collapsed": false
   },
   "outputs": [
    {
     "data": {
      "text/plain": [
       "array([2.55, 2.51, 2.45, 2.44, 2.49, 2.46, 2.49, 2.42, 2.51, 2.54])"
      ]
     },
     "execution_count": 37,
     "metadata": {},
     "output_type": "execute_result"
    }
   ],
   "source": [
    "glass_h"
   ]
  },
  {
   "cell_type": "code",
   "execution_count": 38,
   "id": "fc68aa0a",
   "metadata": {
    "collapsed": false
   },
   "outputs": [
    {
     "data": {
      "text/plain": [
       "1.4923572003218017"
      ]
     },
     "execution_count": 38,
     "metadata": {},
     "output_type": "execute_result"
    }
   ],
   "source": [
    "mean(glass_width) / mean(glass_h)"
   ]
  },
  {
   "cell_type": "code",
   "execution_count": 39,
   "id": "4f4b2be1",
   "metadata": {
    "collapsed": false
   },
   "outputs": [
    {
     "data": {
      "text/plain": [
       "1.4366269383570422"
      ]
     },
     "execution_count": 39,
     "metadata": {},
     "output_type": "execute_result"
    }
   ],
   "source": [
    "mean(plexi_width) / mean(plexi_h)"
   ]
  },
  {
   "cell_type": "code",
   "execution_count": 41,
   "id": "680e6bbf",
   "metadata": {
    "collapsed": false
   },
   "outputs": [
    {
     "data": {
      "text/plain": [
       "<matplotlib.collections.PathCollection at 0x7f1dfaf927a0>"
      ]
     },
     "execution_count": 41,
     "metadata": {},
     "output_type": "execute_result"
    },
    {
     "data": {
      "image/png": "[encoded data removed]",
      "text/plain": [
       "<Figure size 640x480 with 1 Axes>"
      ]
     },
     "metadata": {},
     "output_type": "display_data"
    }
   ],
   "source": [
    "plt.style.use(\"default\")\n",
    "plt.scatter(np.arange(1, len(plexi_h)+1), plexi_h)"
   ]
  },
  {
   "cell_type": "code",
   "execution_count": 44,
   "id": "de4ca49d",
   "metadata": {
    "collapsed": false
   },
   "outputs": [
    {
     "data": {
      "text/plain": [
       "array([2.76, 2.61, 2.57, 2.55, 2.56, 2.55, 2.61, 2.57, 2.61, 2.62])"
      ]
     },
     "execution_count": 44,
     "metadata": {},
     "output_type": "execute_result"
    }
   ],
   "source": [
    "plexi_h"
   ]
  },
  {
   "cell_type": "code",
   "execution_count": 45,
   "id": "c7641166",
   "metadata": {
    "collapsed": false
   },
   "outputs": [
    {
     "data": {
      "text/plain": [
       "{'mean': 2.601,\n",
       " 'std': 0.062084172253839776,\n",
       " 'min': 2.55,\n",
       " 'max': 2.76,\n",
       " 'err': 0.019632739096836306,\n",
       " '3sigma': [2.4147474832384805, 2.7872525167615194],\n",
       " 'outliers': []}"
      ]
     },
     "execution_count": 45,
     "metadata": {},
     "output_type": "execute_result"
    }
   ],
   "source": [
    "summary(plexi_h)"
   ]
  },
  {
   "cell_type": "code",
   "execution_count": 46,
   "id": "42e9ecf8",
   "metadata": {
    "collapsed": false
   },
   "outputs": [
    {
     "data": {
      "text/plain": [
       "<matplotlib.lines.Line2D at 0x7f1dfafba770>"
      ]
     },
     "execution_count": 46,
     "metadata": {},
     "output_type": "execute_result"
    },
    {
     "data": {
      "image/png": "[encoded data removed]",
      "text/plain": [
       "<Figure size 640x480 with 1 Axes>"
      ]
     },
     "metadata": {},
     "output_type": "display_data"
    }
   ],
   "source": [
    "plt.scatter(np.arange(1, len(plexi_h)+1), plexi_h)\n",
    "plt.axhline(2.41)\n",
    "plt.axhline(2.78)"
   ]
  },
  {
   "cell_type": "code",
   "execution_count": 51,
   "id": "5301b562",
   "metadata": {
    "collapsed": false
   },
   "outputs": [
    {
     "data": {
      "text/plain": [
       "1.4366269383570422"
      ]
     },
     "execution_count": 51,
     "metadata": {},
     "output_type": "execute_result"
    }
   ],
   "source": [
    "mean(plexi_width) / mean(plexi_h)"
   ]
  },
  {
   "cell_type": "code",
   "execution_count": 52,
   "id": "f4a64935",
   "metadata": {
    "collapsed": false
   },
   "outputs": [
    {
     "data": {
      "text/plain": [
       "{'mean': 3.736666666666667,\n",
       " 'std': 0.028867513459481187,\n",
       " 'min': 3.72,\n",
       " 'max': 3.77,\n",
       " 'err': 0.016666666666666607,\n",
       " '3sigma': [3.6500641262882234, 3.82326920704511],\n",
       " 'outliers': []}"
      ]
     },
     "execution_count": 52,
     "metadata": {},
     "output_type": "execute_result"
    }
   ],
   "source": [
    "summary(plexi_width)"
   ]
  },
  {
   "cell_type": "code",
   "execution_count": 53,
   "id": "6d0ac2cb",
   "metadata": {
    "collapsed": false
   },
   "outputs": [
    {
     "data": {
      "text/plain": [
       "{'mean': 3.7099999999999995,\n",
       " 'std': 0.010000000000000009,\n",
       " 'min': 3.7,\n",
       " 'max': 3.72,\n",
       " 'err': 0.005773502691896263,\n",
       " '3sigma': [3.6799999999999997, 3.7399999999999993],\n",
       " 'outliers': []}"
      ]
     },
     "execution_count": 53,
     "metadata": {},
     "output_type": "execute_result"
    }
   ],
   "source": [
    "summary(glass_width)"
   ]
  },
  {
   "cell_type": "code",
   "execution_count": 163,
   "id": "c0aa3bc5",
   "metadata": {
    "collapsed": false
   },
   "outputs": [],
   "source": [
    "# plots\n",
    "def get_x(data):\n",
    "    return [x+1 for x in range(len(data))]\n",
    "\n",
    "def plot_data_with_3sigma(data, xlabel, ylabel, var,title, savepath=None):\n",
    "    x_intervals = get_x(data)\n",
    "\n",
    "    mu = mean(data)\n",
    "    sigma = std(data)\n",
    "    low = mu - 3 * sigma\n",
    "    high = mu + 3*sigma\n",
    "    x_max = len(data)\n",
    "    plt.rcParams[\"figure.figsize\"] = 8,5\n",
    "    if savepath:\n",
    "        plt.figure()\n",
    "    plt.xticks(range(1, len(x_intervals)+1))\n",
    "    plt.yticks(np.arange(0.9 * low, 1.1 * high, 0.025))\n",
    "    plt.ylabel(ylabel)\n",
    "    plt.xlabel(xlabel)\n",
    "    plt.title(title)\n",
    "\n",
    "    \n",
    "    plt.hlines(high,0, x_max, label=\"+3S\", linestyle=\"--\",color=\"black\")\n",
    "    plt.hlines(mu, 0, x_max, label=var, color=\"gray\")\n",
    "    plt.hlines(low, 0, x_max, label=\"-3S\", linestyles = \"-.\", color=\"black\")\n",
    "    plt.legend(loc='best', bbox_to_anchor=(0.85,0.35))\n",
    "    plt.scatter(x_intervals, data, c=\"black\")\n",
    "    if savepath:\n",
    "        plt.savefig(savepath)\n"
   ]
  },
  {
   "cell_type": "code",
   "execution_count": 164,
   "id": "f530e78e",
   "metadata": {
    "collapsed": false
   },
   "outputs": [
    {
     "data": {
      "image/png": "[encoded data removed]",
      "text/plain": [
       "<Figure size 800x500 with 1 Axes>"
      ]
     },
     "metadata": {},
     "output_type": "display_data"
    }
   ],
   "source": [
    " plot_data_with_3sigma(glass_h, \"Numer próby\", \"h\", r\"$\\overline{h}$\", \"Grubość pozorna szkła\", \"pozorne_szklo.png\")"
   ]
  },
  {
   "cell_type": "code",
   "execution_count": 165,
   "id": "300779dc",
   "metadata": {
    "collapsed": false
   },
   "outputs": [
    {
     "data": {
      "image/png": "[encoded data removed]",
      "text/plain": [
       "<Figure size 800x500 with 1 Axes>"
      ]
     },
     "metadata": {},
     "output_type": "display_data"
    }
   ],
   "source": [
    "plot_data_with_3sigma(plexi_h, \"Numer próby\",\"h\" , \"$\\overline{h}$\", \"Grubość pozorna pleksi\", \"pozorne_pleksi.png\")"
   ]
  },
  {
   "cell_type": "code",
   "execution_count": 166,
   "id": "1948ae94",
   "metadata": {
    "collapsed": false
   },
   "outputs": [
    {
     "data": {
      "text/plain": [
       "{'mean': 2.486,\n",
       " 'std': 0.04299870799092582,\n",
       " 'min': 2.42,\n",
       " 'max': 2.5500000000000007,\n",
       " 'err': 0.013597385369580828,\n",
       " '3sigma': [2.357003876027223, 2.6149961239727775],\n",
       " 'outliers': []}"
      ]
     },
     "execution_count": 166,
     "metadata": {},
     "output_type": "execute_result"
    }
   ],
   "source": [
    "summary(glass_h)"
   ]
  },
  {
   "cell_type": "code",
   "execution_count": 167,
   "id": "cdddfea5",
   "metadata": {
    "collapsed": false
   },
   "outputs": [
    {
     "data": {
      "text/plain": [
       "{'mean': 2.601,\n",
       " 'std': 0.062084172253839776,\n",
       " 'min': 2.55,\n",
       " 'max': 2.76,\n",
       " 'err': 0.019632739096836306,\n",
       " '3sigma': [2.4147474832384805, 2.7872525167615194],\n",
       " 'outliers': []}"
      ]
     },
     "execution_count": 167,
     "metadata": {},
     "output_type": "execute_result"
    }
   ],
   "source": [
    "summary(plexi_h)"
   ]
  },
  {
   "cell_type": "code",
   "execution_count": 168,
   "id": "2b89cd69",
   "metadata": {
    "collapsed": false
   },
   "outputs": [],
   "source": [
    "# Plexi"
   ]
  },
  {
   "cell_type": "code",
   "execution_count": 125,
   "id": "93e83e71",
   "metadata": {
    "collapsed": false
   },
   "outputs": [],
   "source": [
    "plexi_h_s = summary(plexi_h)\n",
    "plexi_width_s = summary(plexi_width)"
   ]
  },
  {
   "cell_type": "code",
   "execution_count": 126,
   "id": "aba2e4d9",
   "metadata": {
    "collapsed": false
   },
   "outputs": [
    {
     "data": {
      "text/plain": [
       "{'mean': 2.601,\n",
       " 'std': 0.062084172253839776,\n",
       " 'min': 2.55,\n",
       " 'max': 2.76,\n",
       " 'err': 0.019632739096836306,\n",
       " '3sigma': [2.4147474832384805, 2.7872525167615194],\n",
       " 'outliers': []}"
      ]
     },
     "execution_count": 126,
     "metadata": {},
     "output_type": "execute_result"
    }
   ],
   "source": [
    "plexi_h_s"
   ]
  },
  {
   "cell_type": "code",
   "execution_count": 127,
   "id": "c1e7cba1",
   "metadata": {
    "collapsed": false
   },
   "outputs": [
    {
     "data": {
      "text/plain": [
       "{'mean': 3.736666666666667,\n",
       " 'std': 0.028867513459481187,\n",
       " 'min': 3.72,\n",
       " 'max': 3.77,\n",
       " 'err': 0.016666666666666607,\n",
       " '3sigma': [3.6500641262882234, 3.82326920704511],\n",
       " 'outliers': []}"
      ]
     },
     "execution_count": 127,
     "metadata": {},
     "output_type": "execute_result"
    }
   ],
   "source": [
    "plexi_width_s"
   ]
  },
  {
   "cell_type": "code",
   "execution_count": 129,
   "id": "7f688163",
   "metadata": {
    "collapsed": false
   },
   "outputs": [],
   "source": [
    "P_d = plexi_width_s['mean']\n",
    "P_h = plexi_h_s['mean']\n",
    "P_u_d = plexi_width_s['err']\n",
    "P_u_h = plexi_h_s['err']"
   ]
  },
  {
   "cell_type": "code",
   "execution_count": 138,
   "id": "98955d0d",
   "metadata": {
    "collapsed": false
   },
   "outputs": [],
   "source": [
    "from math import sqrt\n",
    "# plexi - niepewność\n",
    "U_P = sqrt((P_u_d * (1/P_h))**2 + (P_u_h * (P_d/(P_h**2)))**2)"
   ]
  },
  {
   "cell_type": "code",
   "execution_count": 143,
   "id": "2c872364",
   "metadata": {
    "collapsed": false
   },
   "outputs": [],
   "source": [
    "# plexi - n\n",
    "N_P = P_d / P_h"
   ]
  },
  {
   "cell_type": "code",
   "execution_count": 144,
   "id": "0dd2e274",
   "metadata": {
    "collapsed": false
   },
   "outputs": [],
   "source": [
    "glass_width_s = summary(glass_width)\n",
    "glass_h_s = summary(glass_h)\n",
    "G_d = glass_width_s['mean']\n",
    "G_h = glass_h_s['mean']\n",
    "G_u_d = glass_width_s['err']\n",
    "G_u_h = glass_h_s['err']"
   ]
  },
  {
   "cell_type": "code",
   "execution_count": 145,
   "id": "025bbd61",
   "metadata": {
    "collapsed": false
   },
   "outputs": [],
   "source": [
    "U_G = sqrt((G_u_d * (1/G_h))**2 + (G_u_h * (G_d / (G_h**2)))**2)"
   ]
  },
  {
   "cell_type": "code",
   "execution_count": 146,
   "id": "58b60a19",
   "metadata": {
    "collapsed": false
   },
   "outputs": [],
   "source": [
    "N_G = G_d / G_h"
   ]
  },
  {
   "cell_type": "code",
   "execution_count": 149,
   "id": "8656874d",
   "metadata": {
    "collapsed": false
   },
   "outputs": [
    {
     "data": {
      "text/plain": [
       "0.012595612197096139"
      ]
     },
     "execution_count": 149,
     "metadata": {},
     "output_type": "execute_result"
    }
   ],
   "source": [
    "U_P"
   ]
  },
  {
   "cell_type": "code",
   "execution_count": null,
   "id": "c4a7cbe1",
   "metadata": {
    "collapsed": false
   },
   "outputs": [],
   "source": []
  }
 ],
 "metadata": {
  "kernelspec": {
   "argv": [
    "/home/wit/miniconda3/bin/python",
    "-m",
    "ipykernel_launcher",
    "-f",
    "{connection_file}"
   ],
   "display_name": "Python 3 (ipykernel)",
   "env": null,
   "interrupt_mode": "signal",
   "language": "python",
   "metadata": {
    "debugger": true
   },
   "name": "python3"
  },
  "name": " c51_zalamanie.ipynb"
 },
 "nbformat": 4,
 "nbformat_minor": 5
}
