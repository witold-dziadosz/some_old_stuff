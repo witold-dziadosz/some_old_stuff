{
 "cells": [
  {
   "cell_type": "code",
   "execution_count": 1,
   "id": "9cbed1e9",
   "metadata": {
    "collapsed": false
   },
   "outputs": [],
   "source": [
    "# biblioteki i funkcje\n",
    "import numpy as np\n",
    "import statsmodels.api as sm\n",
    "import numpy as np\n",
    "import matplotlib.pyplot as plt\n",
    "from math import pi, sqrt\n",
    "\n",
    "\n",
    "def add_quadratic(arr):\n",
    "    return np.c_[arr, arr*arr]\n",
    "\n",
    "def add_constant(arr):\n",
    "    if len(arr.shape) == 1:\n",
    "        arr = arr.reshape(-1, 1)\n",
    "    return np.c_[np.ones(arr.shape[0]), arr]\n",
    "\n",
    "def get_fucking_data(arr):\n",
    "    return add_constant(add_quadratic(arr))\n",
    "    \n",
    "\n",
    "@np.vectorize\n",
    "def pico(x):\n",
    "    return x * (1e-12)\n",
    "\n",
    "@np.vectorize\n",
    "def mili(x):\n",
    "    return x * (1e-3)"
   ]
  },
  {
   "cell_type": "code",
   "execution_count": 35,
   "id": "5b8fbb2d",
   "metadata": {
    "collapsed": false
   },
   "outputs": [],
   "source": [
    "# dane\n",
    "mu0 = 4 * pi * (1e-7)\n",
    "\n",
    "d = [3.53, 7.05, 10.3, 13.59, 16.49]; d = np.array(d)\n",
    "C = [126, 69, 48, 39, 34]; C = np.array(C)\n",
    "Cd = C * d\n",
    "\n",
    "Dp = mili(19.07)\n",
    "D = mili(241)\n",
    "\n",
    "WOOD_Dp = mili(239)\n",
    "WOOD_d = mili(8.77)\n",
    "WOOD_C = pico(130)\n",
    "\n",
    "PCV_Dp = mili(260)\n",
    "PCV_d = mili(3.10)\n",
    "PCV_C = pico(368)\n",
    "\n",
    "PLEXI_Dp = mili(248)\n",
    "PLEXI_d = mili(9.85)\n",
    "PLEXI_C = pico(131)\n",
    "\n",
    "R_AIR = 1.000594\n",
    "\n",
    "\n",
    "U__Dp = mili(0.05)\n",
    "U__D = mili(5)"
   ]
  },
  {
   "cell_type": "code",
   "execution_count": 36,
   "id": "51a10c6a",
   "metadata": {
    "collapsed": false
   },
   "outputs": [
    {
     "name": "stderr",
     "output_type": "stream",
     "text": [
      "/home/wit/miniconda3/lib/python3.10/site-packages/statsmodels/stats/stattools.py:74: ValueWarning: omni_normtest is not valid with less than 8 observations; 5 samples were given.\n",
      "  warn(\"omni_normtest is not valid with less than 8 observations; %i \"\n"
     ]
    },
    {
     "data": {
      "text/html": [
       "<table class=\"simpletable\">\n",
       "<caption>OLS Regression Results</caption>\n",
       "<tr>\n",
       "  <th>Dep. Variable:</th>            <td>y</td>        <th>  R-squared:         </th> <td>   0.974</td>\n",
       "</tr>\n",
       "<tr>\n",
       "  <th>Model:</th>                   <td>OLS</td>       <th>  Adj. R-squared:    </th> <td>   0.948</td>\n",
       "</tr>\n",
       "<tr>\n",
       "  <th>Method:</th>             <td>Least Squares</td>  <th>  F-statistic:       </th> <td>   37.37</td>\n",
       "</tr>\n",
       "<tr>\n",
       "  <th>Date:</th>             <td>Wed, 27 Apr 2022</td> <th>  Prob (F-statistic):</th>  <td>0.0261</td> \n",
       "</tr>\n",
       "<tr>\n",
       "  <th>Time:</th>                 <td>17:08:38</td>     <th>  Log-Likelihood:    </th> <td> -16.355</td>\n",
       "</tr>\n",
       "<tr>\n",
       "  <th>No. Observations:</th>      <td>     5</td>      <th>  AIC:               </th> <td>   38.71</td>\n",
       "</tr>\n",
       "<tr>\n",
       "  <th>Df Residuals:</th>          <td>     2</td>      <th>  BIC:               </th> <td>   37.54</td>\n",
       "</tr>\n",
       "<tr>\n",
       "  <th>Df Model:</th>              <td>     2</td>      <th>                     </th>     <td> </td>   \n",
       "</tr>\n",
       "<tr>\n",
       "  <th>Covariance Type:</th>      <td>nonrobust</td>    <th>                     </th>     <td> </td>   \n",
       "</tr>\n",
       "</table>\n",
       "<table class=\"simpletable\">\n",
       "<tr>\n",
       "    <td></td>       <th>coef</th>     <th>std err</th>      <th>t</th>      <th>P>|t|</th>  <th>[0.025</th>    <th>0.975]</th>  \n",
       "</tr>\n",
       "<tr>\n",
       "  <th>const</th> <td>  424.2677</td> <td>   23.121</td> <td>   18.350</td> <td> 0.003</td> <td>  324.787</td> <td>  523.748</td>\n",
       "</tr>\n",
       "<tr>\n",
       "  <th>x1</th>    <td>    6.6072</td> <td>    5.243</td> <td>    1.260</td> <td> 0.335</td> <td>  -15.952</td> <td>   29.166</td>\n",
       "</tr>\n",
       "<tr>\n",
       "  <th>x2</th>    <td>    0.0932</td> <td>    0.257</td> <td>    0.363</td> <td> 0.752</td> <td>   -1.013</td> <td>    1.200</td>\n",
       "</tr>\n",
       "</table>\n",
       "<table class=\"simpletable\">\n",
       "<tr>\n",
       "  <th>Omnibus:</th>       <td>   nan</td> <th>  Durbin-Watson:     </th> <td>   3.102</td>\n",
       "</tr>\n",
       "<tr>\n",
       "  <th>Prob(Omnibus):</th> <td>   nan</td> <th>  Jarque-Bera (JB):  </th> <td>   0.429</td>\n",
       "</tr>\n",
       "<tr>\n",
       "  <th>Skew:</th>          <td> 0.608</td> <th>  Prob(JB):          </th> <td>   0.807</td>\n",
       "</tr>\n",
       "<tr>\n",
       "  <th>Kurtosis:</th>      <td> 2.239</td> <th>  Cond. No.          </th> <td>    822.</td>\n",
       "</tr>\n",
       "</table><br/><br/>Notes:<br/>[1] Standard Errors assume that the covariance matrix of the errors is correctly specified."
      ],
      "text/plain": [
       "<class 'statsmodels.iolib.summary.Summary'>\n",
       "\"\"\"\n",
       "                            OLS Regression Results                            \n",
       "==============================================================================\n",
       "Dep. Variable:                      y   R-squared:                       0.974\n",
       "Model:                            OLS   Adj. R-squared:                  0.948\n",
       "Method:                 Least Squares   F-statistic:                     37.37\n",
       "Date:                Wed, 27 Apr 2022   Prob (F-statistic):             0.0261\n",
       "Time:                        17:08:38   Log-Likelihood:                -16.355\n",
       "No. Observations:                   5   AIC:                             38.71\n",
       "Df Residuals:                       2   BIC:                             37.54\n",
       "Df Model:                           2                                         \n",
       "Covariance Type:            nonrobust                                         \n",
       "==============================================================================\n",
       "                 coef    std err          t      P>|t|      [0.025      0.975]\n",
       "------------------------------------------------------------------------------\n",
       "const        424.2677     23.121     18.350      0.003     324.787     523.748\n",
       "x1             6.6072      5.243      1.260      0.335     -15.952      29.166\n",
       "x2             0.0932      0.257      0.363      0.752      -1.013       1.200\n",
       "==============================================================================\n",
       "Omnibus:                          nan   Durbin-Watson:                   3.102\n",
       "Prob(Omnibus):                    nan   Jarque-Bera (JB):                0.429\n",
       "Skew:                           0.608   Prob(JB):                        0.807\n",
       "Kurtosis:                       2.239   Cond. No.                         822.\n",
       "==============================================================================\n",
       "\n",
       "Notes:\n",
       "[1] Standard Errors assume that the covariance matrix of the errors is correctly specified.\n",
       "\"\"\""
      ]
     },
     "execution_count": 36,
     "metadata": {},
     "output_type": "execute_result"
    }
   ],
   "source": [
    "ols  = sm.OLS(Cd, get_fucking_data(d))\n",
    "model = ols.fit()\n",
    "model.summary()"
   ]
  },
  {
   "cell_type": "code",
   "execution_count": 37,
   "id": "bd82fc5c",
   "metadata": {
    "collapsed": false
   },
   "outputs": [
    {
     "data": {
      "text/plain": [
       "['Solarize_Light2',\n",
       " '_classic_test_patch',\n",
       " '_mpl-gallery',\n",
       " '_mpl-gallery-nogrid',\n",
       " 'bmh',\n",
       " 'classic',\n",
       " 'dark_background',\n",
       " 'fast',\n",
       " 'fivethirtyeight',\n",
       " 'ggplot',\n",
       " 'grayscale',\n",
       " 'seaborn',\n",
       " 'seaborn-bright',\n",
       " 'seaborn-colorblind',\n",
       " 'seaborn-dark',\n",
       " 'seaborn-dark-palette',\n",
       " 'seaborn-darkgrid',\n",
       " 'seaborn-deep',\n",
       " 'seaborn-muted',\n",
       " 'seaborn-notebook',\n",
       " 'seaborn-paper',\n",
       " 'seaborn-pastel',\n",
       " 'seaborn-poster',\n",
       " 'seaborn-talk',\n",
       " 'seaborn-ticks',\n",
       " 'seaborn-white',\n",
       " 'seaborn-whitegrid',\n",
       " 'tableau-colorblind10']"
      ]
     },
     "execution_count": 37,
     "metadata": {},
     "output_type": "execute_result"
    }
   ],
   "source": [
    "plt.style.available"
   ]
  },
  {
   "cell_type": "code",
   "execution_count": 38,
   "id": "b3786806",
   "metadata": {
    "collapsed": false
   },
   "outputs": [
    {
     "data": {
      "image/png": "[encoded data removed]",
      "text/plain": [
       "<Figure size 1152x648 with 1 Axes>"
      ]
     },
     "metadata": {},
     "output_type": "display_data"
    }
   ],
   "source": [
    "dummy_data = np.arange(0, 20)\n",
    "pred =  model.predict(get_fucking_data(dummy_data))\n",
    "plt.style.use(\"grayscale\")\n",
    "plt.figure(figsize=(16,9))\n",
    "plt.plot(d, Cd, marker='.', markersize=20, label=\"Pomiar\")\n",
    "plt.plot(dummy_data, pred, c='r', label=\"Wielomian\")\n",
    "plt.xlabel(\"d [mm]\")\n",
    "plt.ylabel(\"Cd [mm*pF]\")\n",
    "plt.legend(loc=\"lower right\")\n",
    "plt.savefig(\"wykres.png\")\n",
    "plt.show()"
   ]
  },
  {
   "cell_type": "code",
   "execution_count": 39,
   "id": "c077eaa9",
   "metadata": {
    "collapsed": false
   },
   "outputs": [
    {
     "data": {
      "text/plain": [
       "9.300604086180238e-12"
      ]
     },
     "execution_count": 39,
     "metadata": {},
     "output_type": "execute_result"
    }
   ],
   "source": [
    "Cd_extr = 424.2677\n",
    "Cd_extr = pico(mili(Cd_extr))\n",
    "U__CD_extr=  pico(mili(23.121))\n",
    "\n",
    "eps_0 = (4/pi) * (Cd_extr) / (D**2 + 3 * (R_AIR-1)*(Dp**2))\n",
    "eps_0"
   ]
  },
  {
   "cell_type": "code",
   "execution_count": 40,
   "id": "3ed9a138",
   "metadata": {
    "collapsed": false
   },
   "outputs": [
    {
     "data": {
      "text/plain": [
       "6.370429492429556e-13"
      ]
     },
     "execution_count": 40,
     "metadata": {},
     "output_type": "execute_result"
    }
   ],
   "source": [
    "# Epsilon0\n",
    "dEps0_dCd_extr = (4/pi) * (1 / ( D**2 + (  3 * (R_AIR-1) * (Dp**2) ) ) )\n",
    "\n",
    "dEps0_dD = (4 * Cd_extr / pi) * (2*D / (D**2 + 3*(R_AIR-1)*(Dp**2))**2)\n",
    "dEps0_dDp = (4 * Cd_extr / pi) * (6 * (R_AIR-1)*Dp /   (D**2 + 3 * (R_AIR-1) * (Dp**2)) **2)\n",
    "\n",
    "U__eps_0 = sqrt(\n",
    "    (dEps0_dCd_extr * U__CD_extr)**2 +\n",
    "    (dEps0_dD * U__D)**2 +\n",
    "    (dEps0_dDp * U__Dp)**2\n",
    ")\n",
    "U__eps_0"
   ]
  },
  {
   "cell_type": "code",
   "execution_count": 41,
   "id": "60c301f8",
   "metadata": {
    "collapsed": false
   },
   "outputs": [
    {
     "data": {
      "text/plain": [
       "292.50917251856106"
      ]
     },
     "execution_count": 41,
     "metadata": {},
     "output_type": "execute_result"
    }
   ],
   "source": [
    "# Prędkość słońca\n",
    "c = 1 / sqrt(eps_0 * mu0)\n",
    "c * 1e-6"
   ]
  },
  {
   "cell_type": "code",
   "execution_count": 55,
   "id": "33de54f3",
   "metadata": {
    "collapsed": false
   },
   "outputs": [
    {
     "data": {
      "text/plain": [
       "10.01767757315487"
      ]
     },
     "execution_count": 55,
     "metadata": {},
     "output_type": "execute_result"
    }
   ],
   "source": [
    "U__c = 0.5 * mu0 * (mu0 * eps_0)**(-1.5) * U__eps_0\n",
    "U__c / 1e6"
   ]
  },
  {
   "cell_type": "code",
   "execution_count": 57,
   "id": "61af7ac5",
   "metadata": {
    "collapsed": false
   },
   "outputs": [
    {
     "name": "stdout",
     "output_type": "stream",
     "text": [
      "c:  292.50917251856106\n"
     ]
    }
   ],
   "source": [
    "print(\"c: \", c/1e6)"
   ]
  },
  {
   "cell_type": "code",
   "execution_count": 44,
   "id": "5ed0e5ab",
   "metadata": {
    "collapsed": false
   },
   "outputs": [],
   "source": [
    "def er(Dp, d, C):\n",
    "    return 4 * d * C / (pi * eps_0 * (Dp**2))\n",
    "\n",
    "U_bigDp = mili(3)\n",
    "U__d = mili(0.05)\n",
    "U__C = pico(5)\n",
    "def u_er(Dp, d, C):\n",
    "    return sqrt(\n",
    "        ((4*C / (pi * eps_0 * Dp**2)) * U__d)**2 +\n",
    "        ((4*d / (pi * eps_0 * Dp**2)) * U__C)**2 +\n",
    "        ((4*d*C / (pi *eps_0**2 * Dp**2)) * U__eps_0) ** 2+\n",
    "        ((8 * d * C / (pi * eps_0 * Dp**3)) * U__D) ** 2\n",
    "    )"
   ]
  },
  {
   "cell_type": "code",
   "execution_count": 45,
   "id": "b0ecef47",
   "metadata": {
    "collapsed": false
   },
   "outputs": [
    {
     "data": {
      "text/plain": [
       "2.8721236008134494"
      ]
     },
     "execution_count": 45,
     "metadata": {},
     "output_type": "execute_result"
    }
   ],
   "source": [
    "er(PLEXI_Dp, PLEXI_d, PLEXI_C)"
   ]
  },
  {
   "cell_type": "code",
   "execution_count": 46,
   "id": "53b2e6a9",
   "metadata": {
    "collapsed": false
   },
   "outputs": [
    {
     "data": {
      "text/plain": [
       "0.2536591845286873"
      ]
     },
     "execution_count": 46,
     "metadata": {},
     "output_type": "execute_result"
    }
   ],
   "source": [
    "u_er(PLEXI_Dp, PLEXI_d, PLEXI_C)"
   ]
  },
  {
   "cell_type": "code",
   "execution_count": 47,
   "id": "f5e5d6aa",
   "metadata": {
    "collapsed": false
   },
   "outputs": [
    {
     "data": {
      "text/plain": [
       "0.18790817003963284"
      ]
     },
     "execution_count": 47,
     "metadata": {},
     "output_type": "execute_result"
    }
   ],
   "source": [
    "u_er(PCV_Dp, PCV_d, PCV_C)"
   ]
  },
  {
   "cell_type": "code",
   "execution_count": 48,
   "id": "bbc1a982",
   "metadata": {
    "collapsed": false
   },
   "outputs": [
    {
     "data": {
      "text/plain": [
       "0.2436906756468596"
      ]
     },
     "execution_count": 48,
     "metadata": {},
     "output_type": "execute_result"
    }
   ],
   "source": [
    "u_er(WOOD_Dp, WOOD_d, WOOD_C)"
   ]
  },
  {
   "cell_type": "code",
   "execution_count": 51,
   "id": "47833d29",
   "metadata": {
    "collapsed": false
   },
   "outputs": [
    {
     "name": "stdout",
     "output_type": "stream",
     "text": [
      "Epsilon 0:  9.300604086180238e-12\n",
      "Print U(eps0) 1.2740858984859113e-12\n"
     ]
    }
   ],
   "source": [
    "# sprawdzanie zmiennych\n",
    "print(\"Epsilon 0: \", eps_0)\n",
    "print(\"Print U(eps0)\", 2* U__eps_0)"
   ]
  },
  {
   "cell_type": "code",
   "execution_count": 59,
   "id": "3b65771a",
   "metadata": {
    "collapsed": false
   },
   "outputs": [
    {
     "name": "stdout",
     "output_type": "stream",
     "text": [
      "U(c) 20.03535514630974\n",
      "c 292.50917251856106\n"
     ]
    }
   ],
   "source": [
    "print(\"U(c)\",2 *  U__c / 1e6)\n",
    "print(\"c\", c / 1e6)"
   ]
  },
  {
   "cell_type": "code",
   "execution_count": 68,
   "id": "18dda0e4",
   "metadata": {
    "collapsed": false
   },
   "outputs": [
    {
     "name": "stdout",
     "output_type": "stream",
     "text": [
      "U(Drewno) 0.7310720269405788\n",
      "Drewno 2.73241150288386\n"
     ]
    },
    {
     "data": {
      "text/plain": [
       "0.27"
      ]
     },
     "execution_count": 68,
     "metadata": {},
     "output_type": "execute_result"
    }
   ],
   "source": [
    "print(\"U(Drewno)\", 3 * u_er(WOOD_Dp, WOOD_d, WOOD_C))\n",
    "print(\"Drewno\", er(WOOD_Dp, WOOD_d, WOOD_C))\n",
    "3 - 2.73"
   ]
  },
  {
   "cell_type": "code",
   "execution_count": 69,
   "id": "db57c727",
   "metadata": {
    "collapsed": false
   },
   "outputs": [
    {
     "name": "stdout",
     "output_type": "stream",
     "text": [
      "U(PCV) 0.5637245101188986\n",
      "PCV 2.310264888552624\n"
     ]
    },
    {
     "data": {
      "text/plain": [
       "0.48999999999999977"
      ]
     },
     "execution_count": 69,
     "metadata": {},
     "output_type": "execute_result"
    }
   ],
   "source": [
    "print(\"U(PCV)\", 3 * u_er(PCV_Dp, PCV_d, PCV_C))\n",
    "print(\"PCV\", er(PCV_Dp, PCV_d, PCV_C))\n",
    "2.8 - 2.31"
   ]
  },
  {
   "cell_type": "code",
   "execution_count": 72,
   "id": "e6e01f6c",
   "metadata": {
    "collapsed": false
   },
   "outputs": [
    {
     "name": "stdout",
     "output_type": "stream",
     "text": [
      "U(PLEXI) 0.7609775535860619\n",
      "PLEXI 2.8721236008134494\n"
     ]
    }
   ],
   "source": [
    "print(\"U(PLEXI)\", 3 * u_er(PLEXI_Dp, PLEXI_d, PLEXI_C))\n",
    "print(\"PLEXI\", er(PLEXI_Dp, PLEXI_d, PLEXI_C))"
   ]
  },
  {
   "cell_type": "code",
   "execution_count": null,
   "id": "d3d3df39",
   "metadata": {
    "collapsed": false
   },
   "outputs": [],
   "source": []
  }
 ],
 "metadata": {
  "kernelspec": {
   "argv": [
    "/home/wit/miniconda3/bin/python",
    "-m",
    "ipykernel_launcher",
    "-f",
    "{connection_file}"
   ],
   "display_name": "Python 3 (ipykernel)",
   "env": null,
   "interrupt_mode": "signal",
   "language": "python",
   "metadata": {
    "debugger": true
   },
   "name": "python3"
  },
  "name": "kondensatory.ipynb"
 },
 "nbformat": 4,
 "nbformat_minor": 5
}
