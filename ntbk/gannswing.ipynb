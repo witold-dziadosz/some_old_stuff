{
 "cells": [
  {
   "cell_type": "code",
   "execution_count": 1,
   "id": "d8da2a3b",
   "metadata": {
    "collapsed": false
   },
   "outputs": [],
   "source": [
    "import pandas as pd"
   ]
  },
  {
   "cell_type": "code",
   "execution_count": 2,
   "id": "0da432b7",
   "metadata": {
    "collapsed": false
   },
   "outputs": [],
   "source": [
    "df = pd.read_csv(\"./data/dax-data.csv\")"
   ]
  },
  {
   "cell_type": "code",
   "execution_count": 3,
   "id": "74ef943d",
   "metadata": {
    "collapsed": false
   },
   "outputs": [],
   "source": [
    "useful = df[[\"high\", \"low\", \"daydir\"]].copy()"
   ]
  },
  {
   "cell_type": "code",
   "execution_count": 4,
   "id": "a8259c00",
   "metadata": {
    "collapsed": false
   },
   "outputs": [],
   "source": [
    "def get_lags(df, c, n):\n",
    "    for i in range(1, n+1):\n",
    "        df[c + \"_lag_\" + str(i)] = df[c].shift(i)"
   ]
  },
  {
   "cell_type": "code",
   "execution_count": 5,
   "id": "8ea5017f",
   "metadata": {
    "collapsed": false
   },
   "outputs": [
    {
     "data": {
      "text/html": [
       "<div>\n",
       "<style scoped>\n",
       "    .dataframe tbody tr th:only-of-type {\n",
       "        vertical-align: middle;\n",
       "    }\n",
       "\n",
       "    .dataframe tbody tr th {\n",
       "        vertical-align: top;\n",
       "    }\n",
       "\n",
       "    .dataframe thead th {\n",
       "        text-align: right;\n",
       "    }\n",
       "</style>\n",
       "<table border=\"1\" class=\"dataframe\">\n",
       "  <thead>\n",
       "    <tr style=\"text-align: right;\">\n",
       "      <th></th>\n",
       "      <th>high</th>\n",
       "      <th>low</th>\n",
       "      <th>daydir</th>\n",
       "      <th>high_lag_1</th>\n",
       "      <th>high_lag_2</th>\n",
       "      <th>low_lag_1</th>\n",
       "      <th>low_lag_2</th>\n",
       "    </tr>\n",
       "  </thead>\n",
       "  <tbody>\n",
       "    <tr>\n",
       "      <th>2</th>\n",
       "      <td>14402.92</td>\n",
       "      <td>13977.13</td>\n",
       "      <td>up</td>\n",
       "      <td>14068.03</td>\n",
       "      <td>14095.81</td>\n",
       "      <td>13868.20</td>\n",
       "      <td>13959.27</td>\n",
       "    </tr>\n",
       "    <tr>\n",
       "      <th>3</th>\n",
       "      <td>14475.65</td>\n",
       "      <td>14309.35</td>\n",
       "      <td>up</td>\n",
       "      <td>14402.92</td>\n",
       "      <td>14068.03</td>\n",
       "      <td>13977.13</td>\n",
       "      <td>13868.20</td>\n",
       "    </tr>\n",
       "    <tr>\n",
       "      <th>4</th>\n",
       "      <td>14560.97</td>\n",
       "      <td>14408.52</td>\n",
       "      <td>up</td>\n",
       "      <td>14475.65</td>\n",
       "      <td>14402.92</td>\n",
       "      <td>14309.35</td>\n",
       "      <td>13977.13</td>\n",
       "    </tr>\n",
       "    <tr>\n",
       "      <th>5</th>\n",
       "      <td>14595.02</td>\n",
       "      <td>14515.07</td>\n",
       "      <td>up</td>\n",
       "      <td>14560.97</td>\n",
       "      <td>14475.65</td>\n",
       "      <td>14408.52</td>\n",
       "      <td>14309.35</td>\n",
       "    </tr>\n",
       "    <tr>\n",
       "      <th>6</th>\n",
       "      <td>14527.42</td>\n",
       "      <td>14450.72</td>\n",
       "      <td>up</td>\n",
       "      <td>14595.02</td>\n",
       "      <td>14560.97</td>\n",
       "      <td>14515.07</td>\n",
       "      <td>14408.52</td>\n",
       "    </tr>\n",
       "    <tr>\n",
       "      <th>...</th>\n",
       "      <td>...</td>\n",
       "      <td>...</td>\n",
       "      <td>...</td>\n",
       "      <td>...</td>\n",
       "      <td>...</td>\n",
       "      <td>...</td>\n",
       "      <td>...</td>\n",
       "    </tr>\n",
       "    <tr>\n",
       "      <th>271</th>\n",
       "      <td>14627.58</td>\n",
       "      <td>14371.90</td>\n",
       "      <td>up</td>\n",
       "      <td>14428.03</td>\n",
       "      <td>14375.82</td>\n",
       "      <td>14247.38</td>\n",
       "      <td>14187.82</td>\n",
       "    </tr>\n",
       "    <tr>\n",
       "      <th>272</th>\n",
       "      <td>14925.25</td>\n",
       "      <td>14553.71</td>\n",
       "      <td>up</td>\n",
       "      <td>14627.58</td>\n",
       "      <td>14428.03</td>\n",
       "      <td>14371.90</td>\n",
       "      <td>14247.38</td>\n",
       "    </tr>\n",
       "    <tr>\n",
       "      <th>273</th>\n",
       "      <td>14744.72</td>\n",
       "      <td>14555.87</td>\n",
       "      <td>down</td>\n",
       "      <td>14925.25</td>\n",
       "      <td>14627.58</td>\n",
       "      <td>14553.71</td>\n",
       "      <td>14371.90</td>\n",
       "    </tr>\n",
       "    <tr>\n",
       "      <th>274</th>\n",
       "      <td>14732.00</td>\n",
       "      <td>14404.03</td>\n",
       "      <td>down</td>\n",
       "      <td>14744.72</td>\n",
       "      <td>14925.25</td>\n",
       "      <td>14555.87</td>\n",
       "      <td>14553.71</td>\n",
       "    </tr>\n",
       "    <tr>\n",
       "      <th>275</th>\n",
       "      <td>14506.02</td>\n",
       "      <td>14403.09</td>\n",
       "      <td>down</td>\n",
       "      <td>14732.00</td>\n",
       "      <td>14744.72</td>\n",
       "      <td>14404.03</td>\n",
       "      <td>14555.87</td>\n",
       "    </tr>\n",
       "  </tbody>\n",
       "</table>\n",
       "<p>274 rows × 7 columns</p>\n",
       "</div>"
      ],
      "text/plain": [
       "         high       low daydir  high_lag_1  high_lag_2  low_lag_1  low_lag_2\n",
       "2    14402.92  13977.13     up    14068.03    14095.81   13868.20   13959.27\n",
       "3    14475.65  14309.35     up    14402.92    14068.03   13977.13   13868.20\n",
       "4    14560.97  14408.52     up    14475.65    14402.92   14309.35   13977.13\n",
       "5    14595.02  14515.07     up    14560.97    14475.65   14408.52   14309.35\n",
       "6    14527.42  14450.72     up    14595.02    14560.97   14515.07   14408.52\n",
       "..        ...       ...    ...         ...         ...        ...        ...\n",
       "271  14627.58  14371.90     up    14428.03    14375.82   14247.38   14187.82\n",
       "272  14925.25  14553.71     up    14627.58    14428.03   14371.90   14247.38\n",
       "273  14744.72  14555.87   down    14925.25    14627.58   14553.71   14371.90\n",
       "274  14732.00  14404.03   down    14744.72    14925.25   14555.87   14553.71\n",
       "275  14506.02  14403.09   down    14732.00    14744.72   14404.03   14555.87\n",
       "\n",
       "[274 rows x 7 columns]"
      ]
     },
     "execution_count": 5,
     "metadata": {},
     "output_type": "execute_result"
    }
   ],
   "source": [
    "get_lags(useful, \"high\", 2)\n",
    "get_lags(useful, \"low\", 2)\n",
    "useful.dropna()"
   ]
  },
  {
   "cell_type": "code",
   "execution_count": 6,
   "id": "be85792f",
   "metadata": {
    "collapsed": false
   },
   "outputs": [
    {
     "data": {
      "text/html": [
       "<div>\n",
       "<style scoped>\n",
       "    .dataframe tbody tr th:only-of-type {\n",
       "        vertical-align: middle;\n",
       "    }\n",
       "\n",
       "    .dataframe tbody tr th {\n",
       "        vertical-align: top;\n",
       "    }\n",
       "\n",
       "    .dataframe thead th {\n",
       "        text-align: right;\n",
       "    }\n",
       "</style>\n",
       "<table border=\"1\" class=\"dataframe\">\n",
       "  <thead>\n",
       "    <tr style=\"text-align: right;\">\n",
       "      <th></th>\n",
       "      <th>high</th>\n",
       "      <th>low</th>\n",
       "      <th>daydir</th>\n",
       "      <th>high_lag_1</th>\n",
       "      <th>high_lag_2</th>\n",
       "      <th>low_lag_1</th>\n",
       "      <th>low_lag_2</th>\n",
       "      <th>swing</th>\n",
       "      <th>trend</th>\n",
       "    </tr>\n",
       "  </thead>\n",
       "  <tbody>\n",
       "    <tr>\n",
       "      <th>2</th>\n",
       "      <td>14402.92</td>\n",
       "      <td>13977.13</td>\n",
       "      <td>up</td>\n",
       "      <td>14068.03</td>\n",
       "      <td>14095.81</td>\n",
       "      <td>13868.20</td>\n",
       "      <td>13959.27</td>\n",
       "      <td>0</td>\n",
       "      <td>0</td>\n",
       "    </tr>\n",
       "    <tr>\n",
       "      <th>3</th>\n",
       "      <td>14475.65</td>\n",
       "      <td>14309.35</td>\n",
       "      <td>up</td>\n",
       "      <td>14402.92</td>\n",
       "      <td>14068.03</td>\n",
       "      <td>13977.13</td>\n",
       "      <td>13868.20</td>\n",
       "      <td>0</td>\n",
       "      <td>0</td>\n",
       "    </tr>\n",
       "    <tr>\n",
       "      <th>4</th>\n",
       "      <td>14560.97</td>\n",
       "      <td>14408.52</td>\n",
       "      <td>up</td>\n",
       "      <td>14475.65</td>\n",
       "      <td>14402.92</td>\n",
       "      <td>14309.35</td>\n",
       "      <td>13977.13</td>\n",
       "      <td>0</td>\n",
       "      <td>0</td>\n",
       "    </tr>\n",
       "    <tr>\n",
       "      <th>5</th>\n",
       "      <td>14595.02</td>\n",
       "      <td>14515.07</td>\n",
       "      <td>up</td>\n",
       "      <td>14560.97</td>\n",
       "      <td>14475.65</td>\n",
       "      <td>14408.52</td>\n",
       "      <td>14309.35</td>\n",
       "      <td>0</td>\n",
       "      <td>0</td>\n",
       "    </tr>\n",
       "    <tr>\n",
       "      <th>6</th>\n",
       "      <td>14527.42</td>\n",
       "      <td>14450.72</td>\n",
       "      <td>up</td>\n",
       "      <td>14595.02</td>\n",
       "      <td>14560.97</td>\n",
       "      <td>14515.07</td>\n",
       "      <td>14408.52</td>\n",
       "      <td>0</td>\n",
       "      <td>0</td>\n",
       "    </tr>\n",
       "    <tr>\n",
       "      <th>...</th>\n",
       "      <td>...</td>\n",
       "      <td>...</td>\n",
       "      <td>...</td>\n",
       "      <td>...</td>\n",
       "      <td>...</td>\n",
       "      <td>...</td>\n",
       "      <td>...</td>\n",
       "      <td>...</td>\n",
       "      <td>...</td>\n",
       "    </tr>\n",
       "    <tr>\n",
       "      <th>271</th>\n",
       "      <td>14627.58</td>\n",
       "      <td>14371.90</td>\n",
       "      <td>up</td>\n",
       "      <td>14428.03</td>\n",
       "      <td>14375.82</td>\n",
       "      <td>14247.38</td>\n",
       "      <td>14187.82</td>\n",
       "      <td>0</td>\n",
       "      <td>0</td>\n",
       "    </tr>\n",
       "    <tr>\n",
       "      <th>272</th>\n",
       "      <td>14925.25</td>\n",
       "      <td>14553.71</td>\n",
       "      <td>up</td>\n",
       "      <td>14627.58</td>\n",
       "      <td>14428.03</td>\n",
       "      <td>14371.90</td>\n",
       "      <td>14247.38</td>\n",
       "      <td>0</td>\n",
       "      <td>0</td>\n",
       "    </tr>\n",
       "    <tr>\n",
       "      <th>273</th>\n",
       "      <td>14744.72</td>\n",
       "      <td>14555.87</td>\n",
       "      <td>down</td>\n",
       "      <td>14925.25</td>\n",
       "      <td>14627.58</td>\n",
       "      <td>14553.71</td>\n",
       "      <td>14371.90</td>\n",
       "      <td>0</td>\n",
       "      <td>0</td>\n",
       "    </tr>\n",
       "    <tr>\n",
       "      <th>274</th>\n",
       "      <td>14732.00</td>\n",
       "      <td>14404.03</td>\n",
       "      <td>down</td>\n",
       "      <td>14744.72</td>\n",
       "      <td>14925.25</td>\n",
       "      <td>14555.87</td>\n",
       "      <td>14553.71</td>\n",
       "      <td>0</td>\n",
       "      <td>0</td>\n",
       "    </tr>\n",
       "    <tr>\n",
       "      <th>275</th>\n",
       "      <td>14506.02</td>\n",
       "      <td>14403.09</td>\n",
       "      <td>down</td>\n",
       "      <td>14732.00</td>\n",
       "      <td>14744.72</td>\n",
       "      <td>14404.03</td>\n",
       "      <td>14555.87</td>\n",
       "      <td>0</td>\n",
       "      <td>0</td>\n",
       "    </tr>\n",
       "  </tbody>\n",
       "</table>\n",
       "<p>274 rows × 9 columns</p>\n",
       "</div>"
      ],
      "text/plain": [
       "         high       low daydir  high_lag_1  high_lag_2  low_lag_1  low_lag_2  \\\n",
       "2    14402.92  13977.13     up    14068.03    14095.81   13868.20   13959.27   \n",
       "3    14475.65  14309.35     up    14402.92    14068.03   13977.13   13868.20   \n",
       "4    14560.97  14408.52     up    14475.65    14402.92   14309.35   13977.13   \n",
       "5    14595.02  14515.07     up    14560.97    14475.65   14408.52   14309.35   \n",
       "6    14527.42  14450.72     up    14595.02    14560.97   14515.07   14408.52   \n",
       "..        ...       ...    ...         ...         ...        ...        ...   \n",
       "271  14627.58  14371.90     up    14428.03    14375.82   14247.38   14187.82   \n",
       "272  14925.25  14553.71     up    14627.58    14428.03   14371.90   14247.38   \n",
       "273  14744.72  14555.87   down    14925.25    14627.58   14553.71   14371.90   \n",
       "274  14732.00  14404.03   down    14744.72    14925.25   14555.87   14553.71   \n",
       "275  14506.02  14403.09   down    14732.00    14744.72   14404.03   14555.87   \n",
       "\n",
       "     swing  trend  \n",
       "2        0      0  \n",
       "3        0      0  \n",
       "4        0      0  \n",
       "5        0      0  \n",
       "6        0      0  \n",
       "..     ...    ...  \n",
       "271      0      0  \n",
       "272      0      0  \n",
       "273      0      0  \n",
       "274      0      0  \n",
       "275      0      0  \n",
       "\n",
       "[274 rows x 9 columns]"
      ]
     },
     "execution_count": 6,
     "metadata": {},
     "output_type": "execute_result"
    }
   ],
   "source": [
    "useful[\"swing\"] = 0\n",
    "useful[\"trend\"] = 0\n",
    "useful.dropna()"
   ]
  },
  {
   "cell_type": "code",
   "execution_count": 7,
   "id": "65a48304",
   "metadata": {
    "collapsed": false
   },
   "outputs": [],
   "source": [
    "class Swinger:\n",
    "    def __init__(self, start=None):\n",
    "        self.last = start\n",
    "    def __call__(self, r):\n",
    "        if r.low < r.low_lag_1 < r.low_lag_2:\n",
    "            ret = \"down\"\n",
    "        elif r.high > r.high_lag_1 > r.high_lag_2:\n",
    "            ret = \"up\"\n",
    "        else:\n",
    "            ret = self.last\n",
    "        self.last = ret\n",
    "        return ret\n"
   ]
  },
  {
   "cell_type": "code",
   "execution_count": 8,
   "id": "1379ecab",
   "metadata": {
    "collapsed": false
   },
   "outputs": [],
   "source": [
    "sw = Swinger(\"up\")\n",
    "useful[\"swing\"] =useful.apply(sw, axis=1)"
   ]
  },
  {
   "cell_type": "code",
   "execution_count": 9,
   "id": "633e9702",
   "metadata": {
    "collapsed": false
   },
   "outputs": [
    {
     "data": {
      "text/plain": [
       "<AxesSubplot:ylabel='high'>"
      ]
     },
     "execution_count": 9,
     "metadata": {},
     "output_type": "execute_result"
    },
    {
     "data": {
      "image/png": "[encoded data removed]",
      "text/plain": [
       "<Figure size 1152x648 with 1 Axes>"
      ]
     },
     "metadata": {},
     "output_type": "display_data"
    }
   ],
   "source": [
    "import matplotlib.pyplot as plt\n",
    "import numpy as np\n",
    "import seaborn as sns\n",
    "plt.style.use(\"seaborn\")\n",
    "plt.figure(figsize=(16,9))\n",
    "sns.scatterplot(x=np.arange(len(useful.high)), y=useful.high, hue=useful.swing)"
   ]
  },
  {
   "cell_type": "code",
   "execution_count": 10,
   "id": "de65877d",
   "metadata": {
    "collapsed": false
   },
   "outputs": [],
   "source": [
    "get_lags(useful, \"swing\", 1)"
   ]
  },
  {
   "cell_type": "code",
   "execution_count": 11,
   "id": "269bf872",
   "metadata": {
    "collapsed": false
   },
   "outputs": [],
   "source": [
    "useful = useful.dropna()\n",
    "useful = useful.drop(\"swing\", axis=1)"
   ]
  },
  {
   "cell_type": "code",
   "execution_count": 12,
   "id": "155c2362",
   "metadata": {
    "collapsed": false
   },
   "outputs": [
    {
     "data": {
      "text/html": [
       "<div>\n",
       "<style scoped>\n",
       "    .dataframe tbody tr th:only-of-type {\n",
       "        vertical-align: middle;\n",
       "    }\n",
       "\n",
       "    .dataframe tbody tr th {\n",
       "        vertical-align: top;\n",
       "    }\n",
       "\n",
       "    .dataframe thead th {\n",
       "        text-align: right;\n",
       "    }\n",
       "</style>\n",
       "<table border=\"1\" class=\"dataframe\">\n",
       "  <thead>\n",
       "    <tr style=\"text-align: right;\">\n",
       "      <th>daydir</th>\n",
       "      <th>down</th>\n",
       "      <th>up</th>\n",
       "    </tr>\n",
       "    <tr>\n",
       "      <th>swing_lag_1</th>\n",
       "      <th></th>\n",
       "      <th></th>\n",
       "    </tr>\n",
       "  </thead>\n",
       "  <tbody>\n",
       "    <tr>\n",
       "      <th>down</th>\n",
       "      <td>55</td>\n",
       "      <td>71</td>\n",
       "    </tr>\n",
       "    <tr>\n",
       "      <th>up</th>\n",
       "      <td>69</td>\n",
       "      <td>79</td>\n",
       "    </tr>\n",
       "  </tbody>\n",
       "</table>\n",
       "</div>"
      ],
      "text/plain": [
       "daydir       down  up\n",
       "swing_lag_1          \n",
       "down           55  71\n",
       "up             69  79"
      ]
     },
     "execution_count": 12,
     "metadata": {},
     "output_type": "execute_result"
    }
   ],
   "source": [
    "ctab = pd.crosstab(useful.swing_lag_1, useful.daydir)\n",
    "ctab"
   ]
  },
  {
   "cell_type": "code",
   "execution_count": 13,
   "id": "f10e5df3",
   "metadata": {
    "collapsed": false
   },
   "outputs": [
    {
     "data": {
      "text/plain": [
       "(0.1373654357122095,\n",
       " 0.7109143011815987,\n",
       " 1,\n",
       " array([[57.02189781, 68.97810219],\n",
       "        [66.97810219, 81.02189781]]))"
      ]
     },
     "execution_count": 13,
     "metadata": {},
     "output_type": "execute_result"
    }
   ],
   "source": [
    "from scipy.stats import chi2_contingency\n",
    "chi2_contingency(ctab)"
   ]
  },
  {
   "cell_type": "code",
   "execution_count": 14,
   "id": "715c7010",
   "metadata": {
    "collapsed": false
   },
   "outputs": [],
   "source": [
    "useful = useful[[\"high\", \"low\", \"high_lag_1\", \"low_lag_1\", \"daydir\"]].copy()"
   ]
  },
  {
   "cell_type": "code",
   "execution_count": 15,
   "id": "0247abd0",
   "metadata": {
    "collapsed": false
   },
   "outputs": [],
   "source": [
    "def get_daytype(r):\n",
    "    if r.high >= r.high_lag_1 and r.low >= r.low_lag_1:\n",
    "        ret = \"up\"\n",
    "    elif r.high >= r.high_lag_1 and r.low <= r.low_lag_1:\n",
    "        ret = \"outside\"\n",
    "    elif r.high <= r.high_lag_1 and r.low >= r.low_lag_1:\n",
    "        ret =  \"inside\"\n",
    "    elif r.high <= r.high_lag_1 and r.low <= r.low_lag_1:\n",
    "        ret = \"down\"\n",
    "    else:\n",
    "        ret = \"wtf\"\n",
    "    return ret"
   ]
  },
  {
   "cell_type": "code",
   "execution_count": 16,
   "id": "00bc67d5",
   "metadata": {
    "collapsed": false
   },
   "outputs": [],
   "source": [
    "useful[\"daytype\"] =useful.apply(get_daytype, axis=1)\n",
    "get_lags(useful, \"daytype\", 30)\n",
    "useful = useful.dropna()"
   ]
  },
  {
   "cell_type": "code",
   "execution_count": 17,
   "id": "ac04e1ed",
   "metadata": {
    "collapsed": false
   },
   "outputs": [
    {
     "data": {
      "text/html": [
       "<div>\n",
       "<style scoped>\n",
       "    .dataframe tbody tr th:only-of-type {\n",
       "        vertical-align: middle;\n",
       "    }\n",
       "\n",
       "    .dataframe tbody tr th {\n",
       "        vertical-align: top;\n",
       "    }\n",
       "\n",
       "    .dataframe thead th {\n",
       "        text-align: right;\n",
       "    }\n",
       "</style>\n",
       "<table border=\"1\" class=\"dataframe\">\n",
       "  <thead>\n",
       "    <tr style=\"text-align: right;\">\n",
       "      <th></th>\n",
       "      <th>high</th>\n",
       "      <th>low</th>\n",
       "      <th>high_lag_1</th>\n",
       "      <th>low_lag_1</th>\n",
       "      <th>daydir</th>\n",
       "      <th>daytype</th>\n",
       "      <th>daytype_lag_1</th>\n",
       "      <th>daytype_lag_2</th>\n",
       "      <th>daytype_lag_3</th>\n",
       "      <th>daytype_lag_4</th>\n",
       "      <th>...</th>\n",
       "      <th>daytype_lag_21</th>\n",
       "      <th>daytype_lag_22</th>\n",
       "      <th>daytype_lag_23</th>\n",
       "      <th>daytype_lag_24</th>\n",
       "      <th>daytype_lag_25</th>\n",
       "      <th>daytype_lag_26</th>\n",
       "      <th>daytype_lag_27</th>\n",
       "      <th>daytype_lag_28</th>\n",
       "      <th>daytype_lag_29</th>\n",
       "      <th>daytype_lag_30</th>\n",
       "    </tr>\n",
       "  </thead>\n",
       "  <tbody>\n",
       "    <tr>\n",
       "      <th>32</th>\n",
       "      <td>15210.69</td>\n",
       "      <td>15071.78</td>\n",
       "      <td>15393.13</td>\n",
       "      <td>15109.54</td>\n",
       "      <td>up</td>\n",
       "      <td>down</td>\n",
       "      <td>down</td>\n",
       "      <td>up</td>\n",
       "      <td>up</td>\n",
       "      <td>up</td>\n",
       "      <td>...</td>\n",
       "      <td>down</td>\n",
       "      <td>up</td>\n",
       "      <td>inside</td>\n",
       "      <td>up</td>\n",
       "      <td>outside</td>\n",
       "      <td>down</td>\n",
       "      <td>up</td>\n",
       "      <td>up</td>\n",
       "      <td>up</td>\n",
       "      <td>up</td>\n",
       "    </tr>\n",
       "    <tr>\n",
       "      <th>33</th>\n",
       "      <td>15328.33</td>\n",
       "      <td>15230.20</td>\n",
       "      <td>15210.69</td>\n",
       "      <td>15071.78</td>\n",
       "      <td>up</td>\n",
       "      <td>up</td>\n",
       "      <td>down</td>\n",
       "      <td>down</td>\n",
       "      <td>up</td>\n",
       "      <td>up</td>\n",
       "      <td>...</td>\n",
       "      <td>down</td>\n",
       "      <td>down</td>\n",
       "      <td>up</td>\n",
       "      <td>inside</td>\n",
       "      <td>up</td>\n",
       "      <td>outside</td>\n",
       "      <td>down</td>\n",
       "      <td>up</td>\n",
       "      <td>up</td>\n",
       "      <td>up</td>\n",
       "    </tr>\n",
       "    <tr>\n",
       "      <th>34</th>\n",
       "      <td>15309.09</td>\n",
       "      <td>15149.35</td>\n",
       "      <td>15328.33</td>\n",
       "      <td>15230.20</td>\n",
       "      <td>up</td>\n",
       "      <td>down</td>\n",
       "      <td>up</td>\n",
       "      <td>down</td>\n",
       "      <td>down</td>\n",
       "      <td>up</td>\n",
       "      <td>...</td>\n",
       "      <td>outside</td>\n",
       "      <td>down</td>\n",
       "      <td>down</td>\n",
       "      <td>up</td>\n",
       "      <td>inside</td>\n",
       "      <td>up</td>\n",
       "      <td>outside</td>\n",
       "      <td>down</td>\n",
       "      <td>up</td>\n",
       "      <td>up</td>\n",
       "    </tr>\n",
       "    <tr>\n",
       "      <th>35</th>\n",
       "      <td>15325.89</td>\n",
       "      <td>15237.02</td>\n",
       "      <td>15309.09</td>\n",
       "      <td>15149.35</td>\n",
       "      <td>down</td>\n",
       "      <td>up</td>\n",
       "      <td>down</td>\n",
       "      <td>up</td>\n",
       "      <td>down</td>\n",
       "      <td>down</td>\n",
       "      <td>...</td>\n",
       "      <td>inside</td>\n",
       "      <td>outside</td>\n",
       "      <td>down</td>\n",
       "      <td>down</td>\n",
       "      <td>up</td>\n",
       "      <td>inside</td>\n",
       "      <td>up</td>\n",
       "      <td>outside</td>\n",
       "      <td>down</td>\n",
       "      <td>up</td>\n",
       "    </tr>\n",
       "    <tr>\n",
       "      <th>36</th>\n",
       "      <td>15293.89</td>\n",
       "      <td>15186.76</td>\n",
       "      <td>15325.89</td>\n",
       "      <td>15237.02</td>\n",
       "      <td>down</td>\n",
       "      <td>down</td>\n",
       "      <td>up</td>\n",
       "      <td>down</td>\n",
       "      <td>up</td>\n",
       "      <td>down</td>\n",
       "      <td>...</td>\n",
       "      <td>outside</td>\n",
       "      <td>inside</td>\n",
       "      <td>outside</td>\n",
       "      <td>down</td>\n",
       "      <td>down</td>\n",
       "      <td>up</td>\n",
       "      <td>inside</td>\n",
       "      <td>up</td>\n",
       "      <td>outside</td>\n",
       "      <td>down</td>\n",
       "    </tr>\n",
       "    <tr>\n",
       "      <th>...</th>\n",
       "      <td>...</td>\n",
       "      <td>...</td>\n",
       "      <td>...</td>\n",
       "      <td>...</td>\n",
       "      <td>...</td>\n",
       "      <td>...</td>\n",
       "      <td>...</td>\n",
       "      <td>...</td>\n",
       "      <td>...</td>\n",
       "      <td>...</td>\n",
       "      <td>...</td>\n",
       "      <td>...</td>\n",
       "      <td>...</td>\n",
       "      <td>...</td>\n",
       "      <td>...</td>\n",
       "      <td>...</td>\n",
       "      <td>...</td>\n",
       "      <td>...</td>\n",
       "      <td>...</td>\n",
       "      <td>...</td>\n",
       "      <td>...</td>\n",
       "    </tr>\n",
       "    <tr>\n",
       "      <th>271</th>\n",
       "      <td>14627.58</td>\n",
       "      <td>14371.90</td>\n",
       "      <td>14428.03</td>\n",
       "      <td>14247.38</td>\n",
       "      <td>up</td>\n",
       "      <td>up</td>\n",
       "      <td>up</td>\n",
       "      <td>down</td>\n",
       "      <td>outside</td>\n",
       "      <td>up</td>\n",
       "      <td>...</td>\n",
       "      <td>up</td>\n",
       "      <td>down</td>\n",
       "      <td>up</td>\n",
       "      <td>down</td>\n",
       "      <td>down</td>\n",
       "      <td>down</td>\n",
       "      <td>down</td>\n",
       "      <td>up</td>\n",
       "      <td>up</td>\n",
       "      <td>down</td>\n",
       "    </tr>\n",
       "    <tr>\n",
       "      <th>272</th>\n",
       "      <td>14925.25</td>\n",
       "      <td>14553.71</td>\n",
       "      <td>14627.58</td>\n",
       "      <td>14371.90</td>\n",
       "      <td>up</td>\n",
       "      <td>up</td>\n",
       "      <td>up</td>\n",
       "      <td>up</td>\n",
       "      <td>down</td>\n",
       "      <td>outside</td>\n",
       "      <td>...</td>\n",
       "      <td>inside</td>\n",
       "      <td>up</td>\n",
       "      <td>down</td>\n",
       "      <td>up</td>\n",
       "      <td>down</td>\n",
       "      <td>down</td>\n",
       "      <td>down</td>\n",
       "      <td>down</td>\n",
       "      <td>up</td>\n",
       "      <td>up</td>\n",
       "    </tr>\n",
       "    <tr>\n",
       "      <th>273</th>\n",
       "      <td>14744.72</td>\n",
       "      <td>14555.87</td>\n",
       "      <td>14925.25</td>\n",
       "      <td>14553.71</td>\n",
       "      <td>down</td>\n",
       "      <td>inside</td>\n",
       "      <td>up</td>\n",
       "      <td>up</td>\n",
       "      <td>up</td>\n",
       "      <td>down</td>\n",
       "      <td>...</td>\n",
       "      <td>down</td>\n",
       "      <td>inside</td>\n",
       "      <td>up</td>\n",
       "      <td>down</td>\n",
       "      <td>up</td>\n",
       "      <td>down</td>\n",
       "      <td>down</td>\n",
       "      <td>down</td>\n",
       "      <td>down</td>\n",
       "      <td>up</td>\n",
       "    </tr>\n",
       "    <tr>\n",
       "      <th>274</th>\n",
       "      <td>14732.00</td>\n",
       "      <td>14404.03</td>\n",
       "      <td>14744.72</td>\n",
       "      <td>14555.87</td>\n",
       "      <td>down</td>\n",
       "      <td>down</td>\n",
       "      <td>inside</td>\n",
       "      <td>up</td>\n",
       "      <td>up</td>\n",
       "      <td>up</td>\n",
       "      <td>...</td>\n",
       "      <td>down</td>\n",
       "      <td>down</td>\n",
       "      <td>inside</td>\n",
       "      <td>up</td>\n",
       "      <td>down</td>\n",
       "      <td>up</td>\n",
       "      <td>down</td>\n",
       "      <td>down</td>\n",
       "      <td>down</td>\n",
       "      <td>down</td>\n",
       "    </tr>\n",
       "    <tr>\n",
       "      <th>275</th>\n",
       "      <td>14506.02</td>\n",
       "      <td>14403.09</td>\n",
       "      <td>14732.00</td>\n",
       "      <td>14404.03</td>\n",
       "      <td>down</td>\n",
       "      <td>down</td>\n",
       "      <td>down</td>\n",
       "      <td>inside</td>\n",
       "      <td>up</td>\n",
       "      <td>up</td>\n",
       "      <td>...</td>\n",
       "      <td>down</td>\n",
       "      <td>down</td>\n",
       "      <td>down</td>\n",
       "      <td>inside</td>\n",
       "      <td>up</td>\n",
       "      <td>down</td>\n",
       "      <td>up</td>\n",
       "      <td>down</td>\n",
       "      <td>down</td>\n",
       "      <td>down</td>\n",
       "    </tr>\n",
       "  </tbody>\n",
       "</table>\n",
       "<p>244 rows × 36 columns</p>\n",
       "</div>"
      ],
      "text/plain": [
       "         high       low  high_lag_1  low_lag_1 daydir daytype daytype_lag_1  \\\n",
       "32   15210.69  15071.78    15393.13   15109.54     up    down          down   \n",
       "33   15328.33  15230.20    15210.69   15071.78     up      up          down   \n",
       "34   15309.09  15149.35    15328.33   15230.20     up    down            up   \n",
       "35   15325.89  15237.02    15309.09   15149.35   down      up          down   \n",
       "36   15293.89  15186.76    15325.89   15237.02   down    down            up   \n",
       "..        ...       ...         ...        ...    ...     ...           ...   \n",
       "271  14627.58  14371.90    14428.03   14247.38     up      up            up   \n",
       "272  14925.25  14553.71    14627.58   14371.90     up      up            up   \n",
       "273  14744.72  14555.87    14925.25   14553.71   down  inside            up   \n",
       "274  14732.00  14404.03    14744.72   14555.87   down    down        inside   \n",
       "275  14506.02  14403.09    14732.00   14404.03   down    down          down   \n",
       "\n",
       "    daytype_lag_2 daytype_lag_3 daytype_lag_4  ... daytype_lag_21  \\\n",
       "32             up            up            up  ...           down   \n",
       "33           down            up            up  ...           down   \n",
       "34           down          down            up  ...        outside   \n",
       "35             up          down          down  ...         inside   \n",
       "36           down            up          down  ...        outside   \n",
       "..            ...           ...           ...  ...            ...   \n",
       "271          down       outside            up  ...             up   \n",
       "272            up          down       outside  ...         inside   \n",
       "273            up            up          down  ...           down   \n",
       "274            up            up            up  ...           down   \n",
       "275        inside            up            up  ...           down   \n",
       "\n",
       "    daytype_lag_22 daytype_lag_23 daytype_lag_24 daytype_lag_25  \\\n",
       "32              up         inside             up        outside   \n",
       "33            down             up         inside             up   \n",
       "34            down           down             up         inside   \n",
       "35         outside           down           down             up   \n",
       "36          inside        outside           down           down   \n",
       "..             ...            ...            ...            ...   \n",
       "271           down             up           down           down   \n",
       "272             up           down             up           down   \n",
       "273         inside             up           down             up   \n",
       "274           down         inside             up           down   \n",
       "275           down           down         inside             up   \n",
       "\n",
       "    daytype_lag_26 daytype_lag_27 daytype_lag_28 daytype_lag_29 daytype_lag_30  \n",
       "32            down             up             up             up             up  \n",
       "33         outside           down             up             up             up  \n",
       "34              up        outside           down             up             up  \n",
       "35          inside             up        outside           down             up  \n",
       "36              up         inside             up        outside           down  \n",
       "..             ...            ...            ...            ...            ...  \n",
       "271           down           down             up             up           down  \n",
       "272           down           down           down             up             up  \n",
       "273           down           down           down           down             up  \n",
       "274             up           down           down           down           down  \n",
       "275           down             up           down           down           down  \n",
       "\n",
       "[244 rows x 36 columns]"
      ]
     },
     "execution_count": 17,
     "metadata": {},
     "output_type": "execute_result"
    }
   ],
   "source": [
    "useful"
   ]
  },
  {
   "cell_type": "code",
   "execution_count": 18,
   "id": "af2cb686",
   "metadata": {
    "collapsed": false
   },
   "outputs": [
    {
     "name": "stdout",
     "output_type": "stream",
     "text": [
      "7 :  (7.979511088143731, 0.04643705303542002, 3, array([[40.64754098, 46.35245902],\n",
      "       [15.8852459 , 18.1147541 ],\n",
      "       [ 8.87704918, 10.12295082],\n",
      "       [48.59016393, 55.40983607]]))\n",
      "27 :  (10.02409911721561, 0.018362390991380578, 3, array([[38.77868852, 44.22131148],\n",
      "       [15.8852459 , 18.1147541 ],\n",
      "       [10.27868852, 11.72131148],\n",
      "       [49.05737705, 55.94262295]]))\n"
     ]
    }
   ],
   "source": [
    "for i in range(1, 31):\n",
    "    ctab = pd.crosstab(useful[\"daytype_lag_\" + str(i)], useful.daydir)\n",
    "    cont = chi2_contingency(ctab)\n",
    "    if cont[1] < 0.05:\n",
    "        print(i, \": \", cont)"
   ]
  },
  {
   "cell_type": "code",
   "execution_count": 19,
   "id": "35a52782",
   "metadata": {
    "collapsed": false
   },
   "outputs": [
    {
     "data": {
      "text/html": [
       "<div>\n",
       "<style scoped>\n",
       "    .dataframe tbody tr th:only-of-type {\n",
       "        vertical-align: middle;\n",
       "    }\n",
       "\n",
       "    .dataframe tbody tr th {\n",
       "        vertical-align: top;\n",
       "    }\n",
       "\n",
       "    .dataframe thead th {\n",
       "        text-align: right;\n",
       "    }\n",
       "</style>\n",
       "<table border=\"1\" class=\"dataframe\">\n",
       "  <thead>\n",
       "    <tr style=\"text-align: right;\">\n",
       "      <th>daydir</th>\n",
       "      <th>down</th>\n",
       "      <th>up</th>\n",
       "    </tr>\n",
       "    <tr>\n",
       "      <th>daytype_lag_27</th>\n",
       "      <th></th>\n",
       "      <th></th>\n",
       "    </tr>\n",
       "  </thead>\n",
       "  <tbody>\n",
       "    <tr>\n",
       "      <th>down</th>\n",
       "      <td>36</td>\n",
       "      <td>47</td>\n",
       "    </tr>\n",
       "    <tr>\n",
       "      <th>inside</th>\n",
       "      <td>22</td>\n",
       "      <td>12</td>\n",
       "    </tr>\n",
       "    <tr>\n",
       "      <th>outside</th>\n",
       "      <td>5</td>\n",
       "      <td>17</td>\n",
       "    </tr>\n",
       "    <tr>\n",
       "      <th>up</th>\n",
       "      <td>51</td>\n",
       "      <td>54</td>\n",
       "    </tr>\n",
       "  </tbody>\n",
       "</table>\n",
       "</div>"
      ],
      "text/plain": [
       "daydir          down  up\n",
       "daytype_lag_27          \n",
       "down              36  47\n",
       "inside            22  12\n",
       "outside            5  17\n",
       "up                51  54"
      ]
     },
     "execution_count": 19,
     "metadata": {},
     "output_type": "execute_result"
    }
   ],
   "source": [
    "pd.crosstab(useful[\"daytype_lag_27\"], useful.daydir)"
   ]
  },
  {
   "cell_type": "code",
   "execution_count": 20,
   "id": "8cde2f1d",
   "metadata": {
    "collapsed": false
   },
   "outputs": [],
   "source": [
    "\n",
    "datto = useful.drop([\"high\", \"low\", \"high_lag_1\", \"low_lag_1\"], axis=1)\n"
   ]
  },
  {
   "cell_type": "code",
   "execution_count": 21,
   "id": "79e0a48d",
   "metadata": {
    "collapsed": false
   },
   "outputs": [],
   "source": [
    "X = pd.get_dummies(datto[[\"daytype_lag_7\", \"daytype_lag_27\"]]).to_numpy()\n",
    "y = datto.daydir.to_numpy()\n",
    "from sklearn.preprocessing import LabelEncoder\n",
    "enc = LabelEncoder()\n",
    "y = enc.fit_transform(y)"
   ]
  },
  {
   "cell_type": "code",
   "execution_count": 22,
   "id": "e40dd3e7",
   "metadata": {
    "collapsed": false
   },
   "outputs": [],
   "source": [
    "from sklearn.model_selection import train_test_split\n",
    "X_train, X_test, y_train, y_test = train_test_split(X, y, train_size=0.85)"
   ]
  },
  {
   "cell_type": "code",
   "execution_count": 23,
   "id": "e09003da",
   "metadata": {
    "collapsed": false
   },
   "outputs": [
    {
     "data": {
      "text/plain": [
       "DecisionTreeClassifier()"
      ]
     },
     "execution_count": 23,
     "metadata": {},
     "output_type": "execute_result"
    }
   ],
   "source": [
    "from sklearn.tree import DecisionTreeClassifier\n",
    "from sklearn.metrics import accuracy_score\n",
    "tr = DecisionTreeClassifier()\n",
    "tr.fit(X_train, y_train)"
   ]
  },
  {
   "cell_type": "code",
   "execution_count": 24,
   "id": "350dbb39",
   "metadata": {
    "collapsed": false
   },
   "outputs": [
    {
     "data": {
      "text/plain": [
       "0.6328502415458938"
      ]
     },
     "execution_count": 24,
     "metadata": {},
     "output_type": "execute_result"
    }
   ],
   "source": [
    "accuracy_score(tr.predict(X_train), y_train)"
   ]
  },
  {
   "cell_type": "code",
   "execution_count": 25,
   "id": "991b47eb",
   "metadata": {
    "collapsed": false
   },
   "outputs": [
    {
     "data": {
      "text/plain": [
       "0.6756756756756757"
      ]
     },
     "execution_count": 25,
     "metadata": {},
     "output_type": "execute_result"
    }
   ],
   "source": [
    "accuracy_score(tr.predict(X_test), y_test)"
   ]
  },
  {
   "cell_type": "code",
   "execution_count": 26,
   "id": "5dd1bf71",
   "metadata": {
    "collapsed": false
   },
   "outputs": [
    {
     "data": {
      "text/plain": [
       "0.5169082125603864"
      ]
     },
     "execution_count": 26,
     "metadata": {},
     "output_type": "execute_result"
    }
   ],
   "source": [
    "y_train.mean()"
   ]
  },
  {
   "cell_type": "code",
   "execution_count": 27,
   "id": "c1b7fc2c",
   "metadata": {
    "collapsed": false
   },
   "outputs": [
    {
     "data": {
      "text/plain": [
       "0.6216216216216216"
      ]
     },
     "execution_count": 27,
     "metadata": {},
     "output_type": "execute_result"
    }
   ],
   "source": [
    "y_test.mean()"
   ]
  },
  {
   "cell_type": "code",
   "execution_count": 28,
   "id": "ef4b81be",
   "metadata": {
    "collapsed": false
   },
   "outputs": [
    {
     "data": {
      "text/plain": [
       "0.5845528455284553"
      ]
     },
     "execution_count": 28,
     "metadata": {},
     "output_type": "execute_result"
    }
   ],
   "source": [
    "from sklearn.model_selection import cross_val_score\n",
    "cross_val_score(tr, X_train, y_train,cv=5).mean()"
   ]
  },
  {
   "cell_type": "code",
   "execution_count": 29,
   "id": "d7514a56",
   "metadata": {
    "collapsed": false
   },
   "outputs": [
    {
     "data": {
      "text/plain": [
       "0.6821428571428572"
      ]
     },
     "execution_count": 29,
     "metadata": {},
     "output_type": "execute_result"
    }
   ],
   "source": [
    "cross_val_score(tr, X_test, y_test).mean()"
   ]
  },
  {
   "cell_type": "code",
   "execution_count": 30,
   "id": "e7132fae",
   "metadata": {
    "collapsed": false
   },
   "outputs": [
    {
     "data": {
      "text/plain": [
       "0.6328502415458938"
      ]
     },
     "execution_count": 30,
     "metadata": {},
     "output_type": "execute_result"
    }
   ],
   "source": [
    "from sklearn.linear_model import LogisticRegression\n",
    "logreg = LogisticRegression()\n",
    "logreg.fit(X_train,y_train)\n",
    "accuracy_score(logreg.predict(X_train), y_train)"
   ]
  },
  {
   "cell_type": "code",
   "execution_count": 31,
   "id": "f5ef5f3a",
   "metadata": {
    "collapsed": false
   },
   "outputs": [
    {
     "data": {
      "text/plain": [
       "0.6756756756756757"
      ]
     },
     "execution_count": 31,
     "metadata": {},
     "output_type": "execute_result"
    }
   ],
   "source": [
    "accuracy_score(logreg.predict(X_test), y_test)"
   ]
  },
  {
   "cell_type": "code",
   "execution_count": 32,
   "id": "ae4ee8e5",
   "metadata": {
    "collapsed": false
   },
   "outputs": [
    {
     "data": {
      "text/plain": [
       "0.46428571428571425"
      ]
     },
     "execution_count": 32,
     "metadata": {},
     "output_type": "execute_result"
    }
   ],
   "source": [
    "cross_val_score(logreg, X_test, y_test).mean()"
   ]
  },
  {
   "cell_type": "code",
   "execution_count": 33,
   "id": "50a659ff",
   "metadata": {
    "collapsed": false
   },
   "outputs": [
    {
     "data": {
      "text/plain": [
       "0.6135888501742162"
      ]
     },
     "execution_count": 33,
     "metadata": {},
     "output_type": "execute_result"
    }
   ],
   "source": [
    "cross_val_score(logreg, X_train, y_train).mean()"
   ]
  },
  {
   "cell_type": "code",
   "execution_count": 34,
   "id": "539ec3be",
   "metadata": {
    "collapsed": false
   },
   "outputs": [
    {
     "name": "stderr",
     "output_type": "stream",
     "text": [
      "/home/wit/miniconda3/lib/python3.10/site-packages/xgboost/compat.py:36: FutureWarning: pandas.Int64Index is deprecated and will be removed from pandas in a future version. Use pandas.Index with the appropriate dtype instead.\n",
      "  from pandas import MultiIndex, Int64Index\n"
     ]
    }
   ],
   "source": [
    "from xgboost import XGBClassifier"
   ]
  },
  {
   "cell_type": "code",
   "execution_count": 35,
   "id": "abca0a3d",
   "metadata": {
    "collapsed": false
   },
   "outputs": [
    {
     "name": "stdout",
     "output_type": "stream",
     "text": [
      "[15:22:11] WARNING: ../src/learner.cc:1115: Starting in XGBoost 1.3.0, the default evaluation metric used with the objective 'binary:logistic' was changed from 'error' to 'logloss'. Explicitly set eval_metric if you'd like to restore the old behavior.\n"
     ]
    },
    {
     "data": {
      "text/plain": [
       "XGBClassifier(base_score=0.5, booster='gbtree', colsample_bylevel=1,\n",
       "              colsample_bynode=1, colsample_bytree=1, enable_categorical=False,\n",
       "              gamma=0, gpu_id=-1, importance_type=None,\n",
       "              interaction_constraints='', learning_rate=0.300000012,\n",
       "              max_delta_step=0, max_depth=6, min_child_weight=1, missing=nan,\n",
       "              monotone_constraints='()', n_estimators=100, n_jobs=8,\n",
       "              num_parallel_tree=1, predictor='auto', random_state=0,\n",
       "              reg_alpha=0, reg_lambda=1, scale_pos_weight=1, subsample=1,\n",
       "              tree_method='exact', use_label_encoder=False,\n",
       "              validate_parameters=1, verbosity=None)"
      ]
     },
     "execution_count": 35,
     "metadata": {},
     "output_type": "execute_result"
    }
   ],
   "source": [
    "xc = XGBClassifier(use_label_encoder=False)\n",
    "xc.fit(X_train, y_train)"
   ]
  },
  {
   "cell_type": "code",
   "execution_count": 36,
   "id": "52f4f3e2",
   "metadata": {
    "collapsed": false
   },
   "outputs": [
    {
     "data": {
      "text/plain": [
       "0.6328502415458938"
      ]
     },
     "execution_count": 36,
     "metadata": {},
     "output_type": "execute_result"
    }
   ],
   "source": [
    "accuracy_score(xc.predict(X_train), y_train)"
   ]
  },
  {
   "cell_type": "code",
   "execution_count": 37,
   "id": "e98582b9",
   "metadata": {
    "collapsed": false
   },
   "outputs": [
    {
     "data": {
      "text/plain": [
       "0.6756756756756757"
      ]
     },
     "execution_count": 37,
     "metadata": {},
     "output_type": "execute_result"
    }
   ],
   "source": [
    "accuracy_score(xc.predict(X_test), y_test)"
   ]
  },
  {
   "cell_type": "code",
   "execution_count": 38,
   "id": "c2ec23ce",
   "metadata": {
    "collapsed": false
   },
   "outputs": [],
   "source": [
    "from sklearn.ensemble import VotingClassifier"
   ]
  },
  {
   "cell_type": "code",
   "execution_count": 39,
   "id": "740d3125",
   "metadata": {
    "collapsed": false
   },
   "outputs": [
    {
     "data": {
      "text/plain": [
       "0.6328502415458938"
      ]
     },
     "execution_count": 39,
     "metadata": {},
     "output_type": "execute_result"
    }
   ],
   "source": [
    "from sklearn.svm import SVC\n",
    "svc = SVC()\n",
    "svc.fit(X_train, y_train)\n",
    "accuracy_score(svc.predict(X_train), y_train)"
   ]
  },
  {
   "cell_type": "code",
   "execution_count": 40,
   "id": "31fde9ae",
   "metadata": {
    "collapsed": false
   },
   "outputs": [],
   "source": [
    "from sklearn.neighbors import KNeighborsClassifier as KNC\n",
    "knc = KNC(10)"
   ]
  },
  {
   "cell_type": "code",
   "execution_count": 41,
   "id": "6a5e82b7",
   "metadata": {
    "collapsed": false
   },
   "outputs": [
    {
     "data": {
      "text/plain": [
       "0.6135265700483091"
      ]
     },
     "execution_count": 41,
     "metadata": {},
     "output_type": "execute_result"
    }
   ],
   "source": [
    "knc.fit(X_train, y_train)\n",
    "accuracy_score(knc.predict(X_train), y_train)\n"
   ]
  },
  {
   "cell_type": "code",
   "execution_count": 42,
   "id": "54035722",
   "metadata": {
    "collapsed": false
   },
   "outputs": [
    {
     "data": {
      "text/plain": [
       "0.5675675675675675"
      ]
     },
     "execution_count": 42,
     "metadata": {},
     "output_type": "execute_result"
    }
   ],
   "source": [
    "accuracy_score(knc.predict(X_test), y_test)"
   ]
  },
  {
   "cell_type": "code",
   "execution_count": 43,
   "id": "2b09778f",
   "metadata": {
    "collapsed": false
   },
   "outputs": [
    {
     "data": {
      "text/plain": [
       "0.6183574879227053"
      ]
     },
     "execution_count": 43,
     "metadata": {},
     "output_type": "execute_result"
    }
   ],
   "source": [
    "from sklearn.naive_bayes import ComplementNB as NB\n",
    "\n",
    "nb = NB()\n",
    "nb.fit(X_train, y_train)\n",
    "accuracy_score(nb.predict(X_train), y_train)"
   ]
  },
  {
   "cell_type": "code",
   "execution_count": 44,
   "id": "67a031a8",
   "metadata": {
    "collapsed": false
   },
   "outputs": [
    {
     "data": {
      "text/plain": [
       "0.6328502415458938"
      ]
     },
     "execution_count": 44,
     "metadata": {},
     "output_type": "execute_result"
    }
   ],
   "source": [
    "from sklearn.ensemble import RandomForestClassifier as RFC\n",
    "rfc = RFC()\n",
    "rfc.fit(X_train, y_train)\n",
    "accuracy_score(rfc.predict(X_train), y_train)"
   ]
  },
  {
   "cell_type": "code",
   "execution_count": 45,
   "id": "c98b50f7",
   "metadata": {
    "collapsed": false
   },
   "outputs": [],
   "source": [
    "vc = VotingClassifier([\n",
    "    (\"logreg\", logreg),\n",
    "    (\"tr\", tr),\n",
    "    (\"xc\", xc),\n",
    "    (\"rfc\", rfc),\n",
    "    (\"nb\", nb),\n",
    "    (\"knc\", knc)\n",
    "])"
   ]
  },
  {
   "cell_type": "code",
   "execution_count": 46,
   "id": "cb24b435",
   "metadata": {
    "collapsed": false
   },
   "outputs": [],
   "source": [
    "def get_best_model(models, X_train, y_train, X_test, y_test):\n",
    "    best_score = 0\n",
    "    best_model = None\n",
    "    scores = []\n",
    "    for m in models:\n",
    "        m.fit(X_train, y_train)\n",
    "        score = accuracy_score(m.predict(X_test), y_test)\n",
    "        scores.append([score, m])\n",
    "        if score > best_score:\n",
    "            best_score = score\n",
    "            best_model = m\n",
    "\n",
    "    return (best_score, best_model, scores)\n",
    "        "
   ]
  },
  {
   "cell_type": "code",
   "execution_count": 47,
   "id": "4bb3ce65",
   "metadata": {
    "collapsed": false
   },
   "outputs": [
    {
     "name": "stdout",
     "output_type": "stream",
     "text": [
      "[15:22:12] WARNING: ../src/learner.cc:1115: Starting in XGBoost 1.3.0, the default evaluation metric used with the objective 'binary:logistic' was changed from 'error' to 'logloss'. Explicitly set eval_metric if you'd like to restore the old behavior.\n"
     ]
    },
    {
     "name": "stdout",
     "output_type": "stream",
     "text": [
      "[15:22:13] WARNING: ../src/learner.cc:1115: Starting in XGBoost 1.3.0, the default evaluation metric used with the objective 'binary:logistic' was changed from 'error' to 'logloss'. Explicitly set eval_metric if you'd like to restore the old behavior.\n"
     ]
    },
    {
     "data": {
      "text/plain": [
       "(0.6756756756756757,\n",
       " LogisticRegression(),\n",
       " [[0.6756756756756757, LogisticRegression()],\n",
       "  [0.6756756756756757, DecisionTreeClassifier()],\n",
       "  [0.6756756756756757,\n",
       "   XGBClassifier(base_score=0.5, booster='gbtree', colsample_bylevel=1,\n",
       "                 colsample_bynode=1, colsample_bytree=1, enable_categorical=False,\n",
       "                 gamma=0, gpu_id=-1, importance_type=None,\n",
       "                 interaction_constraints='', learning_rate=0.300000012,\n",
       "                 max_delta_step=0, max_depth=6, min_child_weight=1, missing=nan,\n",
       "                 monotone_constraints='()', n_estimators=100, n_jobs=8,\n",
       "                 num_parallel_tree=1, predictor='auto', random_state=0,\n",
       "                 reg_alpha=0, reg_lambda=1, scale_pos_weight=1, subsample=1,\n",
       "                 tree_method='exact', use_label_encoder=False,\n",
       "                 validate_parameters=1, verbosity=None)],\n",
       "  [0.6756756756756757,\n",
       "   VotingClassifier(estimators=[('logreg', LogisticRegression()),\n",
       "                                ('tr', DecisionTreeClassifier()),\n",
       "                                ('xc',\n",
       "                                 XGBClassifier(base_score=0.5, booster='gbtree',\n",
       "                                               colsample_bylevel=1,\n",
       "                                               colsample_bynode=1,\n",
       "                                               colsample_bytree=1,\n",
       "                                               enable_categorical=False, gamma=0,\n",
       "                                               gpu_id=-1, importance_type=None,\n",
       "                                               interaction_constraints='',\n",
       "                                               learning_rate=0.300000012,\n",
       "                                               max_delta_step=0, max_depth=6,\n",
       "                                               m...g=nan,\n",
       "                                               monotone_constraints='()',\n",
       "                                               n_estimators=100, n_jobs=8,\n",
       "                                               num_parallel_tree=1,\n",
       "                                               predictor='auto', random_state=0,\n",
       "                                               reg_alpha=0, reg_lambda=1,\n",
       "                                               scale_pos_weight=1, subsample=1,\n",
       "                                               tree_method='exact',\n",
       "                                               use_label_encoder=False,\n",
       "                                               validate_parameters=1,\n",
       "                                               verbosity=None)),\n",
       "                                ('rfc', RandomForestClassifier()),\n",
       "                                ('nb', ComplementNB()),\n",
       "                                ('knc', KNeighborsClassifier(n_neighbors=10))])],\n",
       "  [0.6756756756756757, RandomForestClassifier()],\n",
       "  [0.6756756756756757, ComplementNB()],\n",
       "  [0.5675675675675675, KNeighborsClassifier(n_neighbors=10)]])"
      ]
     },
     "execution_count": 47,
     "metadata": {},
     "output_type": "execute_result"
    }
   ],
   "source": [
    "get_best_model([logreg, tr, xc, vc, rfc, nb, knc],X_train, y_train, X_test, y_test)"
   ]
  },
  {
   "cell_type": "code",
   "execution_count": 48,
   "id": "15a96195",
   "metadata": {
    "collapsed": false
   },
   "outputs": [
    {
     "data": {
      "text/plain": [
       "0.6756756756756757"
      ]
     },
     "execution_count": 48,
     "metadata": {},
     "output_type": "execute_result"
    }
   ],
   "source": [
    "logreg.fit(X_train, y_train)\n",
    "accuracy_score(logreg.predict(X_test), y_test)"
   ]
  },
  {
   "cell_type": "code",
   "execution_count": 49,
   "id": "79ea86d6",
   "metadata": {
    "collapsed": false
   },
   "outputs": [
    {
     "data": {
      "text/plain": [
       "array([[0, 0, 0, ..., 0, 0, 1],\n",
       "       [0, 0, 1, ..., 0, 0, 0],\n",
       "       [0, 1, 0, ..., 0, 1, 0],\n",
       "       ...,\n",
       "       [0, 0, 0, ..., 0, 0, 0],\n",
       "       [0, 0, 0, ..., 0, 0, 0],\n",
       "       [0, 0, 1, ..., 0, 0, 1]], dtype=uint8)"
      ]
     },
     "execution_count": 49,
     "metadata": {},
     "output_type": "execute_result"
    }
   ],
   "source": []
  },
  {
   "cell_type": "code",
   "execution_count": 50,
   "id": "8c5daef8",
   "metadata": {
    "collapsed": false
   },
   "outputs": [
    {
     "data": {
      "text/html": [
       "<div>\n",
       "<style scoped>\n",
       "    .dataframe tbody tr th:only-of-type {\n",
       "        vertical-align: middle;\n",
       "    }\n",
       "\n",
       "    .dataframe tbody tr th {\n",
       "        vertical-align: top;\n",
       "    }\n",
       "\n",
       "    .dataframe thead th {\n",
       "        text-align: right;\n",
       "    }\n",
       "</style>\n",
       "<table border=\"1\" class=\"dataframe\">\n",
       "  <thead>\n",
       "    <tr style=\"text-align: right;\">\n",
       "      <th></th>\n",
       "      <th>daydir</th>\n",
       "      <th>daytype</th>\n",
       "      <th>daytype_lag_1</th>\n",
       "      <th>daytype_lag_2</th>\n",
       "      <th>daytype_lag_3</th>\n",
       "      <th>daytype_lag_4</th>\n",
       "      <th>daytype_lag_5</th>\n",
       "      <th>daytype_lag_6</th>\n",
       "      <th>daytype_lag_7</th>\n",
       "      <th>daytype_lag_8</th>\n",
       "      <th>...</th>\n",
       "      <th>daytype_lag_21</th>\n",
       "      <th>daytype_lag_22</th>\n",
       "      <th>daytype_lag_23</th>\n",
       "      <th>daytype_lag_24</th>\n",
       "      <th>daytype_lag_25</th>\n",
       "      <th>daytype_lag_26</th>\n",
       "      <th>daytype_lag_27</th>\n",
       "      <th>daytype_lag_28</th>\n",
       "      <th>daytype_lag_29</th>\n",
       "      <th>daytype_lag_30</th>\n",
       "    </tr>\n",
       "  </thead>\n",
       "  <tbody>\n",
       "    <tr>\n",
       "      <th>32</th>\n",
       "      <td>up</td>\n",
       "      <td>down</td>\n",
       "      <td>down</td>\n",
       "      <td>up</td>\n",
       "      <td>up</td>\n",
       "      <td>up</td>\n",
       "      <td>inside</td>\n",
       "      <td>outside</td>\n",
       "      <td>up</td>\n",
       "      <td>inside</td>\n",
       "      <td>...</td>\n",
       "      <td>down</td>\n",
       "      <td>up</td>\n",
       "      <td>inside</td>\n",
       "      <td>up</td>\n",
       "      <td>outside</td>\n",
       "      <td>down</td>\n",
       "      <td>up</td>\n",
       "      <td>up</td>\n",
       "      <td>up</td>\n",
       "      <td>up</td>\n",
       "    </tr>\n",
       "    <tr>\n",
       "      <th>33</th>\n",
       "      <td>up</td>\n",
       "      <td>up</td>\n",
       "      <td>down</td>\n",
       "      <td>down</td>\n",
       "      <td>up</td>\n",
       "      <td>up</td>\n",
       "      <td>up</td>\n",
       "      <td>inside</td>\n",
       "      <td>outside</td>\n",
       "      <td>up</td>\n",
       "      <td>...</td>\n",
       "      <td>down</td>\n",
       "      <td>down</td>\n",
       "      <td>up</td>\n",
       "      <td>inside</td>\n",
       "      <td>up</td>\n",
       "      <td>outside</td>\n",
       "      <td>down</td>\n",
       "      <td>up</td>\n",
       "      <td>up</td>\n",
       "      <td>up</td>\n",
       "    </tr>\n",
       "    <tr>\n",
       "      <th>34</th>\n",
       "      <td>up</td>\n",
       "      <td>down</td>\n",
       "      <td>up</td>\n",
       "      <td>down</td>\n",
       "      <td>down</td>\n",
       "      <td>up</td>\n",
       "      <td>up</td>\n",
       "      <td>up</td>\n",
       "      <td>inside</td>\n",
       "      <td>outside</td>\n",
       "      <td>...</td>\n",
       "      <td>outside</td>\n",
       "      <td>down</td>\n",
       "      <td>down</td>\n",
       "      <td>up</td>\n",
       "      <td>inside</td>\n",
       "      <td>up</td>\n",
       "      <td>outside</td>\n",
       "      <td>down</td>\n",
       "      <td>up</td>\n",
       "      <td>up</td>\n",
       "    </tr>\n",
       "    <tr>\n",
       "      <th>35</th>\n",
       "      <td>down</td>\n",
       "      <td>up</td>\n",
       "      <td>down</td>\n",
       "      <td>up</td>\n",
       "      <td>down</td>\n",
       "      <td>down</td>\n",
       "      <td>up</td>\n",
       "      <td>up</td>\n",
       "      <td>up</td>\n",
       "      <td>inside</td>\n",
       "      <td>...</td>\n",
       "      <td>inside</td>\n",
       "      <td>outside</td>\n",
       "      <td>down</td>\n",
       "      <td>down</td>\n",
       "      <td>up</td>\n",
       "      <td>inside</td>\n",
       "      <td>up</td>\n",
       "      <td>outside</td>\n",
       "      <td>down</td>\n",
       "      <td>up</td>\n",
       "    </tr>\n",
       "    <tr>\n",
       "      <th>36</th>\n",
       "      <td>down</td>\n",
       "      <td>down</td>\n",
       "      <td>up</td>\n",
       "      <td>down</td>\n",
       "      <td>up</td>\n",
       "      <td>down</td>\n",
       "      <td>down</td>\n",
       "      <td>up</td>\n",
       "      <td>up</td>\n",
       "      <td>up</td>\n",
       "      <td>...</td>\n",
       "      <td>outside</td>\n",
       "      <td>inside</td>\n",
       "      <td>outside</td>\n",
       "      <td>down</td>\n",
       "      <td>down</td>\n",
       "      <td>up</td>\n",
       "      <td>inside</td>\n",
       "      <td>up</td>\n",
       "      <td>outside</td>\n",
       "      <td>down</td>\n",
       "    </tr>\n",
       "    <tr>\n",
       "      <th>...</th>\n",
       "      <td>...</td>\n",
       "      <td>...</td>\n",
       "      <td>...</td>\n",
       "      <td>...</td>\n",
       "      <td>...</td>\n",
       "      <td>...</td>\n",
       "      <td>...</td>\n",
       "      <td>...</td>\n",
       "      <td>...</td>\n",
       "      <td>...</td>\n",
       "      <td>...</td>\n",
       "      <td>...</td>\n",
       "      <td>...</td>\n",
       "      <td>...</td>\n",
       "      <td>...</td>\n",
       "      <td>...</td>\n",
       "      <td>...</td>\n",
       "      <td>...</td>\n",
       "      <td>...</td>\n",
       "      <td>...</td>\n",
       "      <td>...</td>\n",
       "    </tr>\n",
       "    <tr>\n",
       "      <th>271</th>\n",
       "      <td>up</td>\n",
       "      <td>up</td>\n",
       "      <td>up</td>\n",
       "      <td>down</td>\n",
       "      <td>outside</td>\n",
       "      <td>up</td>\n",
       "      <td>up</td>\n",
       "      <td>down</td>\n",
       "      <td>inside</td>\n",
       "      <td>up</td>\n",
       "      <td>...</td>\n",
       "      <td>up</td>\n",
       "      <td>down</td>\n",
       "      <td>up</td>\n",
       "      <td>down</td>\n",
       "      <td>down</td>\n",
       "      <td>down</td>\n",
       "      <td>down</td>\n",
       "      <td>up</td>\n",
       "      <td>up</td>\n",
       "      <td>down</td>\n",
       "    </tr>\n",
       "    <tr>\n",
       "      <th>272</th>\n",
       "      <td>up</td>\n",
       "      <td>up</td>\n",
       "      <td>up</td>\n",
       "      <td>up</td>\n",
       "      <td>down</td>\n",
       "      <td>outside</td>\n",
       "      <td>up</td>\n",
       "      <td>up</td>\n",
       "      <td>down</td>\n",
       "      <td>inside</td>\n",
       "      <td>...</td>\n",
       "      <td>inside</td>\n",
       "      <td>up</td>\n",
       "      <td>down</td>\n",
       "      <td>up</td>\n",
       "      <td>down</td>\n",
       "      <td>down</td>\n",
       "      <td>down</td>\n",
       "      <td>down</td>\n",
       "      <td>up</td>\n",
       "      <td>up</td>\n",
       "    </tr>\n",
       "    <tr>\n",
       "      <th>273</th>\n",
       "      <td>down</td>\n",
       "      <td>inside</td>\n",
       "      <td>up</td>\n",
       "      <td>up</td>\n",
       "      <td>up</td>\n",
       "      <td>down</td>\n",
       "      <td>outside</td>\n",
       "      <td>up</td>\n",
       "      <td>up</td>\n",
       "      <td>down</td>\n",
       "      <td>...</td>\n",
       "      <td>down</td>\n",
       "      <td>inside</td>\n",
       "      <td>up</td>\n",
       "      <td>down</td>\n",
       "      <td>up</td>\n",
       "      <td>down</td>\n",
       "      <td>down</td>\n",
       "      <td>down</td>\n",
       "      <td>down</td>\n",
       "      <td>up</td>\n",
       "    </tr>\n",
       "    <tr>\n",
       "      <th>274</th>\n",
       "      <td>down</td>\n",
       "      <td>down</td>\n",
       "      <td>inside</td>\n",
       "      <td>up</td>\n",
       "      <td>up</td>\n",
       "      <td>up</td>\n",
       "      <td>down</td>\n",
       "      <td>outside</td>\n",
       "      <td>up</td>\n",
       "      <td>up</td>\n",
       "      <td>...</td>\n",
       "      <td>down</td>\n",
       "      <td>down</td>\n",
       "      <td>inside</td>\n",
       "      <td>up</td>\n",
       "      <td>down</td>\n",
       "      <td>up</td>\n",
       "      <td>down</td>\n",
       "      <td>down</td>\n",
       "      <td>down</td>\n",
       "      <td>down</td>\n",
       "    </tr>\n",
       "    <tr>\n",
       "      <th>275</th>\n",
       "      <td>down</td>\n",
       "      <td>down</td>\n",
       "      <td>down</td>\n",
       "      <td>inside</td>\n",
       "      <td>up</td>\n",
       "      <td>up</td>\n",
       "      <td>up</td>\n",
       "      <td>down</td>\n",
       "      <td>outside</td>\n",
       "      <td>up</td>\n",
       "      <td>...</td>\n",
       "      <td>down</td>\n",
       "      <td>down</td>\n",
       "      <td>down</td>\n",
       "      <td>inside</td>\n",
       "      <td>up</td>\n",
       "      <td>down</td>\n",
       "      <td>up</td>\n",
       "      <td>down</td>\n",
       "      <td>down</td>\n",
       "      <td>down</td>\n",
       "    </tr>\n",
       "  </tbody>\n",
       "</table>\n",
       "<p>244 rows × 32 columns</p>\n",
       "</div>"
      ],
      "text/plain": [
       "    daydir daytype daytype_lag_1 daytype_lag_2 daytype_lag_3 daytype_lag_4  \\\n",
       "32      up    down          down            up            up            up   \n",
       "33      up      up          down          down            up            up   \n",
       "34      up    down            up          down          down            up   \n",
       "35    down      up          down            up          down          down   \n",
       "36    down    down            up          down            up          down   \n",
       "..     ...     ...           ...           ...           ...           ...   \n",
       "271     up      up            up          down       outside            up   \n",
       "272     up      up            up            up          down       outside   \n",
       "273   down  inside            up            up            up          down   \n",
       "274   down    down        inside            up            up            up   \n",
       "275   down    down          down        inside            up            up   \n",
       "\n",
       "    daytype_lag_5 daytype_lag_6 daytype_lag_7 daytype_lag_8  ...  \\\n",
       "32         inside       outside            up        inside  ...   \n",
       "33             up        inside       outside            up  ...   \n",
       "34             up            up        inside       outside  ...   \n",
       "35             up            up            up        inside  ...   \n",
       "36           down            up            up            up  ...   \n",
       "..            ...           ...           ...           ...  ...   \n",
       "271            up          down        inside            up  ...   \n",
       "272            up            up          down        inside  ...   \n",
       "273       outside            up            up          down  ...   \n",
       "274          down       outside            up            up  ...   \n",
       "275            up          down       outside            up  ...   \n",
       "\n",
       "    daytype_lag_21 daytype_lag_22 daytype_lag_23 daytype_lag_24  \\\n",
       "32            down             up         inside             up   \n",
       "33            down           down             up         inside   \n",
       "34         outside           down           down             up   \n",
       "35          inside        outside           down           down   \n",
       "36         outside         inside        outside           down   \n",
       "..             ...            ...            ...            ...   \n",
       "271             up           down             up           down   \n",
       "272         inside             up           down             up   \n",
       "273           down         inside             up           down   \n",
       "274           down           down         inside             up   \n",
       "275           down           down           down         inside   \n",
       "\n",
       "    daytype_lag_25 daytype_lag_26 daytype_lag_27 daytype_lag_28  \\\n",
       "32         outside           down             up             up   \n",
       "33              up        outside           down             up   \n",
       "34          inside             up        outside           down   \n",
       "35              up         inside             up        outside   \n",
       "36            down             up         inside             up   \n",
       "..             ...            ...            ...            ...   \n",
       "271           down           down           down             up   \n",
       "272           down           down           down           down   \n",
       "273             up           down           down           down   \n",
       "274           down             up           down           down   \n",
       "275             up           down             up           down   \n",
       "\n",
       "    daytype_lag_29 daytype_lag_30  \n",
       "32              up             up  \n",
       "33              up             up  \n",
       "34              up             up  \n",
       "35            down             up  \n",
       "36         outside           down  \n",
       "..             ...            ...  \n",
       "271             up           down  \n",
       "272             up             up  \n",
       "273           down             up  \n",
       "274           down           down  \n",
       "275           down           down  \n",
       "\n",
       "[244 rows x 32 columns]"
      ]
     },
     "execution_count": 50,
     "metadata": {},
     "output_type": "execute_result"
    }
   ],
   "source": []
  },
  {
   "cell_type": "code",
   "execution_count": 51,
   "id": "d1f00412",
   "metadata": {
    "collapsed": false
   },
   "outputs": [
    {
     "data": {
      "text/plain": [
       "array([[0, 0, 0, ..., 0, 0, 1],\n",
       "       [0, 0, 1, ..., 0, 0, 0],\n",
       "       [0, 1, 0, ..., 0, 1, 0],\n",
       "       ...,\n",
       "       [0, 0, 0, ..., 0, 0, 0],\n",
       "       [0, 0, 0, ..., 0, 0, 0],\n",
       "       [0, 0, 1, ..., 0, 0, 1]], dtype=uint8)"
      ]
     },
     "execution_count": 51,
     "metadata": {},
     "output_type": "execute_result"
    }
   ],
   "source": [
    "X"
   ]
  },
  {
   "cell_type": "code",
   "execution_count": null,
   "id": "dbf1fb0c",
   "metadata": {
    "collapsed": false
   },
   "outputs": [],
   "source": []
  }
 ],
 "metadata": {
  "kernelspec": {
   "argv": [
    "/home/wit/miniconda3/bin/python",
    "-m",
    "ipykernel_launcher",
    "-f",
    "{connection_file}"
   ],
   "display_name": "Python 3 (ipykernel)",
   "env": null,
   "interrupt_mode": "signal",
   "language": "python",
   "metadata": {
    "debugger": true
   },
   "name": "python3"
  },
  "name": "gannswing.ipynb"
 },
 "nbformat": 4,
 "nbformat_minor": 5
}
