{
 "cells": [
  {
   "cell_type": "markdown",
   "id": "81dcdfa6",
   "metadata": {
    "collapsed": false
   },
   "source": [
    "# Udowodniliśmy już skuteczność ibdir w przewidywaniu kierunku dnia\n",
    "# Przetestujmy kilka lagów"
   ]
  },
  {
   "cell_type": "code",
   "execution_count": 147,
   "id": "109548d2",
   "metadata": {
    "collapsed": false
   },
   "outputs": [],
   "source": [
    "import pandas as pd\n",
    "import numpy as np\n",
    "from sklearn.model_selection import train_test_split\n",
    "from sklearn.metrics import accuracy_score\n",
    "from sklearn.tree import DecisionTreeClassifier\n",
    "from scipy.stats import chi2_contingency\n",
    "from sklearn.preprocessing import LabelEncoder\n",
    "from sklearn.linear_model import LogisticRegression"
   ]
  },
  {
   "cell_type": "code",
   "execution_count": 88,
   "id": "505aa18d",
   "metadata": {
    "collapsed": false
   },
   "outputs": [],
   "source": [
    "data = pd.read_csv(\"./data/dax-data.csv\", parse_dates=[\"date\"])"
   ]
  },
  {
   "cell_type": "code",
   "execution_count": 104,
   "id": "828bd5ea",
   "metadata": {
    "collapsed": false
   },
   "outputs": [],
   "source": [
    "useful = data[[\"ibdir\", \"daydir\"]]"
   ]
  },
  {
   "cell_type": "code",
   "execution_count": 105,
   "id": "10a70df6",
   "metadata": {
    "collapsed": false
   },
   "outputs": [],
   "source": [
    "data.drop(data.columns[0], axis=1, inplace=True)"
   ]
  },
  {
   "cell_type": "code",
   "execution_count": 106,
   "id": "7c82fa2e",
   "metadata": {
    "collapsed": false
   },
   "outputs": [],
   "source": [
    "def get_lags(df, c, n):\n",
    "    for i in range(1, n+1):\n",
    "        df[c + \"_lag\" + str(i)] = df[c].shift(i)"
   ]
  },
  {
   "cell_type": "code",
   "execution_count": 118,
   "id": "eb762be1",
   "metadata": {
    "collapsed": false
   },
   "outputs": [],
   "source": [
    "cp = useful.copy()"
   ]
  },
  {
   "cell_type": "markdown",
   "id": "6316c9a9",
   "metadata": {
    "collapsed": false
   },
   "source": [
    "20 :  (4.230350062338483, 0.03970725018936988, 1, array([[37.27840909, 43.72159091],\n",
    "       [43.72159091, 51.27840909]]))\n",
    "26 :  (4.940541477149667, 0.02623381706899631, 1, array([[36.81818182, 43.18181818],\n",
    "       [44.18181818, 51.81818182]]))\n",
    "43 :  (6.1291125843133525, 0.01329735988765126, 1, array([[36.35795455, 42.64204545],\n",
    "       [44.64204545, 52.35795455]]))\n",
    "52 :  (5.3566786318666, 0.020643052934754907, 1, array([[35.89772727, 42.10227273],\n",
    "       [45.10227273, 52.89772727]]))\n",
    "75 :  (8.009963179553825, 0.004652068355752017, 1, array([[36.81818182, 43.18181818],\n",
    "       [44.18181818, 51.81818182]]))\n"
   ]
  },
  {
   "cell_type": "code",
   "execution_count": 122,
   "id": "b708ab55",
   "metadata": {
    "collapsed": false
   },
   "outputs": [],
   "source": [
    "cp[\"daydir_lag_20\"] = cp.daydir.shift(20)\n",
    "cp[\"daydir_lag_26\"] = cp.daydir.shift(26)\n",
    "cp = cp.dropna()"
   ]
  },
  {
   "cell_type": "code",
   "execution_count": 129,
   "id": "65de3a50",
   "metadata": {
    "collapsed": false
   },
   "outputs": [],
   "source": [
    "X = cp.drop(\"daydir\", axis=1)\n",
    "X = pd.get_dummies(X)\n",
    "y = cp[\"daydir\"]\n",
    "encoder = LabelEncoder()\n",
    "y = encoder.fit_transform(y)"
   ]
  },
  {
   "cell_type": "code",
   "execution_count": 150,
   "id": "47ffe3dc",
   "metadata": {
    "collapsed": false
   },
   "outputs": [],
   "source": [
    "X_train, X_test, y_train, y_test = train_test_split(X,y,test_size=0.8)"
   ]
  },
  {
   "cell_type": "code",
   "execution_count": 151,
   "id": "4f3e4447",
   "metadata": {
    "collapsed": false
   },
   "outputs": [
    {
     "data": {
      "text/plain": [
       "0.7"
      ]
     },
     "execution_count": 151,
     "metadata": {},
     "output_type": "execute_result"
    }
   ],
   "source": [
    "clf = DecisionTreeClassifier()\n",
    "clf.fit(X_train, y_train)\n",
    "accuracy_score(clf.predict(X_train), y_train)"
   ]
  },
  {
   "cell_type": "code",
   "execution_count": 152,
   "id": "ce540085",
   "metadata": {
    "collapsed": false
   },
   "outputs": [
    {
     "data": {
      "text/plain": [
       "0.615"
      ]
     },
     "execution_count": 152,
     "metadata": {},
     "output_type": "execute_result"
    }
   ],
   "source": [
    "accuracy_score(clf.predict(X_test), y_test)"
   ]
  },
  {
   "cell_type": "code",
   "execution_count": 153,
   "id": "5466c2bc",
   "metadata": {
    "collapsed": false
   },
   "outputs": [
    {
     "data": {
      "text/plain": [
       "0.66"
      ]
     },
     "execution_count": 153,
     "metadata": {},
     "output_type": "execute_result"
    }
   ],
   "source": [
    "lr = LogisticRegression()\n",
    "lr.fit(X_train, y_train)\n",
    "accuracy_score(lr.predict(X_train), y_train)"
   ]
  },
  {
   "cell_type": "code",
   "execution_count": 154,
   "id": "6ffd8e9f",
   "metadata": {
    "collapsed": false
   },
   "outputs": [
    {
     "data": {
      "text/plain": [
       "0.665"
      ]
     },
     "execution_count": 154,
     "metadata": {},
     "output_type": "execute_result"
    }
   ],
   "source": [
    "accuracy_score(lr.predict(X_test), y_test)"
   ]
  }
 ],
 "metadata": {
  "kernelspec": {
   "argv": [
    "/home/wit/miniconda3/bin/python",
    "-m",
    "ipykernel_launcher",
    "-f",
    "{connection_file}"
   ],
   "display_name": "Python 3 (ipykernel)",
   "env": null,
   "interrupt_mode": "signal",
   "language": "python",
   "metadata": {
    "debugger": true
   },
   "name": "python3"
  },
  "name": "ibmisc.ipynb"
 },
 "nbformat": 4,
 "nbformat_minor": 5
}
