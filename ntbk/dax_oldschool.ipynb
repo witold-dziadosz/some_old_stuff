{
 "cells": [
  {
   "cell_type": "code",
   "execution_count": 1,
   "id": "b1b5e238",
   "metadata": {
    "collapsed": false
   },
   "outputs": [
    {
     "name": "stderr",
     "output_type": "stream",
     "text": [
      "/home/wit/miniconda3/lib/python3.10/site-packages/xgboost/compat.py:36: FutureWarning: pandas.Int64Index is deprecated and will be removed from pandas in a future version. Use pandas.Index with the appropriate dtype instead.\n",
      "  from pandas import MultiIndex, Int64Index\n"
     ]
    }
   ],
   "source": [
    "import pandas as pd\n",
    "from sklearn.model_selection import train_test_split\n",
    "from sklearn.preprocessing import LabelEncoder\n",
    "from sklearn.metrics import accuracy_score\n",
    "from sklearn.linear_model import LogisticRegression\n",
    "from sklearn.tree import DecisionTreeClassifier\n",
    "from sklearn.ensemble import RandomForestClassifier\n",
    "from xgboost import XGBClassifier"
   ]
  },
  {
   "cell_type": "code",
   "execution_count": 2,
   "id": "8d03d956",
   "metadata": {
    "collapsed": false
   },
   "outputs": [],
   "source": [
    "dax = pd.read_csv(\"./data/trade/dax_01_dir_daytype.csv\", parse_dates=[\"date\"])"
   ]
  },
  {
   "cell_type": "code",
   "execution_count": 5,
   "id": "413c9e98",
   "metadata": {
    "collapsed": false
   },
   "outputs": [],
   "source": [
    "cp = dax[[\"ibdir\", \"daydir\"]].copy()"
   ]
  },
  {
   "cell_type": "code",
   "execution_count": 19,
   "id": "2dc2c681",
   "metadata": {
    "collapsed": false
   },
   "outputs": [],
   "source": [
    "X_ = cp.ibdir\n",
    "y_ = cp.daydir\n",
    "encoder = LabelEncoder()\n",
    "X = pd.get_dummies(X_)\n",
    "y = encoder.fit_transform(y_)\n",
    "\n",
    "X_train, X_test, y_train, y_test = train_test_split(X, y, train_size=0.8)\n"
   ]
  },
  {
   "cell_type": "code",
   "execution_count": 20,
   "id": "9df370d4",
   "metadata": {
    "collapsed": false
   },
   "outputs": [],
   "source": [
    "class Fitter:\n",
    "    def __init__(self, X_train, y_train, X_test, y_test):\n",
    "        self.X_train = X_train\n",
    "        self.y_train = y_train\n",
    "        self.X_test = X_test\n",
    "        self.y_test = y_test\n",
    "        \n",
    "    def fit_model(self, m):\n",
    "        ret = dict()\n",
    "        m.fit(self.X_train, self.y_train)\n",
    "        ret[\"train_acc\"] = accuracy_score(m.predict(self.X_train), self.y_train)\n",
    "        ret[\"test_acc\"] = accuracy_score(m.predict(self.X_test),self.y_test)\n",
    "        return (m, ret)\n"
   ]
  },
  {
   "cell_type": "code",
   "execution_count": 21,
   "id": "c14779b9",
   "metadata": {
    "collapsed": false
   },
   "outputs": [],
   "source": [
    "f = Fitter(X_train, y_train, X_test, y_test)"
   ]
  },
  {
   "cell_type": "code",
   "execution_count": 22,
   "id": "6b84d5d1",
   "metadata": {
    "collapsed": false
   },
   "outputs": [
    {
     "data": {
      "text/plain": [
       "(LogisticRegression(), {'train_acc': 0.6717171717171717, 'test_acc': 0.76})"
      ]
     },
     "execution_count": 22,
     "metadata": {},
     "output_type": "execute_result"
    }
   ],
   "source": [
    "f.fit_model(LogisticRegression())"
   ]
  },
  {
   "cell_type": "code",
   "execution_count": 23,
   "id": "6b242713",
   "metadata": {
    "collapsed": false
   },
   "outputs": [
    {
     "data": {
      "text/plain": [
       "(DecisionTreeClassifier(), {'train_acc': 0.6717171717171717, 'test_acc': 0.76})"
      ]
     },
     "execution_count": 23,
     "metadata": {},
     "output_type": "execute_result"
    }
   ],
   "source": [
    "f.fit_model(DecisionTreeClassifier())"
   ]
  },
  {
   "cell_type": "code",
   "execution_count": 24,
   "id": "a5c5b957",
   "metadata": {
    "collapsed": false
   },
   "outputs": [],
   "source": [
    "lr = f.fit_model(LogisticRegression())[0]"
   ]
  },
  {
   "cell_type": "code",
   "execution_count": 85,
   "id": "4b7bad2f",
   "metadata": {
    "collapsed": false
   },
   "outputs": [],
   "source": [
    "def prepare(da, sess_start, ib_end, sess_end):\n",
    "    # Daily data\n",
    "    d = da.copy()\n",
    "    d.reset_index(inplace=True)\n",
    "    d[\"date\"] = d.datetime.dt.date\n",
    "    open = d[d.datetime.dt.time == sess_start].open\n",
    "    ibc = d[d.datetime.dt.time == ib_end].close\n",
    "    df = pd.DataFrame((open, ibc), index=d.index,columns=[\"open\", \"ibc\"])\n",
    "    \n",
    "    \n",
    "    return df"
   ]
  },
  {
   "cell_type": "code",
   "execution_count": 86,
   "id": "4bfac308",
   "metadata": {
    "collapsed": false
   },
   "outputs": [],
   "source": [
    "from tvDatafeed import TvDatafeed, Interval\n",
    "from datetime import time"
   ]
  },
  {
   "cell_type": "code",
   "execution_count": 87,
   "id": "41301d72",
   "metadata": {
    "collapsed": false
   },
   "outputs": [
    {
     "name": "stderr",
     "output_type": "stream",
     "text": [
      "WARNING:tvDatafeed.main:you are using nologin method, data you access may be limited\n"
     ]
    }
   ],
   "source": [
    "tv = TvDatafeed()\n",
    "last_10_bars = tv.get_hist(\"DAX\", \"XETR\", Interval.in_30_minute, 18 * 10)\n",
    "data = last_10_bars"
   ]
  },
  {
   "cell_type": "code",
   "execution_count": 88,
   "id": "2727046a",
   "metadata": {
    "collapsed": false
   },
   "outputs": [
    {
     "ename": "ValueError",
     "evalue": "Length of values (2) does not match length of index (180)",
     "output_type": "error",
     "traceback": [
      "\u001b[0;31m---------------------------------------------------------------------------\u001b[0m",
      "\u001b[0;31mValueError\u001b[0m                                Traceback (most recent call last)",
      "Input \u001b[0;32mIn [88]\u001b[0m, in \u001b[0;36m<cell line: 1>\u001b[0;34m()\u001b[0m\n\u001b[0;32m----> 1\u001b[0m \u001b[43mprepare\u001b[49m\u001b[43m(\u001b[49m\u001b[43mdata\u001b[49m\u001b[43m,\u001b[49m\u001b[43m \u001b[49m\u001b[43mtime\u001b[49m\u001b[43m(\u001b[49m\u001b[38;5;241;43m9\u001b[39;49m\u001b[43m,\u001b[49m\u001b[38;5;241;43m0\u001b[39;49m\u001b[43m)\u001b[49m\u001b[43m,\u001b[49m\u001b[43m \u001b[49m\u001b[43mtime\u001b[49m\u001b[43m(\u001b[49m\u001b[38;5;241;43m10\u001b[39;49m\u001b[43m,\u001b[49m\u001b[38;5;241;43m0\u001b[39;49m\u001b[43m)\u001b[49m\u001b[43m,\u001b[49m\u001b[43m \u001b[49m\u001b[43mtime\u001b[49m\u001b[43m(\u001b[49m\u001b[38;5;241;43m17\u001b[39;49m\u001b[43m,\u001b[49m\u001b[43m \u001b[49m\u001b[38;5;241;43m30\u001b[39;49m\u001b[43m)\u001b[49m\u001b[43m)\u001b[49m\n",
      "Input \u001b[0;32mIn [85]\u001b[0m, in \u001b[0;36mprepare\u001b[0;34m(da, sess_start, ib_end, sess_end)\u001b[0m\n\u001b[1;32m      6\u001b[0m \u001b[38;5;28mopen\u001b[39m \u001b[38;5;241m=\u001b[39m d[d\u001b[38;5;241m.\u001b[39mdatetime\u001b[38;5;241m.\u001b[39mdt\u001b[38;5;241m.\u001b[39mtime \u001b[38;5;241m==\u001b[39m sess_start]\u001b[38;5;241m.\u001b[39mopen\n\u001b[1;32m      7\u001b[0m ibc \u001b[38;5;241m=\u001b[39m d[d\u001b[38;5;241m.\u001b[39mdatetime\u001b[38;5;241m.\u001b[39mdt\u001b[38;5;241m.\u001b[39mtime \u001b[38;5;241m==\u001b[39m ib_end]\u001b[38;5;241m.\u001b[39mclose\n\u001b[0;32m----> 8\u001b[0m df \u001b[38;5;241m=\u001b[39m \u001b[43mpd\u001b[49m\u001b[38;5;241;43m.\u001b[39;49m\u001b[43mDataFrame\u001b[49m\u001b[43m(\u001b[49m\u001b[43m(\u001b[49m\u001b[38;5;28;43mopen\u001b[39;49m\u001b[43m,\u001b[49m\u001b[43m \u001b[49m\u001b[43mibc\u001b[49m\u001b[43m)\u001b[49m\u001b[43m,\u001b[49m\u001b[43m \u001b[49m\u001b[43mindex\u001b[49m\u001b[38;5;241;43m=\u001b[39;49m\u001b[43md\u001b[49m\u001b[38;5;241;43m.\u001b[39;49m\u001b[43mindex\u001b[49m\u001b[43m,\u001b[49m\u001b[43mcolumns\u001b[49m\u001b[38;5;241;43m=\u001b[39;49m\u001b[43m[\u001b[49m\u001b[38;5;124;43m\"\u001b[39;49m\u001b[38;5;124;43mopen\u001b[39;49m\u001b[38;5;124;43m\"\u001b[39;49m\u001b[43m,\u001b[49m\u001b[43m \u001b[49m\u001b[38;5;124;43m\"\u001b[39;49m\u001b[38;5;124;43mibc\u001b[39;49m\u001b[38;5;124;43m\"\u001b[39;49m\u001b[43m]\u001b[49m\u001b[43m)\u001b[49m\n\u001b[1;32m     11\u001b[0m \u001b[38;5;28;01mreturn\u001b[39;00m df\n",
      "File \u001b[0;32m~/miniconda3/lib/python3.10/site-packages/pandas/core/frame.py:729\u001b[0m, in \u001b[0;36mDataFrame.__init__\u001b[0;34m(self, data, index, columns, dtype, copy)\u001b[0m\n\u001b[1;32m    720\u001b[0m         columns \u001b[38;5;241m=\u001b[39m ensure_index(columns)  \u001b[38;5;66;03m# type: ignore[arg-type]\u001b[39;00m\n\u001b[1;32m    721\u001b[0m     arrays, columns, index \u001b[38;5;241m=\u001b[39m nested_data_to_arrays(\n\u001b[1;32m    722\u001b[0m         \u001b[38;5;66;03m# error: Argument 3 to \"nested_data_to_arrays\" has incompatible\u001b[39;00m\n\u001b[1;32m    723\u001b[0m         \u001b[38;5;66;03m# type \"Optional[Collection[Any]]\"; expected \"Optional[Index]\"\u001b[39;00m\n\u001b[0;32m   (...)\u001b[0m\n\u001b[1;32m    727\u001b[0m         dtype,\n\u001b[1;32m    728\u001b[0m     )\n\u001b[0;32m--> 729\u001b[0m     mgr \u001b[38;5;241m=\u001b[39m \u001b[43marrays_to_mgr\u001b[49m\u001b[43m(\u001b[49m\n\u001b[1;32m    730\u001b[0m \u001b[43m        \u001b[49m\u001b[43marrays\u001b[49m\u001b[43m,\u001b[49m\n\u001b[1;32m    731\u001b[0m \u001b[43m        \u001b[49m\u001b[43mcolumns\u001b[49m\u001b[43m,\u001b[49m\n\u001b[1;32m    732\u001b[0m \u001b[43m        \u001b[49m\u001b[43mindex\u001b[49m\u001b[43m,\u001b[49m\n\u001b[1;32m    733\u001b[0m \u001b[43m        \u001b[49m\u001b[43mdtype\u001b[49m\u001b[38;5;241;43m=\u001b[39;49m\u001b[43mdtype\u001b[49m\u001b[43m,\u001b[49m\n\u001b[1;32m    734\u001b[0m \u001b[43m        \u001b[49m\u001b[43mtyp\u001b[49m\u001b[38;5;241;43m=\u001b[39;49m\u001b[43mmanager\u001b[49m\u001b[43m,\u001b[49m\n\u001b[1;32m    735\u001b[0m \u001b[43m    \u001b[49m\u001b[43m)\u001b[49m\n\u001b[1;32m    736\u001b[0m \u001b[38;5;28;01melse\u001b[39;00m:\n\u001b[1;32m    737\u001b[0m     mgr \u001b[38;5;241m=\u001b[39m ndarray_to_mgr(\n\u001b[1;32m    738\u001b[0m         data,\n\u001b[1;32m    739\u001b[0m         index,\n\u001b[0;32m   (...)\u001b[0m\n\u001b[1;32m    743\u001b[0m         typ\u001b[38;5;241m=\u001b[39mmanager,\n\u001b[1;32m    744\u001b[0m     )\n",
      "File \u001b[0;32m~/miniconda3/lib/python3.10/site-packages/pandas/core/internals/construction.py:125\u001b[0m, in \u001b[0;36marrays_to_mgr\u001b[0;34m(arrays, columns, index, dtype, verify_integrity, typ, consolidate)\u001b[0m\n\u001b[1;32m    122\u001b[0m         index \u001b[38;5;241m=\u001b[39m ensure_index(index)\n\u001b[1;32m    124\u001b[0m     \u001b[38;5;66;03m# don't force copy because getting jammed in an ndarray anyway\u001b[39;00m\n\u001b[0;32m--> 125\u001b[0m     arrays \u001b[38;5;241m=\u001b[39m \u001b[43m_homogenize\u001b[49m\u001b[43m(\u001b[49m\u001b[43marrays\u001b[49m\u001b[43m,\u001b[49m\u001b[43m \u001b[49m\u001b[43mindex\u001b[49m\u001b[43m,\u001b[49m\u001b[43m \u001b[49m\u001b[43mdtype\u001b[49m\u001b[43m)\u001b[49m\n\u001b[1;32m    126\u001b[0m     \u001b[38;5;66;03m# _homogenize ensures\u001b[39;00m\n\u001b[1;32m    127\u001b[0m     \u001b[38;5;66;03m#  - all(len(x) == len(index) for x in arrays)\u001b[39;00m\n\u001b[1;32m    128\u001b[0m     \u001b[38;5;66;03m#  - all(x.ndim == 1 for x in arrays)\u001b[39;00m\n\u001b[0;32m   (...)\u001b[0m\n\u001b[1;32m    131\u001b[0m \n\u001b[1;32m    132\u001b[0m \u001b[38;5;28;01melse\u001b[39;00m:\n\u001b[1;32m    133\u001b[0m     index \u001b[38;5;241m=\u001b[39m ensure_index(index)\n",
      "File \u001b[0;32m~/miniconda3/lib/python3.10/site-packages/pandas/core/internals/construction.py:628\u001b[0m, in \u001b[0;36m_homogenize\u001b[0;34m(data, index, dtype)\u001b[0m\n\u001b[1;32m    623\u001b[0m             val \u001b[38;5;241m=\u001b[39m lib\u001b[38;5;241m.\u001b[39mfast_multiget(val, oindex\u001b[38;5;241m.\u001b[39m_values, default\u001b[38;5;241m=\u001b[39mnp\u001b[38;5;241m.\u001b[39mnan)\n\u001b[1;32m    625\u001b[0m         val \u001b[38;5;241m=\u001b[39m sanitize_array(\n\u001b[1;32m    626\u001b[0m             val, index, dtype\u001b[38;5;241m=\u001b[39mdtype, copy\u001b[38;5;241m=\u001b[39m\u001b[38;5;28;01mFalse\u001b[39;00m, raise_cast_failure\u001b[38;5;241m=\u001b[39m\u001b[38;5;28;01mFalse\u001b[39;00m\n\u001b[1;32m    627\u001b[0m         )\n\u001b[0;32m--> 628\u001b[0m         \u001b[43mcom\u001b[49m\u001b[38;5;241;43m.\u001b[39;49m\u001b[43mrequire_length_match\u001b[49m\u001b[43m(\u001b[49m\u001b[43mval\u001b[49m\u001b[43m,\u001b[49m\u001b[43m \u001b[49m\u001b[43mindex\u001b[49m\u001b[43m)\u001b[49m\n\u001b[1;32m    630\u001b[0m     homogenized\u001b[38;5;241m.\u001b[39mappend(val)\n\u001b[1;32m    632\u001b[0m \u001b[38;5;28;01mreturn\u001b[39;00m homogenized\n",
      "File \u001b[0;32m~/miniconda3/lib/python3.10/site-packages/pandas/core/common.py:557\u001b[0m, in \u001b[0;36mrequire_length_match\u001b[0;34m(data, index)\u001b[0m\n\u001b[1;32m    553\u001b[0m \u001b[38;5;124;03m\"\"\"\u001b[39;00m\n\u001b[1;32m    554\u001b[0m \u001b[38;5;124;03mCheck the length of data matches the length of the index.\u001b[39;00m\n\u001b[1;32m    555\u001b[0m \u001b[38;5;124;03m\"\"\"\u001b[39;00m\n\u001b[1;32m    556\u001b[0m \u001b[38;5;28;01mif\u001b[39;00m \u001b[38;5;28mlen\u001b[39m(data) \u001b[38;5;241m!=\u001b[39m \u001b[38;5;28mlen\u001b[39m(index):\n\u001b[0;32m--> 557\u001b[0m     \u001b[38;5;28;01mraise\u001b[39;00m \u001b[38;5;167;01mValueError\u001b[39;00m(\n\u001b[1;32m    558\u001b[0m         \u001b[38;5;124m\"\u001b[39m\u001b[38;5;124mLength of values \u001b[39m\u001b[38;5;124m\"\u001b[39m\n\u001b[1;32m    559\u001b[0m         \u001b[38;5;124mf\u001b[39m\u001b[38;5;124m\"\u001b[39m\u001b[38;5;124m(\u001b[39m\u001b[38;5;132;01m{\u001b[39;00m\u001b[38;5;28mlen\u001b[39m(data)\u001b[38;5;132;01m}\u001b[39;00m\u001b[38;5;124m) \u001b[39m\u001b[38;5;124m\"\u001b[39m\n\u001b[1;32m    560\u001b[0m         \u001b[38;5;124m\"\u001b[39m\u001b[38;5;124mdoes not match length of index \u001b[39m\u001b[38;5;124m\"\u001b[39m\n\u001b[1;32m    561\u001b[0m         \u001b[38;5;124mf\u001b[39m\u001b[38;5;124m\"\u001b[39m\u001b[38;5;124m(\u001b[39m\u001b[38;5;132;01m{\u001b[39;00m\u001b[38;5;28mlen\u001b[39m(index)\u001b[38;5;132;01m}\u001b[39;00m\u001b[38;5;124m)\u001b[39m\u001b[38;5;124m\"\u001b[39m\n\u001b[1;32m    562\u001b[0m     )\n",
      "\u001b[0;31mValueError\u001b[0m: Length of values (2) does not match length of index (180)"
     ]
    }
   ],
   "source": [
    "prepare(data, time(9,0), time(10,0), time(17, 30))"
   ]
  },
  {
   "cell_type": "code",
   "execution_count": 60,
   "id": "43b507c6",
   "metadata": {
    "collapsed": false
   },
   "outputs": [
    {
     "data": {
      "text/html": [
       "<div>\n",
       "<style scoped>\n",
       "    .dataframe tbody tr th:only-of-type {\n",
       "        vertical-align: middle;\n",
       "    }\n",
       "\n",
       "    .dataframe tbody tr th {\n",
       "        vertical-align: top;\n",
       "    }\n",
       "\n",
       "    .dataframe thead th {\n",
       "        text-align: right;\n",
       "    }\n",
       "</style>\n",
       "<table border=\"1\" class=\"dataframe\">\n",
       "  <thead>\n",
       "    <tr style=\"text-align: right;\">\n",
       "      <th></th>\n",
       "      <th>symbol</th>\n",
       "      <th>open</th>\n",
       "      <th>high</th>\n",
       "      <th>low</th>\n",
       "      <th>close</th>\n",
       "      <th>volume</th>\n",
       "    </tr>\n",
       "    <tr>\n",
       "      <th>datetime</th>\n",
       "      <th></th>\n",
       "      <th></th>\n",
       "      <th></th>\n",
       "      <th></th>\n",
       "      <th></th>\n",
       "      <th></th>\n",
       "    </tr>\n",
       "  </thead>\n",
       "  <tbody>\n",
       "    <tr>\n",
       "      <th>2022-03-23 09:00:00</th>\n",
       "      <td>XETR:DAX</td>\n",
       "      <td>14532.84</td>\n",
       "      <td>14539.31</td>\n",
       "      <td>14480.20</td>\n",
       "      <td>14499.61</td>\n",
       "      <td>325167266.0</td>\n",
       "    </tr>\n",
       "    <tr>\n",
       "      <th>2022-03-23 09:30:00</th>\n",
       "      <td>XETR:DAX</td>\n",
       "      <td>14499.90</td>\n",
       "      <td>14528.94</td>\n",
       "      <td>14488.37</td>\n",
       "      <td>14510.93</td>\n",
       "      <td>159130252.0</td>\n",
       "    </tr>\n",
       "    <tr>\n",
       "      <th>2022-03-23 10:00:00</th>\n",
       "      <td>XETR:DAX</td>\n",
       "      <td>14510.95</td>\n",
       "      <td>14521.01</td>\n",
       "      <td>14463.16</td>\n",
       "      <td>14468.70</td>\n",
       "      <td>131088064.0</td>\n",
       "    </tr>\n",
       "    <tr>\n",
       "      <th>2022-03-23 10:30:00</th>\n",
       "      <td>XETR:DAX</td>\n",
       "      <td>14468.42</td>\n",
       "      <td>14468.42</td>\n",
       "      <td>14401.74</td>\n",
       "      <td>14432.77</td>\n",
       "      <td>173610865.0</td>\n",
       "    </tr>\n",
       "    <tr>\n",
       "      <th>2022-03-23 11:00:00</th>\n",
       "      <td>XETR:DAX</td>\n",
       "      <td>14432.95</td>\n",
       "      <td>14443.92</td>\n",
       "      <td>14420.64</td>\n",
       "      <td>14420.64</td>\n",
       "      <td>114001329.0</td>\n",
       "    </tr>\n",
       "    <tr>\n",
       "      <th>...</th>\n",
       "      <td>...</td>\n",
       "      <td>...</td>\n",
       "      <td>...</td>\n",
       "      <td>...</td>\n",
       "      <td>...</td>\n",
       "      <td>...</td>\n",
       "    </tr>\n",
       "    <tr>\n",
       "      <th>2022-04-05 15:30:00</th>\n",
       "      <td>XETR:DAX</td>\n",
       "      <td>14410.01</td>\n",
       "      <td>14460.83</td>\n",
       "      <td>14410.01</td>\n",
       "      <td>14441.05</td>\n",
       "      <td>229842865.0</td>\n",
       "    </tr>\n",
       "    <tr>\n",
       "      <th>2022-04-05 16:00:00</th>\n",
       "      <td>XETR:DAX</td>\n",
       "      <td>14440.81</td>\n",
       "      <td>14459.72</td>\n",
       "      <td>14347.33</td>\n",
       "      <td>14365.99</td>\n",
       "      <td>286841738.0</td>\n",
       "    </tr>\n",
       "    <tr>\n",
       "      <th>2022-04-05 16:30:00</th>\n",
       "      <td>XETR:DAX</td>\n",
       "      <td>14365.66</td>\n",
       "      <td>14415.89</td>\n",
       "      <td>14355.63</td>\n",
       "      <td>14403.48</td>\n",
       "      <td>249089603.0</td>\n",
       "    </tr>\n",
       "    <tr>\n",
       "      <th>2022-04-05 17:00:00</th>\n",
       "      <td>XETR:DAX</td>\n",
       "      <td>14403.48</td>\n",
       "      <td>14404.09</td>\n",
       "      <td>14382.61</td>\n",
       "      <td>14401.67</td>\n",
       "      <td>255748075.0</td>\n",
       "    </tr>\n",
       "    <tr>\n",
       "      <th>2022-04-05 17:30:00</th>\n",
       "      <td>XETR:DAX</td>\n",
       "      <td>14399.73</td>\n",
       "      <td>14424.61</td>\n",
       "      <td>14399.73</td>\n",
       "      <td>14424.36</td>\n",
       "      <td>977794304.0</td>\n",
       "    </tr>\n",
       "  </tbody>\n",
       "</table>\n",
       "<p>180 rows × 6 columns</p>\n",
       "</div>"
      ],
      "text/plain": [
       "                       symbol      open      high       low     close  \\\n",
       "datetime                                                                \n",
       "2022-03-23 09:00:00  XETR:DAX  14532.84  14539.31  14480.20  14499.61   \n",
       "2022-03-23 09:30:00  XETR:DAX  14499.90  14528.94  14488.37  14510.93   \n",
       "2022-03-23 10:00:00  XETR:DAX  14510.95  14521.01  14463.16  14468.70   \n",
       "2022-03-23 10:30:00  XETR:DAX  14468.42  14468.42  14401.74  14432.77   \n",
       "2022-03-23 11:00:00  XETR:DAX  14432.95  14443.92  14420.64  14420.64   \n",
       "...                       ...       ...       ...       ...       ...   \n",
       "2022-04-05 15:30:00  XETR:DAX  14410.01  14460.83  14410.01  14441.05   \n",
       "2022-04-05 16:00:00  XETR:DAX  14440.81  14459.72  14347.33  14365.99   \n",
       "2022-04-05 16:30:00  XETR:DAX  14365.66  14415.89  14355.63  14403.48   \n",
       "2022-04-05 17:00:00  XETR:DAX  14403.48  14404.09  14382.61  14401.67   \n",
       "2022-04-05 17:30:00  XETR:DAX  14399.73  14424.61  14399.73  14424.36   \n",
       "\n",
       "                          volume  \n",
       "datetime                          \n",
       "2022-03-23 09:00:00  325167266.0  \n",
       "2022-03-23 09:30:00  159130252.0  \n",
       "2022-03-23 10:00:00  131088064.0  \n",
       "2022-03-23 10:30:00  173610865.0  \n",
       "2022-03-23 11:00:00  114001329.0  \n",
       "...                          ...  \n",
       "2022-04-05 15:30:00  229842865.0  \n",
       "2022-04-05 16:00:00  286841738.0  \n",
       "2022-04-05 16:30:00  249089603.0  \n",
       "2022-04-05 17:00:00  255748075.0  \n",
       "2022-04-05 17:30:00  977794304.0  \n",
       "\n",
       "[180 rows x 6 columns]"
      ]
     },
     "execution_count": 60,
     "metadata": {},
     "output_type": "execute_result"
    }
   ],
   "source": [
    "last_10_bars"
   ]
  },
  {
   "cell_type": "code",
   "execution_count": 60,
   "id": "95cb59b3",
   "metadata": {
    "collapsed": false
   },
   "outputs": [],
   "source": []
  },
  {
   "cell_type": "code",
   "execution_count": null,
   "id": "0f41177e",
   "metadata": {
    "collapsed": false
   },
   "outputs": [],
   "source": []
  }
 ],
 "metadata": {
  "kernelspec": {
   "argv": [
    "/home/wit/miniconda3/bin/python",
    "-m",
    "ipykernel_launcher",
    "-f",
    "{connection_file}"
   ],
   "display_name": "Python 3 (ipykernel)",
   "env": null,
   "interrupt_mode": "signal",
   "language": "python",
   "metadata": {
    "debugger": true
   },
   "name": "python3"
  },
  "name": "dax_oldschool.ipynb"
 },
 "nbformat": 4,
 "nbformat_minor": 5
}
