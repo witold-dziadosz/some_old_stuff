{
 "cells": [
  {
   "cell_type": "code",
   "execution_count": 3,
   "id": "1c03cc77",
   "metadata": {
    "collapsed": false
   },
   "outputs": [],
   "source": [
    "import pandas as pd\n",
    "import numpy as np\n",
    "from tvDatafeed import TvDatafeed, Interval\n",
    "from common import first_prep, get_lags"
   ]
  },
  {
   "cell_type": "code",
   "execution_count": 28,
   "id": "95de9ab7",
   "metadata": {
    "collapsed": false
   },
   "outputs": [
    {
     "name": "stderr",
     "output_type": "stream",
     "text": [
      "WARNING:tvDatafeed.main:you are using nologin method, data you access may be limited\n"
     ]
    }
   ],
   "source": [
    "tv = TvDatafeed()\n",
    "df = tv.get_hist(\"DAX\", \"XETR\", Interval.in_30_minute, 5000).reset_index()"
   ]
  },
  {
   "cell_type": "code",
   "execution_count": 29,
   "id": "b1e66c6c",
   "metadata": {
    "collapsed": false
   },
   "outputs": [
    {
     "data": {
      "text/html": [
       "<div>\n",
       "<style scoped>\n",
       "    .dataframe tbody tr th:only-of-type {\n",
       "        vertical-align: middle;\n",
       "    }\n",
       "\n",
       "    .dataframe tbody tr th {\n",
       "        vertical-align: top;\n",
       "    }\n",
       "\n",
       "    .dataframe thead th {\n",
       "        text-align: right;\n",
       "    }\n",
       "</style>\n",
       "<table border=\"1\" class=\"dataframe\">\n",
       "  <thead>\n",
       "    <tr style=\"text-align: right;\">\n",
       "      <th></th>\n",
       "      <th>date</th>\n",
       "      <th>open</th>\n",
       "      <th>close</th>\n",
       "      <th>high</th>\n",
       "      <th>low</th>\n",
       "      <th>iblow</th>\n",
       "      <th>ibhigh</th>\n",
       "      <th>ibclose</th>\n",
       "      <th>daydir</th>\n",
       "      <th>ibdir</th>\n",
       "    </tr>\n",
       "  </thead>\n",
       "  <tbody>\n",
       "    <tr>\n",
       "      <th>0</th>\n",
       "      <td>2021-03-10</td>\n",
       "      <td>14439.45</td>\n",
       "      <td>14540.25</td>\n",
       "      <td>14560.97</td>\n",
       "      <td>14408.52</td>\n",
       "      <td>14408.52</td>\n",
       "      <td>14488.46</td>\n",
       "      <td>14477.09</td>\n",
       "      <td>up</td>\n",
       "      <td>up</td>\n",
       "    </tr>\n",
       "    <tr>\n",
       "      <th>1</th>\n",
       "      <td>2021-03-11</td>\n",
       "      <td>14553.54</td>\n",
       "      <td>14569.39</td>\n",
       "      <td>14595.02</td>\n",
       "      <td>14515.07</td>\n",
       "      <td>14521.89</td>\n",
       "      <td>14578.46</td>\n",
       "      <td>14528.80</td>\n",
       "      <td>up</td>\n",
       "      <td>down</td>\n",
       "    </tr>\n",
       "    <tr>\n",
       "      <th>2</th>\n",
       "      <td>2021-03-12</td>\n",
       "      <td>14492.45</td>\n",
       "      <td>14502.39</td>\n",
       "      <td>14527.42</td>\n",
       "      <td>14450.72</td>\n",
       "      <td>14469.48</td>\n",
       "      <td>14527.42</td>\n",
       "      <td>14484.69</td>\n",
       "      <td>up</td>\n",
       "      <td>down</td>\n",
       "    </tr>\n",
       "    <tr>\n",
       "      <th>3</th>\n",
       "      <td>2021-03-15</td>\n",
       "      <td>14504.49</td>\n",
       "      <td>14461.42</td>\n",
       "      <td>14572.24</td>\n",
       "      <td>14409.35</td>\n",
       "      <td>14500.52</td>\n",
       "      <td>14572.24</td>\n",
       "      <td>14544.67</td>\n",
       "      <td>down</td>\n",
       "      <td>up</td>\n",
       "    </tr>\n",
       "    <tr>\n",
       "      <th>4</th>\n",
       "      <td>2021-03-16</td>\n",
       "      <td>14519.72</td>\n",
       "      <td>14557.58</td>\n",
       "      <td>14601.79</td>\n",
       "      <td>14511.30</td>\n",
       "      <td>14511.30</td>\n",
       "      <td>14550.42</td>\n",
       "      <td>14550.27</td>\n",
       "      <td>up</td>\n",
       "      <td>up</td>\n",
       "    </tr>\n",
       "    <tr>\n",
       "      <th>...</th>\n",
       "      <td>...</td>\n",
       "      <td>...</td>\n",
       "      <td>...</td>\n",
       "      <td>...</td>\n",
       "      <td>...</td>\n",
       "      <td>...</td>\n",
       "      <td>...</td>\n",
       "      <td>...</td>\n",
       "      <td>...</td>\n",
       "      <td>...</td>\n",
       "    </tr>\n",
       "    <tr>\n",
       "      <th>272</th>\n",
       "      <td>2022-04-04</td>\n",
       "      <td>14503.96</td>\n",
       "      <td>14518.16</td>\n",
       "      <td>14535.07</td>\n",
       "      <td>14334.10</td>\n",
       "      <td>14334.10</td>\n",
       "      <td>14515.79</td>\n",
       "      <td>14382.35</td>\n",
       "      <td>up</td>\n",
       "      <td>down</td>\n",
       "    </tr>\n",
       "    <tr>\n",
       "      <th>273</th>\n",
       "      <td>2022-04-05</td>\n",
       "      <td>14504.80</td>\n",
       "      <td>14424.36</td>\n",
       "      <td>14603.44</td>\n",
       "      <td>14347.33</td>\n",
       "      <td>14471.09</td>\n",
       "      <td>14603.44</td>\n",
       "      <td>14563.51</td>\n",
       "      <td>down</td>\n",
       "      <td>up</td>\n",
       "    </tr>\n",
       "    <tr>\n",
       "      <th>274</th>\n",
       "      <td>2022-04-06</td>\n",
       "      <td>14402.16</td>\n",
       "      <td>14151.69</td>\n",
       "      <td>14437.91</td>\n",
       "      <td>14027.18</td>\n",
       "      <td>14216.42</td>\n",
       "      <td>14437.91</td>\n",
       "      <td>14245.02</td>\n",
       "      <td>down</td>\n",
       "      <td>down</td>\n",
       "    </tr>\n",
       "    <tr>\n",
       "      <th>275</th>\n",
       "      <td>2022-04-07</td>\n",
       "      <td>14187.13</td>\n",
       "      <td>14078.15</td>\n",
       "      <td>14315.35</td>\n",
       "      <td>14069.53</td>\n",
       "      <td>14123.05</td>\n",
       "      <td>14234.65</td>\n",
       "      <td>14155.22</td>\n",
       "      <td>down</td>\n",
       "      <td>down</td>\n",
       "    </tr>\n",
       "    <tr>\n",
       "      <th>276</th>\n",
       "      <td>2022-04-08</td>\n",
       "      <td>14275.87</td>\n",
       "      <td>14283.67</td>\n",
       "      <td>14321.82</td>\n",
       "      <td>14178.28</td>\n",
       "      <td>14249.67</td>\n",
       "      <td>14321.82</td>\n",
       "      <td>14314.85</td>\n",
       "      <td>up</td>\n",
       "      <td>up</td>\n",
       "    </tr>\n",
       "  </tbody>\n",
       "</table>\n",
       "<p>277 rows × 10 columns</p>\n",
       "</div>"
      ],
      "text/plain": [
       "           date      open     close      high       low     iblow    ibhigh  \\\n",
       "0    2021-03-10  14439.45  14540.25  14560.97  14408.52  14408.52  14488.46   \n",
       "1    2021-03-11  14553.54  14569.39  14595.02  14515.07  14521.89  14578.46   \n",
       "2    2021-03-12  14492.45  14502.39  14527.42  14450.72  14469.48  14527.42   \n",
       "3    2021-03-15  14504.49  14461.42  14572.24  14409.35  14500.52  14572.24   \n",
       "4    2021-03-16  14519.72  14557.58  14601.79  14511.30  14511.30  14550.42   \n",
       "..          ...       ...       ...       ...       ...       ...       ...   \n",
       "272  2022-04-04  14503.96  14518.16  14535.07  14334.10  14334.10  14515.79   \n",
       "273  2022-04-05  14504.80  14424.36  14603.44  14347.33  14471.09  14603.44   \n",
       "274  2022-04-06  14402.16  14151.69  14437.91  14027.18  14216.42  14437.91   \n",
       "275  2022-04-07  14187.13  14078.15  14315.35  14069.53  14123.05  14234.65   \n",
       "276  2022-04-08  14275.87  14283.67  14321.82  14178.28  14249.67  14321.82   \n",
       "\n",
       "      ibclose daydir ibdir  \n",
       "0    14477.09     up    up  \n",
       "1    14528.80     up  down  \n",
       "2    14484.69     up  down  \n",
       "3    14544.67   down    up  \n",
       "4    14550.27     up    up  \n",
       "..        ...    ...   ...  \n",
       "272  14382.35     up  down  \n",
       "273  14563.51   down    up  \n",
       "274  14245.02   down  down  \n",
       "275  14155.22   down  down  \n",
       "276  14314.85     up    up  \n",
       "\n",
       "[277 rows x 10 columns]"
      ]
     },
     "execution_count": 29,
     "metadata": {},
     "output_type": "execute_result"
    }
   ],
   "source": [
    "data = first_prep(df)\n",
    "data"
   ]
  },
  {
   "cell_type": "code",
   "execution_count": 18,
   "id": "69bc178a",
   "metadata": {
    "collapsed": false
   },
   "outputs": [
    {
     "data": {
      "text/plain": [
       "<pandas_ta.core.AnalysisIndicators object at 0x7f753afdba60>"
      ]
     },
     "execution_count": 18,
     "metadata": {},
     "output_type": "execute_result"
    }
   ],
   "source": [
    "import pandas_ta as ta\n",
    "data.ta"
   ]
  },
  {
   "cell_type": "code",
   "execution_count": 34,
   "id": "66a73870",
   "metadata": {
    "collapsed": false
   },
   "outputs": [
    {
     "data": {
      "text/plain": [
       "0               NaN\n",
       "1               NaN\n",
       "2               NaN\n",
       "3               NaN\n",
       "4               NaN\n",
       "           ...     \n",
       "272    14432.734193\n",
       "273    14431.211612\n",
       "274    14380.389501\n",
       "275    14325.436864\n",
       "276    14317.842889\n",
       "Name: EMA_10, Length: 277, dtype: float64"
      ]
     },
     "execution_count": 34,
     "metadata": {},
     "output_type": "execute_result"
    }
   ],
   "source": [
    "data.ta.chop(append=True)\n",
    "data.ta.ema(10, append=True)"
   ]
  },
  {
   "cell_type": "code",
   "execution_count": 35,
   "id": "a39df862",
   "metadata": {
    "collapsed": false
   },
   "outputs": [],
   "source": [
    "data.dropna(inplace=True)"
   ]
  },
  {
   "cell_type": "code",
   "execution_count": 37,
   "id": "3e25ffea",
   "metadata": {
    "collapsed": false
   },
   "outputs": [],
   "source": [
    "data.rename(columns={\"CHOP_14_1_100\" : \"chop\", \"EMA_10\" : \"ema\"}, inplace=True)"
   ]
  },
  {
   "cell_type": "code",
   "execution_count": 39,
   "id": "61afdcdc",
   "metadata": {
    "collapsed": false
   },
   "outputs": [],
   "source": [
    "get_lags(data, \"chop\", 1)\n",
    "get_lags(data, \"ema\", 1)"
   ]
  },
  {
   "cell_type": "code",
   "execution_count": 44,
   "id": "f876157b",
   "metadata": {
    "collapsed": false
   },
   "outputs": [
    {
     "data": {
      "text/html": [
       "<div>\n",
       "<style scoped>\n",
       "    .dataframe tbody tr th:only-of-type {\n",
       "        vertical-align: middle;\n",
       "    }\n",
       "\n",
       "    .dataframe tbody tr th {\n",
       "        vertical-align: top;\n",
       "    }\n",
       "\n",
       "    .dataframe thead th {\n",
       "        text-align: right;\n",
       "    }\n",
       "</style>\n",
       "<table border=\"1\" class=\"dataframe\">\n",
       "  <thead>\n",
       "    <tr style=\"text-align: right;\">\n",
       "      <th></th>\n",
       "      <th>date</th>\n",
       "      <th>open</th>\n",
       "      <th>close</th>\n",
       "      <th>high</th>\n",
       "      <th>low</th>\n",
       "      <th>iblow</th>\n",
       "      <th>ibhigh</th>\n",
       "      <th>ibclose</th>\n",
       "      <th>daydir</th>\n",
       "      <th>ibdir</th>\n",
       "      <th>chop</th>\n",
       "      <th>ema</th>\n",
       "      <th>chop_lag_1</th>\n",
       "      <th>ema_lag_1</th>\n",
       "      <th>open_ema</th>\n",
       "    </tr>\n",
       "  </thead>\n",
       "  <tbody>\n",
       "    <tr>\n",
       "      <th>15</th>\n",
       "      <td>2021-03-31</td>\n",
       "      <td>14982.12</td>\n",
       "      <td>15008.34</td>\n",
       "      <td>15026.49</td>\n",
       "      <td>14973.59</td>\n",
       "      <td>14973.59</td>\n",
       "      <td>15026.49</td>\n",
       "      <td>14991.85</td>\n",
       "      <td>up</td>\n",
       "      <td>up</td>\n",
       "      <td>45.961846</td>\n",
       "      <td>14777.094668</td>\n",
       "      <td>46.449936</td>\n",
       "      <td>14725.706817</td>\n",
       "      <td>above</td>\n",
       "    </tr>\n",
       "    <tr>\n",
       "      <th>16</th>\n",
       "      <td>2021-04-01</td>\n",
       "      <td>15053.77</td>\n",
       "      <td>15107.17</td>\n",
       "      <td>15110.92</td>\n",
       "      <td>15032.52</td>\n",
       "      <td>15032.52</td>\n",
       "      <td>15104.14</td>\n",
       "      <td>15088.75</td>\n",
       "      <td>up</td>\n",
       "      <td>up</td>\n",
       "      <td>41.006356</td>\n",
       "      <td>14837.108365</td>\n",
       "      <td>45.961846</td>\n",
       "      <td>14777.094668</td>\n",
       "      <td>above</td>\n",
       "    </tr>\n",
       "    <tr>\n",
       "      <th>17</th>\n",
       "      <td>2021-04-06</td>\n",
       "      <td>15289.97</td>\n",
       "      <td>15212.68</td>\n",
       "      <td>15311.86</td>\n",
       "      <td>15209.90</td>\n",
       "      <td>15211.18</td>\n",
       "      <td>15311.86</td>\n",
       "      <td>15231.55</td>\n",
       "      <td>down</td>\n",
       "      <td>down</td>\n",
       "      <td>32.782791</td>\n",
       "      <td>14905.394117</td>\n",
       "      <td>41.006356</td>\n",
       "      <td>14837.108365</td>\n",
       "      <td>above</td>\n",
       "    </tr>\n",
       "    <tr>\n",
       "      <th>18</th>\n",
       "      <td>2021-04-07</td>\n",
       "      <td>15221.23</td>\n",
       "      <td>15176.36</td>\n",
       "      <td>15242.73</td>\n",
       "      <td>15160.28</td>\n",
       "      <td>15203.31</td>\n",
       "      <td>15242.73</td>\n",
       "      <td>15221.98</td>\n",
       "      <td>down</td>\n",
       "      <td>up</td>\n",
       "      <td>31.729214</td>\n",
       "      <td>14954.660641</td>\n",
       "      <td>32.782791</td>\n",
       "      <td>14905.394117</td>\n",
       "      <td>above</td>\n",
       "    </tr>\n",
       "    <tr>\n",
       "      <th>19</th>\n",
       "      <td>2021-04-08</td>\n",
       "      <td>15236.44</td>\n",
       "      <td>15202.68</td>\n",
       "      <td>15247.78</td>\n",
       "      <td>15144.11</td>\n",
       "      <td>15180.34</td>\n",
       "      <td>15247.78</td>\n",
       "      <td>15181.77</td>\n",
       "      <td>down</td>\n",
       "      <td>down</td>\n",
       "      <td>32.491410</td>\n",
       "      <td>14999.755070</td>\n",
       "      <td>31.729214</td>\n",
       "      <td>14954.660641</td>\n",
       "      <td>above</td>\n",
       "    </tr>\n",
       "    <tr>\n",
       "      <th>...</th>\n",
       "      <td>...</td>\n",
       "      <td>...</td>\n",
       "      <td>...</td>\n",
       "      <td>...</td>\n",
       "      <td>...</td>\n",
       "      <td>...</td>\n",
       "      <td>...</td>\n",
       "      <td>...</td>\n",
       "      <td>...</td>\n",
       "      <td>...</td>\n",
       "      <td>...</td>\n",
       "      <td>...</td>\n",
       "      <td>...</td>\n",
       "      <td>...</td>\n",
       "      <td>...</td>\n",
       "    </tr>\n",
       "    <tr>\n",
       "      <th>272</th>\n",
       "      <td>2022-04-04</td>\n",
       "      <td>14503.96</td>\n",
       "      <td>14518.16</td>\n",
       "      <td>14535.07</td>\n",
       "      <td>14334.10</td>\n",
       "      <td>14334.10</td>\n",
       "      <td>14515.79</td>\n",
       "      <td>14382.35</td>\n",
       "      <td>up</td>\n",
       "      <td>down</td>\n",
       "      <td>59.726386</td>\n",
       "      <td>14432.734193</td>\n",
       "      <td>42.534820</td>\n",
       "      <td>14413.750680</td>\n",
       "      <td>above</td>\n",
       "    </tr>\n",
       "    <tr>\n",
       "      <th>273</th>\n",
       "      <td>2022-04-05</td>\n",
       "      <td>14504.80</td>\n",
       "      <td>14424.36</td>\n",
       "      <td>14603.44</td>\n",
       "      <td>14347.33</td>\n",
       "      <td>14471.09</td>\n",
       "      <td>14603.44</td>\n",
       "      <td>14563.51</td>\n",
       "      <td>down</td>\n",
       "      <td>up</td>\n",
       "      <td>55.890480</td>\n",
       "      <td>14431.211612</td>\n",
       "      <td>59.726386</td>\n",
       "      <td>14432.734193</td>\n",
       "      <td>above</td>\n",
       "    </tr>\n",
       "    <tr>\n",
       "      <th>274</th>\n",
       "      <td>2022-04-06</td>\n",
       "      <td>14402.16</td>\n",
       "      <td>14151.69</td>\n",
       "      <td>14437.91</td>\n",
       "      <td>14027.18</td>\n",
       "      <td>14216.42</td>\n",
       "      <td>14437.91</td>\n",
       "      <td>14245.02</td>\n",
       "      <td>down</td>\n",
       "      <td>down</td>\n",
       "      <td>53.749489</td>\n",
       "      <td>14380.389501</td>\n",
       "      <td>55.890480</td>\n",
       "      <td>14431.211612</td>\n",
       "      <td>below</td>\n",
       "    </tr>\n",
       "    <tr>\n",
       "      <th>275</th>\n",
       "      <td>2022-04-07</td>\n",
       "      <td>14187.13</td>\n",
       "      <td>14078.15</td>\n",
       "      <td>14315.35</td>\n",
       "      <td>14069.53</td>\n",
       "      <td>14123.05</td>\n",
       "      <td>14234.65</td>\n",
       "      <td>14155.22</td>\n",
       "      <td>down</td>\n",
       "      <td>down</td>\n",
       "      <td>53.157783</td>\n",
       "      <td>14325.436864</td>\n",
       "      <td>53.749489</td>\n",
       "      <td>14380.389501</td>\n",
       "      <td>below</td>\n",
       "    </tr>\n",
       "    <tr>\n",
       "      <th>276</th>\n",
       "      <td>2022-04-08</td>\n",
       "      <td>14275.87</td>\n",
       "      <td>14283.67</td>\n",
       "      <td>14321.82</td>\n",
       "      <td>14178.28</td>\n",
       "      <td>14249.67</td>\n",
       "      <td>14321.82</td>\n",
       "      <td>14314.85</td>\n",
       "      <td>up</td>\n",
       "      <td>up</td>\n",
       "      <td>54.106827</td>\n",
       "      <td>14317.842889</td>\n",
       "      <td>53.157783</td>\n",
       "      <td>14325.436864</td>\n",
       "      <td>below</td>\n",
       "    </tr>\n",
       "  </tbody>\n",
       "</table>\n",
       "<p>262 rows × 15 columns</p>\n",
       "</div>"
      ],
      "text/plain": [
       "           date      open     close      high       low     iblow    ibhigh  \\\n",
       "15   2021-03-31  14982.12  15008.34  15026.49  14973.59  14973.59  15026.49   \n",
       "16   2021-04-01  15053.77  15107.17  15110.92  15032.52  15032.52  15104.14   \n",
       "17   2021-04-06  15289.97  15212.68  15311.86  15209.90  15211.18  15311.86   \n",
       "18   2021-04-07  15221.23  15176.36  15242.73  15160.28  15203.31  15242.73   \n",
       "19   2021-04-08  15236.44  15202.68  15247.78  15144.11  15180.34  15247.78   \n",
       "..          ...       ...       ...       ...       ...       ...       ...   \n",
       "272  2022-04-04  14503.96  14518.16  14535.07  14334.10  14334.10  14515.79   \n",
       "273  2022-04-05  14504.80  14424.36  14603.44  14347.33  14471.09  14603.44   \n",
       "274  2022-04-06  14402.16  14151.69  14437.91  14027.18  14216.42  14437.91   \n",
       "275  2022-04-07  14187.13  14078.15  14315.35  14069.53  14123.05  14234.65   \n",
       "276  2022-04-08  14275.87  14283.67  14321.82  14178.28  14249.67  14321.82   \n",
       "\n",
       "      ibclose daydir ibdir       chop           ema  chop_lag_1     ema_lag_1  \\\n",
       "15   14991.85     up    up  45.961846  14777.094668   46.449936  14725.706817   \n",
       "16   15088.75     up    up  41.006356  14837.108365   45.961846  14777.094668   \n",
       "17   15231.55   down  down  32.782791  14905.394117   41.006356  14837.108365   \n",
       "18   15221.98   down    up  31.729214  14954.660641   32.782791  14905.394117   \n",
       "19   15181.77   down  down  32.491410  14999.755070   31.729214  14954.660641   \n",
       "..        ...    ...   ...        ...           ...         ...           ...   \n",
       "272  14382.35     up  down  59.726386  14432.734193   42.534820  14413.750680   \n",
       "273  14563.51   down    up  55.890480  14431.211612   59.726386  14432.734193   \n",
       "274  14245.02   down  down  53.749489  14380.389501   55.890480  14431.211612   \n",
       "275  14155.22   down  down  53.157783  14325.436864   53.749489  14380.389501   \n",
       "276  14314.85     up    up  54.106827  14317.842889   53.157783  14325.436864   \n",
       "\n",
       "    open_ema  \n",
       "15     above  \n",
       "16     above  \n",
       "17     above  \n",
       "18     above  \n",
       "19     above  \n",
       "..       ...  \n",
       "272    above  \n",
       "273    above  \n",
       "274    below  \n",
       "275    below  \n",
       "276    below  \n",
       "\n",
       "[262 rows x 15 columns]"
      ]
     },
     "execution_count": 44,
     "metadata": {},
     "output_type": "execute_result"
    }
   ],
   "source": [
    "data.dropna(inplace=True)\n",
    "def get_pos(a, b):\n",
    "    if a > b:\n",
    "        return \"above\"\n",
    "    if a == b:\n",
    "        return \"eq\"\n",
    "    return \"below\"\n",
    "data[\"open_ema\"] = data.apply(lambda r: get_pos(r.open,r.ema_lag_1), axis=1)\n",
    "data"
   ]
  },
  {
   "cell_type": "code",
   "execution_count": 164,
   "id": "e9ddabd7",
   "metadata": {
    "collapsed": false
   },
   "outputs": [],
   "source": [
    "from sklearn.model_selection import train_test_split\n",
    "from sklearn.tree import DecisionTreeClassifier\n",
    "from sklearn.tree import export_text\n",
    "from sklearn.metrics import accuracy_score\n",
    "X_train, X_test, y_train, y_test = train_test_split(X, y, train_size=0.8)"
   ]
  },
  {
   "cell_type": "code",
   "execution_count": 165,
   "id": "c9a6f538",
   "metadata": {
    "collapsed": false
   },
   "outputs": [],
   "source": [
    "dcf = DecisionTreeClassifier()\n",
    "dcf = dcf.fit(X_train, y_train)"
   ]
  },
  {
   "cell_type": "code",
   "execution_count": 166,
   "id": "630ad92b",
   "metadata": {
    "collapsed": false
   },
   "outputs": [
    {
     "data": {
      "text/plain": [
       "1.0"
      ]
     },
     "execution_count": 166,
     "metadata": {},
     "output_type": "execute_result"
    }
   ],
   "source": [
    "accuracy_score(dcf.predict(X_train), y_train)"
   ]
  },
  {
   "cell_type": "code",
   "execution_count": 167,
   "id": "2a617e99",
   "metadata": {
    "collapsed": false
   },
   "outputs": [
    {
     "data": {
      "text/plain": [
       "0.5619047619047619"
      ]
     },
     "execution_count": 167,
     "metadata": {},
     "output_type": "execute_result"
    }
   ],
   "source": [
    "accuracy_score(dcf.predict(X_test), y_test)"
   ]
  },
  {
   "cell_type": "code",
   "execution_count": 168,
   "id": "ee1c88db",
   "metadata": {
    "collapsed": false
   },
   "outputs": [
    {
     "data": {
      "text/plain": [
       "array([0.75      , 0.625     , 0.4375    , 0.8125    , 0.3125    ,\n",
       "       0.5625    , 0.75      , 0.6       , 0.46666667, 0.66666667])"
      ]
     },
     "execution_count": 168,
     "metadata": {},
     "output_type": "execute_result"
    }
   ],
   "source": [
    "cross_val_score(dcf, X_train, y_train, cv=10)"
   ]
  },
  {
   "cell_type": "code",
   "execution_count": 169,
   "id": "d87f5cd3",
   "metadata": {
    "collapsed": false
   },
   "outputs": [
    {
     "data": {
      "text/plain": [
       "0.5714285714285714"
      ]
     },
     "execution_count": 169,
     "metadata": {},
     "output_type": "execute_result"
    }
   ],
   "source": [
    "dcf = dcf.fit(X_train,y_train)\n",
    "accuracy_score(dcf.predict(X_t)"
   ]
  }
 ],
 "metadata": {
  "kernelspec": {
   "argv": [
    "/home/wit/miniconda3/bin/python",
    "-m",
    "ipykernel_launcher",
    "-f",
    "{connection_file}"
   ],
   "display_name": "Python 3 (ipykernel)",
   "env": null,
   "interrupt_mode": "signal",
   "language": "python",
   "metadata": {
    "debugger": true
   },
   "name": "python3"
  },
  "name": "Untitled.ipynb"
 },
 "nbformat": 4,
 "nbformat_minor": 5
}
