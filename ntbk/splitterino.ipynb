{
 "cells": [
  {
   "cell_type": "code",
   "execution_count": 15,
   "id": "ee29dbdd",
   "metadata": {
    "collapsed": false
   },
   "outputs": [],
   "source": [
    "import pandas as pd\n",
    "from sklearn.model_selection import train_test_split\n",
    "from sklearn.model_selection import cross_val_score\n",
    "import seaborn as sns\n",
    "from sklearn.svm import SVC\n",
    "from sklearn.preprocessing import LabelEncoder"
   ]
  },
  {
   "cell_type": "code",
   "execution_count": 12,
   "id": "2f199b00",
   "metadata": {
    "collapsed": false
   },
   "outputs": [],
   "source": [
    "iris = sns.load_dataset(\"iris\")"
   ]
  },
  {
   "cell_type": "code",
   "execution_count": 13,
   "id": "8084fca4",
   "metadata": {
    "collapsed": false
   },
   "outputs": [
    {
     "data": {
      "text/html": [
       "<div>\n",
       "<style scoped>\n",
       "    .dataframe tbody tr th:only-of-type {\n",
       "        vertical-align: middle;\n",
       "    }\n",
       "\n",
       "    .dataframe tbody tr th {\n",
       "        vertical-align: top;\n",
       "    }\n",
       "\n",
       "    .dataframe thead th {\n",
       "        text-align: right;\n",
       "    }\n",
       "</style>\n",
       "<table border=\"1\" class=\"dataframe\">\n",
       "  <thead>\n",
       "    <tr style=\"text-align: right;\">\n",
       "      <th></th>\n",
       "      <th>sepal_length</th>\n",
       "      <th>sepal_width</th>\n",
       "      <th>petal_length</th>\n",
       "      <th>petal_width</th>\n",
       "      <th>species</th>\n",
       "    </tr>\n",
       "  </thead>\n",
       "  <tbody>\n",
       "    <tr>\n",
       "      <th>0</th>\n",
       "      <td>5.1</td>\n",
       "      <td>3.5</td>\n",
       "      <td>1.4</td>\n",
       "      <td>0.2</td>\n",
       "      <td>setosa</td>\n",
       "    </tr>\n",
       "    <tr>\n",
       "      <th>1</th>\n",
       "      <td>4.9</td>\n",
       "      <td>3.0</td>\n",
       "      <td>1.4</td>\n",
       "      <td>0.2</td>\n",
       "      <td>setosa</td>\n",
       "    </tr>\n",
       "    <tr>\n",
       "      <th>2</th>\n",
       "      <td>4.7</td>\n",
       "      <td>3.2</td>\n",
       "      <td>1.3</td>\n",
       "      <td>0.2</td>\n",
       "      <td>setosa</td>\n",
       "    </tr>\n",
       "    <tr>\n",
       "      <th>3</th>\n",
       "      <td>4.6</td>\n",
       "      <td>3.1</td>\n",
       "      <td>1.5</td>\n",
       "      <td>0.2</td>\n",
       "      <td>setosa</td>\n",
       "    </tr>\n",
       "    <tr>\n",
       "      <th>4</th>\n",
       "      <td>5.0</td>\n",
       "      <td>3.6</td>\n",
       "      <td>1.4</td>\n",
       "      <td>0.2</td>\n",
       "      <td>setosa</td>\n",
       "    </tr>\n",
       "    <tr>\n",
       "      <th>...</th>\n",
       "      <td>...</td>\n",
       "      <td>...</td>\n",
       "      <td>...</td>\n",
       "      <td>...</td>\n",
       "      <td>...</td>\n",
       "    </tr>\n",
       "    <tr>\n",
       "      <th>145</th>\n",
       "      <td>6.7</td>\n",
       "      <td>3.0</td>\n",
       "      <td>5.2</td>\n",
       "      <td>2.3</td>\n",
       "      <td>virginica</td>\n",
       "    </tr>\n",
       "    <tr>\n",
       "      <th>146</th>\n",
       "      <td>6.3</td>\n",
       "      <td>2.5</td>\n",
       "      <td>5.0</td>\n",
       "      <td>1.9</td>\n",
       "      <td>virginica</td>\n",
       "    </tr>\n",
       "    <tr>\n",
       "      <th>147</th>\n",
       "      <td>6.5</td>\n",
       "      <td>3.0</td>\n",
       "      <td>5.2</td>\n",
       "      <td>2.0</td>\n",
       "      <td>virginica</td>\n",
       "    </tr>\n",
       "    <tr>\n",
       "      <th>148</th>\n",
       "      <td>6.2</td>\n",
       "      <td>3.4</td>\n",
       "      <td>5.4</td>\n",
       "      <td>2.3</td>\n",
       "      <td>virginica</td>\n",
       "    </tr>\n",
       "    <tr>\n",
       "      <th>149</th>\n",
       "      <td>5.9</td>\n",
       "      <td>3.0</td>\n",
       "      <td>5.1</td>\n",
       "      <td>1.8</td>\n",
       "      <td>virginica</td>\n",
       "    </tr>\n",
       "  </tbody>\n",
       "</table>\n",
       "<p>150 rows × 5 columns</p>\n",
       "</div>"
      ],
      "text/plain": [
       "     sepal_length  sepal_width  petal_length  petal_width    species\n",
       "0             5.1          3.5           1.4          0.2     setosa\n",
       "1             4.9          3.0           1.4          0.2     setosa\n",
       "2             4.7          3.2           1.3          0.2     setosa\n",
       "3             4.6          3.1           1.5          0.2     setosa\n",
       "4             5.0          3.6           1.4          0.2     setosa\n",
       "..            ...          ...           ...          ...        ...\n",
       "145           6.7          3.0           5.2          2.3  virginica\n",
       "146           6.3          2.5           5.0          1.9  virginica\n",
       "147           6.5          3.0           5.2          2.0  virginica\n",
       "148           6.2          3.4           5.4          2.3  virginica\n",
       "149           5.9          3.0           5.1          1.8  virginica\n",
       "\n",
       "[150 rows x 5 columns]"
      ]
     },
     "execution_count": 13,
     "metadata": {},
     "output_type": "execute_result"
    }
   ],
   "source": [
    "iris"
   ]
  },
  {
   "cell_type": "code",
   "execution_count": 17,
   "id": "6f54b25d",
   "metadata": {
    "collapsed": false
   },
   "outputs": [],
   "source": [
    "X = iris.drop(\"species\", axis=1)\n",
    "y = iris.species"
   ]
  },
  {
   "cell_type": "code",
   "execution_count": 18,
   "id": "430f4026",
   "metadata": {
    "collapsed": false
   },
   "outputs": [],
   "source": [
    "enc = LabelEncoder()\n",
    "y = enc.fit_transform(y)"
   ]
  },
  {
   "cell_type": "code",
   "execution_count": 22,
   "id": "85962449",
   "metadata": {
    "collapsed": false
   },
   "outputs": [],
   "source": [
    "X_train, X_test, y_train, y_test = train_test_split(X, y, train_size=0.6, random_state=0)"
   ]
  },
  {
   "cell_type": "code",
   "execution_count": 23,
   "id": "fbe34ac8",
   "metadata": {
    "collapsed": false
   },
   "outputs": [],
   "source": [
    "clf = SVC(kernel=\"linear\", C=1)"
   ]
  },
  {
   "cell_type": "code",
   "execution_count": 24,
   "id": "b054df15",
   "metadata": {
    "collapsed": false
   },
   "outputs": [],
   "source": [
    "clf = clf.fit(X_train, y_train)"
   ]
  },
  {
   "cell_type": "code",
   "execution_count": 27,
   "id": "bf0651c4",
   "metadata": {
    "collapsed": false
   },
   "outputs": [
    {
     "data": {
      "text/plain": [
       "0.9888888888888889"
      ]
     },
     "execution_count": 27,
     "metadata": {},
     "output_type": "execute_result"
    }
   ],
   "source": [
    "clf.score(X_train, y_train)"
   ]
  },
  {
   "cell_type": "code",
   "execution_count": 28,
   "id": "417215b3",
   "metadata": {
    "collapsed": false
   },
   "outputs": [
    {
     "data": {
      "text/plain": [
       "0.9666666666666667"
      ]
     },
     "execution_count": 28,
     "metadata": {},
     "output_type": "execute_result"
    }
   ],
   "source": [
    "clf.score(X_test, y_test)"
   ]
  },
  {
   "cell_type": "code",
   "execution_count": 30,
   "id": "4bb6304f",
   "metadata": {
    "collapsed": false
   },
   "outputs": [
    {
     "data": {
      "text/plain": [
       "array([0.96666667, 1.        , 0.96666667, 0.96666667, 1.        ])"
      ]
     },
     "execution_count": 30,
     "metadata": {},
     "output_type": "execute_result"
    }
   ],
   "source": [
    "clf = SVC(kernel=\"linear\", C=1)\n",
    "scores = cross_val_score(clf, X, y, cv=5)\n",
    "scores"
   ]
  },
  {
   "cell_type": "code",
   "execution_count": 32,
   "id": "da6c48f8",
   "metadata": {
    "collapsed": false
   },
   "outputs": [
    {
     "data": {
      "text/plain": [
       "array([0.96658312, 1.        , 0.96658312, 0.96658312, 1.        ])"
      ]
     },
     "execution_count": 32,
     "metadata": {},
     "output_type": "execute_result"
    }
   ],
   "source": [
    "scores = cross_val_score(clf, X, y, scoring=\"f1_macro\")\n",
    "scores"
   ]
  },
  {
   "cell_type": "code",
   "execution_count": 42,
   "id": "b783ab88",
   "metadata": {
    "collapsed": false
   },
   "outputs": [
    {
     "data": {
      "text/plain": [
       "array([0.97777778, 0.97777778, 1.        ])"
      ]
     },
     "execution_count": 42,
     "metadata": {},
     "output_type": "execute_result"
    }
   ],
   "source": [
    "from sklearn.model_selection import ShuffleSplit\n",
    "cv  = ShuffleSplit(n_splits=3, test_size=0.3, random_state=0)\n",
    "cross_val_score(clf, X, y, cv=cv)"
   ]
  },
  {
   "cell_type": "code",
   "execution_count": 43,
   "id": "e6fc6bec",
   "metadata": {
    "collapsed": false
   },
   "outputs": [
    {
     "data": {
      "text/plain": [
       "'/home/wit/new-root/ntbk'"
      ]
     },
     "execution_count": 43,
     "metadata": {},
     "output_type": "execute_result"
    }
   ],
   "source": [
    "import os\n",
    "os.getcwd()"
   ]
  },
  {
   "cell_type": "code",
   "execution_count": 52,
   "id": "1538a36d",
   "metadata": {
    "collapsed": false
   },
   "outputs": [
    {
     "ename": "ImportError",
     "evalue": "cannot import name 'get_lags' from 'common' (/home/wit/new-root/ntbk/common.py)",
     "output_type": "error",
     "traceback": [
      "\u001b[0;31m---------------------------------------------------------------------------\u001b[0m",
      "\u001b[0;31mImportError\u001b[0m                               Traceback (most recent call last)",
      "Input \u001b[0;32mIn [52]\u001b[0m, in \u001b[0;36m<cell line: 1>\u001b[0;34m()\u001b[0m\n\u001b[0;32m----> 1\u001b[0m \u001b[38;5;28;01mfrom\u001b[39;00m \u001b[38;5;21;01mcommon\u001b[39;00m \u001b[38;5;28;01mimport\u001b[39;00m GannSwing, get_lags\n",
      "\u001b[0;31mImportError\u001b[0m: cannot import name 'get_lags' from 'common' (/home/wit/new-root/ntbk/common.py)"
     ]
    }
   ],
   "source": [
    "from common import GannSwing, get_lags"
   ]
  },
  {
   "cell_type": "code",
   "execution_count": 47,
   "id": "42df217c",
   "metadata": {
    "collapsed": false
   },
   "outputs": [],
   "source": [
    "GannSwing?"
   ]
  },
  {
   "cell_type": "code",
   "execution_count": 49,
   "id": "a0b35eb0",
   "metadata": {
    "collapsed": false
   },
   "outputs": [],
   "source": [
    "data = pd.read_csv(\"./data/dax-data.csv\")"
   ]
  },
  {
   "cell_type": "code",
   "execution_count": 50,
   "id": "57b61115",
   "metadata": {
    "collapsed": false
   },
   "outputs": [
    {
     "data": {
      "text/html": [
       "<div>\n",
       "<style scoped>\n",
       "    .dataframe tbody tr th:only-of-type {\n",
       "        vertical-align: middle;\n",
       "    }\n",
       "\n",
       "    .dataframe tbody tr th {\n",
       "        vertical-align: top;\n",
       "    }\n",
       "\n",
       "    .dataframe thead th {\n",
       "        text-align: right;\n",
       "    }\n",
       "</style>\n",
       "<table border=\"1\" class=\"dataframe\">\n",
       "  <thead>\n",
       "    <tr style=\"text-align: right;\">\n",
       "      <th></th>\n",
       "      <th>Unnamed: 0</th>\n",
       "      <th>date</th>\n",
       "      <th>open</th>\n",
       "      <th>high</th>\n",
       "      <th>low</th>\n",
       "      <th>close</th>\n",
       "      <th>iblow</th>\n",
       "      <th>ibhigh</th>\n",
       "      <th>ibclose</th>\n",
       "      <th>range</th>\n",
       "      <th>ibrange</th>\n",
       "      <th>daydir</th>\n",
       "      <th>ibdir</th>\n",
       "      <th>ibdaytype</th>\n",
       "      <th>weekday</th>\n",
       "    </tr>\n",
       "  </thead>\n",
       "  <tbody>\n",
       "    <tr>\n",
       "      <th>0</th>\n",
       "      <td>0</td>\n",
       "      <td>2021-03-04</td>\n",
       "      <td>14015.44</td>\n",
       "      <td>14095.81</td>\n",
       "      <td>13959.27</td>\n",
       "      <td>14056.34</td>\n",
       "      <td>13976.44</td>\n",
       "      <td>14056.32</td>\n",
       "      <td>14006.65</td>\n",
       "      <td>136.54</td>\n",
       "      <td>79.88</td>\n",
       "      <td>up</td>\n",
       "      <td>down</td>\n",
       "      <td>both-broken</td>\n",
       "      <td>3</td>\n",
       "    </tr>\n",
       "    <tr>\n",
       "      <th>1</th>\n",
       "      <td>1</td>\n",
       "      <td>2021-03-05</td>\n",
       "      <td>13958.54</td>\n",
       "      <td>14068.03</td>\n",
       "      <td>13868.20</td>\n",
       "      <td>13920.69</td>\n",
       "      <td>13868.20</td>\n",
       "      <td>13970.17</td>\n",
       "      <td>13901.60</td>\n",
       "      <td>199.83</td>\n",
       "      <td>101.97</td>\n",
       "      <td>down</td>\n",
       "      <td>down</td>\n",
       "      <td>high-broken</td>\n",
       "      <td>4</td>\n",
       "    </tr>\n",
       "    <tr>\n",
       "      <th>2</th>\n",
       "      <td>2</td>\n",
       "      <td>2021-03-08</td>\n",
       "      <td>14024.57</td>\n",
       "      <td>14402.92</td>\n",
       "      <td>13977.13</td>\n",
       "      <td>14380.91</td>\n",
       "      <td>13977.13</td>\n",
       "      <td>14050.00</td>\n",
       "      <td>14013.16</td>\n",
       "      <td>425.79</td>\n",
       "      <td>72.87</td>\n",
       "      <td>up</td>\n",
       "      <td>down</td>\n",
       "      <td>high-broken</td>\n",
       "      <td>0</td>\n",
       "    </tr>\n",
       "    <tr>\n",
       "      <th>3</th>\n",
       "      <td>3</td>\n",
       "      <td>2021-03-09</td>\n",
       "      <td>14345.51</td>\n",
       "      <td>14475.65</td>\n",
       "      <td>14309.35</td>\n",
       "      <td>14437.94</td>\n",
       "      <td>14309.35</td>\n",
       "      <td>14403.48</td>\n",
       "      <td>14392.05</td>\n",
       "      <td>166.30</td>\n",
       "      <td>94.13</td>\n",
       "      <td>up</td>\n",
       "      <td>up</td>\n",
       "      <td>high-broken</td>\n",
       "      <td>1</td>\n",
       "    </tr>\n",
       "    <tr>\n",
       "      <th>4</th>\n",
       "      <td>4</td>\n",
       "      <td>2021-03-10</td>\n",
       "      <td>14439.45</td>\n",
       "      <td>14560.97</td>\n",
       "      <td>14408.52</td>\n",
       "      <td>14540.25</td>\n",
       "      <td>14408.52</td>\n",
       "      <td>14488.46</td>\n",
       "      <td>14477.09</td>\n",
       "      <td>152.45</td>\n",
       "      <td>79.94</td>\n",
       "      <td>up</td>\n",
       "      <td>up</td>\n",
       "      <td>high-broken</td>\n",
       "      <td>2</td>\n",
       "    </tr>\n",
       "    <tr>\n",
       "      <th>...</th>\n",
       "      <td>...</td>\n",
       "      <td>...</td>\n",
       "      <td>...</td>\n",
       "      <td>...</td>\n",
       "      <td>...</td>\n",
       "      <td>...</td>\n",
       "      <td>...</td>\n",
       "      <td>...</td>\n",
       "      <td>...</td>\n",
       "      <td>...</td>\n",
       "      <td>...</td>\n",
       "      <td>...</td>\n",
       "      <td>...</td>\n",
       "      <td>...</td>\n",
       "      <td>...</td>\n",
       "    </tr>\n",
       "    <tr>\n",
       "      <th>271</th>\n",
       "      <td>271</td>\n",
       "      <td>2022-03-28</td>\n",
       "      <td>14376.00</td>\n",
       "      <td>14627.58</td>\n",
       "      <td>14371.90</td>\n",
       "      <td>14417.37</td>\n",
       "      <td>14371.90</td>\n",
       "      <td>14527.01</td>\n",
       "      <td>14504.18</td>\n",
       "      <td>255.68</td>\n",
       "      <td>155.11</td>\n",
       "      <td>up</td>\n",
       "      <td>up</td>\n",
       "      <td>high-broken</td>\n",
       "      <td>0</td>\n",
       "    </tr>\n",
       "    <tr>\n",
       "      <th>272</th>\n",
       "      <td>272</td>\n",
       "      <td>2022-03-29</td>\n",
       "      <td>14592.74</td>\n",
       "      <td>14925.25</td>\n",
       "      <td>14553.71</td>\n",
       "      <td>14820.33</td>\n",
       "      <td>14553.71</td>\n",
       "      <td>14664.29</td>\n",
       "      <td>14603.33</td>\n",
       "      <td>371.54</td>\n",
       "      <td>110.58</td>\n",
       "      <td>up</td>\n",
       "      <td>up</td>\n",
       "      <td>high-broken</td>\n",
       "      <td>1</td>\n",
       "    </tr>\n",
       "    <tr>\n",
       "      <th>273</th>\n",
       "      <td>273</td>\n",
       "      <td>2022-03-30</td>\n",
       "      <td>14712.32</td>\n",
       "      <td>14744.72</td>\n",
       "      <td>14555.87</td>\n",
       "      <td>14606.05</td>\n",
       "      <td>14586.01</td>\n",
       "      <td>14744.72</td>\n",
       "      <td>14620.20</td>\n",
       "      <td>188.85</td>\n",
       "      <td>158.71</td>\n",
       "      <td>down</td>\n",
       "      <td>down</td>\n",
       "      <td>low-broken</td>\n",
       "      <td>2</td>\n",
       "    </tr>\n",
       "    <tr>\n",
       "      <th>274</th>\n",
       "      <td>274</td>\n",
       "      <td>2022-03-31</td>\n",
       "      <td>14674.83</td>\n",
       "      <td>14732.00</td>\n",
       "      <td>14404.03</td>\n",
       "      <td>14414.75</td>\n",
       "      <td>14603.31</td>\n",
       "      <td>14732.00</td>\n",
       "      <td>14607.18</td>\n",
       "      <td>327.97</td>\n",
       "      <td>128.69</td>\n",
       "      <td>down</td>\n",
       "      <td>down</td>\n",
       "      <td>low-broken</td>\n",
       "      <td>3</td>\n",
       "    </tr>\n",
       "    <tr>\n",
       "      <th>275</th>\n",
       "      <td>275</td>\n",
       "      <td>2022-04-01</td>\n",
       "      <td>14447.78</td>\n",
       "      <td>14506.02</td>\n",
       "      <td>14403.09</td>\n",
       "      <td>14446.48</td>\n",
       "      <td>14403.09</td>\n",
       "      <td>14502.93</td>\n",
       "      <td>14439.08</td>\n",
       "      <td>102.93</td>\n",
       "      <td>99.84</td>\n",
       "      <td>down</td>\n",
       "      <td>down</td>\n",
       "      <td>high-broken</td>\n",
       "      <td>4</td>\n",
       "    </tr>\n",
       "  </tbody>\n",
       "</table>\n",
       "<p>276 rows × 15 columns</p>\n",
       "</div>"
      ],
      "text/plain": [
       "     Unnamed: 0        date      open      high       low     close     iblow  \\\n",
       "0             0  2021-03-04  14015.44  14095.81  13959.27  14056.34  13976.44   \n",
       "1             1  2021-03-05  13958.54  14068.03  13868.20  13920.69  13868.20   \n",
       "2             2  2021-03-08  14024.57  14402.92  13977.13  14380.91  13977.13   \n",
       "3             3  2021-03-09  14345.51  14475.65  14309.35  14437.94  14309.35   \n",
       "4             4  2021-03-10  14439.45  14560.97  14408.52  14540.25  14408.52   \n",
       "..          ...         ...       ...       ...       ...       ...       ...   \n",
       "271         271  2022-03-28  14376.00  14627.58  14371.90  14417.37  14371.90   \n",
       "272         272  2022-03-29  14592.74  14925.25  14553.71  14820.33  14553.71   \n",
       "273         273  2022-03-30  14712.32  14744.72  14555.87  14606.05  14586.01   \n",
       "274         274  2022-03-31  14674.83  14732.00  14404.03  14414.75  14603.31   \n",
       "275         275  2022-04-01  14447.78  14506.02  14403.09  14446.48  14403.09   \n",
       "\n",
       "       ibhigh   ibclose   range  ibrange daydir ibdir    ibdaytype  weekday  \n",
       "0    14056.32  14006.65  136.54    79.88     up  down  both-broken        3  \n",
       "1    13970.17  13901.60  199.83   101.97   down  down  high-broken        4  \n",
       "2    14050.00  14013.16  425.79    72.87     up  down  high-broken        0  \n",
       "3    14403.48  14392.05  166.30    94.13     up    up  high-broken        1  \n",
       "4    14488.46  14477.09  152.45    79.94     up    up  high-broken        2  \n",
       "..        ...       ...     ...      ...    ...   ...          ...      ...  \n",
       "271  14527.01  14504.18  255.68   155.11     up    up  high-broken        0  \n",
       "272  14664.29  14603.33  371.54   110.58     up    up  high-broken        1  \n",
       "273  14744.72  14620.20  188.85   158.71   down  down   low-broken        2  \n",
       "274  14732.00  14607.18  327.97   128.69   down  down   low-broken        3  \n",
       "275  14502.93  14439.08  102.93    99.84   down  down  high-broken        4  \n",
       "\n",
       "[276 rows x 15 columns]"
      ]
     },
     "execution_count": 50,
     "metadata": {},
     "output_type": "execute_result"
    }
   ],
   "source": []
  },
  {
   "cell_type": "code",
   "execution_count": null,
   "id": "1c6e79d1",
   "metadata": {
    "collapsed": false
   },
   "outputs": [],
   "source": []
  }
 ],
 "metadata": {
  "kernelspec": {
   "argv": [
    "/home/wit/miniconda3/bin/python",
    "-m",
    "ipykernel_launcher",
    "-f",
    "{connection_file}"
   ],
   "display_name": "Python 3 (ipykernel)",
   "env": null,
   "interrupt_mode": "signal",
   "language": "python",
   "metadata": {
    "debugger": true
   },
   "name": "python3"
  },
  "name": "splitterino.ipynb"
 },
 "nbformat": 4,
 "nbformat_minor": 5
}
