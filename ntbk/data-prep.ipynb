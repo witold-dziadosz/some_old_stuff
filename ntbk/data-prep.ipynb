{
 "cells": [
  {
   "cell_type": "code",
   "execution_count": 13,
   "id": "9131ba9d",
   "metadata": {
    "collapsed": false
   },
   "outputs": [],
   "source": [
    "import pandas as pd\n",
    "from tvDatafeed import TvDatafeed, Interval"
   ]
  },
  {
   "cell_type": "code",
   "execution_count": 14,
   "id": "3eb7e5f3",
   "metadata": {
    "collapsed": false
   },
   "outputs": [
    {
     "name": "stderr",
     "output_type": "stream",
     "text": [
      "you are using nologin method, data you access may be limited\n"
     ]
    }
   ],
   "source": [
    "tv = TvDatafeed()\n",
    "dax = tv.get_hist(\"DAX\", \"XETR\", Interval.in_30_minute, n_bars=5000)"
   ]
  },
  {
   "cell_type": "code",
   "execution_count": 21,
   "id": "ae5a41a3",
   "metadata": {
    "collapsed": false
   },
   "outputs": [],
   "source": [
    "df = dax.drop([\"symbol\", \"volume\"], axis=1).reset_index()"
   ]
  },
  {
   "cell_type": "code",
   "execution_count": 33,
   "id": "1e00fe74",
   "metadata": {
    "collapsed": false
   },
   "outputs": [],
   "source": [
    "\n",
    "def first_prep(df):\n",
    "    from datetime import time\n",
    "    from functools import reduce\n",
    "\n",
    "    df[\"datetime\"] = pd.to_datetime(df.datetime)\n",
    "    df[\"date\"] = df.datetime.dt.date\n",
    "\n",
    "\n",
    "    #TODO: turn times into parameters\n",
    "    open_time = time(9, 0)\n",
    "    close_time = time(17, 30)\n",
    "    ibclose_time = time(10, 0)\n",
    "\n",
    "    daily_open = df[df.datetime.dt.time == open_time][[\"date\", \"open\"]]\n",
    "    daily_close = df[df.datetime.dt.time == close_time][[\"date\", \"close\"]]\n",
    "    ib_close = df[df.datetime.dt.time == ibclose_time][[\"date\", \"close\"]].rename(\n",
    "        columns={\"close\" : \"ibclose\"}\n",
    "    )\n",
    "    daily_low = df.groupby(\"date\").low.min().reset_index()\n",
    "    daily_high = df.groupby(\"date\").high.max().reset_index()\n",
    "\n",
    "    ib_low = df[df.datetime.dt.time <= ibclose_time].groupby(\"date\").low.min().reset_index().rename(columns={\"low\" : \"iblow\"})\n",
    "    ib_high = df[df.datetime.dt.time <= ibclose_time].groupby(\"date\").high.max().reset_index().rename(columns={\"high\" : \"ibhigh\"})\n",
    "\n",
    "    data = reduce(\n",
    "        lambda l, r: pd.merge(l, r, on=\"date\"),\n",
    "        [daily_open, daily_high, daily_low, ib_low, ib_high, ib_close]\n",
    "    )\n",
    "\n",
    "    return data\n",
    "\n",
    "\n",
    "    "
   ]
  },
  {
   "cell_type": "code",
   "execution_count": 34,
   "id": "e12d8772",
   "metadata": {
    "collapsed": false
   },
   "outputs": [
    {
     "data": {
      "text/html": [
       "<div>\n",
       "<style scoped>\n",
       "    .dataframe tbody tr th:only-of-type {\n",
       "        vertical-align: middle;\n",
       "    }\n",
       "\n",
       "    .dataframe tbody tr th {\n",
       "        vertical-align: top;\n",
       "    }\n",
       "\n",
       "    .dataframe thead th {\n",
       "        text-align: right;\n",
       "    }\n",
       "</style>\n",
       "<table border=\"1\" class=\"dataframe\">\n",
       "  <thead>\n",
       "    <tr style=\"text-align: right;\">\n",
       "      <th></th>\n",
       "      <th>date</th>\n",
       "      <th>open</th>\n",
       "      <th>high</th>\n",
       "      <th>low</th>\n",
       "      <th>iblow</th>\n",
       "      <th>ibhigh</th>\n",
       "      <th>ibclose</th>\n",
       "    </tr>\n",
       "  </thead>\n",
       "  <tbody>\n",
       "    <tr>\n",
       "      <th>0</th>\n",
       "      <td>2021-03-10</td>\n",
       "      <td>14439.45</td>\n",
       "      <td>14560.97</td>\n",
       "      <td>14408.52</td>\n",
       "      <td>14408.52</td>\n",
       "      <td>14488.46</td>\n",
       "      <td>14477.09</td>\n",
       "    </tr>\n",
       "    <tr>\n",
       "      <th>1</th>\n",
       "      <td>2021-03-11</td>\n",
       "      <td>14553.54</td>\n",
       "      <td>14595.02</td>\n",
       "      <td>14515.07</td>\n",
       "      <td>14521.89</td>\n",
       "      <td>14578.46</td>\n",
       "      <td>14528.80</td>\n",
       "    </tr>\n",
       "    <tr>\n",
       "      <th>2</th>\n",
       "      <td>2021-03-12</td>\n",
       "      <td>14492.45</td>\n",
       "      <td>14527.42</td>\n",
       "      <td>14450.72</td>\n",
       "      <td>14469.48</td>\n",
       "      <td>14527.42</td>\n",
       "      <td>14484.69</td>\n",
       "    </tr>\n",
       "    <tr>\n",
       "      <th>3</th>\n",
       "      <td>2021-03-15</td>\n",
       "      <td>14504.49</td>\n",
       "      <td>14572.24</td>\n",
       "      <td>14409.35</td>\n",
       "      <td>14500.52</td>\n",
       "      <td>14572.24</td>\n",
       "      <td>14544.67</td>\n",
       "    </tr>\n",
       "    <tr>\n",
       "      <th>4</th>\n",
       "      <td>2021-03-16</td>\n",
       "      <td>14519.72</td>\n",
       "      <td>14601.79</td>\n",
       "      <td>14511.30</td>\n",
       "      <td>14511.30</td>\n",
       "      <td>14550.42</td>\n",
       "      <td>14550.27</td>\n",
       "    </tr>\n",
       "    <tr>\n",
       "      <th>...</th>\n",
       "      <td>...</td>\n",
       "      <td>...</td>\n",
       "      <td>...</td>\n",
       "      <td>...</td>\n",
       "      <td>...</td>\n",
       "      <td>...</td>\n",
       "      <td>...</td>\n",
       "    </tr>\n",
       "    <tr>\n",
       "      <th>273</th>\n",
       "      <td>2022-04-04</td>\n",
       "      <td>14503.96</td>\n",
       "      <td>14535.07</td>\n",
       "      <td>14334.10</td>\n",
       "      <td>14334.10</td>\n",
       "      <td>14515.79</td>\n",
       "      <td>14382.35</td>\n",
       "    </tr>\n",
       "    <tr>\n",
       "      <th>274</th>\n",
       "      <td>2022-04-05</td>\n",
       "      <td>14504.80</td>\n",
       "      <td>14603.44</td>\n",
       "      <td>14347.33</td>\n",
       "      <td>14471.09</td>\n",
       "      <td>14603.44</td>\n",
       "      <td>14563.51</td>\n",
       "    </tr>\n",
       "    <tr>\n",
       "      <th>275</th>\n",
       "      <td>2022-04-06</td>\n",
       "      <td>14402.16</td>\n",
       "      <td>14437.91</td>\n",
       "      <td>14027.18</td>\n",
       "      <td>14216.42</td>\n",
       "      <td>14437.91</td>\n",
       "      <td>14245.02</td>\n",
       "    </tr>\n",
       "    <tr>\n",
       "      <th>276</th>\n",
       "      <td>2022-04-07</td>\n",
       "      <td>14187.13</td>\n",
       "      <td>14315.35</td>\n",
       "      <td>14069.53</td>\n",
       "      <td>14123.05</td>\n",
       "      <td>14234.65</td>\n",
       "      <td>14155.22</td>\n",
       "    </tr>\n",
       "    <tr>\n",
       "      <th>277</th>\n",
       "      <td>2022-04-08</td>\n",
       "      <td>14275.87</td>\n",
       "      <td>14321.82</td>\n",
       "      <td>14178.28</td>\n",
       "      <td>14249.67</td>\n",
       "      <td>14321.82</td>\n",
       "      <td>14314.85</td>\n",
       "    </tr>\n",
       "  </tbody>\n",
       "</table>\n",
       "<p>278 rows × 7 columns</p>\n",
       "</div>"
      ],
      "text/plain": [
       "           date      open      high       low     iblow    ibhigh   ibclose\n",
       "0    2021-03-10  14439.45  14560.97  14408.52  14408.52  14488.46  14477.09\n",
       "1    2021-03-11  14553.54  14595.02  14515.07  14521.89  14578.46  14528.80\n",
       "2    2021-03-12  14492.45  14527.42  14450.72  14469.48  14527.42  14484.69\n",
       "3    2021-03-15  14504.49  14572.24  14409.35  14500.52  14572.24  14544.67\n",
       "4    2021-03-16  14519.72  14601.79  14511.30  14511.30  14550.42  14550.27\n",
       "..          ...       ...       ...       ...       ...       ...       ...\n",
       "273  2022-04-04  14503.96  14535.07  14334.10  14334.10  14515.79  14382.35\n",
       "274  2022-04-05  14504.80  14603.44  14347.33  14471.09  14603.44  14563.51\n",
       "275  2022-04-06  14402.16  14437.91  14027.18  14216.42  14437.91  14245.02\n",
       "276  2022-04-07  14187.13  14315.35  14069.53  14123.05  14234.65  14155.22\n",
       "277  2022-04-08  14275.87  14321.82  14178.28  14249.67  14321.82  14314.85\n",
       "\n",
       "[278 rows x 7 columns]"
      ]
     },
     "execution_count": 34,
     "metadata": {},
     "output_type": "execute_result"
    }
   ],
   "source": [
    "first_prep(df)"
   ]
  },
  {
   "cell_type": "code",
   "execution_count": null,
   "id": "ec8865f1",
   "metadata": {
    "collapsed": false
   },
   "outputs": [],
   "source": []
  }
 ],
 "metadata": {
  "kernelspec": {
   "argv": [
    "/home/wit/miniconda3/bin/python",
    "-m",
    "ipykernel_launcher",
    "-f",
    "{connection_file}"
   ],
   "display_name": "Python 3 (ipykernel)",
   "env": null,
   "interrupt_mode": "signal",
   "language": "python",
   "metadata": {
    "debugger": true
   },
   "name": "python3"
  },
  "name": "data-prep.ipynb"
 },
 "nbformat": 4,
 "nbformat_minor": 5
}
