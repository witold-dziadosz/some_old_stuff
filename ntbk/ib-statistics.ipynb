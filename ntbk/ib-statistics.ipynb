{
 "cells": [
  {
   "cell_type": "code",
   "execution_count": 1,
   "id": "ae9ed1a7",
   "metadata": {
    "collapsed": false
   },
   "outputs": [],
   "source": [
    "from tvDatafeed import TvDatafeed, Interval\n",
    "import pandas as pd\n",
    "import matplotlib.pyplot as plt\n",
    "from datetime import time\n",
    "from functools import reduce\n",
    "import seaborn as sns\n",
    "import matplotlib.pyplot as plt"
   ]
  },
  {
   "cell_type": "code",
   "execution_count": 2,
   "id": "1e12a294",
   "metadata": {
    "collapsed": false
   },
   "outputs": [
    {
     "name": "stderr",
     "output_type": "stream",
     "text": [
      "you are using nologin method, data you access may be limited\n"
     ]
    }
   ],
   "source": [
    "tv = TvDatafeed()"
   ]
  },
  {
   "cell_type": "code",
   "execution_count": 3,
   "id": "e59d3b35",
   "metadata": {
    "collapsed": false
   },
   "outputs": [
    {
     "data": {
      "text/html": [
       "<div>\n",
       "<style scoped>\n",
       "    .dataframe tbody tr th:only-of-type {\n",
       "        vertical-align: middle;\n",
       "    }\n",
       "\n",
       "    .dataframe tbody tr th {\n",
       "        vertical-align: top;\n",
       "    }\n",
       "\n",
       "    .dataframe thead th {\n",
       "        text-align: right;\n",
       "    }\n",
       "</style>\n",
       "<table border=\"1\" class=\"dataframe\">\n",
       "  <thead>\n",
       "    <tr style=\"text-align: right;\">\n",
       "      <th></th>\n",
       "      <th>datetime</th>\n",
       "      <th>open</th>\n",
       "      <th>high</th>\n",
       "      <th>low</th>\n",
       "      <th>close</th>\n",
       "    </tr>\n",
       "  </thead>\n",
       "  <tbody>\n",
       "    <tr>\n",
       "      <th>3</th>\n",
       "      <td>2021-03-03 09:00:00</td>\n",
       "      <td>14130.86</td>\n",
       "      <td>14179.96</td>\n",
       "      <td>14129.55</td>\n",
       "      <td>14164.03</td>\n",
       "    </tr>\n",
       "    <tr>\n",
       "      <th>4</th>\n",
       "      <td>2021-03-03 09:30:00</td>\n",
       "      <td>14164.50</td>\n",
       "      <td>14185.35</td>\n",
       "      <td>14152.44</td>\n",
       "      <td>14170.13</td>\n",
       "    </tr>\n",
       "    <tr>\n",
       "      <th>5</th>\n",
       "      <td>2021-03-03 10:00:00</td>\n",
       "      <td>14170.00</td>\n",
       "      <td>14197.49</td>\n",
       "      <td>14161.18</td>\n",
       "      <td>14179.74</td>\n",
       "    </tr>\n",
       "    <tr>\n",
       "      <th>6</th>\n",
       "      <td>2021-03-03 10:30:00</td>\n",
       "      <td>14179.60</td>\n",
       "      <td>14188.59</td>\n",
       "      <td>14161.69</td>\n",
       "      <td>14170.11</td>\n",
       "    </tr>\n",
       "    <tr>\n",
       "      <th>7</th>\n",
       "      <td>2021-03-03 11:00:00</td>\n",
       "      <td>14171.30</td>\n",
       "      <td>14177.65</td>\n",
       "      <td>14159.54</td>\n",
       "      <td>14163.32</td>\n",
       "    </tr>\n",
       "  </tbody>\n",
       "</table>\n",
       "</div>"
      ],
      "text/plain": [
       "             datetime      open      high       low     close\n",
       "3 2021-03-03 09:00:00  14130.86  14179.96  14129.55  14164.03\n",
       "4 2021-03-03 09:30:00  14164.50  14185.35  14152.44  14170.13\n",
       "5 2021-03-03 10:00:00  14170.00  14197.49  14161.18  14179.74\n",
       "6 2021-03-03 10:30:00  14179.60  14188.59  14161.69  14170.11\n",
       "7 2021-03-03 11:00:00  14171.30  14177.65  14159.54  14163.32"
      ]
     },
     "execution_count": 3,
     "metadata": {},
     "output_type": "execute_result"
    }
   ],
   "source": [
    "daxdf = tv.get_hist(\"DAX\", \"XETR\", Interval.in_30_minute, 5000)\n",
    "daxdf.reset_index(inplace=True)\n",
    "daxdf = daxdf[[\"datetime\", \"open\", \"high\", \"low\", \"close\"]][3:]\n",
    "daxdf.head()"
   ]
  },
  {
   "cell_type": "code",
   "execution_count": 4,
   "id": "c4d38678",
   "metadata": {
    "collapsed": false
   },
   "outputs": [],
   "source": [
    "daxdf[\"date\"] = daxdf.datetime.dt.date"
   ]
  },
  {
   "cell_type": "code",
   "execution_count": 5,
   "id": "c0b2b6b8",
   "metadata": {
    "collapsed": false
   },
   "outputs": [
    {
     "data": {
      "text/html": [
       "<div>\n",
       "<style scoped>\n",
       "    .dataframe tbody tr th:only-of-type {\n",
       "        vertical-align: middle;\n",
       "    }\n",
       "\n",
       "    .dataframe tbody tr th {\n",
       "        vertical-align: top;\n",
       "    }\n",
       "\n",
       "    .dataframe thead th {\n",
       "        text-align: right;\n",
       "    }\n",
       "</style>\n",
       "<table border=\"1\" class=\"dataframe\">\n",
       "  <thead>\n",
       "    <tr style=\"text-align: right;\">\n",
       "      <th></th>\n",
       "      <th>datetime</th>\n",
       "      <th>open</th>\n",
       "      <th>high</th>\n",
       "      <th>low</th>\n",
       "      <th>close</th>\n",
       "      <th>date</th>\n",
       "    </tr>\n",
       "  </thead>\n",
       "  <tbody>\n",
       "    <tr>\n",
       "      <th>3</th>\n",
       "      <td>2021-03-03 09:00:00</td>\n",
       "      <td>14130.86</td>\n",
       "      <td>14179.96</td>\n",
       "      <td>14129.55</td>\n",
       "      <td>14164.03</td>\n",
       "      <td>2021-03-03</td>\n",
       "    </tr>\n",
       "    <tr>\n",
       "      <th>4</th>\n",
       "      <td>2021-03-03 09:30:00</td>\n",
       "      <td>14164.50</td>\n",
       "      <td>14185.35</td>\n",
       "      <td>14152.44</td>\n",
       "      <td>14170.13</td>\n",
       "      <td>2021-03-03</td>\n",
       "    </tr>\n",
       "    <tr>\n",
       "      <th>5</th>\n",
       "      <td>2021-03-03 10:00:00</td>\n",
       "      <td>14170.00</td>\n",
       "      <td>14197.49</td>\n",
       "      <td>14161.18</td>\n",
       "      <td>14179.74</td>\n",
       "      <td>2021-03-03</td>\n",
       "    </tr>\n",
       "    <tr>\n",
       "      <th>6</th>\n",
       "      <td>2021-03-03 10:30:00</td>\n",
       "      <td>14179.60</td>\n",
       "      <td>14188.59</td>\n",
       "      <td>14161.69</td>\n",
       "      <td>14170.11</td>\n",
       "      <td>2021-03-03</td>\n",
       "    </tr>\n",
       "    <tr>\n",
       "      <th>7</th>\n",
       "      <td>2021-03-03 11:00:00</td>\n",
       "      <td>14171.30</td>\n",
       "      <td>14177.65</td>\n",
       "      <td>14159.54</td>\n",
       "      <td>14163.32</td>\n",
       "      <td>2021-03-03</td>\n",
       "    </tr>\n",
       "  </tbody>\n",
       "</table>\n",
       "</div>"
      ],
      "text/plain": [
       "             datetime      open      high       low     close        date\n",
       "3 2021-03-03 09:00:00  14130.86  14179.96  14129.55  14164.03  2021-03-03\n",
       "4 2021-03-03 09:30:00  14164.50  14185.35  14152.44  14170.13  2021-03-03\n",
       "5 2021-03-03 10:00:00  14170.00  14197.49  14161.18  14179.74  2021-03-03\n",
       "6 2021-03-03 10:30:00  14179.60  14188.59  14161.69  14170.11  2021-03-03\n",
       "7 2021-03-03 11:00:00  14171.30  14177.65  14159.54  14163.32  2021-03-03"
      ]
     },
     "execution_count": 5,
     "metadata": {},
     "output_type": "execute_result"
    }
   ],
   "source": [
    "daxdf.head()"
   ]
  },
  {
   "cell_type": "code",
   "execution_count": 6,
   "id": "20ba8c35",
   "metadata": {
    "collapsed": false
   },
   "outputs": [],
   "source": [
    "open_time = time(9,0)\n",
    "close_time = time(17, 30)\n",
    "ibclose_time = time(10, 0)\n",
    "\n",
    "daily_open = daxdf[daxdf.datetime.dt.time == open_time][[\"date\", \"open\"]]\n",
    "daily_close = daxdf[daxdf.datetime.dt.time == close_time][[\"date\", \"close\"]]\n",
    "ib_close = daxdf[daxdf.datetime.dt.time == ibclose_time][[\"date\", \"close\"]].rename(\n",
    "    columns={\"close\" : \"ibclose\"}\n",
    ")\n",
    "\n",
    "daily_low = daxdf.groupby(\"date\").low.min().reset_index()\n",
    "daily_high = daxdf.groupby(\"date\").high.max().reset_index()\n",
    "\n",
    "ib_low = daxdf[daxdf.datetime.dt.time <= ibclose_time].groupby(\"date\").low.min().reset_index().rename(columns={\"low\": \"iblow\"})\n",
    "ib_high = daxdf[daxdf.datetime.dt.time <= ibclose_time].groupby(\"date\").high.max().reset_index().rename(columns={\"high\" : \"ibhigh\"})"
   ]
  },
  {
   "cell_type": "code",
   "execution_count": 7,
   "id": "b8f0a3f3",
   "metadata": {
    "collapsed": false
   },
   "outputs": [],
   "source": [
    "data = reduce(\n",
    "    lambda l, r : pd.merge(l,r, on=\"date\"),\n",
    "    [daily_open, daily_high, daily_low, daily_close, ib_low, ib_high, ib_close]\n",
    ")"
   ]
  },
  {
   "cell_type": "code",
   "execution_count": 8,
   "id": "41468449",
   "metadata": {
    "collapsed": false
   },
   "outputs": [
    {
     "data": {
      "text/html": [
       "<div>\n",
       "<style scoped>\n",
       "    .dataframe tbody tr th:only-of-type {\n",
       "        vertical-align: middle;\n",
       "    }\n",
       "\n",
       "    .dataframe tbody tr th {\n",
       "        vertical-align: top;\n",
       "    }\n",
       "\n",
       "    .dataframe thead th {\n",
       "        text-align: right;\n",
       "    }\n",
       "</style>\n",
       "<table border=\"1\" class=\"dataframe\">\n",
       "  <thead>\n",
       "    <tr style=\"text-align: right;\">\n",
       "      <th></th>\n",
       "      <th>date</th>\n",
       "      <th>open</th>\n",
       "      <th>high</th>\n",
       "      <th>low</th>\n",
       "      <th>close</th>\n",
       "      <th>iblow</th>\n",
       "      <th>ibhigh</th>\n",
       "      <th>ibclose</th>\n",
       "    </tr>\n",
       "  </thead>\n",
       "  <tbody>\n",
       "    <tr>\n",
       "      <th>0</th>\n",
       "      <td>2021-03-03</td>\n",
       "      <td>14130.86</td>\n",
       "      <td>14197.49</td>\n",
       "      <td>13979.73</td>\n",
       "      <td>14080.03</td>\n",
       "      <td>14129.55</td>\n",
       "      <td>14197.49</td>\n",
       "      <td>14179.74</td>\n",
       "    </tr>\n",
       "    <tr>\n",
       "      <th>1</th>\n",
       "      <td>2021-03-04</td>\n",
       "      <td>14015.44</td>\n",
       "      <td>14095.81</td>\n",
       "      <td>13959.27</td>\n",
       "      <td>14056.34</td>\n",
       "      <td>13976.44</td>\n",
       "      <td>14056.32</td>\n",
       "      <td>14006.65</td>\n",
       "    </tr>\n",
       "    <tr>\n",
       "      <th>2</th>\n",
       "      <td>2021-03-05</td>\n",
       "      <td>13958.54</td>\n",
       "      <td>14068.03</td>\n",
       "      <td>13868.20</td>\n",
       "      <td>13920.69</td>\n",
       "      <td>13868.20</td>\n",
       "      <td>13970.17</td>\n",
       "      <td>13901.60</td>\n",
       "    </tr>\n",
       "    <tr>\n",
       "      <th>3</th>\n",
       "      <td>2021-03-08</td>\n",
       "      <td>14024.57</td>\n",
       "      <td>14402.92</td>\n",
       "      <td>13977.13</td>\n",
       "      <td>14380.91</td>\n",
       "      <td>13977.13</td>\n",
       "      <td>14050.00</td>\n",
       "      <td>14013.16</td>\n",
       "    </tr>\n",
       "    <tr>\n",
       "      <th>4</th>\n",
       "      <td>2021-03-09</td>\n",
       "      <td>14345.51</td>\n",
       "      <td>14475.65</td>\n",
       "      <td>14309.35</td>\n",
       "      <td>14437.94</td>\n",
       "      <td>14309.35</td>\n",
       "      <td>14403.48</td>\n",
       "      <td>14392.05</td>\n",
       "    </tr>\n",
       "    <tr>\n",
       "      <th>...</th>\n",
       "      <td>...</td>\n",
       "      <td>...</td>\n",
       "      <td>...</td>\n",
       "      <td>...</td>\n",
       "      <td>...</td>\n",
       "      <td>...</td>\n",
       "      <td>...</td>\n",
       "      <td>...</td>\n",
       "    </tr>\n",
       "    <tr>\n",
       "      <th>272</th>\n",
       "      <td>2022-03-28</td>\n",
       "      <td>14376.00</td>\n",
       "      <td>14627.58</td>\n",
       "      <td>14371.90</td>\n",
       "      <td>14417.37</td>\n",
       "      <td>14371.90</td>\n",
       "      <td>14527.01</td>\n",
       "      <td>14504.18</td>\n",
       "    </tr>\n",
       "    <tr>\n",
       "      <th>273</th>\n",
       "      <td>2022-03-29</td>\n",
       "      <td>14592.74</td>\n",
       "      <td>14925.25</td>\n",
       "      <td>14553.71</td>\n",
       "      <td>14820.33</td>\n",
       "      <td>14553.71</td>\n",
       "      <td>14664.29</td>\n",
       "      <td>14603.33</td>\n",
       "    </tr>\n",
       "    <tr>\n",
       "      <th>274</th>\n",
       "      <td>2022-03-30</td>\n",
       "      <td>14712.32</td>\n",
       "      <td>14744.72</td>\n",
       "      <td>14555.87</td>\n",
       "      <td>14606.05</td>\n",
       "      <td>14586.01</td>\n",
       "      <td>14744.72</td>\n",
       "      <td>14620.20</td>\n",
       "    </tr>\n",
       "    <tr>\n",
       "      <th>275</th>\n",
       "      <td>2022-03-31</td>\n",
       "      <td>14674.83</td>\n",
       "      <td>14732.00</td>\n",
       "      <td>14404.03</td>\n",
       "      <td>14414.75</td>\n",
       "      <td>14603.31</td>\n",
       "      <td>14732.00</td>\n",
       "      <td>14607.18</td>\n",
       "    </tr>\n",
       "    <tr>\n",
       "      <th>276</th>\n",
       "      <td>2022-04-01</td>\n",
       "      <td>14447.78</td>\n",
       "      <td>14506.02</td>\n",
       "      <td>14403.09</td>\n",
       "      <td>14446.48</td>\n",
       "      <td>14403.09</td>\n",
       "      <td>14502.93</td>\n",
       "      <td>14439.08</td>\n",
       "    </tr>\n",
       "  </tbody>\n",
       "</table>\n",
       "<p>277 rows × 8 columns</p>\n",
       "</div>"
      ],
      "text/plain": [
       "           date      open      high       low     close     iblow    ibhigh  \\\n",
       "0    2021-03-03  14130.86  14197.49  13979.73  14080.03  14129.55  14197.49   \n",
       "1    2021-03-04  14015.44  14095.81  13959.27  14056.34  13976.44  14056.32   \n",
       "2    2021-03-05  13958.54  14068.03  13868.20  13920.69  13868.20  13970.17   \n",
       "3    2021-03-08  14024.57  14402.92  13977.13  14380.91  13977.13  14050.00   \n",
       "4    2021-03-09  14345.51  14475.65  14309.35  14437.94  14309.35  14403.48   \n",
       "..          ...       ...       ...       ...       ...       ...       ...   \n",
       "272  2022-03-28  14376.00  14627.58  14371.90  14417.37  14371.90  14527.01   \n",
       "273  2022-03-29  14592.74  14925.25  14553.71  14820.33  14553.71  14664.29   \n",
       "274  2022-03-30  14712.32  14744.72  14555.87  14606.05  14586.01  14744.72   \n",
       "275  2022-03-31  14674.83  14732.00  14404.03  14414.75  14603.31  14732.00   \n",
       "276  2022-04-01  14447.78  14506.02  14403.09  14446.48  14403.09  14502.93   \n",
       "\n",
       "      ibclose  \n",
       "0    14179.74  \n",
       "1    14006.65  \n",
       "2    13901.60  \n",
       "3    14013.16  \n",
       "4    14392.05  \n",
       "..        ...  \n",
       "272  14504.18  \n",
       "273  14603.33  \n",
       "274  14620.20  \n",
       "275  14607.18  \n",
       "276  14439.08  \n",
       "\n",
       "[277 rows x 8 columns]"
      ]
     },
     "execution_count": 8,
     "metadata": {},
     "output_type": "execute_result"
    }
   ],
   "source": [
    "data"
   ]
  },
  {
   "cell_type": "code",
   "execution_count": 9,
   "id": "8aeacf5b",
   "metadata": {
    "collapsed": false
   },
   "outputs": [],
   "source": [
    "data[\"range\"] = data.high - data.low\n",
    "data[\"ibrange\"] = data.ibhigh - data.iblow"
   ]
  },
  {
   "cell_type": "code",
   "execution_count": 10,
   "id": "c61b6913",
   "metadata": {
    "collapsed": false
   },
   "outputs": [],
   "source": [
    "data[\"daydir\"] = data.apply(\n",
    "    lambda r: \"up\" if r.close >= r.open else \"down\",\n",
    "    axis=1\n",
    ")\n",
    "data[\"ibdir\"] = data.apply(\n",
    "    lambda r: \"up\" if r.ibclose >= r.open else \"down\",\n",
    "    axis=1\n",
    ")\n",
    "\n",
    "def get_ibdaytype(r):\n",
    "    if r.high == r.ibhigh and r.low == r.iblow:\n",
    "        return \"not-broken\"\n",
    "    if r.high == r.ibhigh:\n",
    "        return \"low-broken\"\n",
    "    if r.low == r.iblow:\n",
    "        return \"high-broken\"\n",
    "    return \"both-broken\"\n",
    "\n",
    "data[\"ibdaytype\"] = data.apply(get_ibdaytype, axis=1)"
   ]
  },
  {
   "cell_type": "code",
   "execution_count": 11,
   "id": "28a44f46",
   "metadata": {
    "collapsed": false
   },
   "outputs": [
    {
     "data": {
      "text/html": [
       "<div>\n",
       "<style scoped>\n",
       "    .dataframe tbody tr th:only-of-type {\n",
       "        vertical-align: middle;\n",
       "    }\n",
       "\n",
       "    .dataframe tbody tr th {\n",
       "        vertical-align: top;\n",
       "    }\n",
       "\n",
       "    .dataframe thead th {\n",
       "        text-align: right;\n",
       "    }\n",
       "</style>\n",
       "<table border=\"1\" class=\"dataframe\">\n",
       "  <thead>\n",
       "    <tr style=\"text-align: right;\">\n",
       "      <th></th>\n",
       "      <th>date</th>\n",
       "      <th>open</th>\n",
       "      <th>high</th>\n",
       "      <th>low</th>\n",
       "      <th>close</th>\n",
       "      <th>iblow</th>\n",
       "      <th>ibhigh</th>\n",
       "      <th>ibclose</th>\n",
       "      <th>range</th>\n",
       "      <th>ibrange</th>\n",
       "      <th>daydir</th>\n",
       "      <th>ibdir</th>\n",
       "      <th>ibdaytype</th>\n",
       "    </tr>\n",
       "  </thead>\n",
       "  <tbody>\n",
       "    <tr>\n",
       "      <th>0</th>\n",
       "      <td>2021-03-03</td>\n",
       "      <td>14130.86</td>\n",
       "      <td>14197.49</td>\n",
       "      <td>13979.73</td>\n",
       "      <td>14080.03</td>\n",
       "      <td>14129.55</td>\n",
       "      <td>14197.49</td>\n",
       "      <td>14179.74</td>\n",
       "      <td>217.76</td>\n",
       "      <td>67.94</td>\n",
       "      <td>down</td>\n",
       "      <td>up</td>\n",
       "      <td>low-broken</td>\n",
       "    </tr>\n",
       "    <tr>\n",
       "      <th>1</th>\n",
       "      <td>2021-03-04</td>\n",
       "      <td>14015.44</td>\n",
       "      <td>14095.81</td>\n",
       "      <td>13959.27</td>\n",
       "      <td>14056.34</td>\n",
       "      <td>13976.44</td>\n",
       "      <td>14056.32</td>\n",
       "      <td>14006.65</td>\n",
       "      <td>136.54</td>\n",
       "      <td>79.88</td>\n",
       "      <td>up</td>\n",
       "      <td>down</td>\n",
       "      <td>both-broken</td>\n",
       "    </tr>\n",
       "    <tr>\n",
       "      <th>2</th>\n",
       "      <td>2021-03-05</td>\n",
       "      <td>13958.54</td>\n",
       "      <td>14068.03</td>\n",
       "      <td>13868.20</td>\n",
       "      <td>13920.69</td>\n",
       "      <td>13868.20</td>\n",
       "      <td>13970.17</td>\n",
       "      <td>13901.60</td>\n",
       "      <td>199.83</td>\n",
       "      <td>101.97</td>\n",
       "      <td>down</td>\n",
       "      <td>down</td>\n",
       "      <td>high-broken</td>\n",
       "    </tr>\n",
       "    <tr>\n",
       "      <th>3</th>\n",
       "      <td>2021-03-08</td>\n",
       "      <td>14024.57</td>\n",
       "      <td>14402.92</td>\n",
       "      <td>13977.13</td>\n",
       "      <td>14380.91</td>\n",
       "      <td>13977.13</td>\n",
       "      <td>14050.00</td>\n",
       "      <td>14013.16</td>\n",
       "      <td>425.79</td>\n",
       "      <td>72.87</td>\n",
       "      <td>up</td>\n",
       "      <td>down</td>\n",
       "      <td>high-broken</td>\n",
       "    </tr>\n",
       "    <tr>\n",
       "      <th>4</th>\n",
       "      <td>2021-03-09</td>\n",
       "      <td>14345.51</td>\n",
       "      <td>14475.65</td>\n",
       "      <td>14309.35</td>\n",
       "      <td>14437.94</td>\n",
       "      <td>14309.35</td>\n",
       "      <td>14403.48</td>\n",
       "      <td>14392.05</td>\n",
       "      <td>166.30</td>\n",
       "      <td>94.13</td>\n",
       "      <td>up</td>\n",
       "      <td>up</td>\n",
       "      <td>high-broken</td>\n",
       "    </tr>\n",
       "    <tr>\n",
       "      <th>...</th>\n",
       "      <td>...</td>\n",
       "      <td>...</td>\n",
       "      <td>...</td>\n",
       "      <td>...</td>\n",
       "      <td>...</td>\n",
       "      <td>...</td>\n",
       "      <td>...</td>\n",
       "      <td>...</td>\n",
       "      <td>...</td>\n",
       "      <td>...</td>\n",
       "      <td>...</td>\n",
       "      <td>...</td>\n",
       "      <td>...</td>\n",
       "    </tr>\n",
       "    <tr>\n",
       "      <th>272</th>\n",
       "      <td>2022-03-28</td>\n",
       "      <td>14376.00</td>\n",
       "      <td>14627.58</td>\n",
       "      <td>14371.90</td>\n",
       "      <td>14417.37</td>\n",
       "      <td>14371.90</td>\n",
       "      <td>14527.01</td>\n",
       "      <td>14504.18</td>\n",
       "      <td>255.68</td>\n",
       "      <td>155.11</td>\n",
       "      <td>up</td>\n",
       "      <td>up</td>\n",
       "      <td>high-broken</td>\n",
       "    </tr>\n",
       "    <tr>\n",
       "      <th>273</th>\n",
       "      <td>2022-03-29</td>\n",
       "      <td>14592.74</td>\n",
       "      <td>14925.25</td>\n",
       "      <td>14553.71</td>\n",
       "      <td>14820.33</td>\n",
       "      <td>14553.71</td>\n",
       "      <td>14664.29</td>\n",
       "      <td>14603.33</td>\n",
       "      <td>371.54</td>\n",
       "      <td>110.58</td>\n",
       "      <td>up</td>\n",
       "      <td>up</td>\n",
       "      <td>high-broken</td>\n",
       "    </tr>\n",
       "    <tr>\n",
       "      <th>274</th>\n",
       "      <td>2022-03-30</td>\n",
       "      <td>14712.32</td>\n",
       "      <td>14744.72</td>\n",
       "      <td>14555.87</td>\n",
       "      <td>14606.05</td>\n",
       "      <td>14586.01</td>\n",
       "      <td>14744.72</td>\n",
       "      <td>14620.20</td>\n",
       "      <td>188.85</td>\n",
       "      <td>158.71</td>\n",
       "      <td>down</td>\n",
       "      <td>down</td>\n",
       "      <td>low-broken</td>\n",
       "    </tr>\n",
       "    <tr>\n",
       "      <th>275</th>\n",
       "      <td>2022-03-31</td>\n",
       "      <td>14674.83</td>\n",
       "      <td>14732.00</td>\n",
       "      <td>14404.03</td>\n",
       "      <td>14414.75</td>\n",
       "      <td>14603.31</td>\n",
       "      <td>14732.00</td>\n",
       "      <td>14607.18</td>\n",
       "      <td>327.97</td>\n",
       "      <td>128.69</td>\n",
       "      <td>down</td>\n",
       "      <td>down</td>\n",
       "      <td>low-broken</td>\n",
       "    </tr>\n",
       "    <tr>\n",
       "      <th>276</th>\n",
       "      <td>2022-04-01</td>\n",
       "      <td>14447.78</td>\n",
       "      <td>14506.02</td>\n",
       "      <td>14403.09</td>\n",
       "      <td>14446.48</td>\n",
       "      <td>14403.09</td>\n",
       "      <td>14502.93</td>\n",
       "      <td>14439.08</td>\n",
       "      <td>102.93</td>\n",
       "      <td>99.84</td>\n",
       "      <td>down</td>\n",
       "      <td>down</td>\n",
       "      <td>high-broken</td>\n",
       "    </tr>\n",
       "  </tbody>\n",
       "</table>\n",
       "<p>277 rows × 13 columns</p>\n",
       "</div>"
      ],
      "text/plain": [
       "           date      open      high       low     close     iblow    ibhigh  \\\n",
       "0    2021-03-03  14130.86  14197.49  13979.73  14080.03  14129.55  14197.49   \n",
       "1    2021-03-04  14015.44  14095.81  13959.27  14056.34  13976.44  14056.32   \n",
       "2    2021-03-05  13958.54  14068.03  13868.20  13920.69  13868.20  13970.17   \n",
       "3    2021-03-08  14024.57  14402.92  13977.13  14380.91  13977.13  14050.00   \n",
       "4    2021-03-09  14345.51  14475.65  14309.35  14437.94  14309.35  14403.48   \n",
       "..          ...       ...       ...       ...       ...       ...       ...   \n",
       "272  2022-03-28  14376.00  14627.58  14371.90  14417.37  14371.90  14527.01   \n",
       "273  2022-03-29  14592.74  14925.25  14553.71  14820.33  14553.71  14664.29   \n",
       "274  2022-03-30  14712.32  14744.72  14555.87  14606.05  14586.01  14744.72   \n",
       "275  2022-03-31  14674.83  14732.00  14404.03  14414.75  14603.31  14732.00   \n",
       "276  2022-04-01  14447.78  14506.02  14403.09  14446.48  14403.09  14502.93   \n",
       "\n",
       "      ibclose   range  ibrange daydir ibdir    ibdaytype  \n",
       "0    14179.74  217.76    67.94   down    up   low-broken  \n",
       "1    14006.65  136.54    79.88     up  down  both-broken  \n",
       "2    13901.60  199.83   101.97   down  down  high-broken  \n",
       "3    14013.16  425.79    72.87     up  down  high-broken  \n",
       "4    14392.05  166.30    94.13     up    up  high-broken  \n",
       "..        ...     ...      ...    ...   ...          ...  \n",
       "272  14504.18  255.68   155.11     up    up  high-broken  \n",
       "273  14603.33  371.54   110.58     up    up  high-broken  \n",
       "274  14620.20  188.85   158.71   down  down   low-broken  \n",
       "275  14607.18  327.97   128.69   down  down   low-broken  \n",
       "276  14439.08  102.93    99.84   down  down  high-broken  \n",
       "\n",
       "[277 rows x 13 columns]"
      ]
     },
     "execution_count": 11,
     "metadata": {},
     "output_type": "execute_result"
    }
   ],
   "source": [
    "data"
   ]
  },
  {
   "cell_type": "code",
   "execution_count": 12,
   "id": "33a04bf1",
   "metadata": {
    "collapsed": false
   },
   "outputs": [
    {
     "data": {
      "image/png": "[encoded data removed]",
      "text/plain": [
       "<Figure size 432x288 with 1 Axes>"
      ]
     },
     "metadata": {},
     "output_type": "display_data"
    },
    {
     "data": {
      "image/png": "[encoded data removed]",
      "text/plain": [
       "<Figure size 432x288 with 1 Axes>"
      ]
     },
     "metadata": {},
     "output_type": "display_data"
    },
    {
     "data": {
      "image/png": "[encoded data removed]",
      "text/plain": [
       "<Figure size 432x288 with 1 Axes>"
      ]
     },
     "metadata": {},
     "output_type": "display_data"
    }
   ],
   "source": [
    "plt.style.use(\"dark_background\")\n",
    "def plot_ibdaytype(data, title):\n",
    "    (data.groupby(\"ibdaytype\").date.count() *100 / len(data)).plot.barh(title=title)\n",
    "    plt.show()\n",
    "\n",
    "\n",
    "ideas = [\n",
    "    (data, \"all data\"),\n",
    "    (data[data.ibdir == \"up\"], \"up ibdir\"),\n",
    "    (data[data.ibdir == \"down\"], \"down ibdir\")\n",
    "]\n",
    "\n",
    "for idea in ideas: plot_ibdaytype(idea[0], idea[1])\n"
   ]
  },
  {
   "cell_type": "code",
   "execution_count": 13,
   "id": "997b68ec",
   "metadata": {
    "collapsed": false
   },
   "outputs": [
    {
     "name": "stdout",
     "output_type": "stream",
     "text": [
      "<class 'pandas.core.frame.DataFrame'>\n",
      "Int64Index: 277 entries, 0 to 276\n",
      "Data columns (total 13 columns):\n",
      " #   Column     Non-Null Count  Dtype  \n",
      "---  ------     --------------  -----  \n",
      " 0   date       277 non-null    object \n",
      " 1   open       277 non-null    float64\n",
      " 2   high       277 non-null    float64\n",
      " 3   low        277 non-null    float64\n",
      " 4   close      277 non-null    float64\n",
      " 5   iblow      277 non-null    float64\n",
      " 6   ibhigh     277 non-null    float64\n",
      " 7   ibclose    277 non-null    float64\n",
      " 8   range      277 non-null    float64\n",
      " 9   ibrange    277 non-null    float64\n",
      " 10  daydir     277 non-null    object \n",
      " 11  ibdir      277 non-null    object \n",
      " 12  ibdaytype  277 non-null    object \n",
      "dtypes: float64(9), object(4)\n",
      "memory usage: 30.3+ KB\n"
     ]
    }
   ],
   "source": [
    "data.info()"
   ]
  },
  {
   "cell_type": "code",
   "execution_count": 14,
   "id": "41e36eb5",
   "metadata": {
    "collapsed": false
   },
   "outputs": [
    {
     "name": "stdout",
     "output_type": "stream",
     "text": [
      "<class 'pandas.core.frame.DataFrame'>\n",
      "Int64Index: 277 entries, 0 to 276\n",
      "Data columns (total 13 columns):\n",
      " #   Column     Non-Null Count  Dtype  \n",
      "---  ------     --------------  -----  \n",
      " 0   date       277 non-null    object \n",
      " 1   open       277 non-null    float64\n",
      " 2   high       277 non-null    float64\n",
      " 3   low        277 non-null    float64\n",
      " 4   close      277 non-null    float64\n",
      " 5   iblow      277 non-null    float64\n",
      " 6   ibhigh     277 non-null    float64\n",
      " 7   ibclose    277 non-null    float64\n",
      " 8   range      277 non-null    float64\n",
      " 9   ibrange    277 non-null    float64\n",
      " 10  daydir     277 non-null    object \n",
      " 11  ibdir      277 non-null    object \n",
      " 12  ibdaytype  277 non-null    object \n",
      "dtypes: float64(9), object(4)\n",
      "memory usage: 30.3+ KB\n"
     ]
    }
   ],
   "source": [
    "data.info()"
   ]
  },
  {
   "cell_type": "code",
   "execution_count": 15,
   "id": "971225e8",
   "metadata": {
    "collapsed": false
   },
   "outputs": [],
   "source": [
    "data[\"weekday\"] = pd.to_datetime(data[\"date\"]).dt.weekday.astype(\"str\")"
   ]
  },
  {
   "cell_type": "code",
   "execution_count": 16,
   "id": "0dbd54b5",
   "metadata": {
    "collapsed": false
   },
   "outputs": [
    {
     "data": {
      "text/html": [
       "<div>\n",
       "<style scoped>\n",
       "    .dataframe tbody tr th:only-of-type {\n",
       "        vertical-align: middle;\n",
       "    }\n",
       "\n",
       "    .dataframe tbody tr th {\n",
       "        vertical-align: top;\n",
       "    }\n",
       "\n",
       "    .dataframe thead th {\n",
       "        text-align: right;\n",
       "    }\n",
       "</style>\n",
       "<table border=\"1\" class=\"dataframe\">\n",
       "  <thead>\n",
       "    <tr style=\"text-align: right;\">\n",
       "      <th></th>\n",
       "      <th>date</th>\n",
       "      <th>open</th>\n",
       "      <th>high</th>\n",
       "      <th>low</th>\n",
       "      <th>close</th>\n",
       "      <th>iblow</th>\n",
       "      <th>ibhigh</th>\n",
       "      <th>ibclose</th>\n",
       "      <th>range</th>\n",
       "      <th>ibrange</th>\n",
       "      <th>daydir</th>\n",
       "      <th>ibdir</th>\n",
       "      <th>ibdaytype</th>\n",
       "      <th>weekday</th>\n",
       "    </tr>\n",
       "  </thead>\n",
       "  <tbody>\n",
       "    <tr>\n",
       "      <th>0</th>\n",
       "      <td>2021-03-03</td>\n",
       "      <td>14130.86</td>\n",
       "      <td>14197.49</td>\n",
       "      <td>13979.73</td>\n",
       "      <td>14080.03</td>\n",
       "      <td>14129.55</td>\n",
       "      <td>14197.49</td>\n",
       "      <td>14179.74</td>\n",
       "      <td>217.76</td>\n",
       "      <td>67.94</td>\n",
       "      <td>down</td>\n",
       "      <td>up</td>\n",
       "      <td>low-broken</td>\n",
       "      <td>2</td>\n",
       "    </tr>\n",
       "    <tr>\n",
       "      <th>1</th>\n",
       "      <td>2021-03-04</td>\n",
       "      <td>14015.44</td>\n",
       "      <td>14095.81</td>\n",
       "      <td>13959.27</td>\n",
       "      <td>14056.34</td>\n",
       "      <td>13976.44</td>\n",
       "      <td>14056.32</td>\n",
       "      <td>14006.65</td>\n",
       "      <td>136.54</td>\n",
       "      <td>79.88</td>\n",
       "      <td>up</td>\n",
       "      <td>down</td>\n",
       "      <td>both-broken</td>\n",
       "      <td>3</td>\n",
       "    </tr>\n",
       "    <tr>\n",
       "      <th>2</th>\n",
       "      <td>2021-03-05</td>\n",
       "      <td>13958.54</td>\n",
       "      <td>14068.03</td>\n",
       "      <td>13868.20</td>\n",
       "      <td>13920.69</td>\n",
       "      <td>13868.20</td>\n",
       "      <td>13970.17</td>\n",
       "      <td>13901.60</td>\n",
       "      <td>199.83</td>\n",
       "      <td>101.97</td>\n",
       "      <td>down</td>\n",
       "      <td>down</td>\n",
       "      <td>high-broken</td>\n",
       "      <td>4</td>\n",
       "    </tr>\n",
       "    <tr>\n",
       "      <th>3</th>\n",
       "      <td>2021-03-08</td>\n",
       "      <td>14024.57</td>\n",
       "      <td>14402.92</td>\n",
       "      <td>13977.13</td>\n",
       "      <td>14380.91</td>\n",
       "      <td>13977.13</td>\n",
       "      <td>14050.00</td>\n",
       "      <td>14013.16</td>\n",
       "      <td>425.79</td>\n",
       "      <td>72.87</td>\n",
       "      <td>up</td>\n",
       "      <td>down</td>\n",
       "      <td>high-broken</td>\n",
       "      <td>0</td>\n",
       "    </tr>\n",
       "    <tr>\n",
       "      <th>4</th>\n",
       "      <td>2021-03-09</td>\n",
       "      <td>14345.51</td>\n",
       "      <td>14475.65</td>\n",
       "      <td>14309.35</td>\n",
       "      <td>14437.94</td>\n",
       "      <td>14309.35</td>\n",
       "      <td>14403.48</td>\n",
       "      <td>14392.05</td>\n",
       "      <td>166.30</td>\n",
       "      <td>94.13</td>\n",
       "      <td>up</td>\n",
       "      <td>up</td>\n",
       "      <td>high-broken</td>\n",
       "      <td>1</td>\n",
       "    </tr>\n",
       "    <tr>\n",
       "      <th>...</th>\n",
       "      <td>...</td>\n",
       "      <td>...</td>\n",
       "      <td>...</td>\n",
       "      <td>...</td>\n",
       "      <td>...</td>\n",
       "      <td>...</td>\n",
       "      <td>...</td>\n",
       "      <td>...</td>\n",
       "      <td>...</td>\n",
       "      <td>...</td>\n",
       "      <td>...</td>\n",
       "      <td>...</td>\n",
       "      <td>...</td>\n",
       "      <td>...</td>\n",
       "    </tr>\n",
       "    <tr>\n",
       "      <th>272</th>\n",
       "      <td>2022-03-28</td>\n",
       "      <td>14376.00</td>\n",
       "      <td>14627.58</td>\n",
       "      <td>14371.90</td>\n",
       "      <td>14417.37</td>\n",
       "      <td>14371.90</td>\n",
       "      <td>14527.01</td>\n",
       "      <td>14504.18</td>\n",
       "      <td>255.68</td>\n",
       "      <td>155.11</td>\n",
       "      <td>up</td>\n",
       "      <td>up</td>\n",
       "      <td>high-broken</td>\n",
       "      <td>0</td>\n",
       "    </tr>\n",
       "    <tr>\n",
       "      <th>273</th>\n",
       "      <td>2022-03-29</td>\n",
       "      <td>14592.74</td>\n",
       "      <td>14925.25</td>\n",
       "      <td>14553.71</td>\n",
       "      <td>14820.33</td>\n",
       "      <td>14553.71</td>\n",
       "      <td>14664.29</td>\n",
       "      <td>14603.33</td>\n",
       "      <td>371.54</td>\n",
       "      <td>110.58</td>\n",
       "      <td>up</td>\n",
       "      <td>up</td>\n",
       "      <td>high-broken</td>\n",
       "      <td>1</td>\n",
       "    </tr>\n",
       "    <tr>\n",
       "      <th>274</th>\n",
       "      <td>2022-03-30</td>\n",
       "      <td>14712.32</td>\n",
       "      <td>14744.72</td>\n",
       "      <td>14555.87</td>\n",
       "      <td>14606.05</td>\n",
       "      <td>14586.01</td>\n",
       "      <td>14744.72</td>\n",
       "      <td>14620.20</td>\n",
       "      <td>188.85</td>\n",
       "      <td>158.71</td>\n",
       "      <td>down</td>\n",
       "      <td>down</td>\n",
       "      <td>low-broken</td>\n",
       "      <td>2</td>\n",
       "    </tr>\n",
       "    <tr>\n",
       "      <th>275</th>\n",
       "      <td>2022-03-31</td>\n",
       "      <td>14674.83</td>\n",
       "      <td>14732.00</td>\n",
       "      <td>14404.03</td>\n",
       "      <td>14414.75</td>\n",
       "      <td>14603.31</td>\n",
       "      <td>14732.00</td>\n",
       "      <td>14607.18</td>\n",
       "      <td>327.97</td>\n",
       "      <td>128.69</td>\n",
       "      <td>down</td>\n",
       "      <td>down</td>\n",
       "      <td>low-broken</td>\n",
       "      <td>3</td>\n",
       "    </tr>\n",
       "    <tr>\n",
       "      <th>276</th>\n",
       "      <td>2022-04-01</td>\n",
       "      <td>14447.78</td>\n",
       "      <td>14506.02</td>\n",
       "      <td>14403.09</td>\n",
       "      <td>14446.48</td>\n",
       "      <td>14403.09</td>\n",
       "      <td>14502.93</td>\n",
       "      <td>14439.08</td>\n",
       "      <td>102.93</td>\n",
       "      <td>99.84</td>\n",
       "      <td>down</td>\n",
       "      <td>down</td>\n",
       "      <td>high-broken</td>\n",
       "      <td>4</td>\n",
       "    </tr>\n",
       "  </tbody>\n",
       "</table>\n",
       "<p>277 rows × 14 columns</p>\n",
       "</div>"
      ],
      "text/plain": [
       "           date      open      high       low     close     iblow    ibhigh  \\\n",
       "0    2021-03-03  14130.86  14197.49  13979.73  14080.03  14129.55  14197.49   \n",
       "1    2021-03-04  14015.44  14095.81  13959.27  14056.34  13976.44  14056.32   \n",
       "2    2021-03-05  13958.54  14068.03  13868.20  13920.69  13868.20  13970.17   \n",
       "3    2021-03-08  14024.57  14402.92  13977.13  14380.91  13977.13  14050.00   \n",
       "4    2021-03-09  14345.51  14475.65  14309.35  14437.94  14309.35  14403.48   \n",
       "..          ...       ...       ...       ...       ...       ...       ...   \n",
       "272  2022-03-28  14376.00  14627.58  14371.90  14417.37  14371.90  14527.01   \n",
       "273  2022-03-29  14592.74  14925.25  14553.71  14820.33  14553.71  14664.29   \n",
       "274  2022-03-30  14712.32  14744.72  14555.87  14606.05  14586.01  14744.72   \n",
       "275  2022-03-31  14674.83  14732.00  14404.03  14414.75  14603.31  14732.00   \n",
       "276  2022-04-01  14447.78  14506.02  14403.09  14446.48  14403.09  14502.93   \n",
       "\n",
       "      ibclose   range  ibrange daydir ibdir    ibdaytype weekday  \n",
       "0    14179.74  217.76    67.94   down    up   low-broken       2  \n",
       "1    14006.65  136.54    79.88     up  down  both-broken       3  \n",
       "2    13901.60  199.83   101.97   down  down  high-broken       4  \n",
       "3    14013.16  425.79    72.87     up  down  high-broken       0  \n",
       "4    14392.05  166.30    94.13     up    up  high-broken       1  \n",
       "..        ...     ...      ...    ...   ...          ...     ...  \n",
       "272  14504.18  255.68   155.11     up    up  high-broken       0  \n",
       "273  14603.33  371.54   110.58     up    up  high-broken       1  \n",
       "274  14620.20  188.85   158.71   down  down   low-broken       2  \n",
       "275  14607.18  327.97   128.69   down  down   low-broken       3  \n",
       "276  14439.08  102.93    99.84   down  down  high-broken       4  \n",
       "\n",
       "[277 rows x 14 columns]"
      ]
     },
     "execution_count": 16,
     "metadata": {},
     "output_type": "execute_result"
    }
   ],
   "source": [
    "data"
   ]
  },
  {
   "cell_type": "code",
   "execution_count": 17,
   "id": "53d31c74",
   "metadata": {
    "collapsed": false
   },
   "outputs": [
    {
     "data": {
      "text/html": [
       "<div>\n",
       "<style scoped>\n",
       "    .dataframe tbody tr th:only-of-type {\n",
       "        vertical-align: middle;\n",
       "    }\n",
       "\n",
       "    .dataframe tbody tr th {\n",
       "        vertical-align: top;\n",
       "    }\n",
       "\n",
       "    .dataframe thead th {\n",
       "        text-align: right;\n",
       "    }\n",
       "</style>\n",
       "<table border=\"1\" class=\"dataframe\">\n",
       "  <thead>\n",
       "    <tr style=\"text-align: right;\">\n",
       "      <th></th>\n",
       "      <th>open</th>\n",
       "      <th>iblow</th>\n",
       "      <th>ibhigh</th>\n",
       "      <th>ibclose</th>\n",
       "      <th>ibrange</th>\n",
       "      <th>ibdir_down</th>\n",
       "      <th>ibdir_up</th>\n",
       "      <th>weekday_0</th>\n",
       "      <th>weekday_1</th>\n",
       "      <th>weekday_2</th>\n",
       "      <th>weekday_3</th>\n",
       "      <th>weekday_4</th>\n",
       "    </tr>\n",
       "  </thead>\n",
       "  <tbody>\n",
       "    <tr>\n",
       "      <th>0</th>\n",
       "      <td>14130.86</td>\n",
       "      <td>14129.55</td>\n",
       "      <td>14197.49</td>\n",
       "      <td>14179.74</td>\n",
       "      <td>67.94</td>\n",
       "      <td>0</td>\n",
       "      <td>1</td>\n",
       "      <td>0</td>\n",
       "      <td>0</td>\n",
       "      <td>1</td>\n",
       "      <td>0</td>\n",
       "      <td>0</td>\n",
       "    </tr>\n",
       "    <tr>\n",
       "      <th>1</th>\n",
       "      <td>14015.44</td>\n",
       "      <td>13976.44</td>\n",
       "      <td>14056.32</td>\n",
       "      <td>14006.65</td>\n",
       "      <td>79.88</td>\n",
       "      <td>1</td>\n",
       "      <td>0</td>\n",
       "      <td>0</td>\n",
       "      <td>0</td>\n",
       "      <td>0</td>\n",
       "      <td>1</td>\n",
       "      <td>0</td>\n",
       "    </tr>\n",
       "    <tr>\n",
       "      <th>2</th>\n",
       "      <td>13958.54</td>\n",
       "      <td>13868.20</td>\n",
       "      <td>13970.17</td>\n",
       "      <td>13901.60</td>\n",
       "      <td>101.97</td>\n",
       "      <td>1</td>\n",
       "      <td>0</td>\n",
       "      <td>0</td>\n",
       "      <td>0</td>\n",
       "      <td>0</td>\n",
       "      <td>0</td>\n",
       "      <td>1</td>\n",
       "    </tr>\n",
       "    <tr>\n",
       "      <th>3</th>\n",
       "      <td>14024.57</td>\n",
       "      <td>13977.13</td>\n",
       "      <td>14050.00</td>\n",
       "      <td>14013.16</td>\n",
       "      <td>72.87</td>\n",
       "      <td>1</td>\n",
       "      <td>0</td>\n",
       "      <td>1</td>\n",
       "      <td>0</td>\n",
       "      <td>0</td>\n",
       "      <td>0</td>\n",
       "      <td>0</td>\n",
       "    </tr>\n",
       "    <tr>\n",
       "      <th>4</th>\n",
       "      <td>14345.51</td>\n",
       "      <td>14309.35</td>\n",
       "      <td>14403.48</td>\n",
       "      <td>14392.05</td>\n",
       "      <td>94.13</td>\n",
       "      <td>0</td>\n",
       "      <td>1</td>\n",
       "      <td>0</td>\n",
       "      <td>1</td>\n",
       "      <td>0</td>\n",
       "      <td>0</td>\n",
       "      <td>0</td>\n",
       "    </tr>\n",
       "    <tr>\n",
       "      <th>...</th>\n",
       "      <td>...</td>\n",
       "      <td>...</td>\n",
       "      <td>...</td>\n",
       "      <td>...</td>\n",
       "      <td>...</td>\n",
       "      <td>...</td>\n",
       "      <td>...</td>\n",
       "      <td>...</td>\n",
       "      <td>...</td>\n",
       "      <td>...</td>\n",
       "      <td>...</td>\n",
       "      <td>...</td>\n",
       "    </tr>\n",
       "    <tr>\n",
       "      <th>272</th>\n",
       "      <td>14376.00</td>\n",
       "      <td>14371.90</td>\n",
       "      <td>14527.01</td>\n",
       "      <td>14504.18</td>\n",
       "      <td>155.11</td>\n",
       "      <td>0</td>\n",
       "      <td>1</td>\n",
       "      <td>1</td>\n",
       "      <td>0</td>\n",
       "      <td>0</td>\n",
       "      <td>0</td>\n",
       "      <td>0</td>\n",
       "    </tr>\n",
       "    <tr>\n",
       "      <th>273</th>\n",
       "      <td>14592.74</td>\n",
       "      <td>14553.71</td>\n",
       "      <td>14664.29</td>\n",
       "      <td>14603.33</td>\n",
       "      <td>110.58</td>\n",
       "      <td>0</td>\n",
       "      <td>1</td>\n",
       "      <td>0</td>\n",
       "      <td>1</td>\n",
       "      <td>0</td>\n",
       "      <td>0</td>\n",
       "      <td>0</td>\n",
       "    </tr>\n",
       "    <tr>\n",
       "      <th>274</th>\n",
       "      <td>14712.32</td>\n",
       "      <td>14586.01</td>\n",
       "      <td>14744.72</td>\n",
       "      <td>14620.20</td>\n",
       "      <td>158.71</td>\n",
       "      <td>1</td>\n",
       "      <td>0</td>\n",
       "      <td>0</td>\n",
       "      <td>0</td>\n",
       "      <td>1</td>\n",
       "      <td>0</td>\n",
       "      <td>0</td>\n",
       "    </tr>\n",
       "    <tr>\n",
       "      <th>275</th>\n",
       "      <td>14674.83</td>\n",
       "      <td>14603.31</td>\n",
       "      <td>14732.00</td>\n",
       "      <td>14607.18</td>\n",
       "      <td>128.69</td>\n",
       "      <td>1</td>\n",
       "      <td>0</td>\n",
       "      <td>0</td>\n",
       "      <td>0</td>\n",
       "      <td>0</td>\n",
       "      <td>1</td>\n",
       "      <td>0</td>\n",
       "    </tr>\n",
       "    <tr>\n",
       "      <th>276</th>\n",
       "      <td>14447.78</td>\n",
       "      <td>14403.09</td>\n",
       "      <td>14502.93</td>\n",
       "      <td>14439.08</td>\n",
       "      <td>99.84</td>\n",
       "      <td>1</td>\n",
       "      <td>0</td>\n",
       "      <td>0</td>\n",
       "      <td>0</td>\n",
       "      <td>0</td>\n",
       "      <td>0</td>\n",
       "      <td>1</td>\n",
       "    </tr>\n",
       "  </tbody>\n",
       "</table>\n",
       "<p>277 rows × 12 columns</p>\n",
       "</div>"
      ],
      "text/plain": [
       "         open     iblow    ibhigh   ibclose  ibrange  ibdir_down  ibdir_up  \\\n",
       "0    14130.86  14129.55  14197.49  14179.74    67.94           0         1   \n",
       "1    14015.44  13976.44  14056.32  14006.65    79.88           1         0   \n",
       "2    13958.54  13868.20  13970.17  13901.60   101.97           1         0   \n",
       "3    14024.57  13977.13  14050.00  14013.16    72.87           1         0   \n",
       "4    14345.51  14309.35  14403.48  14392.05    94.13           0         1   \n",
       "..        ...       ...       ...       ...      ...         ...       ...   \n",
       "272  14376.00  14371.90  14527.01  14504.18   155.11           0         1   \n",
       "273  14592.74  14553.71  14664.29  14603.33   110.58           0         1   \n",
       "274  14712.32  14586.01  14744.72  14620.20   158.71           1         0   \n",
       "275  14674.83  14603.31  14732.00  14607.18   128.69           1         0   \n",
       "276  14447.78  14403.09  14502.93  14439.08    99.84           1         0   \n",
       "\n",
       "     weekday_0  weekday_1  weekday_2  weekday_3  weekday_4  \n",
       "0            0          0          1          0          0  \n",
       "1            0          0          0          1          0  \n",
       "2            0          0          0          0          1  \n",
       "3            1          0          0          0          0  \n",
       "4            0          1          0          0          0  \n",
       "..         ...        ...        ...        ...        ...  \n",
       "272          1          0          0          0          0  \n",
       "273          0          1          0          0          0  \n",
       "274          0          0          1          0          0  \n",
       "275          0          0          0          1          0  \n",
       "276          0          0          0          0          1  \n",
       "\n",
       "[277 rows x 12 columns]"
      ]
     },
     "execution_count": 17,
     "metadata": {},
     "output_type": "execute_result"
    }
   ],
   "source": [
    "X = data[[\"open\", \"iblow\", \"ibhigh\", \"ibclose\", \"ibrange\", \"ibdir\", \"weekday\"]]\n",
    "X = pd.get_dummies(X)\n",
    "X"
   ]
  },
  {
   "cell_type": "markdown",
   "id": "8008db59",
   "metadata": {
    "collapsed": false
   },
   "source": [
    "# Tak na razie - pierwsza proba "
   ]
  },
  {
   "cell_type": "code",
   "execution_count": 18,
   "id": "a52670ab",
   "metadata": {
    "collapsed": false
   },
   "outputs": [
    {
     "name": "stderr",
     "output_type": "stream",
     "text": [
      "/home/wit/miniconda3/lib/python3.10/site-packages/xgboost/compat.py:36: FutureWarning: pandas.Int64Index is deprecated and will be removed from pandas in a future version. Use pandas.Index with the appropriate dtype instead.\n",
      "  from pandas import MultiIndex, Int64Index\n"
     ]
    }
   ],
   "source": [
    "from sklearn.preprocessing import LabelEncoder\n",
    "from sklearn.model_selection import train_test_split\n",
    "from sklearn.model_selection import cross_val_score\n",
    "from xgboost import XGBClassifier"
   ]
  },
  {
   "cell_type": "code",
   "execution_count": 19,
   "id": "aafeede0",
   "metadata": {
    "collapsed": false
   },
   "outputs": [
    {
     "data": {
      "text/plain": [
       "array([2, 0, 1, 1, 1, 1, 0, 2, 2, 1, 1, 1, 0, 1, 1, 1, 0, 2, 0, 1, 3, 1,\n",
       "       2, 2, 2, 1, 3, 0, 2, 1, 1, 2, 2, 0, 1, 2, 2, 2, 1, 2, 0, 2, 2, 1,\n",
       "       2, 1, 2, 2, 0, 0, 1, 2, 2, 2, 0, 1, 0, 2, 1, 1, 2, 1, 3, 0, 0, 1,\n",
       "       0, 2, 1, 1, 2, 0, 2, 1, 2, 1, 0, 2, 1, 0, 2, 1, 2, 2, 0, 1, 0, 1,\n",
       "       2, 1, 1, 1, 1, 2, 0, 2, 2, 1, 0, 1, 1, 1, 1, 1, 1, 2, 0, 0, 1, 1,\n",
       "       2, 1, 1, 1, 1, 2, 1, 0, 2, 1, 2, 0, 2, 3, 1, 1, 0, 2, 3, 0, 1, 2,\n",
       "       0, 1, 0, 1, 1, 2, 0, 2, 2, 1, 1, 0, 3, 2, 2, 0, 2, 1, 0, 1, 2, 1,\n",
       "       0, 0, 1, 1, 1, 1, 2, 1, 2, 1, 1, 1, 3, 2, 2, 0, 2, 1, 0, 1, 1, 2,\n",
       "       1, 1, 3, 1, 1, 1, 3, 2, 2, 2, 1, 2, 2, 0, 2, 1, 1, 2, 2, 0, 1, 2,\n",
       "       2, 1, 2, 2, 2, 0, 2, 1, 0, 1, 1, 1, 1, 2, 1, 1, 1, 0, 0, 2, 1, 3,\n",
       "       0, 0, 3, 2, 1, 1, 2, 2, 0, 1, 1, 2, 2, 2, 0, 2, 2, 0, 2, 1, 2, 0,\n",
       "       1, 1, 2, 2, 2, 2, 1, 0, 2, 1, 0, 2, 1, 2, 2, 1, 3, 1, 2, 1, 1, 1,\n",
       "       1, 2, 0, 0, 1, 2, 2, 1, 1, 1, 2, 2, 1])"
      ]
     },
     "execution_count": 19,
     "metadata": {},
     "output_type": "execute_result"
    }
   ],
   "source": [
    "y = data[\"ibdaytype\"]\n",
    "encoder = LabelEncoder()\n",
    "y = encoder.fit_transform(y)\n",
    "y"
   ]
  },
  {
   "cell_type": "code",
   "execution_count": 20,
   "id": "042c4327",
   "metadata": {
    "collapsed": false
   },
   "outputs": [],
   "source": [
    "X_train, X_test = train_test_split(X, train_size=0.8)\n",
    "y_train, y_test = train_test_split(y, train_size=0.8)"
   ]
  },
  {
   "cell_type": "code",
   "execution_count": 21,
   "id": "7816477f",
   "metadata": {
    "collapsed": false
   },
   "outputs": [
    {
     "name": "stderr",
     "output_type": "stream",
     "text": [
      "/home/wit/miniconda3/lib/python3.10/site-packages/xgboost/data.py:250: FutureWarning: pandas.Int64Index is deprecated and will be removed from pandas in a future version. Use pandas.Index with the appropriate dtype instead.\n",
      "  elif isinstance(data.columns, (pd.Int64Index, pd.RangeIndex)):\n"
     ]
    },
    {
     "name": "stdout",
     "output_type": "stream",
     "text": [
      "[22:33:43] WARNING: ../src/learner.cc:1115: Starting in XGBoost 1.3.0, the default evaluation metric used with the objective 'multi:softprob' was changed from 'merror' to 'mlogloss'. Explicitly set eval_metric if you'd like to restore the old behavior.\n"
     ]
    },
    {
     "data": {
      "text/plain": [
       "XGBClassifier(base_score=0.5, booster='gbtree', colsample_bylevel=1,\n",
       "              colsample_bynode=1, colsample_bytree=1, enable_categorical=False,\n",
       "              gamma=0, gpu_id=-1, importance_type=None,\n",
       "              interaction_constraints='', learning_rate=0.300000012,\n",
       "              max_delta_step=0, max_depth=6, min_child_weight=1, missing=nan,\n",
       "              monotone_constraints='()', n_estimators=100, n_jobs=8,\n",
       "              num_parallel_tree=1, objective='multi:softprob', predictor='auto',\n",
       "              random_state=0, reg_alpha=0, reg_lambda=1, scale_pos_weight=None,\n",
       "              subsample=1, tree_method='exact', use_label_encoder=False,\n",
       "              validate_parameters=1, verbosity=None)"
      ]
     },
     "execution_count": 21,
     "metadata": {},
     "output_type": "execute_result"
    }
   ],
   "source": [
    "clf = XGBClassifier(use_label_encoder=False)\n",
    "clf.fit(X_train, y_train)"
   ]
  },
  {
   "cell_type": "code",
   "execution_count": 22,
   "id": "2098c22e",
   "metadata": {
    "collapsed": false
   },
   "outputs": [
    {
     "data": {
      "text/plain": [
       "array([1, 1, 2, 1, 0, 2, 2, 1, 2, 2, 2, 0, 2, 2, 3, 0, 1, 2, 1, 2, 2, 0,\n",
       "       0, 1, 1, 2, 2, 0, 0, 2, 1, 0, 2, 1, 2, 0, 1, 1, 1, 2, 2, 1, 1, 2,\n",
       "       2, 0, 0, 1, 1, 1, 2, 1, 3, 0, 0, 1, 2, 2, 2, 2, 1, 2, 2, 2, 0, 1,\n",
       "       3, 2, 2, 1, 3, 3, 1, 1, 2, 1, 1, 0, 1, 2, 2, 1, 1, 1, 0, 1, 0, 0,\n",
       "       1, 0, 2, 2, 1, 2, 1, 0, 1, 2, 1, 0, 1, 2, 2, 1, 1, 1, 2, 3, 2, 2,\n",
       "       2, 0, 1, 1, 1, 2, 2, 1, 1, 1, 1, 0, 0, 0, 1, 1, 1, 1, 2, 1, 1, 0,\n",
       "       1, 2, 2, 0, 2, 1, 2, 1, 1, 2, 2, 0, 0, 1, 1, 1, 0, 1, 1, 0, 0, 1,\n",
       "       1, 1, 0, 1, 2, 1, 1, 1, 1, 1, 1, 1, 2, 1, 2, 0, 1, 2, 2, 0, 2, 1,\n",
       "       0, 1, 2, 2, 1, 0, 2, 1, 2, 0, 2, 2, 1, 3, 2, 1, 1, 2, 2, 2, 1, 0,\n",
       "       1, 2, 1, 3, 1, 2, 1, 0, 0, 2, 2, 2, 2, 1, 1, 1, 0, 0, 2, 1, 2, 1,\n",
       "       1])"
      ]
     },
     "execution_count": 22,
     "metadata": {},
     "output_type": "execute_result"
    }
   ],
   "source": [
    "pred_train = clf.predict(X_train)\n",
    "pred_train"
   ]
  },
  {
   "cell_type": "code",
   "execution_count": 23,
   "id": "41ac931a",
   "metadata": {
    "collapsed": false
   },
   "outputs": [
    {
     "data": {
      "text/plain": [
       "array(['high-broken', 'high-broken', 'low-broken', 'high-broken',\n",
       "       'both-broken', 'low-broken', 'low-broken', 'high-broken',\n",
       "       'low-broken', 'low-broken', 'low-broken', 'both-broken',\n",
       "       'low-broken', 'low-broken', 'not-broken', 'both-broken',\n",
       "       'high-broken', 'low-broken', 'high-broken', 'low-broken',\n",
       "       'low-broken', 'both-broken', 'both-broken', 'high-broken',\n",
       "       'high-broken', 'low-broken', 'low-broken', 'both-broken',\n",
       "       'both-broken', 'low-broken', 'high-broken', 'both-broken',\n",
       "       'low-broken', 'high-broken', 'low-broken', 'both-broken',\n",
       "       'high-broken', 'high-broken', 'high-broken', 'low-broken',\n",
       "       'low-broken', 'high-broken', 'high-broken', 'low-broken',\n",
       "       'low-broken', 'both-broken', 'both-broken', 'high-broken',\n",
       "       'high-broken', 'high-broken', 'low-broken', 'high-broken',\n",
       "       'not-broken', 'both-broken', 'both-broken', 'high-broken',\n",
       "       'low-broken', 'low-broken', 'low-broken', 'low-broken',\n",
       "       'high-broken', 'low-broken', 'low-broken', 'low-broken',\n",
       "       'both-broken', 'high-broken', 'not-broken', 'low-broken',\n",
       "       'low-broken', 'high-broken', 'not-broken', 'not-broken',\n",
       "       'high-broken', 'high-broken', 'low-broken', 'high-broken',\n",
       "       'high-broken', 'both-broken', 'high-broken', 'low-broken',\n",
       "       'low-broken', 'high-broken', 'high-broken', 'high-broken',\n",
       "       'both-broken', 'high-broken', 'both-broken', 'both-broken',\n",
       "       'high-broken', 'both-broken', 'low-broken', 'low-broken',\n",
       "       'high-broken', 'low-broken', 'high-broken', 'both-broken',\n",
       "       'high-broken', 'low-broken', 'high-broken', 'both-broken',\n",
       "       'high-broken', 'low-broken', 'low-broken', 'high-broken',\n",
       "       'high-broken', 'high-broken', 'low-broken', 'not-broken',\n",
       "       'low-broken', 'low-broken', 'low-broken', 'both-broken',\n",
       "       'high-broken', 'high-broken', 'high-broken', 'low-broken',\n",
       "       'low-broken', 'high-broken', 'high-broken', 'high-broken',\n",
       "       'high-broken', 'both-broken', 'both-broken', 'both-broken',\n",
       "       'high-broken', 'high-broken', 'high-broken', 'high-broken',\n",
       "       'low-broken', 'high-broken', 'high-broken', 'both-broken',\n",
       "       'high-broken', 'low-broken', 'low-broken', 'both-broken',\n",
       "       'low-broken', 'high-broken', 'low-broken', 'high-broken',\n",
       "       'high-broken', 'low-broken', 'low-broken', 'both-broken',\n",
       "       'both-broken', 'high-broken', 'high-broken', 'high-broken',\n",
       "       'both-broken', 'high-broken', 'high-broken', 'both-broken',\n",
       "       'both-broken', 'high-broken', 'high-broken', 'high-broken',\n",
       "       'both-broken', 'high-broken', 'low-broken', 'high-broken',\n",
       "       'high-broken', 'high-broken', 'high-broken', 'high-broken',\n",
       "       'high-broken', 'high-broken', 'low-broken', 'high-broken',\n",
       "       'low-broken', 'both-broken', 'high-broken', 'low-broken',\n",
       "       'low-broken', 'both-broken', 'low-broken', 'high-broken',\n",
       "       'both-broken', 'high-broken', 'low-broken', 'low-broken',\n",
       "       'high-broken', 'both-broken', 'low-broken', 'high-broken',\n",
       "       'low-broken', 'both-broken', 'low-broken', 'low-broken',\n",
       "       'high-broken', 'not-broken', 'low-broken', 'high-broken',\n",
       "       'high-broken', 'low-broken', 'low-broken', 'low-broken',\n",
       "       'high-broken', 'both-broken', 'high-broken', 'low-broken',\n",
       "       'high-broken', 'not-broken', 'high-broken', 'low-broken',\n",
       "       'high-broken', 'both-broken', 'both-broken', 'low-broken',\n",
       "       'low-broken', 'low-broken', 'low-broken', 'high-broken',\n",
       "       'high-broken', 'high-broken', 'both-broken', 'both-broken',\n",
       "       'low-broken', 'high-broken', 'low-broken', 'high-broken',\n",
       "       'high-broken'], dtype=object)"
      ]
     },
     "execution_count": 23,
     "metadata": {},
     "output_type": "execute_result"
    }
   ],
   "source": [
    "encoder.inverse_transform(pred_train) # wniosek 1= up ,0 = down"
   ]
  },
  {
   "cell_type": "code",
   "execution_count": 24,
   "id": "679271bd",
   "metadata": {
    "collapsed": false
   },
   "outputs": [
    {
     "name": "stderr",
     "output_type": "stream",
     "text": [
      "/home/wit/miniconda3/lib/python3.10/site-packages/sklearn/model_selection/_split.py:676: UserWarning: The least populated class in y has only 8 members, which is less than n_splits=10.\n",
      "  warnings.warn(\n",
      "/home/wit/miniconda3/lib/python3.10/site-packages/xgboost/data.py:250: FutureWarning: pandas.Int64Index is deprecated and will be removed from pandas in a future version. Use pandas.Index with the appropriate dtype instead.\n",
      "  elif isinstance(data.columns, (pd.Int64Index, pd.RangeIndex)):\n"
     ]
    },
    {
     "name": "stdout",
     "output_type": "stream",
     "text": [
      "[22:33:44] WARNING: ../src/learner.cc:1115: Starting in XGBoost 1.3.0, the default evaluation metric used with the objective 'multi:softprob' was changed from 'merror' to 'mlogloss'. Explicitly set eval_metric if you'd like to restore the old behavior.\n",
      "[22:33:45] WARNING: ../src/learner.cc:1115: Starting in XGBoost 1.3.0, the default evaluation metric used with the objective 'multi:softprob' was changed from 'merror' to 'mlogloss'. Explicitly set eval_metric if you'd like to restore the old behavior.\n"
     ]
    },
    {
     "name": "stderr",
     "output_type": "stream",
     "text": [
      "/home/wit/miniconda3/lib/python3.10/site-packages/xgboost/data.py:250: FutureWarning: pandas.Int64Index is deprecated and will be removed from pandas in a future version. Use pandas.Index with the appropriate dtype instead.\n",
      "  elif isinstance(data.columns, (pd.Int64Index, pd.RangeIndex)):\n"
     ]
    },
    {
     "name": "stderr",
     "output_type": "stream",
     "text": [
      "/home/wit/miniconda3/lib/python3.10/site-packages/xgboost/data.py:250: FutureWarning: pandas.Int64Index is deprecated and will be removed from pandas in a future version. Use pandas.Index with the appropriate dtype instead.\n",
      "  elif isinstance(data.columns, (pd.Int64Index, pd.RangeIndex)):\n",
      "/home/wit/miniconda3/lib/python3.10/site-packages/xgboost/data.py:250: FutureWarning: pandas.Int64Index is deprecated and will be removed from pandas in a future version. Use pandas.Index with the appropriate dtype instead.\n",
      "  elif isinstance(data.columns, (pd.Int64Index, pd.RangeIndex)):\n"
     ]
    },
    {
     "name": "stdout",
     "output_type": "stream",
     "text": [
      "[22:33:45] WARNING: ../src/learner.cc:1115: Starting in XGBoost 1.3.0, the default evaluation metric used with the objective 'multi:softprob' was changed from 'merror' to 'mlogloss'. Explicitly set eval_metric if you'd like to restore the old behavior.\n"
     ]
    },
    {
     "name": "stdout",
     "output_type": "stream",
     "text": [
      "[22:33:45] WARNING: ../src/learner.cc:1115: Starting in XGBoost 1.3.0, the default evaluation metric used with the objective 'multi:softprob' was changed from 'merror' to 'mlogloss'. Explicitly set eval_metric if you'd like to restore the old behavior.\n"
     ]
    },
    {
     "name": "stderr",
     "output_type": "stream",
     "text": [
      "/home/wit/miniconda3/lib/python3.10/site-packages/xgboost/data.py:250: FutureWarning: pandas.Int64Index is deprecated and will be removed from pandas in a future version. Use pandas.Index with the appropriate dtype instead.\n",
      "  elif isinstance(data.columns, (pd.Int64Index, pd.RangeIndex)):\n"
     ]
    },
    {
     "name": "stdout",
     "output_type": "stream",
     "text": [
      "[22:33:45] WARNING: ../src/learner.cc:1115: Starting in XGBoost 1.3.0, the default evaluation metric used with the objective 'multi:softprob' was changed from 'merror' to 'mlogloss'. Explicitly set eval_metric if you'd like to restore the old behavior.\n",
      "[22:33:46] WARNING: ../src/learner.cc:1115: Starting in XGBoost 1.3.0, the default evaluation metric used with the objective 'multi:softprob' was changed from 'merror' to 'mlogloss'. Explicitly set eval_metric if you'd like to restore the old behavior.\n"
     ]
    },
    {
     "name": "stderr",
     "output_type": "stream",
     "text": [
      "/home/wit/miniconda3/lib/python3.10/site-packages/xgboost/data.py:250: FutureWarning: pandas.Int64Index is deprecated and will be removed from pandas in a future version. Use pandas.Index with the appropriate dtype instead.\n",
      "  elif isinstance(data.columns, (pd.Int64Index, pd.RangeIndex)):\n"
     ]
    },
    {
     "name": "stderr",
     "output_type": "stream",
     "text": [
      "/home/wit/miniconda3/lib/python3.10/site-packages/xgboost/data.py:250: FutureWarning: pandas.Int64Index is deprecated and will be removed from pandas in a future version. Use pandas.Index with the appropriate dtype instead.\n",
      "  elif isinstance(data.columns, (pd.Int64Index, pd.RangeIndex)):\n"
     ]
    },
    {
     "name": "stdout",
     "output_type": "stream",
     "text": [
      "[22:33:46] WARNING: ../src/learner.cc:1115: Starting in XGBoost 1.3.0, the default evaluation metric used with the objective 'multi:softprob' was changed from 'merror' to 'mlogloss'. Explicitly set eval_metric if you'd like to restore the old behavior.\n"
     ]
    },
    {
     "name": "stderr",
     "output_type": "stream",
     "text": [
      "/home/wit/miniconda3/lib/python3.10/site-packages/xgboost/data.py:250: FutureWarning: pandas.Int64Index is deprecated and will be removed from pandas in a future version. Use pandas.Index with the appropriate dtype instead.\n",
      "  elif isinstance(data.columns, (pd.Int64Index, pd.RangeIndex)):\n"
     ]
    },
    {
     "name": "stdout",
     "output_type": "stream",
     "text": [
      "[22:33:46] WARNING: ../src/learner.cc:1115: Starting in XGBoost 1.3.0, the default evaluation metric used with the objective 'multi:softprob' was changed from 'merror' to 'mlogloss'. Explicitly set eval_metric if you'd like to restore the old behavior.\n"
     ]
    },
    {
     "name": "stderr",
     "output_type": "stream",
     "text": [
      "/home/wit/miniconda3/lib/python3.10/site-packages/xgboost/data.py:250: FutureWarning: pandas.Int64Index is deprecated and will be removed from pandas in a future version. Use pandas.Index with the appropriate dtype instead.\n",
      "  elif isinstance(data.columns, (pd.Int64Index, pd.RangeIndex)):\n"
     ]
    },
    {
     "name": "stdout",
     "output_type": "stream",
     "text": [
      "[22:33:47] WARNING: ../src/learner.cc:1115: Starting in XGBoost 1.3.0, the default evaluation metric used with the objective 'multi:softprob' was changed from 'merror' to 'mlogloss'. Explicitly set eval_metric if you'd like to restore the old behavior.\n"
     ]
    },
    {
     "name": "stderr",
     "output_type": "stream",
     "text": [
      "/home/wit/miniconda3/lib/python3.10/site-packages/xgboost/data.py:250: FutureWarning: pandas.Int64Index is deprecated and will be removed from pandas in a future version. Use pandas.Index with the appropriate dtype instead.\n",
      "  elif isinstance(data.columns, (pd.Int64Index, pd.RangeIndex)):\n"
     ]
    },
    {
     "name": "stdout",
     "output_type": "stream",
     "text": [
      "[22:33:47] WARNING: ../src/learner.cc:1115: Starting in XGBoost 1.3.0, the default evaluation metric used with the objective 'multi:softprob' was changed from 'merror' to 'mlogloss'. Explicitly set eval_metric if you'd like to restore the old behavior.\n"
     ]
    },
    {
     "data": {
      "text/plain": [
       "0.38003952569169963"
      ]
     },
     "execution_count": 24,
     "metadata": {},
     "output_type": "execute_result"
    }
   ],
   "source": [
    "cross_val_score(clf, X_train, y_train, cv=10).mean()"
   ]
  },
  {
   "cell_type": "code",
   "execution_count": 25,
   "id": "70e848a3",
   "metadata": {
    "collapsed": false
   },
   "outputs": [
    {
     "data": {
      "text/plain": [
       "array(['both-broken', 'both-broken', 'both-broken', 'high-broken',\n",
       "       'high-broken', 'high-broken', 'high-broken', 'both-broken',\n",
       "       'both-broken', 'both-broken', 'high-broken', 'both-broken',\n",
       "       'low-broken', 'low-broken', 'high-broken', 'high-broken',\n",
       "       'both-broken', 'both-broken', 'high-broken', 'high-broken',\n",
       "       'both-broken', 'high-broken', 'high-broken', 'both-broken',\n",
       "       'high-broken', 'high-broken', 'low-broken', 'both-broken',\n",
       "       'high-broken', 'high-broken', 'low-broken', 'high-broken',\n",
       "       'high-broken', 'low-broken', 'high-broken', 'high-broken',\n",
       "       'high-broken', 'high-broken', 'high-broken', 'low-broken',\n",
       "       'high-broken', 'low-broken', 'high-broken', 'not-broken',\n",
       "       'high-broken', 'high-broken', 'both-broken', 'high-broken',\n",
       "       'low-broken', 'high-broken', 'high-broken', 'high-broken',\n",
       "       'low-broken', 'high-broken', 'low-broken', 'high-broken'],\n",
       "      dtype=object)"
      ]
     },
     "execution_count": 25,
     "metadata": {},
     "output_type": "execute_result"
    }
   ],
   "source": [
    "predib = encoder.inverse_transform(clf.predict(X_test))\n",
    "predib"
   ]
  },
  {
   "cell_type": "code",
   "execution_count": 26,
   "id": "201a1dc9",
   "metadata": {
    "collapsed": false
   },
   "outputs": [
    {
     "data": {
      "text/plain": [
       "array(['low-broken', 'low-broken', 'high-broken', 'high-broken',\n",
       "       'low-broken', 'high-broken', 'low-broken', 'high-broken',\n",
       "       'low-broken', 'high-broken', 'low-broken', 'high-broken',\n",
       "       'low-broken', 'high-broken', 'high-broken', 'high-broken',\n",
       "       'both-broken', 'both-broken', 'low-broken', 'low-broken',\n",
       "       'not-broken', 'low-broken', 'high-broken', 'low-broken',\n",
       "       'low-broken', 'high-broken', 'both-broken', 'low-broken',\n",
       "       'both-broken', 'high-broken', 'high-broken', 'low-broken',\n",
       "       'not-broken', 'low-broken', 'both-broken', 'low-broken',\n",
       "       'low-broken', 'high-broken', 'high-broken', 'both-broken',\n",
       "       'not-broken', 'low-broken', 'high-broken', 'both-broken',\n",
       "       'both-broken', 'both-broken', 'both-broken', 'both-broken',\n",
       "       'low-broken', 'high-broken', 'high-broken', 'high-broken',\n",
       "       'low-broken', 'not-broken', 'high-broken', 'low-broken'],\n",
       "      dtype=object)"
      ]
     },
     "execution_count": 26,
     "metadata": {},
     "output_type": "execute_result"
    }
   ],
   "source": [
    "actib  = encoder.inverse_transform(y_test)\n",
    "actib"
   ]
  },
  {
   "cell_type": "code",
   "execution_count": 29,
   "id": "1eb26811",
   "metadata": {
    "collapsed": false
   },
   "outputs": [],
   "source": [
    "import numpy as np\n",
    "predib = np.expand_dims(predib, axis=1)\n",
    "actib = np.expand_dims(actib, axis=1)\n",
    "d = np.concatenate((predib, actib), axis=1)\n",
    "d = pd.DataFrame(d.reshape(-1, 2), columns=[\"pred\", \"act\"])"
   ]
  },
  {
   "cell_type": "code",
   "execution_count": 30,
   "id": "8d6ba377",
   "metadata": {
    "collapsed": false
   },
   "outputs": [
    {
     "data": {
      "text/plain": [
       "high-broken    27\n",
       "low-broken     24\n",
       "both-broken     5\n",
       "Name: pred, dtype: int64"
      ]
     },
     "execution_count": 30,
     "metadata": {},
     "output_type": "execute_result"
    }
   ],
   "source": [
    "d.pred.value_counts()"
   ]
  },
  {
   "cell_type": "code",
   "execution_count": 31,
   "id": "a2104691",
   "metadata": {
    "collapsed": false
   },
   "outputs": [
    {
     "data": {
      "text/plain": [
       "high-broken    28\n",
       "low-broken     16\n",
       "both-broken    10\n",
       "not-broken      2\n",
       "Name: act, dtype: int64"
      ]
     },
     "execution_count": 31,
     "metadata": {},
     "output_type": "execute_result"
    }
   ],
   "source": [
    "d.act.value_counts()"
   ]
  },
  {
   "cell_type": "code",
   "execution_count": 32,
   "id": "02420c85",
   "metadata": {
    "collapsed": false
   },
   "outputs": [],
   "source": [
    "from sklearn.linear_model import LogisticRegression"
   ]
  },
  {
   "cell_type": "code",
   "execution_count": 35,
   "id": "40e77f57",
   "metadata": {
    "collapsed": false
   },
   "outputs": [
    {
     "data": {
      "text/plain": [
       "0.3078787878787878"
      ]
     },
     "execution_count": 35,
     "metadata": {},
     "output_type": "execute_result"
    }
   ],
   "source": [
    "lr = LogisticRegression(max_iter=3000)\n",
    "cross_val_score(lr, X_train, y_train).mean()"
   ]
  },
  {
   "cell_type": "code",
   "execution_count": 28,
   "id": "9ff1c631",
   "metadata": {
    "collapsed": false
   },
   "outputs": [],
   "source": [
    "from sklearn.model_selection import GridSearchCV"
   ]
  },
  {
   "cell_type": "code",
   "execution_count": null,
   "id": "069a0c92",
   "metadata": {
    "collapsed": false
   },
   "outputs": [
    {
     "name": "stderr",
     "output_type": "stream",
     "text": [
      "/home/wit/miniconda3/lib/python3.10/site-packages/xgboost/compat.py:36: FutureWarning: pandas.Int64Index is deprecated and will be removed from pandas in a future version. Use pandas.Index with the appropriate dtype instead.\n",
      "  from pandas import MultiIndex, Int64Index\n",
      "/home/wit/miniconda3/lib/python3.10/site-packages/xgboost/compat.py:36: FutureWarning: pandas.Int64Index is deprecated and will be removed from pandas in a future version. Use pandas.Index with the appropriate dtype instead.\n",
      "  from pandas import MultiIndex, Int64Index\n",
      "/home/wit/miniconda3/lib/python3.10/site-packages/xgboost/compat.py:36: FutureWarning: pandas.Int64Index is deprecated and will be removed from pandas in a future version. Use pandas.Index with the appropriate dtype instead.\n",
      "  from pandas import MultiIndex, Int64Index\n",
      "/home/wit/miniconda3/lib/python3.10/site-packages/xgboost/sklearn.py:1224: UserWarning: The use of label encoder in XGBClassifier is deprecated and will be removed in a future release. To remove this warning, do the following: 1) Pass option use_label_encoder=False when constructing XGBClassifier object; and 2) Encode your labels (y) as integers starting with 0, i.e. 0, 1, 2, ..., [num_class - 1].\n",
      "  warnings.warn(label_encoder_deprecation_msg, UserWarning)\n",
      "/home/wit/miniconda3/lib/python3.10/site-packages/xgboost/data.py:250: FutureWarning: pandas.Int64Index is deprecated and will be removed from pandas in a future version. Use pandas.Index with the appropriate dtype instead.\n",
      "  elif isinstance(data.columns, (pd.Int64Index, pd.RangeIndex)):\n",
      "/home/wit/miniconda3/lib/python3.10/site-packages/xgboost/sklearn.py:1224: UserWarning: The use of label encoder in XGBClassifier is deprecated and will be removed in a future release. To remove this warning, do the following: 1) Pass option use_label_encoder=False when constructing XGBClassifier object; and 2) Encode your labels (y) as integers starting with 0, i.e. 0, 1, 2, ..., [num_class - 1].\n",
      "  warnings.warn(label_encoder_deprecation_msg, UserWarning)\n",
      "/home/wit/miniconda3/lib/python3.10/site-packages/xgboost/compat.py:36: FutureWarning: pandas.Int64Index is deprecated and will be removed from pandas in a future version. Use pandas.Index with the appropriate dtype instead.\n",
      "  from pandas import MultiIndex, Int64Index\n",
      "/home/wit/miniconda3/lib/python3.10/site-packages/xgboost/data.py:250: FutureWarning: pandas.Int64Index is deprecated and will be removed from pandas in a future version. Use pandas.Index with the appropriate dtype instead.\n",
      "  elif isinstance(data.columns, (pd.Int64Index, pd.RangeIndex)):\n",
      "/home/wit/miniconda3/lib/python3.10/site-packages/xgboost/sklearn.py:1224: UserWarning: The use of label encoder in XGBClassifier is deprecated and will be removed in a future release. To remove this warning, do the following: 1) Pass option use_label_encoder=False when constructing XGBClassifier object; and 2) Encode your labels (y) as integers starting with 0, i.e. 0, 1, 2, ..., [num_class - 1].\n",
      "  warnings.warn(label_encoder_deprecation_msg, UserWarning)\n",
      "/home/wit/miniconda3/lib/python3.10/site-packages/xgboost/data.py:250: FutureWarning: pandas.Int64Index is deprecated and will be removed from pandas in a future version. Use pandas.Index with the appropriate dtype instead.\n",
      "  elif isinstance(data.columns, (pd.Int64Index, pd.RangeIndex)):\n",
      "/home/wit/miniconda3/lib/python3.10/site-packages/xgboost/sklearn.py:1224: UserWarning: The use of label encoder in XGBClassifier is deprecated and will be removed in a future release. To remove this warning, do the following: 1) Pass option use_label_encoder=False when constructing XGBClassifier object; and 2) Encode your labels (y) as integers starting with 0, i.e. 0, 1, 2, ..., [num_class - 1].\n",
      "  warnings.warn(label_encoder_deprecation_msg, UserWarning)\n",
      "/home/wit/miniconda3/lib/python3.10/site-packages/xgboost/data.py:250: FutureWarning: pandas.Int64Index is deprecated and will be removed from pandas in a future version. Use pandas.Index with the appropriate dtype instead.\n",
      "  elif isinstance(data.columns, (pd.Int64Index, pd.RangeIndex)):\n"
     ]
    },
    {
     "name": "stderr",
     "output_type": "stream",
     "text": [
      "/home/wit/miniconda3/lib/python3.10/site-packages/xgboost/sklearn.py:1224: UserWarning: The use of label encoder in XGBClassifier is deprecated and will be removed in a future release. To remove this warning, do the following: 1) Pass option use_label_encoder=False when constructing XGBClassifier object; and 2) Encode your labels (y) as integers starting with 0, i.e. 0, 1, 2, ..., [num_class - 1].\n",
      "  warnings.warn(label_encoder_deprecation_msg, UserWarning)\n",
      "/home/wit/miniconda3/lib/python3.10/site-packages/xgboost/data.py:250: FutureWarning: pandas.Int64Index is deprecated and will be removed from pandas in a future version. Use pandas.Index with the appropriate dtype instead.\n",
      "  elif isinstance(data.columns, (pd.Int64Index, pd.RangeIndex)):\n"
     ]
    },
    {
     "name": "stderr",
     "output_type": "stream",
     "text": [
      "/home/wit/miniconda3/lib/python3.10/site-packages/xgboost/sklearn.py:1224: UserWarning: The use of label encoder in XGBClassifier is deprecated and will be removed in a future release. To remove this warning, do the following: 1) Pass option use_label_encoder=False when constructing XGBClassifier object; and 2) Encode your labels (y) as integers starting with 0, i.e. 0, 1, 2, ..., [num_class - 1].\n",
      "  warnings.warn(label_encoder_deprecation_msg, UserWarning)\n",
      "/home/wit/miniconda3/lib/python3.10/site-packages/xgboost/data.py:250: FutureWarning: pandas.Int64Index is deprecated and will be removed from pandas in a future version. Use pandas.Index with the appropriate dtype instead.\n",
      "  elif isinstance(data.columns, (pd.Int64Index, pd.RangeIndex)):\n"
     ]
    },
    {
     "name": "stderr",
     "output_type": "stream",
     "text": [
      "/home/wit/miniconda3/lib/python3.10/site-packages/xgboost/sklearn.py:1224: UserWarning: The use of label encoder in XGBClassifier is deprecated and will be removed in a future release. To remove this warning, do the following: 1) Pass option use_label_encoder=False when constructing XGBClassifier object; and 2) Encode your labels (y) as integers starting with 0, i.e. 0, 1, 2, ..., [num_class - 1].\n",
      "  warnings.warn(label_encoder_deprecation_msg, UserWarning)\n",
      "/home/wit/miniconda3/lib/python3.10/site-packages/xgboost/data.py:250: FutureWarning: pandas.Int64Index is deprecated and will be removed from pandas in a future version. Use pandas.Index with the appropriate dtype instead.\n",
      "  elif isinstance(data.columns, (pd.Int64Index, pd.RangeIndex)):\n",
      "/home/wit/miniconda3/lib/python3.10/site-packages/xgboost/sklearn.py:1224: UserWarning: The use of label encoder in XGBClassifier is deprecated and will be removed in a future release. To remove this warning, do the following: 1) Pass option use_label_encoder=False when constructing XGBClassifier object; and 2) Encode your labels (y) as integers starting with 0, i.e. 0, 1, 2, ..., [num_class - 1].\n",
      "  warnings.warn(label_encoder_deprecation_msg, UserWarning)\n",
      "/home/wit/miniconda3/lib/python3.10/site-packages/xgboost/data.py:250: FutureWarning: pandas.Int64Index is deprecated and will be removed from pandas in a future version. Use pandas.Index with the appropriate dtype instead.\n",
      "  elif isinstance(data.columns, (pd.Int64Index, pd.RangeIndex)):\n"
     ]
    }
   ],
   "source": [
    "xgb = XGBClassifier(random_state=1)\n",
    "param_grid = {\n",
    "     'n_estimators': [450,500,550],\n",
    "    'colsample_bytree': [0.75,0.8,0.85],\n",
    "    'max_depth': [None],\n",
    "    'reg_alpha': [1],\n",
    "    'reg_lambda': [2, 5, 10],\n",
    "    'subsample': [0.55, 0.6, .65],\n",
    "    'learning_rate':[0.5],\n",
    "    'gamma':[.5,1,2],\n",
    "    'min_child_weight':[0.01],\n",
    "    'sampling_method': ['uniform']\n",
    "}\n",
    "\n",
    "grid = GridSearchCV(xgb, param_grid=param_grid, cv=5, verbose=False, n_jobs=4)\n",
    "bestie = grid.fit(X_train, y_train)"
   ]
  },
  {
   "cell_type": "code",
   "execution_count": null,
   "id": "945e0a4d",
   "metadata": {
    "collapsed": false
   },
   "outputs": [],
   "source": []
  }
 ],
 "metadata": {
  "kernelspec": {
   "argv": [
    "/home/wit/miniconda3/bin/python",
    "-m",
    "ipykernel_launcher",
    "-f",
    "{connection_file}"
   ],
   "display_name": "Python 3 (ipykernel)",
   "env": null,
   "interrupt_mode": "signal",
   "language": "python",
   "metadata": {
    "debugger": true
   },
   "name": "python3"
  },
  "name": "ib-statistics.ipynb"
 },
 "nbformat": 4,
 "nbformat_minor": 5
}
