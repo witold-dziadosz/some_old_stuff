{
 "cells": [
  {
   "cell_type": "code",
   "execution_count": 39,
   "id": "cb9cb24f",
   "metadata": {
    "collapsed": false
   },
   "outputs": [
    {
     "name": "stderr",
     "output_type": "stream",
     "text": [
      "/home/wit/miniconda3/lib/python3.10/site-packages/xgboost/compat.py:36: FutureWarning: pandas.Int64Index is deprecated and will be removed from pandas in a future version. Use pandas.Index with the appropriate dtype instead.\n",
      "  from pandas import MultiIndex, Int64Index\n"
     ]
    }
   ],
   "source": [
    "import pandas as pd\n",
    "from sklearn.model_selection import train_test_split\n",
    "from sklearn.preprocessing import LabelEncoder\n",
    "from sklearn.metrics import accuracy_score\n",
    "from sklearn.linear_model import LogisticRegression\n",
    "from sklearn.tree import DecisionTreeClassifier\n",
    "from sklearn.ensemble import RandomForestClassifier\n",
    "from xgboost import XGBClassifier"
   ]
  },
  {
   "cell_type": "code",
   "execution_count": 10,
   "id": "9a811ff9",
   "metadata": {
    "collapsed": false
   },
   "outputs": [],
   "source": [
    "dax = pd.read_csv(\"./data/trade/dax_01_dir_daytype.csv\", parse_dates=[\"date\"])"
   ]
  },
  {
   "cell_type": "code",
   "execution_count": 11,
   "id": "7aa79f83",
   "metadata": {
    "collapsed": false
   },
   "outputs": [
    {
     "data": {
      "text/html": [
       "<div>\n",
       "<style scoped>\n",
       "    .dataframe tbody tr th:only-of-type {\n",
       "        vertical-align: middle;\n",
       "    }\n",
       "\n",
       "    .dataframe tbody tr th {\n",
       "        vertical-align: top;\n",
       "    }\n",
       "\n",
       "    .dataframe thead th {\n",
       "        text-align: right;\n",
       "    }\n",
       "</style>\n",
       "<table border=\"1\" class=\"dataframe\">\n",
       "  <thead>\n",
       "    <tr style=\"text-align: right;\">\n",
       "      <th></th>\n",
       "      <th>Unnamed: 0</th>\n",
       "      <th>date</th>\n",
       "      <th>ibdir</th>\n",
       "      <th>daytype_lag_7</th>\n",
       "      <th>daytype_lag_27</th>\n",
       "      <th>daydir</th>\n",
       "    </tr>\n",
       "  </thead>\n",
       "  <tbody>\n",
       "    <tr>\n",
       "      <th>0</th>\n",
       "      <td>28</td>\n",
       "      <td>2021-04-15</td>\n",
       "      <td>up</td>\n",
       "      <td>up</td>\n",
       "      <td>down</td>\n",
       "      <td>up</td>\n",
       "    </tr>\n",
       "    <tr>\n",
       "      <th>1</th>\n",
       "      <td>29</td>\n",
       "      <td>2021-04-16</td>\n",
       "      <td>up</td>\n",
       "      <td>down</td>\n",
       "      <td>up</td>\n",
       "      <td>up</td>\n",
       "    </tr>\n",
       "    <tr>\n",
       "      <th>2</th>\n",
       "      <td>30</td>\n",
       "      <td>2021-04-19</td>\n",
       "      <td>down</td>\n",
       "      <td>outside</td>\n",
       "      <td>up</td>\n",
       "      <td>down</td>\n",
       "    </tr>\n",
       "    <tr>\n",
       "      <th>3</th>\n",
       "      <td>31</td>\n",
       "      <td>2021-04-20</td>\n",
       "      <td>down</td>\n",
       "      <td>inside</td>\n",
       "      <td>up</td>\n",
       "      <td>down</td>\n",
       "    </tr>\n",
       "    <tr>\n",
       "      <th>4</th>\n",
       "      <td>32</td>\n",
       "      <td>2021-04-21</td>\n",
       "      <td>down</td>\n",
       "      <td>up</td>\n",
       "      <td>up</td>\n",
       "      <td>up</td>\n",
       "    </tr>\n",
       "  </tbody>\n",
       "</table>\n",
       "</div>"
      ],
      "text/plain": [
       "   Unnamed: 0       date ibdir daytype_lag_7 daytype_lag_27 daydir\n",
       "0          28 2021-04-15    up            up           down     up\n",
       "1          29 2021-04-16    up          down             up     up\n",
       "2          30 2021-04-19  down       outside             up   down\n",
       "3          31 2021-04-20  down        inside             up   down\n",
       "4          32 2021-04-21  down            up             up     up"
      ]
     },
     "execution_count": 11,
     "metadata": {},
     "output_type": "execute_result"
    }
   ],
   "source": [
    "dax.head()"
   ]
  },
  {
   "cell_type": "code",
   "execution_count": 15,
   "id": "e5e656da",
   "metadata": {
    "collapsed": false
   },
   "outputs": [],
   "source": [
    "cleaned = dax.drop(dax.columns[0:2],axis=1)"
   ]
  },
  {
   "cell_type": "code",
   "execution_count": 21,
   "id": "870f4f4c",
   "metadata": {
    "collapsed": false
   },
   "outputs": [],
   "source": [
    "X_ = cleaned.drop(\"daydir\", axis=1)\n",
    "y_ = cleaned.daydir"
   ]
  },
  {
   "cell_type": "code",
   "execution_count": 29,
   "id": "e2b9b682",
   "metadata": {
    "collapsed": false
   },
   "outputs": [],
   "source": [
    "encoder = LabelEncoder()\n",
    "y = encoder.fit_transform(y_)\n",
    "X = pd.get_dummies(X_)\n",
    "\n",
    "X_train, X_test, y_train, y_test = train_test_split(X,y, train_size=0.8)"
   ]
  },
  {
   "cell_type": "code",
   "execution_count": 34,
   "id": "242efca0",
   "metadata": {
    "collapsed": false
   },
   "outputs": [],
   "source": [
    "class Fitter:\n",
    "    def __init__(self, X_train, y_train, X_test, y_test):\n",
    "        self.X_train = X_train\n",
    "        self.y_train = y_train\n",
    "        self.X_test = X_test\n",
    "        self.y_test = y_test\n",
    "        \n",
    "    def fit_model(self, m):\n",
    "        ret = dict()\n",
    "        m.fit(self.X_train, self.y_train)\n",
    "        ret[\"train_acc\"] = accuracy_score(m.predict(self.X_train), self.y_train)\n",
    "        ret[\"test_acc\"] = accuracy_score(m.predict(self.X_test),self.y_test)\n",
    "        return (m, ret)\n"
   ]
  },
  {
   "cell_type": "code",
   "execution_count": 35,
   "id": "d3f81c1e",
   "metadata": {
    "collapsed": false
   },
   "outputs": [],
   "source": [
    "fit = Fitter(X_train, y_train, X_test, y_test)"
   ]
  },
  {
   "cell_type": "code",
   "execution_count": 36,
   "id": "a7f51dcb",
   "metadata": {
    "collapsed": false
   },
   "outputs": [
    {
     "data": {
      "text/plain": [
       "(LogisticRegression(), {'train_acc': 0.7323232323232324, 'test_acc': 0.62})"
      ]
     },
     "execution_count": 36,
     "metadata": {},
     "output_type": "execute_result"
    }
   ],
   "source": [
    "fit.fit_model(LogisticRegression())"
   ]
  },
  {
   "cell_type": "code",
   "execution_count": 40,
   "id": "0541fd56",
   "metadata": {
    "collapsed": false
   },
   "outputs": [
    {
     "data": {
      "text/plain": [
       "(DecisionTreeClassifier(), {'train_acc': 0.7575757575757576, 'test_acc': 0.6})"
      ]
     },
     "execution_count": 40,
     "metadata": {},
     "output_type": "execute_result"
    }
   ],
   "source": [
    "fit.fit_model(DecisionTreeClassifier())"
   ]
  },
  {
   "cell_type": "code",
   "execution_count": 41,
   "id": "d7d4449d",
   "metadata": {
    "collapsed": false
   },
   "outputs": [
    {
     "name": "stdout",
     "output_type": "stream",
     "text": [
      "[15:56:58] WARNING: ../src/learner.cc:1115: Starting in XGBoost 1.3.0, the default evaluation metric used with the objective 'binary:logistic' was changed from 'error' to 'logloss'. Explicitly set eval_metric if you'd like to restore the old behavior.\n"
     ]
    },
    {
     "name": "stderr",
     "output_type": "stream",
     "text": [
      "/home/wit/miniconda3/lib/python3.10/site-packages/xgboost/data.py:250: FutureWarning: pandas.Int64Index is deprecated and will be removed from pandas in a future version. Use pandas.Index with the appropriate dtype instead.\n",
      "  elif isinstance(data.columns, (pd.Int64Index, pd.RangeIndex)):\n"
     ]
    },
    {
     "data": {
      "text/plain": [
       "(XGBClassifier(base_score=0.5, booster='gbtree', colsample_bylevel=1,\n",
       "               colsample_bynode=1, colsample_bytree=1, enable_categorical=False,\n",
       "               gamma=0, gpu_id=-1, importance_type=None,\n",
       "               interaction_constraints='', learning_rate=0.300000012,\n",
       "               max_delta_step=0, max_depth=6, min_child_weight=1, missing=nan,\n",
       "               monotone_constraints='()', n_estimators=100, n_jobs=8,\n",
       "               num_parallel_tree=1, predictor='auto', random_state=0,\n",
       "               reg_alpha=0, reg_lambda=1, scale_pos_weight=1, subsample=1,\n",
       "               tree_method='exact', use_label_encoder=False,\n",
       "               validate_parameters=1, verbosity=None),\n",
       " {'train_acc': 0.7575757575757576, 'test_acc': 0.6})"
      ]
     },
     "execution_count": 41,
     "metadata": {},
     "output_type": "execute_result"
    }
   ],
   "source": [
    "fit.fit_model(XGBClassifier(use_label_encoder=False))"
   ]
  },
  {
   "cell_type": "code",
   "execution_count": 42,
   "id": "372b354a",
   "metadata": {
    "collapsed": false
   },
   "outputs": [
    {
     "data": {
      "text/plain": [
       "(RandomForestClassifier(), {'train_acc': 0.7575757575757576, 'test_acc': 0.6})"
      ]
     },
     "execution_count": 42,
     "metadata": {},
     "output_type": "execute_result"
    }
   ],
   "source": [
    "fit.fit_model(RandomForestClassifier())"
   ]
  },
  {
   "cell_type": "code",
   "execution_count": null,
   "id": "28bb472b",
   "metadata": {
    "collapsed": false
   },
   "outputs": [],
   "source": []
  }
 ],
 "metadata": {
  "kernelspec": {
   "argv": [
    "/home/wit/miniconda3/bin/python",
    "-m",
    "ipykernel_launcher",
    "-f",
    "{connection_file}"
   ],
   "display_name": "Python 3 (ipykernel)",
   "env": null,
   "interrupt_mode": "signal",
   "language": "python",
   "metadata": {
    "debugger": true
   },
   "name": "python3"
  },
  "name": "dax_ibdir_datype_classif.ipynb"
 },
 "nbformat": 4,
 "nbformat_minor": 5
}
