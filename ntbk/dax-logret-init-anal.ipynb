{
 "cells": [
  {
   "cell_type": "code",
   "execution_count": 117,
   "id": "7a321a63",
   "metadata": {
    "collapsed": false
   },
   "outputs": [],
   "source": [
    "import pandas as pd\n",
    "import numpy as np\n",
    "import pandas_ta as ta"
   ]
  },
  {
   "cell_type": "code",
   "execution_count": 64,
   "id": "9d8e7104",
   "metadata": {
    "collapsed": false
   },
   "outputs": [],
   "source": [
    "df = pd.read_csv(\"./data/dax-data.csv\").iloc[:, 1:]"
   ]
  },
  {
   "cell_type": "code",
   "execution_count": 129,
   "id": "543e02a4",
   "metadata": {
    "collapsed": false
   },
   "outputs": [
    {
     "name": "stderr",
     "output_type": "stream",
     "text": [
      "/home/wit/miniconda3/lib/python3.10/site-packages/pandas/core/internals/construction.py:576: VisibleDeprecationWarning: Creating an ndarray from ragged nested sequences (which is a list-or-tuple of lists-or-tuples-or ndarrays with different lengths or shapes) is deprecated. If you meant to do this, you must specify 'dtype=object' when creating the ndarray.\n",
      "  values = np.array([convert(v) for v in values])\n"
     ]
    }
   ],
   "source": [
    "ichise = pd.concat([df,  pd.DataFrame(df.ta.ichimoku())], axis=1)"
   ]
  },
  {
   "cell_type": "code",
   "execution_count": null,
   "id": "5ea3c6ae",
   "metadata": {
    "collapsed": false
   },
   "outputs": [],
   "source": []
  },
  {
   "cell_type": "code",
   "execution_count": null,
   "id": "3c2749f9",
   "metadata": {
    "collapsed": false
   },
   "outputs": [],
   "source": []
  },
  {
   "cell_type": "code",
   "execution_count": 90,
   "id": "f16698ef",
   "metadata": {
    "collapsed": false
   },
   "outputs": [],
   "source": [
    "da = df[[\"date\", \"close\", \"ibdir\",  \"daydir\"]].copy()\n",
    "init = da.close[0]"
   ]
  },
  {
   "cell_type": "code",
   "execution_count": 91,
   "id": "3365659f",
   "metadata": {
    "collapsed": false
   },
   "outputs": [],
   "source": [
    "da[\"chg\"] = da.close.pct_change()"
   ]
  },
  {
   "cell_type": "code",
   "execution_count": 92,
   "id": "35a58ba3",
   "metadata": {
    "collapsed": false
   },
   "outputs": [],
   "source": [
    "da.dropna(inplace=True)"
   ]
  },
  {
   "cell_type": "code",
   "execution_count": 93,
   "id": "d5c6b00e",
   "metadata": {
    "collapsed": false
   },
   "outputs": [],
   "source": [
    "da[\"logret\"] = np.log(1 + da.chg)"
   ]
  },
  {
   "cell_type": "code",
   "execution_count": 94,
   "id": "9ae2ed39",
   "metadata": {
    "collapsed": false
   },
   "outputs": [
    {
     "data": {
      "text/html": [
       "<div>\n",
       "<style scoped>\n",
       "    .dataframe tbody tr th:only-of-type {\n",
       "        vertical-align: middle;\n",
       "    }\n",
       "\n",
       "    .dataframe tbody tr th {\n",
       "        vertical-align: top;\n",
       "    }\n",
       "\n",
       "    .dataframe thead th {\n",
       "        text-align: right;\n",
       "    }\n",
       "</style>\n",
       "<table border=\"1\" class=\"dataframe\">\n",
       "  <thead>\n",
       "    <tr style=\"text-align: right;\">\n",
       "      <th></th>\n",
       "      <th>date</th>\n",
       "      <th>close</th>\n",
       "      <th>ibdir</th>\n",
       "      <th>daydir</th>\n",
       "      <th>chg</th>\n",
       "      <th>logret</th>\n",
       "    </tr>\n",
       "  </thead>\n",
       "  <tbody>\n",
       "    <tr>\n",
       "      <th>1</th>\n",
       "      <td>2021-03-05</td>\n",
       "      <td>13920.69</td>\n",
       "      <td>down</td>\n",
       "      <td>down</td>\n",
       "      <td>-0.009650</td>\n",
       "      <td>-0.009697</td>\n",
       "    </tr>\n",
       "    <tr>\n",
       "      <th>2</th>\n",
       "      <td>2021-03-08</td>\n",
       "      <td>14380.91</td>\n",
       "      <td>down</td>\n",
       "      <td>up</td>\n",
       "      <td>0.033060</td>\n",
       "      <td>0.032525</td>\n",
       "    </tr>\n",
       "    <tr>\n",
       "      <th>3</th>\n",
       "      <td>2021-03-09</td>\n",
       "      <td>14437.94</td>\n",
       "      <td>up</td>\n",
       "      <td>up</td>\n",
       "      <td>0.003966</td>\n",
       "      <td>0.003958</td>\n",
       "    </tr>\n",
       "    <tr>\n",
       "      <th>4</th>\n",
       "      <td>2021-03-10</td>\n",
       "      <td>14540.25</td>\n",
       "      <td>up</td>\n",
       "      <td>up</td>\n",
       "      <td>0.007086</td>\n",
       "      <td>0.007061</td>\n",
       "    </tr>\n",
       "    <tr>\n",
       "      <th>5</th>\n",
       "      <td>2021-03-11</td>\n",
       "      <td>14569.39</td>\n",
       "      <td>down</td>\n",
       "      <td>up</td>\n",
       "      <td>0.002004</td>\n",
       "      <td>0.002002</td>\n",
       "    </tr>\n",
       "    <tr>\n",
       "      <th>...</th>\n",
       "      <td>...</td>\n",
       "      <td>...</td>\n",
       "      <td>...</td>\n",
       "      <td>...</td>\n",
       "      <td>...</td>\n",
       "      <td>...</td>\n",
       "    </tr>\n",
       "    <tr>\n",
       "      <th>271</th>\n",
       "      <td>2022-03-28</td>\n",
       "      <td>14417.37</td>\n",
       "      <td>up</td>\n",
       "      <td>up</td>\n",
       "      <td>0.007802</td>\n",
       "      <td>0.007771</td>\n",
       "    </tr>\n",
       "    <tr>\n",
       "      <th>272</th>\n",
       "      <td>2022-03-29</td>\n",
       "      <td>14820.33</td>\n",
       "      <td>up</td>\n",
       "      <td>up</td>\n",
       "      <td>0.027950</td>\n",
       "      <td>0.027566</td>\n",
       "    </tr>\n",
       "    <tr>\n",
       "      <th>273</th>\n",
       "      <td>2022-03-30</td>\n",
       "      <td>14606.05</td>\n",
       "      <td>down</td>\n",
       "      <td>down</td>\n",
       "      <td>-0.014459</td>\n",
       "      <td>-0.014564</td>\n",
       "    </tr>\n",
       "    <tr>\n",
       "      <th>274</th>\n",
       "      <td>2022-03-31</td>\n",
       "      <td>14414.75</td>\n",
       "      <td>down</td>\n",
       "      <td>down</td>\n",
       "      <td>-0.013097</td>\n",
       "      <td>-0.013184</td>\n",
       "    </tr>\n",
       "    <tr>\n",
       "      <th>275</th>\n",
       "      <td>2022-04-01</td>\n",
       "      <td>14446.48</td>\n",
       "      <td>down</td>\n",
       "      <td>down</td>\n",
       "      <td>0.002201</td>\n",
       "      <td>0.002199</td>\n",
       "    </tr>\n",
       "  </tbody>\n",
       "</table>\n",
       "<p>275 rows × 6 columns</p>\n",
       "</div>"
      ],
      "text/plain": [
       "           date     close ibdir daydir       chg    logret\n",
       "1    2021-03-05  13920.69  down   down -0.009650 -0.009697\n",
       "2    2021-03-08  14380.91  down     up  0.033060  0.032525\n",
       "3    2021-03-09  14437.94    up     up  0.003966  0.003958\n",
       "4    2021-03-10  14540.25    up     up  0.007086  0.007061\n",
       "5    2021-03-11  14569.39  down     up  0.002004  0.002002\n",
       "..          ...       ...   ...    ...       ...       ...\n",
       "271  2022-03-28  14417.37    up     up  0.007802  0.007771\n",
       "272  2022-03-29  14820.33    up     up  0.027950  0.027566\n",
       "273  2022-03-30  14606.05  down   down -0.014459 -0.014564\n",
       "274  2022-03-31  14414.75  down   down -0.013097 -0.013184\n",
       "275  2022-04-01  14446.48  down   down  0.002201  0.002199\n",
       "\n",
       "[275 rows x 6 columns]"
      ]
     },
     "execution_count": 94,
     "metadata": {},
     "output_type": "execute_result"
    }
   ],
   "source": [
    "da"
   ]
  },
  {
   "cell_type": "code",
   "execution_count": 96,
   "id": "662f74dc",
   "metadata": {
    "collapsed": false
   },
   "outputs": [],
   "source": [
    "def get_lags(df, c, n):\n",
    "    for i in range(1, n+1):\n",
    "        df[c + \"_lag_\" + str(i)] = df[c].shift(i)\n"
   ]
  },
  {
   "cell_type": "code",
   "execution_count": 97,
   "id": "f342cdc8",
   "metadata": {
    "collapsed": false
   },
   "outputs": [
    {
     "name": "stderr",
     "output_type": "stream",
     "text": [
      "/tmp/ipykernel_10368/801438680.py:3: PerformanceWarning: DataFrame is highly fragmented.  This is usually the result of calling `frame.insert` many times, which has poor performance.  Consider joining all columns at once using pd.concat(axis=1) instead. To get a de-fragmented frame, use `newframe = frame.copy()`\n",
      "  df[c + \"_lag_\" + str(i)] = df[c].shift(i)\n",
      "/tmp/ipykernel_10368/801438680.py:3: PerformanceWarning: DataFrame is highly fragmented.  This is usually the result of calling `frame.insert` many times, which has poor performance.  Consider joining all columns at once using pd.concat(axis=1) instead. To get a de-fragmented frame, use `newframe = frame.copy()`\n",
      "  df[c + \"_lag_\" + str(i)] = df[c].shift(i)\n",
      "/tmp/ipykernel_10368/801438680.py:3: PerformanceWarning: DataFrame is highly fragmented.  This is usually the result of calling `frame.insert` many times, which has poor performance.  Consider joining all columns at once using pd.concat(axis=1) instead. To get a de-fragmented frame, use `newframe = frame.copy()`\n",
      "  df[c + \"_lag_\" + str(i)] = df[c].shift(i)\n",
      "/tmp/ipykernel_10368/801438680.py:3: PerformanceWarning: DataFrame is highly fragmented.  This is usually the result of calling `frame.insert` many times, which has poor performance.  Consider joining all columns at once using pd.concat(axis=1) instead. To get a de-fragmented frame, use `newframe = frame.copy()`\n",
      "  df[c + \"_lag_\" + str(i)] = df[c].shift(i)\n",
      "/tmp/ipykernel_10368/801438680.py:3: PerformanceWarning: DataFrame is highly fragmented.  This is usually the result of calling `frame.insert` many times, which has poor performance.  Consider joining all columns at once using pd.concat(axis=1) instead. To get a de-fragmented frame, use `newframe = frame.copy()`\n",
      "  df[c + \"_lag_\" + str(i)] = df[c].shift(i)\n",
      "/tmp/ipykernel_10368/801438680.py:3: PerformanceWarning: DataFrame is highly fragmented.  This is usually the result of calling `frame.insert` many times, which has poor performance.  Consider joining all columns at once using pd.concat(axis=1) instead. To get a de-fragmented frame, use `newframe = frame.copy()`\n",
      "  df[c + \"_lag_\" + str(i)] = df[c].shift(i)\n",
      "/tmp/ipykernel_10368/801438680.py:3: PerformanceWarning: DataFrame is highly fragmented.  This is usually the result of calling `frame.insert` many times, which has poor performance.  Consider joining all columns at once using pd.concat(axis=1) instead. To get a de-fragmented frame, use `newframe = frame.copy()`\n",
      "  df[c + \"_lag_\" + str(i)] = df[c].shift(i)\n",
      "/tmp/ipykernel_10368/801438680.py:3: PerformanceWarning: DataFrame is highly fragmented.  This is usually the result of calling `frame.insert` many times, which has poor performance.  Consider joining all columns at once using pd.concat(axis=1) instead. To get a de-fragmented frame, use `newframe = frame.copy()`\n",
      "  df[c + \"_lag_\" + str(i)] = df[c].shift(i)\n",
      "/tmp/ipykernel_10368/801438680.py:3: PerformanceWarning: DataFrame is highly fragmented.  This is usually the result of calling `frame.insert` many times, which has poor performance.  Consider joining all columns at once using pd.concat(axis=1) instead. To get a de-fragmented frame, use `newframe = frame.copy()`\n",
      "  df[c + \"_lag_\" + str(i)] = df[c].shift(i)\n",
      "/tmp/ipykernel_10368/801438680.py:3: PerformanceWarning: DataFrame is highly fragmented.  This is usually the result of calling `frame.insert` many times, which has poor performance.  Consider joining all columns at once using pd.concat(axis=1) instead. To get a de-fragmented frame, use `newframe = frame.copy()`\n",
      "  df[c + \"_lag_\" + str(i)] = df[c].shift(i)\n",
      "/tmp/ipykernel_10368/801438680.py:3: PerformanceWarning: DataFrame is highly fragmented.  This is usually the result of calling `frame.insert` many times, which has poor performance.  Consider joining all columns at once using pd.concat(axis=1) instead. To get a de-fragmented frame, use `newframe = frame.copy()`\n",
      "  df[c + \"_lag_\" + str(i)] = df[c].shift(i)\n"
     ]
    }
   ],
   "source": [
    "for c in [\"daydir\",\"ibdir\", \"chg\", \"logret\"]:\n",
    "    get_lags(da, c, 27)\n",
    "    "
   ]
  },
  {
   "cell_type": "code",
   "execution_count": 99,
   "id": "6b8c109b",
   "metadata": {
    "collapsed": false
   },
   "outputs": [],
   "source": [
    "da = da.dropna()"
   ]
  },
  {
   "cell_type": "code",
   "execution_count": 100,
   "id": "692d7801",
   "metadata": {
    "collapsed": false
   },
   "outputs": [
    {
     "data": {
      "text/html": [
       "<div>\n",
       "<style scoped>\n",
       "    .dataframe tbody tr th:only-of-type {\n",
       "        vertical-align: middle;\n",
       "    }\n",
       "\n",
       "    .dataframe tbody tr th {\n",
       "        vertical-align: top;\n",
       "    }\n",
       "\n",
       "    .dataframe thead th {\n",
       "        text-align: right;\n",
       "    }\n",
       "</style>\n",
       "<table border=\"1\" class=\"dataframe\">\n",
       "  <thead>\n",
       "    <tr style=\"text-align: right;\">\n",
       "      <th></th>\n",
       "      <th>date</th>\n",
       "      <th>close</th>\n",
       "      <th>ibdir</th>\n",
       "      <th>daydir</th>\n",
       "      <th>chg</th>\n",
       "      <th>logret</th>\n",
       "      <th>daydir_lag_1</th>\n",
       "      <th>daydir_lag_2</th>\n",
       "      <th>daydir_lag_3</th>\n",
       "      <th>daydir_lag_4</th>\n",
       "      <th>...</th>\n",
       "      <th>logret_lag_18</th>\n",
       "      <th>logret_lag_19</th>\n",
       "      <th>logret_lag_20</th>\n",
       "      <th>logret_lag_21</th>\n",
       "      <th>logret_lag_22</th>\n",
       "      <th>logret_lag_23</th>\n",
       "      <th>logret_lag_24</th>\n",
       "      <th>logret_lag_25</th>\n",
       "      <th>logret_lag_26</th>\n",
       "      <th>logret_lag_27</th>\n",
       "    </tr>\n",
       "  </thead>\n",
       "  <tbody>\n",
       "    <tr>\n",
       "      <th>28</th>\n",
       "      <td>2021-04-15</td>\n",
       "      <td>15255.33</td>\n",
       "      <td>up</td>\n",
       "      <td>up</td>\n",
       "      <td>0.003036</td>\n",
       "      <td>0.003032</td>\n",
       "      <td>down</td>\n",
       "      <td>down</td>\n",
       "      <td>down</td>\n",
       "      <td>up</td>\n",
       "      <td>...</td>\n",
       "      <td>0.012182</td>\n",
       "      <td>0.002677</td>\n",
       "      <td>0.006627</td>\n",
       "      <td>-0.002829</td>\n",
       "      <td>-0.004609</td>\n",
       "      <td>0.002002</td>\n",
       "      <td>0.007061</td>\n",
       "      <td>0.003958</td>\n",
       "      <td>0.032525</td>\n",
       "      <td>-0.009697</td>\n",
       "    </tr>\n",
       "    <tr>\n",
       "      <th>29</th>\n",
       "      <td>2021-04-16</td>\n",
       "      <td>15459.75</td>\n",
       "      <td>up</td>\n",
       "      <td>up</td>\n",
       "      <td>0.013400</td>\n",
       "      <td>0.013311</td>\n",
       "      <td>up</td>\n",
       "      <td>down</td>\n",
       "      <td>down</td>\n",
       "      <td>down</td>\n",
       "      <td>...</td>\n",
       "      <td>-0.010513</td>\n",
       "      <td>0.012182</td>\n",
       "      <td>0.002677</td>\n",
       "      <td>0.006627</td>\n",
       "      <td>-0.002829</td>\n",
       "      <td>-0.004609</td>\n",
       "      <td>0.002002</td>\n",
       "      <td>0.007061</td>\n",
       "      <td>0.003958</td>\n",
       "      <td>0.032525</td>\n",
       "    </tr>\n",
       "    <tr>\n",
       "      <th>30</th>\n",
       "      <td>2021-04-19</td>\n",
       "      <td>15368.39</td>\n",
       "      <td>down</td>\n",
       "      <td>down</td>\n",
       "      <td>-0.005910</td>\n",
       "      <td>-0.005927</td>\n",
       "      <td>up</td>\n",
       "      <td>up</td>\n",
       "      <td>down</td>\n",
       "      <td>down</td>\n",
       "      <td>...</td>\n",
       "      <td>0.002474</td>\n",
       "      <td>-0.010513</td>\n",
       "      <td>0.012182</td>\n",
       "      <td>0.002677</td>\n",
       "      <td>0.006627</td>\n",
       "      <td>-0.002829</td>\n",
       "      <td>-0.004609</td>\n",
       "      <td>0.002002</td>\n",
       "      <td>0.007061</td>\n",
       "      <td>0.003958</td>\n",
       "    </tr>\n",
       "    <tr>\n",
       "      <th>31</th>\n",
       "      <td>2021-04-20</td>\n",
       "      <td>15129.51</td>\n",
       "      <td>down</td>\n",
       "      <td>down</td>\n",
       "      <td>-0.015544</td>\n",
       "      <td>-0.015666</td>\n",
       "      <td>down</td>\n",
       "      <td>up</td>\n",
       "      <td>up</td>\n",
       "      <td>down</td>\n",
       "      <td>...</td>\n",
       "      <td>0.000328</td>\n",
       "      <td>0.002474</td>\n",
       "      <td>-0.010513</td>\n",
       "      <td>0.012182</td>\n",
       "      <td>0.002677</td>\n",
       "      <td>0.006627</td>\n",
       "      <td>-0.002829</td>\n",
       "      <td>-0.004609</td>\n",
       "      <td>0.002002</td>\n",
       "      <td>0.007061</td>\n",
       "    </tr>\n",
       "    <tr>\n",
       "      <th>32</th>\n",
       "      <td>2021-04-21</td>\n",
       "      <td>15195.97</td>\n",
       "      <td>down</td>\n",
       "      <td>up</td>\n",
       "      <td>0.004393</td>\n",
       "      <td>0.004383</td>\n",
       "      <td>down</td>\n",
       "      <td>down</td>\n",
       "      <td>up</td>\n",
       "      <td>up</td>\n",
       "      <td>...</td>\n",
       "      <td>-0.003528</td>\n",
       "      <td>0.000328</td>\n",
       "      <td>0.002474</td>\n",
       "      <td>-0.010513</td>\n",
       "      <td>0.012182</td>\n",
       "      <td>0.002677</td>\n",
       "      <td>0.006627</td>\n",
       "      <td>-0.002829</td>\n",
       "      <td>-0.004609</td>\n",
       "      <td>0.002002</td>\n",
       "    </tr>\n",
       "    <tr>\n",
       "      <th>...</th>\n",
       "      <td>...</td>\n",
       "      <td>...</td>\n",
       "      <td>...</td>\n",
       "      <td>...</td>\n",
       "      <td>...</td>\n",
       "      <td>...</td>\n",
       "      <td>...</td>\n",
       "      <td>...</td>\n",
       "      <td>...</td>\n",
       "      <td>...</td>\n",
       "      <td>...</td>\n",
       "      <td>...</td>\n",
       "      <td>...</td>\n",
       "      <td>...</td>\n",
       "      <td>...</td>\n",
       "      <td>...</td>\n",
       "      <td>...</td>\n",
       "      <td>...</td>\n",
       "      <td>...</td>\n",
       "      <td>...</td>\n",
       "      <td>...</td>\n",
       "    </tr>\n",
       "    <tr>\n",
       "      <th>271</th>\n",
       "      <td>2022-03-28</td>\n",
       "      <td>14417.37</td>\n",
       "      <td>up</td>\n",
       "      <td>up</td>\n",
       "      <td>0.007802</td>\n",
       "      <td>0.007771</td>\n",
       "      <td>down</td>\n",
       "      <td>down</td>\n",
       "      <td>down</td>\n",
       "      <td>up</td>\n",
       "      <td>...</td>\n",
       "      <td>0.006827</td>\n",
       "      <td>-0.039219</td>\n",
       "      <td>-0.007318</td>\n",
       "      <td>0.036003</td>\n",
       "      <td>-0.040395</td>\n",
       "      <td>-0.004204</td>\n",
       "      <td>-0.002591</td>\n",
       "      <td>-0.020918</td>\n",
       "      <td>-0.014855</td>\n",
       "      <td>-0.006702</td>\n",
       "    </tr>\n",
       "    <tr>\n",
       "      <th>272</th>\n",
       "      <td>2022-03-29</td>\n",
       "      <td>14820.33</td>\n",
       "      <td>up</td>\n",
       "      <td>up</td>\n",
       "      <td>0.027950</td>\n",
       "      <td>0.027566</td>\n",
       "      <td>up</td>\n",
       "      <td>down</td>\n",
       "      <td>down</td>\n",
       "      <td>down</td>\n",
       "      <td>...</td>\n",
       "      <td>-0.021786</td>\n",
       "      <td>0.006827</td>\n",
       "      <td>-0.039219</td>\n",
       "      <td>-0.007318</td>\n",
       "      <td>0.036003</td>\n",
       "      <td>-0.040395</td>\n",
       "      <td>-0.004204</td>\n",
       "      <td>-0.002591</td>\n",
       "      <td>-0.020918</td>\n",
       "      <td>-0.014855</td>\n",
       "    </tr>\n",
       "    <tr>\n",
       "      <th>273</th>\n",
       "      <td>2022-03-30</td>\n",
       "      <td>14606.05</td>\n",
       "      <td>down</td>\n",
       "      <td>down</td>\n",
       "      <td>-0.014459</td>\n",
       "      <td>-0.014564</td>\n",
       "      <td>up</td>\n",
       "      <td>up</td>\n",
       "      <td>down</td>\n",
       "      <td>down</td>\n",
       "      <td>...</td>\n",
       "      <td>-0.045084</td>\n",
       "      <td>-0.021786</td>\n",
       "      <td>0.006827</td>\n",
       "      <td>-0.039219</td>\n",
       "      <td>-0.007318</td>\n",
       "      <td>0.036003</td>\n",
       "      <td>-0.040395</td>\n",
       "      <td>-0.004204</td>\n",
       "      <td>-0.002591</td>\n",
       "      <td>-0.020918</td>\n",
       "    </tr>\n",
       "    <tr>\n",
       "      <th>274</th>\n",
       "      <td>2022-03-31</td>\n",
       "      <td>14414.75</td>\n",
       "      <td>down</td>\n",
       "      <td>down</td>\n",
       "      <td>-0.013097</td>\n",
       "      <td>-0.013184</td>\n",
       "      <td>down</td>\n",
       "      <td>up</td>\n",
       "      <td>up</td>\n",
       "      <td>down</td>\n",
       "      <td>...</td>\n",
       "      <td>-0.020047</td>\n",
       "      <td>-0.045084</td>\n",
       "      <td>-0.021786</td>\n",
       "      <td>0.006827</td>\n",
       "      <td>-0.039219</td>\n",
       "      <td>-0.007318</td>\n",
       "      <td>0.036003</td>\n",
       "      <td>-0.040395</td>\n",
       "      <td>-0.004204</td>\n",
       "      <td>-0.002591</td>\n",
       "    </tr>\n",
       "    <tr>\n",
       "      <th>275</th>\n",
       "      <td>2022-04-01</td>\n",
       "      <td>14446.48</td>\n",
       "      <td>down</td>\n",
       "      <td>down</td>\n",
       "      <td>0.002201</td>\n",
       "      <td>0.002199</td>\n",
       "      <td>down</td>\n",
       "      <td>down</td>\n",
       "      <td>up</td>\n",
       "      <td>up</td>\n",
       "      <td>...</td>\n",
       "      <td>-0.000245</td>\n",
       "      <td>-0.020047</td>\n",
       "      <td>-0.045084</td>\n",
       "      <td>-0.021786</td>\n",
       "      <td>0.006827</td>\n",
       "      <td>-0.039219</td>\n",
       "      <td>-0.007318</td>\n",
       "      <td>0.036003</td>\n",
       "      <td>-0.040395</td>\n",
       "      <td>-0.004204</td>\n",
       "    </tr>\n",
       "  </tbody>\n",
       "</table>\n",
       "<p>248 rows × 114 columns</p>\n",
       "</div>"
      ],
      "text/plain": [
       "           date     close ibdir daydir       chg    logret daydir_lag_1  \\\n",
       "28   2021-04-15  15255.33    up     up  0.003036  0.003032         down   \n",
       "29   2021-04-16  15459.75    up     up  0.013400  0.013311           up   \n",
       "30   2021-04-19  15368.39  down   down -0.005910 -0.005927           up   \n",
       "31   2021-04-20  15129.51  down   down -0.015544 -0.015666         down   \n",
       "32   2021-04-21  15195.97  down     up  0.004393  0.004383         down   \n",
       "..          ...       ...   ...    ...       ...       ...          ...   \n",
       "271  2022-03-28  14417.37    up     up  0.007802  0.007771         down   \n",
       "272  2022-03-29  14820.33    up     up  0.027950  0.027566           up   \n",
       "273  2022-03-30  14606.05  down   down -0.014459 -0.014564           up   \n",
       "274  2022-03-31  14414.75  down   down -0.013097 -0.013184         down   \n",
       "275  2022-04-01  14446.48  down   down  0.002201  0.002199         down   \n",
       "\n",
       "    daydir_lag_2 daydir_lag_3 daydir_lag_4  ... logret_lag_18 logret_lag_19  \\\n",
       "28          down         down           up  ...      0.012182      0.002677   \n",
       "29          down         down         down  ...     -0.010513      0.012182   \n",
       "30            up         down         down  ...      0.002474     -0.010513   \n",
       "31            up           up         down  ...      0.000328      0.002474   \n",
       "32          down           up           up  ...     -0.003528      0.000328   \n",
       "..           ...          ...          ...  ...           ...           ...   \n",
       "271         down         down           up  ...      0.006827     -0.039219   \n",
       "272         down         down         down  ...     -0.021786      0.006827   \n",
       "273           up         down         down  ...     -0.045084     -0.021786   \n",
       "274           up           up         down  ...     -0.020047     -0.045084   \n",
       "275         down           up           up  ...     -0.000245     -0.020047   \n",
       "\n",
       "    logret_lag_20 logret_lag_21 logret_lag_22 logret_lag_23 logret_lag_24  \\\n",
       "28       0.006627     -0.002829     -0.004609      0.002002      0.007061   \n",
       "29       0.002677      0.006627     -0.002829     -0.004609      0.002002   \n",
       "30       0.012182      0.002677      0.006627     -0.002829     -0.004609   \n",
       "31      -0.010513      0.012182      0.002677      0.006627     -0.002829   \n",
       "32       0.002474     -0.010513      0.012182      0.002677      0.006627   \n",
       "..            ...           ...           ...           ...           ...   \n",
       "271     -0.007318      0.036003     -0.040395     -0.004204     -0.002591   \n",
       "272     -0.039219     -0.007318      0.036003     -0.040395     -0.004204   \n",
       "273      0.006827     -0.039219     -0.007318      0.036003     -0.040395   \n",
       "274     -0.021786      0.006827     -0.039219     -0.007318      0.036003   \n",
       "275     -0.045084     -0.021786      0.006827     -0.039219     -0.007318   \n",
       "\n",
       "    logret_lag_25 logret_lag_26 logret_lag_27  \n",
       "28       0.003958      0.032525     -0.009697  \n",
       "29       0.007061      0.003958      0.032525  \n",
       "30       0.002002      0.007061      0.003958  \n",
       "31      -0.004609      0.002002      0.007061  \n",
       "32      -0.002829     -0.004609      0.002002  \n",
       "..            ...           ...           ...  \n",
       "271     -0.020918     -0.014855     -0.006702  \n",
       "272     -0.002591     -0.020918     -0.014855  \n",
       "273     -0.004204     -0.002591     -0.020918  \n",
       "274     -0.040395     -0.004204     -0.002591  \n",
       "275      0.036003     -0.040395     -0.004204  \n",
       "\n",
       "[248 rows x 114 columns]"
      ]
     },
     "execution_count": 100,
     "metadata": {},
     "output_type": "execute_result"
    }
   ],
   "source": [
    "da"
   ]
  },
  {
   "cell_type": "code",
   "execution_count": 262,
   "id": "d8238e09",
   "metadata": {
    "collapsed": false
   },
   "outputs": [],
   "source": [
    "from sklearn.feature_selection import RFE\n",
    "from sklearn.tree import DecisionTreeClassifier\n",
    "from sklearn.preprocessing import LabelEncoder\n",
    "from sklearn.model_selection import train_test_split\n",
    "from sklearn.linear_model import LogisticRegression\n",
    "from sklearn.metrics import accuracy_score\n",
    "from sklearn.tree import DecisionTreeRegressor\n",
    "X = da.drop([\"daydir\", \"logret\"], axis=1)\n",
    "y = da.daydir\n",
    "X = pd.get_dummies(X)\n",
    "enc = LabelEncoder()\n",
    "y = enc.fit_transform(y)\n",
    "X_train, X_test, y_train, y_test = train_test_split(X, y, train_size=0.5)"
   ]
  },
  {
   "cell_type": "code",
   "execution_count": 263,
   "id": "268e5e10",
   "metadata": {
    "collapsed": false
   },
   "outputs": [
    {
     "name": "stderr",
     "output_type": "stream",
     "text": [
      "/home/wit/miniconda3/lib/python3.10/site-packages/sklearn/linear_model/_logistic.py:814: ConvergenceWarning: lbfgs failed to converge (status=1):\n",
      "STOP: TOTAL NO. of ITERATIONS REACHED LIMIT.\n",
      "\n",
      "Increase the number of iterations (max_iter) or scale the data as shown in:\n",
      "    https://scikit-learn.org/stable/modules/preprocessing.html\n",
      "Please also refer to the documentation for alternative solver options:\n",
      "    https://scikit-learn.org/stable/modules/linear_model.html#logistic-regression\n",
      "  n_iter_i = _check_optimize_result(\n"
     ]
    },
    {
     "data": {
      "text/plain": [
       "LogisticRegression()"
      ]
     },
     "execution_count": 263,
     "metadata": {},
     "output_type": "execute_result"
    }
   ],
   "source": [
    "logreg =  LogisticRegression()\n",
    "logreg.fit(X_train, y_train)"
   ]
  },
  {
   "cell_type": "code",
   "execution_count": 264,
   "id": "d57ac51c",
   "metadata": {
    "collapsed": false
   },
   "outputs": [
    {
     "data": {
      "text/plain": [
       "0.8951612903225806"
      ]
     },
     "execution_count": 264,
     "metadata": {},
     "output_type": "execute_result"
    }
   ],
   "source": [
    "accuracy_score(logreg.predict(X_train), y_train)"
   ]
  },
  {
   "cell_type": "code",
   "execution_count": 265,
   "id": "5c0d1850",
   "metadata": {
    "collapsed": false
   },
   "outputs": [
    {
     "data": {
      "text/plain": [
       "0.5887096774193549"
      ]
     },
     "execution_count": 265,
     "metadata": {},
     "output_type": "execute_result"
    }
   ],
   "source": [
    "accuracy_score(logreg.predict(X_test), y_test)"
   ]
  },
  {
   "cell_type": "code",
   "execution_count": 266,
   "id": "e76af996",
   "metadata": {
    "collapsed": false
   },
   "outputs": [
    {
     "data": {
      "text/plain": [
       "1.0"
      ]
     },
     "execution_count": 266,
     "metadata": {},
     "output_type": "execute_result"
    }
   ],
   "source": [
    "t = DecisionTreeClassifier()\n",
    "t.fit(X_train, y_train)\n",
    "accuracy_score(t.predict(X_train), y_train)"
   ]
  },
  {
   "cell_type": "code",
   "execution_count": 267,
   "id": "e4e6f1fa",
   "metadata": {
    "collapsed": false
   },
   "outputs": [
    {
     "data": {
      "text/plain": [
       "0.7419354838709677"
      ]
     },
     "execution_count": 267,
     "metadata": {},
     "output_type": "execute_result"
    }
   ],
   "source": [
    "accuracy_score(t.predict(X_test), y_test)"
   ]
  },
  {
   "cell_type": "code",
   "execution_count": 268,
   "id": "052e752e",
   "metadata": {
    "collapsed": false
   },
   "outputs": [
    {
     "data": {
      "text/plain": [
       "0.6946666666666668"
      ]
     },
     "execution_count": 268,
     "metadata": {},
     "output_type": "execute_result"
    }
   ],
   "source": [
    "from sklearn.model_selection import cross_val_score\n",
    "cross_val_score(t, X_test, y_test).mean()"
   ]
  },
  {
   "cell_type": "code",
   "execution_count": 271,
   "id": "620721bb",
   "metadata": {
    "collapsed": false
   },
   "outputs": [],
   "source": [
    "from xgboost import XGBClassifier"
   ]
  },
  {
   "cell_type": "code",
   "execution_count": 272,
   "id": "3b90e06d",
   "metadata": {
    "collapsed": false
   },
   "outputs": [
    {
     "name": "stderr",
     "output_type": "stream",
     "text": [
      "/home/wit/miniconda3/lib/python3.10/site-packages/xgboost/data.py:250: FutureWarning: pandas.Int64Index is deprecated and will be removed from pandas in a future version. Use pandas.Index with the appropriate dtype instead.\n",
      "  elif isinstance(data.columns, (pd.Int64Index, pd.RangeIndex)):\n"
     ]
    },
    {
     "name": "stdout",
     "output_type": "stream",
     "text": [
      "[21:59:08] WARNING: ../src/learner.cc:1115: Starting in XGBoost 1.3.0, the default evaluation metric used with the objective 'binary:logistic' was changed from 'error' to 'logloss'. Explicitly set eval_metric if you'd like to restore the old behavior.\n"
     ]
    },
    {
     "data": {
      "text/plain": [
       "XGBClassifier(base_score=0.5, booster='gbtree', colsample_bylevel=1,\n",
       "              colsample_bynode=1, colsample_bytree=1, enable_categorical=False,\n",
       "              gamma=0, gpu_id=-1, importance_type=None,\n",
       "              interaction_constraints='', learning_rate=0.300000012,\n",
       "              max_delta_step=0, max_depth=6, min_child_weight=1, missing=nan,\n",
       "              monotone_constraints='()', n_estimators=100, n_jobs=8,\n",
       "              num_parallel_tree=1, predictor='auto', random_state=0,\n",
       "              reg_alpha=0, reg_lambda=1, scale_pos_weight=1, subsample=1,\n",
       "              tree_method='exact', use_label_encoder=False,\n",
       "              validate_parameters=1, verbosity=None)"
      ]
     },
     "execution_count": 272,
     "metadata": {},
     "output_type": "execute_result"
    }
   ],
   "source": [
    "xc = XGBClassifier(use_label_encoder=False)\n",
    "xc.fit(X_train, y_train)"
   ]
  },
  {
   "cell_type": "code",
   "execution_count": 273,
   "id": "6fc725e8",
   "metadata": {
    "collapsed": false
   },
   "outputs": [
    {
     "data": {
      "text/plain": [
       "1.0"
      ]
     },
     "execution_count": 273,
     "metadata": {},
     "output_type": "execute_result"
    }
   ],
   "source": [
    "accuracy_score(xc.predict(X_train), y_train)"
   ]
  },
  {
   "cell_type": "code",
   "execution_count": 274,
   "id": "5b26b2c2",
   "metadata": {
    "collapsed": false
   },
   "outputs": [
    {
     "data": {
      "text/plain": [
       "0.7741935483870968"
      ]
     },
     "execution_count": 274,
     "metadata": {},
     "output_type": "execute_result"
    }
   ],
   "source": [
    "accuracy_score(xc.predict(X_test), y_test)"
   ]
  },
  {
   "cell_type": "code",
   "execution_count": null,
   "id": "513eed19",
   "metadata": {
    "collapsed": false
   },
   "outputs": [],
   "source": []
  }
 ],
 "metadata": {
  "kernelspec": {
   "argv": [
    "/home/wit/miniconda3/bin/python",
    "-m",
    "ipykernel_launcher",
    "-f",
    "{connection_file}"
   ],
   "display_name": "Python 3 (ipykernel)",
   "env": null,
   "interrupt_mode": "signal",
   "language": "python",
   "metadata": {
    "debugger": true
   },
   "name": "python3"
  },
  "name": "dax-logret-init-anal.ipynb"
 },
 "nbformat": 4,
 "nbformat_minor": 5
}
