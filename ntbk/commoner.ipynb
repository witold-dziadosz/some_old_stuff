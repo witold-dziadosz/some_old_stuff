{
 "cells": [
  {
   "cell_type": "code",
   "execution_count": 17,
   "id": "dd9c6eaa",
   "metadata": {
    "collapsed": false
   },
   "outputs": [],
   "source": [
    "import pandas as pd\n",
    "from common import GannSwing, get_lags\n",
    "import seaborn as sns\n",
    "import matplotlib.pyplot as plt"
   ]
  },
  {
   "cell_type": "code",
   "execution_count": 18,
   "id": "015ee762",
   "metadata": {
    "collapsed": false
   },
   "outputs": [
    {
     "data": {
      "text/html": [
       "<div>\n",
       "<style scoped>\n",
       "    .dataframe tbody tr th:only-of-type {\n",
       "        vertical-align: middle;\n",
       "    }\n",
       "\n",
       "    .dataframe tbody tr th {\n",
       "        vertical-align: top;\n",
       "    }\n",
       "\n",
       "    .dataframe thead th {\n",
       "        text-align: right;\n",
       "    }\n",
       "</style>\n",
       "<table border=\"1\" class=\"dataframe\">\n",
       "  <thead>\n",
       "    <tr style=\"text-align: right;\">\n",
       "      <th></th>\n",
       "      <th>date</th>\n",
       "      <th>open</th>\n",
       "      <th>high</th>\n",
       "      <th>low</th>\n",
       "      <th>close</th>\n",
       "      <th>iblow</th>\n",
       "      <th>ibhigh</th>\n",
       "      <th>ibclose</th>\n",
       "      <th>range</th>\n",
       "      <th>ibrange</th>\n",
       "      <th>daydir</th>\n",
       "      <th>ibdir</th>\n",
       "      <th>ibdaytype</th>\n",
       "      <th>weekday</th>\n",
       "    </tr>\n",
       "  </thead>\n",
       "  <tbody>\n",
       "    <tr>\n",
       "      <th>0</th>\n",
       "      <td>2021-03-04</td>\n",
       "      <td>14015.44</td>\n",
       "      <td>14095.81</td>\n",
       "      <td>13959.27</td>\n",
       "      <td>14056.34</td>\n",
       "      <td>13976.44</td>\n",
       "      <td>14056.32</td>\n",
       "      <td>14006.65</td>\n",
       "      <td>136.54</td>\n",
       "      <td>79.88</td>\n",
       "      <td>up</td>\n",
       "      <td>down</td>\n",
       "      <td>both-broken</td>\n",
       "      <td>3</td>\n",
       "    </tr>\n",
       "    <tr>\n",
       "      <th>1</th>\n",
       "      <td>2021-03-05</td>\n",
       "      <td>13958.54</td>\n",
       "      <td>14068.03</td>\n",
       "      <td>13868.20</td>\n",
       "      <td>13920.69</td>\n",
       "      <td>13868.20</td>\n",
       "      <td>13970.17</td>\n",
       "      <td>13901.60</td>\n",
       "      <td>199.83</td>\n",
       "      <td>101.97</td>\n",
       "      <td>down</td>\n",
       "      <td>down</td>\n",
       "      <td>high-broken</td>\n",
       "      <td>4</td>\n",
       "    </tr>\n",
       "    <tr>\n",
       "      <th>2</th>\n",
       "      <td>2021-03-08</td>\n",
       "      <td>14024.57</td>\n",
       "      <td>14402.92</td>\n",
       "      <td>13977.13</td>\n",
       "      <td>14380.91</td>\n",
       "      <td>13977.13</td>\n",
       "      <td>14050.00</td>\n",
       "      <td>14013.16</td>\n",
       "      <td>425.79</td>\n",
       "      <td>72.87</td>\n",
       "      <td>up</td>\n",
       "      <td>down</td>\n",
       "      <td>high-broken</td>\n",
       "      <td>0</td>\n",
       "    </tr>\n",
       "    <tr>\n",
       "      <th>3</th>\n",
       "      <td>2021-03-09</td>\n",
       "      <td>14345.51</td>\n",
       "      <td>14475.65</td>\n",
       "      <td>14309.35</td>\n",
       "      <td>14437.94</td>\n",
       "      <td>14309.35</td>\n",
       "      <td>14403.48</td>\n",
       "      <td>14392.05</td>\n",
       "      <td>166.30</td>\n",
       "      <td>94.13</td>\n",
       "      <td>up</td>\n",
       "      <td>up</td>\n",
       "      <td>high-broken</td>\n",
       "      <td>1</td>\n",
       "    </tr>\n",
       "    <tr>\n",
       "      <th>4</th>\n",
       "      <td>2021-03-10</td>\n",
       "      <td>14439.45</td>\n",
       "      <td>14560.97</td>\n",
       "      <td>14408.52</td>\n",
       "      <td>14540.25</td>\n",
       "      <td>14408.52</td>\n",
       "      <td>14488.46</td>\n",
       "      <td>14477.09</td>\n",
       "      <td>152.45</td>\n",
       "      <td>79.94</td>\n",
       "      <td>up</td>\n",
       "      <td>up</td>\n",
       "      <td>high-broken</td>\n",
       "      <td>2</td>\n",
       "    </tr>\n",
       "  </tbody>\n",
       "</table>\n",
       "</div>"
      ],
      "text/plain": [
       "         date      open      high       low     close     iblow    ibhigh  \\\n",
       "0  2021-03-04  14015.44  14095.81  13959.27  14056.34  13976.44  14056.32   \n",
       "1  2021-03-05  13958.54  14068.03  13868.20  13920.69  13868.20  13970.17   \n",
       "2  2021-03-08  14024.57  14402.92  13977.13  14380.91  13977.13  14050.00   \n",
       "3  2021-03-09  14345.51  14475.65  14309.35  14437.94  14309.35  14403.48   \n",
       "4  2021-03-10  14439.45  14560.97  14408.52  14540.25  14408.52  14488.46   \n",
       "\n",
       "    ibclose   range  ibrange daydir ibdir    ibdaytype  weekday  \n",
       "0  14006.65  136.54    79.88     up  down  both-broken        3  \n",
       "1  13901.60  199.83   101.97   down  down  high-broken        4  \n",
       "2  14013.16  425.79    72.87     up  down  high-broken        0  \n",
       "3  14392.05  166.30    94.13     up    up  high-broken        1  \n",
       "4  14477.09  152.45    79.94     up    up  high-broken        2  "
      ]
     },
     "execution_count": 18,
     "metadata": {},
     "output_type": "execute_result"
    }
   ],
   "source": [
    "data = pd.read_csv(\"./data/dax-data.csv\")\n",
    "df = data.drop(\"Unnamed: 0\", axis=1).copy()\n",
    "df.head()"
   ]
  },
  {
   "cell_type": "code",
   "execution_count": 19,
   "id": "502d5ab3",
   "metadata": {
    "collapsed": false
   },
   "outputs": [],
   "source": [
    "for c in [\"high\", \"low\"]:\n",
    "    get_lags(df, c, 2)"
   ]
  },
  {
   "cell_type": "code",
   "execution_count": 20,
   "id": "65098264",
   "metadata": {
    "collapsed": false
   },
   "outputs": [],
   "source": [
    "df[\"swing\"] = df.apply(GannSwing(), axis=1)"
   ]
  },
  {
   "cell_type": "code",
   "execution_count": 21,
   "id": "c6570da6",
   "metadata": {
    "collapsed": false
   },
   "outputs": [
    {
     "data": {
      "text/html": [
       "<div>\n",
       "<style scoped>\n",
       "    .dataframe tbody tr th:only-of-type {\n",
       "        vertical-align: middle;\n",
       "    }\n",
       "\n",
       "    .dataframe tbody tr th {\n",
       "        vertical-align: top;\n",
       "    }\n",
       "\n",
       "    .dataframe thead th {\n",
       "        text-align: right;\n",
       "    }\n",
       "</style>\n",
       "<table border=\"1\" class=\"dataframe\">\n",
       "  <thead>\n",
       "    <tr style=\"text-align: right;\">\n",
       "      <th></th>\n",
       "      <th>date</th>\n",
       "      <th>open</th>\n",
       "      <th>high</th>\n",
       "      <th>low</th>\n",
       "      <th>close</th>\n",
       "      <th>iblow</th>\n",
       "      <th>ibhigh</th>\n",
       "      <th>ibclose</th>\n",
       "      <th>range</th>\n",
       "      <th>ibrange</th>\n",
       "      <th>daydir</th>\n",
       "      <th>ibdir</th>\n",
       "      <th>ibdaytype</th>\n",
       "      <th>weekday</th>\n",
       "      <th>high_lag_1</th>\n",
       "      <th>high_lag_2</th>\n",
       "      <th>low_lag_1</th>\n",
       "      <th>low_lag_2</th>\n",
       "      <th>swing</th>\n",
       "    </tr>\n",
       "  </thead>\n",
       "  <tbody>\n",
       "    <tr>\n",
       "      <th>0</th>\n",
       "      <td>2021-03-04</td>\n",
       "      <td>14015.44</td>\n",
       "      <td>14095.81</td>\n",
       "      <td>13959.27</td>\n",
       "      <td>14056.34</td>\n",
       "      <td>13976.44</td>\n",
       "      <td>14056.32</td>\n",
       "      <td>14006.65</td>\n",
       "      <td>136.54</td>\n",
       "      <td>79.88</td>\n",
       "      <td>up</td>\n",
       "      <td>down</td>\n",
       "      <td>both-broken</td>\n",
       "      <td>3</td>\n",
       "      <td>NaN</td>\n",
       "      <td>NaN</td>\n",
       "      <td>NaN</td>\n",
       "      <td>NaN</td>\n",
       "      <td>up</td>\n",
       "    </tr>\n",
       "    <tr>\n",
       "      <th>1</th>\n",
       "      <td>2021-03-05</td>\n",
       "      <td>13958.54</td>\n",
       "      <td>14068.03</td>\n",
       "      <td>13868.20</td>\n",
       "      <td>13920.69</td>\n",
       "      <td>13868.20</td>\n",
       "      <td>13970.17</td>\n",
       "      <td>13901.60</td>\n",
       "      <td>199.83</td>\n",
       "      <td>101.97</td>\n",
       "      <td>down</td>\n",
       "      <td>down</td>\n",
       "      <td>high-broken</td>\n",
       "      <td>4</td>\n",
       "      <td>14095.81</td>\n",
       "      <td>NaN</td>\n",
       "      <td>13959.27</td>\n",
       "      <td>NaN</td>\n",
       "      <td>up</td>\n",
       "    </tr>\n",
       "    <tr>\n",
       "      <th>2</th>\n",
       "      <td>2021-03-08</td>\n",
       "      <td>14024.57</td>\n",
       "      <td>14402.92</td>\n",
       "      <td>13977.13</td>\n",
       "      <td>14380.91</td>\n",
       "      <td>13977.13</td>\n",
       "      <td>14050.00</td>\n",
       "      <td>14013.16</td>\n",
       "      <td>425.79</td>\n",
       "      <td>72.87</td>\n",
       "      <td>up</td>\n",
       "      <td>down</td>\n",
       "      <td>high-broken</td>\n",
       "      <td>0</td>\n",
       "      <td>14068.03</td>\n",
       "      <td>14095.81</td>\n",
       "      <td>13868.20</td>\n",
       "      <td>13959.27</td>\n",
       "      <td>up</td>\n",
       "    </tr>\n",
       "    <tr>\n",
       "      <th>3</th>\n",
       "      <td>2021-03-09</td>\n",
       "      <td>14345.51</td>\n",
       "      <td>14475.65</td>\n",
       "      <td>14309.35</td>\n",
       "      <td>14437.94</td>\n",
       "      <td>14309.35</td>\n",
       "      <td>14403.48</td>\n",
       "      <td>14392.05</td>\n",
       "      <td>166.30</td>\n",
       "      <td>94.13</td>\n",
       "      <td>up</td>\n",
       "      <td>up</td>\n",
       "      <td>high-broken</td>\n",
       "      <td>1</td>\n",
       "      <td>14402.92</td>\n",
       "      <td>14068.03</td>\n",
       "      <td>13977.13</td>\n",
       "      <td>13868.20</td>\n",
       "      <td>up</td>\n",
       "    </tr>\n",
       "    <tr>\n",
       "      <th>4</th>\n",
       "      <td>2021-03-10</td>\n",
       "      <td>14439.45</td>\n",
       "      <td>14560.97</td>\n",
       "      <td>14408.52</td>\n",
       "      <td>14540.25</td>\n",
       "      <td>14408.52</td>\n",
       "      <td>14488.46</td>\n",
       "      <td>14477.09</td>\n",
       "      <td>152.45</td>\n",
       "      <td>79.94</td>\n",
       "      <td>up</td>\n",
       "      <td>up</td>\n",
       "      <td>high-broken</td>\n",
       "      <td>2</td>\n",
       "      <td>14475.65</td>\n",
       "      <td>14402.92</td>\n",
       "      <td>14309.35</td>\n",
       "      <td>13977.13</td>\n",
       "      <td>up</td>\n",
       "    </tr>\n",
       "    <tr>\n",
       "      <th>...</th>\n",
       "      <td>...</td>\n",
       "      <td>...</td>\n",
       "      <td>...</td>\n",
       "      <td>...</td>\n",
       "      <td>...</td>\n",
       "      <td>...</td>\n",
       "      <td>...</td>\n",
       "      <td>...</td>\n",
       "      <td>...</td>\n",
       "      <td>...</td>\n",
       "      <td>...</td>\n",
       "      <td>...</td>\n",
       "      <td>...</td>\n",
       "      <td>...</td>\n",
       "      <td>...</td>\n",
       "      <td>...</td>\n",
       "      <td>...</td>\n",
       "      <td>...</td>\n",
       "      <td>...</td>\n",
       "    </tr>\n",
       "    <tr>\n",
       "      <th>271</th>\n",
       "      <td>2022-03-28</td>\n",
       "      <td>14376.00</td>\n",
       "      <td>14627.58</td>\n",
       "      <td>14371.90</td>\n",
       "      <td>14417.37</td>\n",
       "      <td>14371.90</td>\n",
       "      <td>14527.01</td>\n",
       "      <td>14504.18</td>\n",
       "      <td>255.68</td>\n",
       "      <td>155.11</td>\n",
       "      <td>up</td>\n",
       "      <td>up</td>\n",
       "      <td>high-broken</td>\n",
       "      <td>0</td>\n",
       "      <td>14428.03</td>\n",
       "      <td>14375.82</td>\n",
       "      <td>14247.38</td>\n",
       "      <td>14187.82</td>\n",
       "      <td>up</td>\n",
       "    </tr>\n",
       "    <tr>\n",
       "      <th>272</th>\n",
       "      <td>2022-03-29</td>\n",
       "      <td>14592.74</td>\n",
       "      <td>14925.25</td>\n",
       "      <td>14553.71</td>\n",
       "      <td>14820.33</td>\n",
       "      <td>14553.71</td>\n",
       "      <td>14664.29</td>\n",
       "      <td>14603.33</td>\n",
       "      <td>371.54</td>\n",
       "      <td>110.58</td>\n",
       "      <td>up</td>\n",
       "      <td>up</td>\n",
       "      <td>high-broken</td>\n",
       "      <td>1</td>\n",
       "      <td>14627.58</td>\n",
       "      <td>14428.03</td>\n",
       "      <td>14371.90</td>\n",
       "      <td>14247.38</td>\n",
       "      <td>up</td>\n",
       "    </tr>\n",
       "    <tr>\n",
       "      <th>273</th>\n",
       "      <td>2022-03-30</td>\n",
       "      <td>14712.32</td>\n",
       "      <td>14744.72</td>\n",
       "      <td>14555.87</td>\n",
       "      <td>14606.05</td>\n",
       "      <td>14586.01</td>\n",
       "      <td>14744.72</td>\n",
       "      <td>14620.20</td>\n",
       "      <td>188.85</td>\n",
       "      <td>158.71</td>\n",
       "      <td>down</td>\n",
       "      <td>down</td>\n",
       "      <td>low-broken</td>\n",
       "      <td>2</td>\n",
       "      <td>14925.25</td>\n",
       "      <td>14627.58</td>\n",
       "      <td>14553.71</td>\n",
       "      <td>14371.90</td>\n",
       "      <td>up</td>\n",
       "    </tr>\n",
       "    <tr>\n",
       "      <th>274</th>\n",
       "      <td>2022-03-31</td>\n",
       "      <td>14674.83</td>\n",
       "      <td>14732.00</td>\n",
       "      <td>14404.03</td>\n",
       "      <td>14414.75</td>\n",
       "      <td>14603.31</td>\n",
       "      <td>14732.00</td>\n",
       "      <td>14607.18</td>\n",
       "      <td>327.97</td>\n",
       "      <td>128.69</td>\n",
       "      <td>down</td>\n",
       "      <td>down</td>\n",
       "      <td>low-broken</td>\n",
       "      <td>3</td>\n",
       "      <td>14744.72</td>\n",
       "      <td>14925.25</td>\n",
       "      <td>14555.87</td>\n",
       "      <td>14553.71</td>\n",
       "      <td>up</td>\n",
       "    </tr>\n",
       "    <tr>\n",
       "      <th>275</th>\n",
       "      <td>2022-04-01</td>\n",
       "      <td>14447.78</td>\n",
       "      <td>14506.02</td>\n",
       "      <td>14403.09</td>\n",
       "      <td>14446.48</td>\n",
       "      <td>14403.09</td>\n",
       "      <td>14502.93</td>\n",
       "      <td>14439.08</td>\n",
       "      <td>102.93</td>\n",
       "      <td>99.84</td>\n",
       "      <td>down</td>\n",
       "      <td>down</td>\n",
       "      <td>high-broken</td>\n",
       "      <td>4</td>\n",
       "      <td>14732.00</td>\n",
       "      <td>14744.72</td>\n",
       "      <td>14404.03</td>\n",
       "      <td>14555.87</td>\n",
       "      <td>down</td>\n",
       "    </tr>\n",
       "  </tbody>\n",
       "</table>\n",
       "<p>276 rows × 19 columns</p>\n",
       "</div>"
      ],
      "text/plain": [
       "           date      open      high       low     close     iblow    ibhigh  \\\n",
       "0    2021-03-04  14015.44  14095.81  13959.27  14056.34  13976.44  14056.32   \n",
       "1    2021-03-05  13958.54  14068.03  13868.20  13920.69  13868.20  13970.17   \n",
       "2    2021-03-08  14024.57  14402.92  13977.13  14380.91  13977.13  14050.00   \n",
       "3    2021-03-09  14345.51  14475.65  14309.35  14437.94  14309.35  14403.48   \n",
       "4    2021-03-10  14439.45  14560.97  14408.52  14540.25  14408.52  14488.46   \n",
       "..          ...       ...       ...       ...       ...       ...       ...   \n",
       "271  2022-03-28  14376.00  14627.58  14371.90  14417.37  14371.90  14527.01   \n",
       "272  2022-03-29  14592.74  14925.25  14553.71  14820.33  14553.71  14664.29   \n",
       "273  2022-03-30  14712.32  14744.72  14555.87  14606.05  14586.01  14744.72   \n",
       "274  2022-03-31  14674.83  14732.00  14404.03  14414.75  14603.31  14732.00   \n",
       "275  2022-04-01  14447.78  14506.02  14403.09  14446.48  14403.09  14502.93   \n",
       "\n",
       "      ibclose   range  ibrange daydir ibdir    ibdaytype  weekday  high_lag_1  \\\n",
       "0    14006.65  136.54    79.88     up  down  both-broken        3         NaN   \n",
       "1    13901.60  199.83   101.97   down  down  high-broken        4    14095.81   \n",
       "2    14013.16  425.79    72.87     up  down  high-broken        0    14068.03   \n",
       "3    14392.05  166.30    94.13     up    up  high-broken        1    14402.92   \n",
       "4    14477.09  152.45    79.94     up    up  high-broken        2    14475.65   \n",
       "..        ...     ...      ...    ...   ...          ...      ...         ...   \n",
       "271  14504.18  255.68   155.11     up    up  high-broken        0    14428.03   \n",
       "272  14603.33  371.54   110.58     up    up  high-broken        1    14627.58   \n",
       "273  14620.20  188.85   158.71   down  down   low-broken        2    14925.25   \n",
       "274  14607.18  327.97   128.69   down  down   low-broken        3    14744.72   \n",
       "275  14439.08  102.93    99.84   down  down  high-broken        4    14732.00   \n",
       "\n",
       "     high_lag_2  low_lag_1  low_lag_2 swing  \n",
       "0           NaN        NaN        NaN    up  \n",
       "1           NaN   13959.27        NaN    up  \n",
       "2      14095.81   13868.20   13959.27    up  \n",
       "3      14068.03   13977.13   13868.20    up  \n",
       "4      14402.92   14309.35   13977.13    up  \n",
       "..          ...        ...        ...   ...  \n",
       "271    14375.82   14247.38   14187.82    up  \n",
       "272    14428.03   14371.90   14247.38    up  \n",
       "273    14627.58   14553.71   14371.90    up  \n",
       "274    14925.25   14555.87   14553.71    up  \n",
       "275    14744.72   14404.03   14555.87  down  \n",
       "\n",
       "[276 rows x 19 columns]"
      ]
     },
     "execution_count": 21,
     "metadata": {},
     "output_type": "execute_result"
    }
   ],
   "source": [
    "df"
   ]
  },
  {
   "cell_type": "code",
   "execution_count": 22,
   "id": "5884cabc",
   "metadata": {
    "collapsed": false
   },
   "outputs": [
    {
     "data": {
      "text/plain": [
       "up      149\n",
       "down    127\n",
       "Name: swing, dtype: int64"
      ]
     },
     "execution_count": 22,
     "metadata": {},
     "output_type": "execute_result"
    }
   ],
   "source": [
    "df.swing.value_counts()"
   ]
  },
  {
   "cell_type": "code",
   "execution_count": 27,
   "id": "573e498e",
   "metadata": {
    "collapsed": false
   },
   "outputs": [
    {
     "data": {
      "text/plain": [
       "<AxesSubplot:ylabel='close'>"
      ]
     },
     "execution_count": 27,
     "metadata": {},
     "output_type": "execute_result"
    },
    {
     "data": {
      "image/png": "[encoded data removed]",
      "text/plain": [
       "<Figure size 1152x648 with 1 Axes>"
      ]
     },
     "metadata": {},
     "output_type": "display_data"
    }
   ],
   "source": [
    "plt.style.use(\"seaborn\")\n",
    "plt.figure(figsize=(16,9))\n",
    "sns.scatterplot(x=df.index, y=df.close, hue=df.swing)"
   ]
  },
  {
   "cell_type": "code",
   "execution_count": 30,
   "id": "421d680e",
   "metadata": {
    "collapsed": false
   },
   "outputs": [],
   "source": [
    "swcopy = df.copy()\n",
    "get_lags(swcopy, \"swing\", 1)\n"
   ]
  },
  {
   "cell_type": "code",
   "execution_count": 42,
   "id": "9d217688",
   "metadata": {
    "collapsed": false
   },
   "outputs": [
    {
     "data": {
      "text/html": [
       "<div>\n",
       "<style scoped>\n",
       "    .dataframe tbody tr th:only-of-type {\n",
       "        vertical-align: middle;\n",
       "    }\n",
       "\n",
       "    .dataframe tbody tr th {\n",
       "        vertical-align: top;\n",
       "    }\n",
       "\n",
       "    .dataframe thead th {\n",
       "        text-align: right;\n",
       "    }\n",
       "</style>\n",
       "<table border=\"1\" class=\"dataframe\">\n",
       "  <thead>\n",
       "    <tr style=\"text-align: right;\">\n",
       "      <th>daydir</th>\n",
       "      <th>down</th>\n",
       "      <th>up</th>\n",
       "    </tr>\n",
       "    <tr>\n",
       "      <th>ibdir</th>\n",
       "      <th></th>\n",
       "      <th></th>\n",
       "    </tr>\n",
       "  </thead>\n",
       "  <tbody>\n",
       "    <tr>\n",
       "      <th>down</th>\n",
       "      <td>92</td>\n",
       "      <td>55</td>\n",
       "    </tr>\n",
       "    <tr>\n",
       "      <th>up</th>\n",
       "      <td>33</td>\n",
       "      <td>96</td>\n",
       "    </tr>\n",
       "  </tbody>\n",
       "</table>\n",
       "</div>"
      ],
      "text/plain": [
       "daydir  down  up\n",
       "ibdir           \n",
       "down      92  55\n",
       "up        33  96"
      ]
     },
     "execution_count": 42,
     "metadata": {},
     "output_type": "execute_result"
    }
   ],
   "source": [
    "swingctab = pd.crosstab(swcopy.ibdir, swcopy.daydir)\n",
    "swingctab"
   ]
  },
  {
   "cell_type": "code",
   "execution_count": 43,
   "id": "ffc6dc84",
   "metadata": {
    "collapsed": false
   },
   "outputs": [],
   "source": [
    "from scipy.stats import chi2_contingency"
   ]
  },
  {
   "cell_type": "code",
   "execution_count": 44,
   "id": "9a7f370d",
   "metadata": {
    "collapsed": false
   },
   "outputs": [
    {
     "data": {
      "text/plain": [
       "(36.48931374132898,\n",
       " 1.5350553337373955e-09,\n",
       " 1,\n",
       " array([[66.57608696, 80.42391304],\n",
       "        [58.42391304, 70.57608696]]))"
      ]
     },
     "execution_count": 44,
     "metadata": {},
     "output_type": "execute_result"
    }
   ],
   "source": [
    "chi2_contingency(swingctab)"
   ]
  },
  {
   "cell_type": "code",
   "execution_count": 56,
   "id": "7de24b95",
   "metadata": {
    "collapsed": false
   },
   "outputs": [],
   "source": [
    "import pandas_ta as ta\n",
    "emacopy = df.copy()"
   ]
  },
  {
   "cell_type": "code",
   "execution_count": 57,
   "id": "a02ce615",
   "metadata": {
    "collapsed": false
   },
   "outputs": [],
   "source": [
    "emacopy[\"ema10\"] = emacopy.ta.sma(10)\n",
    "emacopy = emacopy.dropna().copy()"
   ]
  },
  {
   "cell_type": "code",
   "execution_count": 73,
   "id": "1ea63711",
   "metadata": {
    "collapsed": false
   },
   "outputs": [],
   "source": [
    "def pos(a, b):\n",
    "    if a > b:\n",
    "        return \"up\"\n",
    "    if a == b:\n",
    "        return \"eq\"\n",
    "    return \"down\"\n",
    "emacopy[\"emapos\"] = emacopy.apply(lambda r: pos(r.open ,r.ema10), axis=1)"
   ]
  },
  {
   "cell_type": "code",
   "execution_count": 74,
   "id": "30cb08d5",
   "metadata": {
    "collapsed": false
   },
   "outputs": [
    {
     "data": {
      "text/plain": [
       "up      162\n",
       "down    105\n",
       "Name: emapos, dtype: int64"
      ]
     },
     "execution_count": 74,
     "metadata": {},
     "output_type": "execute_result"
    }
   ],
   "source": [
    "emacopy.emapos.value_counts()"
   ]
  },
  {
   "cell_type": "code",
   "execution_count": 77,
   "id": "a4c1c82d",
   "metadata": {
    "collapsed": false
   },
   "outputs": [
    {
     "data": {
      "text/html": [
       "<div>\n",
       "<style scoped>\n",
       "    .dataframe tbody tr th:only-of-type {\n",
       "        vertical-align: middle;\n",
       "    }\n",
       "\n",
       "    .dataframe tbody tr th {\n",
       "        vertical-align: top;\n",
       "    }\n",
       "\n",
       "    .dataframe thead th {\n",
       "        text-align: right;\n",
       "    }\n",
       "</style>\n",
       "<table border=\"1\" class=\"dataframe\">\n",
       "  <thead>\n",
       "    <tr style=\"text-align: right;\">\n",
       "      <th>daydir</th>\n",
       "      <th>down</th>\n",
       "      <th>up</th>\n",
       "    </tr>\n",
       "    <tr>\n",
       "      <th>emapos</th>\n",
       "      <th></th>\n",
       "      <th></th>\n",
       "    </tr>\n",
       "  </thead>\n",
       "  <tbody>\n",
       "    <tr>\n",
       "      <th>down</th>\n",
       "      <td>37</td>\n",
       "      <td>68</td>\n",
       "    </tr>\n",
       "    <tr>\n",
       "      <th>up</th>\n",
       "      <td>86</td>\n",
       "      <td>76</td>\n",
       "    </tr>\n",
       "  </tbody>\n",
       "</table>\n",
       "</div>"
      ],
      "text/plain": [
       "daydir  down  up\n",
       "emapos          \n",
       "down      37  68\n",
       "up        86  76"
      ]
     },
     "execution_count": 77,
     "metadata": {},
     "output_type": "execute_result"
    }
   ],
   "source": [
    "emaposctab =pd.crosstab(emacopy.emapos, emacopy.daydir)\n",
    "emaposctab"
   ]
  },
  {
   "cell_type": "code",
   "execution_count": 78,
   "id": "cdbd1746",
   "metadata": {
    "collapsed": false
   },
   "outputs": [
    {
     "data": {
      "text/plain": [
       "(7.465928063298486,\n",
       " 0.006287760830428312,\n",
       " 1,\n",
       " array([[48.37078652, 56.62921348],\n",
       "        [74.62921348, 87.37078652]]))"
      ]
     },
     "execution_count": 78,
     "metadata": {},
     "output_type": "execute_result"
    }
   ],
   "source": [
    "chi2_contingency(emaposctab)"
   ]
  },
  {
   "cell_type": "code",
   "execution_count": 82,
   "id": "74074a6b",
   "metadata": {
    "collapsed": false
   },
   "outputs": [
    {
     "data": {
      "text/plain": [
       "0.5955056179775281"
      ]
     },
     "execution_count": 82,
     "metadata": {},
     "output_type": "execute_result"
    }
   ],
   "source": [
    "(emacopy.emapos != emacopy.ibdir).mean()"
   ]
  },
  {
   "cell_type": "code",
   "execution_count": null,
   "id": "91b912f7",
   "metadata": {
    "collapsed": false
   },
   "outputs": [],
   "source": []
  }
 ],
 "metadata": {
  "kernelspec": {
   "argv": [
    "/home/wit/miniconda3/bin/python",
    "-m",
    "ipykernel_launcher",
    "-f",
    "{connection_file}"
   ],
   "display_name": "Python 3 (ipykernel)",
   "env": null,
   "interrupt_mode": "signal",
   "language": "python",
   "metadata": {
    "debugger": true
   },
   "name": "python3"
  },
  "name": "commoner.ipynb"
 },
 "nbformat": 4,
 "nbformat_minor": 5
}
