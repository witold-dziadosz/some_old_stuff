{
 "cells": [
  {
   "cell_type": "code",
   "execution_count": 5,
   "id": "ff896fbe",
   "metadata": {
    "collapsed": false
   },
   "outputs": [],
   "source": [
    "from tvDatafeed import TvDatafeed, Interval\n",
    "import pandas as pd\n",
    "import pandas_ta as ta\n",
    "from common import getlags"
   ]
  },
  {
   "cell_type": "code",
   "execution_count": 2,
   "id": "338aac56",
   "metadata": {
    "collapsed": false
   },
   "outputs": [
    {
     "name": "stderr",
     "output_type": "stream",
     "text": [
      "you are using nologin method, data you access may be limited\n"
     ]
    }
   ],
   "source": [
    "tv = TvDatafeed()"
   ]
  },
  {
   "cell_type": "code",
   "execution_count": 3,
   "id": "d3114a6f",
   "metadata": {
    "collapsed": false
   },
   "outputs": [],
   "source": [
    "cable = tv.get_hist(\"GBPUSD\", \"OANDA\", Interval.in_daily, 5000)"
   ]
  },
  {
   "cell_type": "code",
   "execution_count": 9,
   "id": "69631fd0",
   "metadata": {
    "collapsed": false
   },
   "outputs": [],
   "source": [
    "gbp = cable.reset_index().drop([\"symbol\", \"volume\"], axis=1)\n",
    "gbp[\"date\"] = pd.to_datetime(gbp.datetime).dt.date\n",
    "df = gbp.drop(\"datetime\", axis=1)"
   ]
  },
  {
   "cell_type": "code",
   "execution_count": 11,
   "id": "37a3f865",
   "metadata": {
    "collapsed": false
   },
   "outputs": [
    {
     "data": {
      "text/html": [
       "<div>\n",
       "<style scoped>\n",
       "    .dataframe tbody tr th:only-of-type {\n",
       "        vertical-align: middle;\n",
       "    }\n",
       "\n",
       "    .dataframe tbody tr th {\n",
       "        vertical-align: top;\n",
       "    }\n",
       "\n",
       "    .dataframe thead th {\n",
       "        text-align: right;\n",
       "    }\n",
       "</style>\n",
       "<table border=\"1\" class=\"dataframe\">\n",
       "  <thead>\n",
       "    <tr style=\"text-align: right;\">\n",
       "      <th></th>\n",
       "      <th>open</th>\n",
       "      <th>high</th>\n",
       "      <th>low</th>\n",
       "      <th>close</th>\n",
       "      <th>date</th>\n",
       "    </tr>\n",
       "  </thead>\n",
       "  <tbody>\n",
       "    <tr>\n",
       "      <th>0</th>\n",
       "      <td>1.6132</td>\n",
       "      <td>1.6132</td>\n",
       "      <td>1.6079</td>\n",
       "      <td>1.6079</td>\n",
       "      <td>2003-01-19</td>\n",
       "    </tr>\n",
       "    <tr>\n",
       "      <th>1</th>\n",
       "      <td>1.6079</td>\n",
       "      <td>1.6175</td>\n",
       "      <td>1.6079</td>\n",
       "      <td>1.6175</td>\n",
       "      <td>2003-01-20</td>\n",
       "    </tr>\n",
       "    <tr>\n",
       "      <th>2</th>\n",
       "      <td>1.6175</td>\n",
       "      <td>1.6193</td>\n",
       "      <td>1.6175</td>\n",
       "      <td>1.6193</td>\n",
       "      <td>2003-01-21</td>\n",
       "    </tr>\n",
       "    <tr>\n",
       "      <th>3</th>\n",
       "      <td>1.6193</td>\n",
       "      <td>1.6229</td>\n",
       "      <td>1.6193</td>\n",
       "      <td>1.6229</td>\n",
       "      <td>2003-01-22</td>\n",
       "    </tr>\n",
       "    <tr>\n",
       "      <th>4</th>\n",
       "      <td>1.6229</td>\n",
       "      <td>1.6337</td>\n",
       "      <td>1.6229</td>\n",
       "      <td>1.6337</td>\n",
       "      <td>2003-01-23</td>\n",
       "    </tr>\n",
       "  </tbody>\n",
       "</table>\n",
       "</div>"
      ],
      "text/plain": [
       "     open    high     low   close        date\n",
       "0  1.6132  1.6132  1.6079  1.6079  2003-01-19\n",
       "1  1.6079  1.6175  1.6079  1.6175  2003-01-20\n",
       "2  1.6175  1.6193  1.6175  1.6193  2003-01-21\n",
       "3  1.6193  1.6229  1.6193  1.6229  2003-01-22\n",
       "4  1.6229  1.6337  1.6229  1.6337  2003-01-23"
      ]
     },
     "execution_count": 11,
     "metadata": {},
     "output_type": "execute_result"
    }
   ],
   "source": [
    "df.head()"
   ]
  },
  {
   "cell_type": "code",
   "execution_count": 12,
   "id": "09f56c76",
   "metadata": {
    "collapsed": false
   },
   "outputs": [],
   "source": [
    "df[\"daydir\"] = df.apply(\n",
    "    lambda r: \"up\" if r.close >= r.open else \"down\",\n",
    "    axis=1\n",
    ")"
   ]
  },
  {
   "cell_type": "code",
   "execution_count": null,
   "id": "6d3b7100",
   "metadata": {
    "collapsed": false
   },
   "outputs": [],
   "source": []
  }
 ],
 "metadata": {
  "kernelspec": {
   "argv": [
    "/home/wit/miniconda3/bin/python",
    "-m",
    "ipykernel_launcher",
    "-f",
    "{connection_file}"
   ],
   "display_name": "Python 3 (ipykernel)",
   "env": null,
   "interrupt_mode": "signal",
   "language": "python",
   "metadata": {
    "debugger": true
   },
   "name": "python3"
  },
  "name": "daydir.ipynb"
 },
 "nbformat": 4,
 "nbformat_minor": 5
}
