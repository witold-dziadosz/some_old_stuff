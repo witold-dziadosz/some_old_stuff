{
 "cells": [
  {
   "cell_type": "markdown",
   "id": "87a40c70",
   "metadata": {
    "collapsed": false
   },
   "source": [
    "# Analiza wskaźników na daily"
   ]
  },
  {
   "cell_type": "code",
   "execution_count": 1,
   "id": "6a2c65fb",
   "metadata": {
    "collapsed": false
   },
   "outputs": [],
   "source": [
    "from tvDatafeed import TvDatafeed, Interval\n",
    "import pandas as pd\n",
    "from scipy.stats import chi2_contingency\n",
    "import pandas_ta as ta"
   ]
  },
  {
   "cell_type": "code",
   "execution_count": 2,
   "id": "6129eb0e",
   "metadata": {
    "collapsed": false
   },
   "outputs": [
    {
     "name": "stderr",
     "output_type": "stream",
     "text": [
      "you are using nologin method, data you access may be limited\n"
     ]
    }
   ],
   "source": [
    "tv = TvDatafeed()\n",
    "d = tv.get_hist(\"DAX\", \"XETR\", Interval.in_daily, n_bars=5000).drop([\"symbol\", \"volume\"], axis=1).reset_index()"
   ]
  },
  {
   "cell_type": "code",
   "execution_count": 3,
   "id": "99022a80",
   "metadata": {
    "collapsed": false
   },
   "outputs": [],
   "source": [
    "d[\"date\"] = pd.to_datetime(d.datetime).dt.date\n",
    "d = d.drop(\"datetime\", axis=1)"
   ]
  },
  {
   "cell_type": "code",
   "execution_count": 4,
   "id": "6ba1225a",
   "metadata": {
    "collapsed": false
   },
   "outputs": [],
   "source": [
    "d[\"daydir\"] = d.apply(lambda r: \"up\" if r.close >= r.open else \"down\", axis=1)"
   ]
  },
  {
   "cell_type": "code",
   "execution_count": 5,
   "id": "ff534c37",
   "metadata": {
    "collapsed": false
   },
   "outputs": [],
   "source": [
    "def getpos(d, x, bench):\n",
    "    name = x + \"__vs__\" + bench\n",
    "    series = d.apply(\n",
    "        lambda r: \"up\" if r[x] >= r[bench] else \"down\",\n",
    "        axis=1\n",
    "    )\n",
    "    series.index = d.index\n",
    "    series.name = name\n",
    "    return series\n",
    "\n",
    "def _bpos(x, u, l):\n",
    "    if x >= u:\n",
    "        return \"up\"\n",
    "    if x <= l:\n",
    "        return \"down\"\n",
    "    return \"in\"\n",
    "def getbandpos(d, x, up, low):\n",
    "    name = x + \"__vs__\" + up + \"_\" +low\n",
    "    series = d.apply(\n",
    "        lambda r: _bpos(r[x], r[up], r[low]),\n",
    "        axis=1\n",
    "    )\n",
    "    series.index = d.index\n",
    "    series.name = name\n",
    "    "
   ]
  },
  {
   "cell_type": "code",
   "execution_count": 6,
   "id": "cd42d26a",
   "metadata": {
    "collapsed": false
   },
   "outputs": [],
   "source": [
    "smas = []\n",
    "sma_names = []\n",
    "for x in range(2, 31):\n",
    "    series = ta.sma(d.close, x)\n",
    "    series.index = d.index\n",
    "    series.name = \"sma\" + str(x)\n",
    "    smas.append(series)\n",
    "    sma_names.append(series.name)\n",
    "smas = pd.concat(smas, axis=1)\n",
    "dsmas = pd.concat([d, smas], axis=1)"
   ]
  },
  {
   "cell_type": "code",
   "execution_count": 7,
   "id": "c98f5396",
   "metadata": {
    "collapsed": false
   },
   "outputs": [
    {
     "data": {
      "text/html": [
       "<div>\n",
       "<style scoped>\n",
       "    .dataframe tbody tr th:only-of-type {\n",
       "        vertical-align: middle;\n",
       "    }\n",
       "\n",
       "    .dataframe tbody tr th {\n",
       "        vertical-align: top;\n",
       "    }\n",
       "\n",
       "    .dataframe thead th {\n",
       "        text-align: right;\n",
       "    }\n",
       "</style>\n",
       "<table border=\"1\" class=\"dataframe\">\n",
       "  <thead>\n",
       "    <tr style=\"text-align: right;\">\n",
       "      <th></th>\n",
       "      <th>open</th>\n",
       "      <th>high</th>\n",
       "      <th>low</th>\n",
       "      <th>close</th>\n",
       "      <th>date</th>\n",
       "      <th>daydir</th>\n",
       "      <th>sma2</th>\n",
       "      <th>sma3</th>\n",
       "      <th>sma4</th>\n",
       "      <th>sma5</th>\n",
       "      <th>...</th>\n",
       "      <th>sma21</th>\n",
       "      <th>sma22</th>\n",
       "      <th>sma23</th>\n",
       "      <th>sma24</th>\n",
       "      <th>sma25</th>\n",
       "      <th>sma26</th>\n",
       "      <th>sma27</th>\n",
       "      <th>sma28</th>\n",
       "      <th>sma29</th>\n",
       "      <th>sma30</th>\n",
       "    </tr>\n",
       "  </thead>\n",
       "  <tbody>\n",
       "    <tr>\n",
       "      <th>0</th>\n",
       "      <td>3533.3000</td>\n",
       "      <td>3536.0500</td>\n",
       "      <td>3327.9600</td>\n",
       "      <td>3332.6499</td>\n",
       "      <td>2002-08-05</td>\n",
       "      <td>down</td>\n",
       "      <td>NaN</td>\n",
       "      <td>NaN</td>\n",
       "      <td>NaN</td>\n",
       "      <td>NaN</td>\n",
       "      <td>...</td>\n",
       "      <td>NaN</td>\n",
       "      <td>NaN</td>\n",
       "      <td>NaN</td>\n",
       "      <td>NaN</td>\n",
       "      <td>NaN</td>\n",
       "      <td>NaN</td>\n",
       "      <td>NaN</td>\n",
       "      <td>NaN</td>\n",
       "      <td>NaN</td>\n",
       "      <td>NaN</td>\n",
       "    </tr>\n",
       "    <tr>\n",
       "      <th>1</th>\n",
       "      <td>3319.7700</td>\n",
       "      <td>3601.5701</td>\n",
       "      <td>3235.3799</td>\n",
       "      <td>3568.6399</td>\n",
       "      <td>2002-08-06</td>\n",
       "      <td>up</td>\n",
       "      <td>3450.64490</td>\n",
       "      <td>NaN</td>\n",
       "      <td>NaN</td>\n",
       "      <td>NaN</td>\n",
       "      <td>...</td>\n",
       "      <td>NaN</td>\n",
       "      <td>NaN</td>\n",
       "      <td>NaN</td>\n",
       "      <td>NaN</td>\n",
       "      <td>NaN</td>\n",
       "      <td>NaN</td>\n",
       "      <td>NaN</td>\n",
       "      <td>NaN</td>\n",
       "      <td>NaN</td>\n",
       "      <td>NaN</td>\n",
       "    </tr>\n",
       "    <tr>\n",
       "      <th>2</th>\n",
       "      <td>3570.1101</td>\n",
       "      <td>3632.4700</td>\n",
       "      <td>3440.5701</td>\n",
       "      <td>3465.5400</td>\n",
       "      <td>2002-08-07</td>\n",
       "      <td>down</td>\n",
       "      <td>3517.08995</td>\n",
       "      <td>3455.609933</td>\n",
       "      <td>NaN</td>\n",
       "      <td>NaN</td>\n",
       "      <td>...</td>\n",
       "      <td>NaN</td>\n",
       "      <td>NaN</td>\n",
       "      <td>NaN</td>\n",
       "      <td>NaN</td>\n",
       "      <td>NaN</td>\n",
       "      <td>NaN</td>\n",
       "      <td>NaN</td>\n",
       "      <td>NaN</td>\n",
       "      <td>NaN</td>\n",
       "      <td>NaN</td>\n",
       "    </tr>\n",
       "    <tr>\n",
       "      <th>3</th>\n",
       "      <td>3473.4800</td>\n",
       "      <td>3679.2600</td>\n",
       "      <td>3473.4800</td>\n",
       "      <td>3679.2600</td>\n",
       "      <td>2002-08-08</td>\n",
       "      <td>up</td>\n",
       "      <td>3572.40000</td>\n",
       "      <td>3571.146633</td>\n",
       "      <td>3511.52245</td>\n",
       "      <td>NaN</td>\n",
       "      <td>...</td>\n",
       "      <td>NaN</td>\n",
       "      <td>NaN</td>\n",
       "      <td>NaN</td>\n",
       "      <td>NaN</td>\n",
       "      <td>NaN</td>\n",
       "      <td>NaN</td>\n",
       "      <td>NaN</td>\n",
       "      <td>NaN</td>\n",
       "      <td>NaN</td>\n",
       "      <td>NaN</td>\n",
       "    </tr>\n",
       "    <tr>\n",
       "      <th>4</th>\n",
       "      <td>3682.7400</td>\n",
       "      <td>3760.8601</td>\n",
       "      <td>3607.5300</td>\n",
       "      <td>3760.8601</td>\n",
       "      <td>2002-08-09</td>\n",
       "      <td>up</td>\n",
       "      <td>3720.06005</td>\n",
       "      <td>3635.220033</td>\n",
       "      <td>3618.57500</td>\n",
       "      <td>3561.38998</td>\n",
       "      <td>...</td>\n",
       "      <td>NaN</td>\n",
       "      <td>NaN</td>\n",
       "      <td>NaN</td>\n",
       "      <td>NaN</td>\n",
       "      <td>NaN</td>\n",
       "      <td>NaN</td>\n",
       "      <td>NaN</td>\n",
       "      <td>NaN</td>\n",
       "      <td>NaN</td>\n",
       "      <td>NaN</td>\n",
       "    </tr>\n",
       "    <tr>\n",
       "      <th>...</th>\n",
       "      <td>...</td>\n",
       "      <td>...</td>\n",
       "      <td>...</td>\n",
       "      <td>...</td>\n",
       "      <td>...</td>\n",
       "      <td>...</td>\n",
       "      <td>...</td>\n",
       "      <td>...</td>\n",
       "      <td>...</td>\n",
       "      <td>...</td>\n",
       "      <td>...</td>\n",
       "      <td>...</td>\n",
       "      <td>...</td>\n",
       "      <td>...</td>\n",
       "      <td>...</td>\n",
       "      <td>...</td>\n",
       "      <td>...</td>\n",
       "      <td>...</td>\n",
       "      <td>...</td>\n",
       "      <td>...</td>\n",
       "      <td>...</td>\n",
       "    </tr>\n",
       "    <tr>\n",
       "      <th>4995</th>\n",
       "      <td>14402.1600</td>\n",
       "      <td>14437.9100</td>\n",
       "      <td>14027.1800</td>\n",
       "      <td>14151.6900</td>\n",
       "      <td>2022-04-06</td>\n",
       "      <td>down</td>\n",
       "      <td>14288.02500</td>\n",
       "      <td>14364.736667</td>\n",
       "      <td>14385.17250</td>\n",
       "      <td>14391.08800</td>\n",
       "      <td>...</td>\n",
       "      <td>14260.427143</td>\n",
       "      <td>14195.476364</td>\n",
       "      <td>14136.310000</td>\n",
       "      <td>14092.902917</td>\n",
       "      <td>14077.1228</td>\n",
       "      <td>14074.160769</td>\n",
       "      <td>14067.890000</td>\n",
       "      <td>14081.930357</td>\n",
       "      <td>14098.664828</td>\n",
       "      <td>14097.112667</td>\n",
       "    </tr>\n",
       "    <tr>\n",
       "      <th>4996</th>\n",
       "      <td>14187.1300</td>\n",
       "      <td>14315.3500</td>\n",
       "      <td>14069.5300</td>\n",
       "      <td>14078.1500</td>\n",
       "      <td>2022-04-07</td>\n",
       "      <td>down</td>\n",
       "      <td>14114.92000</td>\n",
       "      <td>14218.066667</td>\n",
       "      <td>14293.09000</td>\n",
       "      <td>14323.76800</td>\n",
       "      <td>...</td>\n",
       "      <td>14271.390000</td>\n",
       "      <td>14252.141818</td>\n",
       "      <td>14190.375217</td>\n",
       "      <td>14133.886667</td>\n",
       "      <td>14092.3128</td>\n",
       "      <td>14077.162308</td>\n",
       "      <td>14074.308519</td>\n",
       "      <td>14068.256429</td>\n",
       "      <td>14081.800000</td>\n",
       "      <td>14097.981000</td>\n",
       "    </tr>\n",
       "    <tr>\n",
       "      <th>4997</th>\n",
       "      <td>14275.8700</td>\n",
       "      <td>14321.8200</td>\n",
       "      <td>14178.2800</td>\n",
       "      <td>14283.6700</td>\n",
       "      <td>2022-04-08</td>\n",
       "      <td>up</td>\n",
       "      <td>14180.91000</td>\n",
       "      <td>14171.170000</td>\n",
       "      <td>14234.46750</td>\n",
       "      <td>14291.20600</td>\n",
       "      <td>...</td>\n",
       "      <td>14311.464762</td>\n",
       "      <td>14271.948182</td>\n",
       "      <td>14253.512609</td>\n",
       "      <td>14194.262500</td>\n",
       "      <td>14139.8780</td>\n",
       "      <td>14099.672692</td>\n",
       "      <td>14084.810741</td>\n",
       "      <td>14081.785714</td>\n",
       "      <td>14075.684483</td>\n",
       "      <td>14088.529000</td>\n",
       "    </tr>\n",
       "    <tr>\n",
       "      <th>4998</th>\n",
       "      <td>14162.9700</td>\n",
       "      <td>14298.0200</td>\n",
       "      <td>14094.8300</td>\n",
       "      <td>14192.7800</td>\n",
       "      <td>2022-04-11</td>\n",
       "      <td>up</td>\n",
       "      <td>14238.22500</td>\n",
       "      <td>14184.866667</td>\n",
       "      <td>14176.57250</td>\n",
       "      <td>14226.13000</td>\n",
       "      <td>...</td>\n",
       "      <td>14338.353810</td>\n",
       "      <td>14306.070000</td>\n",
       "      <td>14268.506087</td>\n",
       "      <td>14250.982083</td>\n",
       "      <td>14194.2032</td>\n",
       "      <td>14141.912692</td>\n",
       "      <td>14103.121111</td>\n",
       "      <td>14088.666786</td>\n",
       "      <td>14085.613103</td>\n",
       "      <td>14079.587667</td>\n",
       "    </tr>\n",
       "    <tr>\n",
       "      <th>4999</th>\n",
       "      <td>13956.5600</td>\n",
       "      <td>14180.0900</td>\n",
       "      <td>13887.1100</td>\n",
       "      <td>14124.9500</td>\n",
       "      <td>2022-04-12</td>\n",
       "      <td>up</td>\n",
       "      <td>14158.86500</td>\n",
       "      <td>14200.466667</td>\n",
       "      <td>14169.88750</td>\n",
       "      <td>14166.24800</td>\n",
       "      <td>...</td>\n",
       "      <td>14347.679524</td>\n",
       "      <td>14328.653636</td>\n",
       "      <td>14298.195217</td>\n",
       "      <td>14262.524583</td>\n",
       "      <td>14245.9408</td>\n",
       "      <td>14191.539615</td>\n",
       "      <td>14141.284444</td>\n",
       "      <td>14103.900714</td>\n",
       "      <td>14089.917931</td>\n",
       "      <td>14086.924333</td>\n",
       "    </tr>\n",
       "  </tbody>\n",
       "</table>\n",
       "<p>5000 rows × 35 columns</p>\n",
       "</div>"
      ],
      "text/plain": [
       "            open        high         low       close        date daydir  \\\n",
       "0      3533.3000   3536.0500   3327.9600   3332.6499  2002-08-05   down   \n",
       "1      3319.7700   3601.5701   3235.3799   3568.6399  2002-08-06     up   \n",
       "2      3570.1101   3632.4700   3440.5701   3465.5400  2002-08-07   down   \n",
       "3      3473.4800   3679.2600   3473.4800   3679.2600  2002-08-08     up   \n",
       "4      3682.7400   3760.8601   3607.5300   3760.8601  2002-08-09     up   \n",
       "...          ...         ...         ...         ...         ...    ...   \n",
       "4995  14402.1600  14437.9100  14027.1800  14151.6900  2022-04-06   down   \n",
       "4996  14187.1300  14315.3500  14069.5300  14078.1500  2022-04-07   down   \n",
       "4997  14275.8700  14321.8200  14178.2800  14283.6700  2022-04-08     up   \n",
       "4998  14162.9700  14298.0200  14094.8300  14192.7800  2022-04-11     up   \n",
       "4999  13956.5600  14180.0900  13887.1100  14124.9500  2022-04-12     up   \n",
       "\n",
       "             sma2          sma3         sma4         sma5  ...         sma21  \\\n",
       "0             NaN           NaN          NaN          NaN  ...           NaN   \n",
       "1      3450.64490           NaN          NaN          NaN  ...           NaN   \n",
       "2      3517.08995   3455.609933          NaN          NaN  ...           NaN   \n",
       "3      3572.40000   3571.146633   3511.52245          NaN  ...           NaN   \n",
       "4      3720.06005   3635.220033   3618.57500   3561.38998  ...           NaN   \n",
       "...           ...           ...          ...          ...  ...           ...   \n",
       "4995  14288.02500  14364.736667  14385.17250  14391.08800  ...  14260.427143   \n",
       "4996  14114.92000  14218.066667  14293.09000  14323.76800  ...  14271.390000   \n",
       "4997  14180.91000  14171.170000  14234.46750  14291.20600  ...  14311.464762   \n",
       "4998  14238.22500  14184.866667  14176.57250  14226.13000  ...  14338.353810   \n",
       "4999  14158.86500  14200.466667  14169.88750  14166.24800  ...  14347.679524   \n",
       "\n",
       "             sma22         sma23         sma24       sma25         sma26  \\\n",
       "0              NaN           NaN           NaN         NaN           NaN   \n",
       "1              NaN           NaN           NaN         NaN           NaN   \n",
       "2              NaN           NaN           NaN         NaN           NaN   \n",
       "3              NaN           NaN           NaN         NaN           NaN   \n",
       "4              NaN           NaN           NaN         NaN           NaN   \n",
       "...            ...           ...           ...         ...           ...   \n",
       "4995  14195.476364  14136.310000  14092.902917  14077.1228  14074.160769   \n",
       "4996  14252.141818  14190.375217  14133.886667  14092.3128  14077.162308   \n",
       "4997  14271.948182  14253.512609  14194.262500  14139.8780  14099.672692   \n",
       "4998  14306.070000  14268.506087  14250.982083  14194.2032  14141.912692   \n",
       "4999  14328.653636  14298.195217  14262.524583  14245.9408  14191.539615   \n",
       "\n",
       "             sma27         sma28         sma29         sma30  \n",
       "0              NaN           NaN           NaN           NaN  \n",
       "1              NaN           NaN           NaN           NaN  \n",
       "2              NaN           NaN           NaN           NaN  \n",
       "3              NaN           NaN           NaN           NaN  \n",
       "4              NaN           NaN           NaN           NaN  \n",
       "...            ...           ...           ...           ...  \n",
       "4995  14067.890000  14081.930357  14098.664828  14097.112667  \n",
       "4996  14074.308519  14068.256429  14081.800000  14097.981000  \n",
       "4997  14084.810741  14081.785714  14075.684483  14088.529000  \n",
       "4998  14103.121111  14088.666786  14085.613103  14079.587667  \n",
       "4999  14141.284444  14103.900714  14089.917931  14086.924333  \n",
       "\n",
       "[5000 rows x 35 columns]"
      ]
     },
     "execution_count": 7,
     "metadata": {},
     "output_type": "execute_result"
    }
   ],
   "source": [
    "dsmas"
   ]
  },
  {
   "cell_type": "code",
   "execution_count": 8,
   "id": "4c39d840",
   "metadata": {
    "collapsed": false
   },
   "outputs": [],
   "source": [
    "def getlags(d, cols, n):\n",
    "    lags = []\n",
    "    names = []\n",
    "    for c in cols:\n",
    "        for x in range(1, n+1):\n",
    "            lag_name = c + \"_lag_\" + str(x)\n",
    "            lag = d[c].shift(x)\n",
    "            lag.name = lag_name\n",
    "            lags.append(lag)\n",
    "            names.append(lag_name)\n",
    "    return pd.concat(lags, axis=1), names"
   ]
  },
  {
   "cell_type": "code",
   "execution_count": 17,
   "id": "47672161",
   "metadata": {
    "collapsed": false
   },
   "outputs": [
    {
     "data": {
      "text/plain": [
       "870"
      ]
     },
     "execution_count": 17,
     "metadata": {},
     "output_type": "execute_result"
    }
   ],
   "source": [
    "lags, names = getlags(dsmas, sma_names, 30)\n",
    "dsmalags = pd.concat((dsmas, lags), axis=1).dropna()\n",
    "len(names)"
   ]
  },
  {
   "cell_type": "code",
   "execution_count": 19,
   "id": "3ce6471f",
   "metadata": {
    "collapsed": false
   },
   "outputs": [],
   "source": [
    "def getpos(d, prices, bench):\n",
    "    dirs = []\n",
    "    names = []\n",
    "    for p in prices:\n",
    "        for b in bench:\n",
    "            series = d.apply(\n",
    "                lambda r: \"up\" if r[p] >= r[b] else \"down\",\n",
    "                axis=1\n",
    "            )\n",
    "            series.name = p + \"__vs__\" + b\n",
    "            names.append(series.name)\n",
    "            dirs.append(series)\n",
    "    return pd.concat(dirs, axis=1), names"
   ]
  },
  {
   "cell_type": "code",
   "execution_count": 20,
   "id": "1f654325",
   "metadata": {
    "collapsed": false
   },
   "outputs": [],
   "source": [
    "dirs, dirnames = getpos(dsmalags, [\"open\"], names)"
   ]
  },
  {
   "cell_type": "code",
   "execution_count": 25,
   "id": "4056f25f",
   "metadata": {
    "collapsed": false
   },
   "outputs": [],
   "source": [
    "dsmadirs = pd.concat([dsmalags, dirs], axis=1).dropna()"
   ]
  },
  {
   "cell_type": "code",
   "execution_count": 28,
   "id": "4780b68f",
   "metadata": {
    "collapsed": false
   },
   "outputs": [
    {
     "data": {
      "text/plain": [
       "'open__vs__sma2_lag_1'"
      ]
     },
     "execution_count": 28,
     "metadata": {},
     "output_type": "execute_result"
    }
   ],
   "source": [
    "dirnames[0]"
   ]
  },
  {
   "cell_type": "code",
   "execution_count": 33,
   "id": "a39ac586",
   "metadata": {
    "collapsed": false
   },
   "outputs": [
    {
     "name": "stdout",
     "output_type": "stream",
     "text": [
      "daydir                down    up\n",
      "open__vs__sma2_lag_1            \n",
      "down                  1058  1102\n",
      "up                    1277  1504\n",
      "(4.453361678890616, 0.03483261356768514, 1, array([[1020.76502732, 1139.23497268],\n",
      "       [1314.23497268, 1466.76502732]]))\n"
     ]
    }
   ],
   "source": [
    "ctab = pd.crosstab(dsmadirs['open__vs__sma2_lag_1'], dsmadirs.daydir)\n",
    "print(ctab)\n",
    "print(chi2_contingency(ctab))"
   ]
  },
  {
   "cell_type": "code",
   "execution_count": 75,
   "id": "c69b907c",
   "metadata": {
    "collapsed": false
   },
   "outputs": [],
   "source": [
    "conts = []\n",
    "for d in dirnames:\n",
    "    ctab = pd.crosstab(dsmadirs[d], dsmadirs.daydir)\n",
    "    cont = chi2_contingency(ctab)\n",
    "    if cont[1] <= 0.01:\n",
    "       conts.append([d, cont])"
   ]
  },
  {
   "cell_type": "code",
   "execution_count": 76,
   "id": "4966ee21",
   "metadata": {
    "collapsed": false
   },
   "outputs": [],
   "source": [
    "sc = sorted(conts, key = lambda x: x[1][1])"
   ]
  },
  {
   "cell_type": "code",
   "execution_count": 82,
   "id": "ceb7f1b5",
   "metadata": {
    "collapsed": false
   },
   "outputs": [],
   "source": [
    "best = sc[0][0]\n",
    "indep  = []\n",
    "for c in sc[1:]:\n",
    "    ctab = pd.crosstab(dsmadirs[best], dsmadirs[c[0]])\n",
    "    cont = chi2_contingency(ctab)\n",
    "    indep.append([c, cont])"
   ]
  },
  {
   "cell_type": "code",
   "execution_count": 84,
   "id": "98144d6c",
   "metadata": {
    "collapsed": false
   },
   "outputs": [],
   "source": [
    "# They're all the same!"
   ]
  },
  {
   "cell_type": "code",
   "execution_count": 85,
   "id": "0da555a0",
   "metadata": {
    "collapsed": false
   },
   "outputs": [],
   "source": [
    "laggers = [s[0] for s in sc]"
   ]
  },
  {
   "cell_type": "code",
   "execution_count": 103,
   "id": "db4b9666",
   "metadata": {
    "collapsed": false
   },
   "outputs": [],
   "source": [
    "best_sum = 66666\n",
    "for l in laggers:\n",
    "    inter, lag = re.search(r\"open__vs__sma(\\d+)_lag_(\\d+)\", laggers[0]).groups()\n",
    "    s = int(inter) + int(lag)\n",
    "    if s <= best_sum:\n",
    "        best_sum = s\n",
    "        best_l = l"
   ]
  },
  {
   "cell_type": "code",
   "execution_count": 112,
   "id": "71e9c08e",
   "metadata": {
    "collapsed": false
   },
   "outputs": [
    {
     "data": {
      "text/plain": [
       "(6.850366028471563,\n",
       " 0.008862311431125673,\n",
       " 1,\n",
       " array([[1008.00546448, 1124.99453552],\n",
       "        [1326.99453552, 1481.00546448]]))"
      ]
     },
     "execution_count": 112,
     "metadata": {},
     "output_type": "execute_result"
    }
   ],
   "source": [
    "ctab = pd.crosstab(dsmadirs[\"open__vs__sma3_lag_1\"], dsmadirs.daydir)\n",
    "chi2_contingency(ctab)"
   ]
  },
  {
   "cell_type": "code",
   "execution_count": null,
   "id": "fb3510a9",
   "metadata": {
    "collapsed": false
   },
   "outputs": [],
   "source": []
  }
 ],
 "metadata": {
  "kernelspec": {
   "argv": [
    "/home/wit/miniconda3/bin/python",
    "-m",
    "ipykernel_launcher",
    "-f",
    "{connection_file}"
   ],
   "display_name": "Python 3 (ipykernel)",
   "env": null,
   "interrupt_mode": "signal",
   "language": "python",
   "metadata": {
    "debugger": true
   },
   "name": "python3"
  },
  "name": "daily.ipynb"
 },
 "nbformat": 4,
 "nbformat_minor": 5
}
